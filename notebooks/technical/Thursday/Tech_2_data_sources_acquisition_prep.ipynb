{
 "cells": [
  {
   "cell_type": "markdown",
   "id": "f3fe6965",
   "metadata": {},
   "source": [
    "# Data sources, data acquisition, data prep"
   ]
  },
  {
   "cell_type": "markdown",
   "id": "bc7ef019",
   "metadata": {},
   "source": [
    "This notebook will show you a variety of data sources for profiles of ballots, including Scottish STV elections, Minnesota IRV elections, and those collected by FairVote. This notebook will also show you what kind of cleaning is often required, and how do to that cleaning with VoteKit."
   ]
  },
  {
   "cell_type": "markdown",
   "id": "2c381795",
   "metadata": {},
   "source": [
    "## Scottish Profiles"
   ]
  },
  {
   "cell_type": "markdown",
   "id": "6e120ca7",
   "metadata": {},
   "source": [
    "Scottish elections give us a great source for real-world ranked data, because STV is used for local government elections. Thanks to David McCune of William Jewell College, we have a fantastic [repository](https://github.com/mggg/scot-elex) of shiny, clean ranking data from over 1000 elections, which feature 3-14 candidates apiece, running with a party label.\n",
    "\n",
    "Go to the [repository](https://github.com/mggg/scot-elex), choose a locality, and download the csv file to your working directory (the same folder as your code). You will need to edit the code below to reflect your file name."
   ]
  },
  {
   "cell_type": "code",
   "execution_count": null,
   "id": "591eaca5",
   "metadata": {},
   "outputs": [],
   "source": [
    "from votekit.cvr_loaders import load_scottish\n",
    "\n",
    "# the load_scottish function returns a tuple of information:\n",
    "# the first element is the profile itself, the second is the number of seats in the election\n",
    "# the third is a list of candidates, the fourth a dictionary mapping candidates to parties,\n",
    "# and the fourth the ward name\n",
    "scottish_profile, num_seats, cand_list, cand_to_party, ward = load_scottish(\"../../../data/west_dunbartonshire_2017_ward2.csv\") "
   ]
  },
  {
   "cell_type": "markdown",
   "id": "72f72556",
   "metadata": {},
   "source": [
    "Let's quickly look at each of the returned variables."
   ]
  },
  {
   "cell_type": "code",
   "execution_count": null,
   "id": "0db7578d",
   "metadata": {},
   "outputs": [],
   "source": [
    "print(f\"This election took place in {ward}.\")\n",
    "print(f\"The number of seats up for election was {num_seats}.\")\n",
    "print(f\"The number of candidates was {len(cand_list)}.\")"
   ]
  },
  {
   "cell_type": "code",
   "execution_count": null,
   "id": "86a922cf",
   "metadata": {},
   "outputs": [],
   "source": [
    "from votekit.pref_profile import profile_df_head\n",
    "print(scottish_profile)\n",
    "print()\n",
    "print(\"The top 10 ballots by weight are\")\n",
    "print(profile_df_head(scottish_profile, 10).to_string())\n"
   ]
  },
  {
   "cell_type": "markdown",
   "id": "3ff155e7",
   "metadata": {},
   "source": [
    "In Scottish elections, voters can rank up to the number of candidates. The most common vote in Scottish elections tends to be a ballot of length `num_seats`, followed by bullet votes (votes for one candidate).\n",
    "\n",
    "One of the utilities of this repository of elections is that the candidates are labeled with what party they ran under."
   ]
  },
  {
   "cell_type": "code",
   "execution_count": null,
   "id": "89212b36",
   "metadata": {},
   "outputs": [],
   "source": [
    "for cand, party in cand_to_party.items():\n",
    "    print(f\"{cand} ran under the following party: {party}\\n\")"
   ]
  },
  {
   "cell_type": "markdown",
   "id": "2a2e19ee",
   "metadata": {},
   "source": [
    "Scottish elections use the STV mechanism, so let's quickly see who the winner set is."
   ]
  },
  {
   "cell_type": "code",
   "execution_count": null,
   "id": "2de53876",
   "metadata": {},
   "outputs": [],
   "source": [
    "from votekit.elections import STV\n",
    "\n",
    "e = STV(scottish_profile, m=num_seats)\n",
    "\n",
    "print(e.get_elected())"
   ]
  },
  {
   "cell_type": "markdown",
   "id": "896eb3b7",
   "metadata": {},
   "source": [
    "We read this tuple as a ranking: the first entry of the tuple is the candidate elected first, etc. Your tuple should look something like `(frozenset({'Ian Dickson'}), frozenset({'Jim Bollan'}), frozenset({'John Kelly Millar'}), frozenset({'Caroline Mcallister'}))`.\n",
    "This means Ian Dickson was elected first, then Jim Bollan, then John Kelly Millar, then Caroline Mcallister."
   ]
  },
  {
   "cell_type": "markdown",
   "id": "981aea8a",
   "metadata": {},
   "source": [
    "## Minnesota 2013\n"
   ]
  },
  {
   "cell_type": "markdown",
   "id": "fd886efa",
   "metadata": {},
   "source": [
    "Another possible data source is real-world elections that return their cast vote records (CVRs) as csv files. To be readable by VoteKit, the csv file must have a row for each voter, and must have one column per ranking position.\n",
    "\n",
    "The Minnesota 2013 Mayoral race, which used IRV, did just that. Let's load the csv file into VoteKit. You can find the file [here](https://github.com/mggg/Training_Materials_25/blob/main/data/mn_2013_cast_vote_record.csv). Download it and put it into your working directory.\n",
    "\n",
    "Voters were allowed to rank three candidates.\n",
    "\n"
   ]
  },
  {
   "cell_type": "code",
   "execution_count": null,
   "id": "ac6625af",
   "metadata": {},
   "outputs": [],
   "source": [
    "from votekit.cvr_loaders import load_csv\n",
    "\n",
    "mn_profile = load_csv(\"../../../data/mn_2013_cast_vote_record.csv\", rank_cols=[0,1,2]) # the first 3 columns of the csv hold the ranking information     \n",
    "                                                                                     # in order from 1st place to 3rd place"
   ]
  },
  {
   "cell_type": "markdown",
   "id": "bdfb70e5",
   "metadata": {},
   "source": [
    "Let's look at the candidates for the race."
   ]
  },
  {
   "cell_type": "code",
   "execution_count": null,
   "id": "d73d7edc",
   "metadata": {},
   "outputs": [],
   "source": [
    "for candidate in mn_profile.candidates:\n",
    "    print(candidate)"
   ]
  },
  {
   "cell_type": "markdown",
   "id": "6dd42eee",
   "metadata": {},
   "source": [
    "Woah, that’s a little funky! There are candidates called ‘undervote’, ‘overvote’, and ‘UWI’. This cast vote record was already cleaned by the City of Minneapolis, and they chose this way of parsing the ballots: ‘undervote’ indicates that the voter left a position unfilled, such as by having no candidate listed in second place. The ‘overvote’ notation arises when a voter puts two candidates in one position, like by putting Hodges and Samuels both in first place. Unfortunately this way of storing the profile means we have lost any knowledge of the voter intent (which was probably to indicate equal preference). ‘UWI’ stands for unregistered write-in.\n",
    "\n",
    "This reminds us that it is really important to think carefully about how we want to handle cleaning ballots, as some storage methods are efficient but lossy. For now, let’s assume that we want to further condense the ballots, discarding ‘undervote’, ‘overvote’, and ‘UWI’ as candidates. \n",
    "\n",
    "This happens in two stages. First, we remove the \"candidates\" from the rankings in the ballots. So a ballot (overvote, Betsy Hodges, UWI) becomes the ballot (, Betsy Hodges, ). Then we *condense* the ballot so (, Betsy Hodges, ) becomes (Betsy Hodges)."
   ]
  },
  {
   "cell_type": "code",
   "execution_count": null,
   "id": "084959e4",
   "metadata": {},
   "outputs": [],
   "source": [
    "from votekit.cleaning import remove_cand, condense_profile\n",
    "\n",
    "remove_cand_mn_profile = remove_cand([\"overvote\", \"undervote\", \"UWI\"], mn_profile)"
   ]
  },
  {
   "cell_type": "markdown",
   "id": "3cb99c28",
   "metadata": {},
   "source": [
    "Let's see that the three \"candidates\" have been removed and that the ballots have *not* been condensed yet."
   ]
  },
  {
   "cell_type": "code",
   "execution_count": null,
   "id": "0363210a",
   "metadata": {},
   "outputs": [],
   "source": [
    "print(\"The following candidates appear in the uncleaned profile but have been removed.\")\n",
    "print(set(mn_profile.candidates)-set(remove_cand_mn_profile.candidates))"
   ]
  },
  {
   "cell_type": "code",
   "execution_count": null,
   "id": "563f7e93",
   "metadata": {},
   "outputs": [],
   "source": [
    "for ballot in remove_cand_mn_profile.ballots:\n",
    "    if frozenset() in ballot.ranking:\n",
    "        print(\"Here is a ballot that had a 'candidate' removed but is not yet condensed.\")\n",
    "        print(ballot)\n",
    "        break"
   ]
  },
  {
   "cell_type": "markdown",
   "id": "a4ac445b",
   "metadata": {},
   "source": [
    "To complete the cleaning, we apply `condense_profile`, which moves up any lower ranked candidates as a result of the removal of the three non-candidates."
   ]
  },
  {
   "cell_type": "code",
   "execution_count": null,
   "id": "0b1e785e",
   "metadata": {},
   "outputs": [],
   "source": [
    "cleaned_mn_profile = condense_profile(remove_cand_mn_profile)"
   ]
  },
  {
   "cell_type": "code",
   "execution_count": null,
   "id": "a514b3f8",
   "metadata": {},
   "outputs": [],
   "source": [
    "not_condensed = False\n",
    "for ballot in cleaned_mn_profile.ballots:\n",
    "    not_condensed = not_condensed or (frozenset() in ballot.ranking)\n",
    "\n",
    "if not_condensed is True:\n",
    "    print(\"Something went wrong, a ballot is not condensed.\")\n",
    "else:\n",
    "    print(\"All ballots are condensed\")\n",
    "    "
   ]
  },
  {
   "cell_type": "markdown",
   "id": "bec522d1",
   "metadata": {},
   "source": [
    "Now all of the ballots are properly formatted to run an IRV election."
   ]
  },
  {
   "cell_type": "code",
   "execution_count": null,
   "id": "2f573f38",
   "metadata": {},
   "outputs": [],
   "source": [
    "from votekit.elections import IRV\n",
    "\n",
    "e = IRV(mn_profile)\n",
    "\n",
    "print(e.get_elected())"
   ]
  },
  {
   "cell_type": "markdown",
   "id": "18d0c41a",
   "metadata": {},
   "source": [
    "## Cleaning a csv before VoteKit"
   ]
  },
  {
   "cell_type": "markdown",
   "id": "e9083c94",
   "metadata": {},
   "source": [
    "Sometimes, the format of a CVR released by a locality does not match what is required of VoteKit. Recall, to read a csv file, VoteKit needs one voter per row, and one column per ranking position.\n",
    "\n",
    "In the 2024 Portland, OR City Council election, the csv was released in a different format. The city of Portland released the cast vote record for the election in a format that reflected the scantron style ballot. Each voter was given a row in a table, and each candidate was given 6 columns, one for each ranking position. A vote for a candidate in position i was recorded as a 1 in that candidate's \"Ranking i\" column, and 0 otherwise. This allows for the possiblity of overvotes---multiple candidates can have a 1 in their \"Ranking i\" column--- and skips---no candidate has a 1 in their \"Ranking i\" column.\n",
    "\n",
    "In order to make this format readable by VoteKit, we need to transform it so that there are only 6 columns total. Each column represents one position of a ranking, and the entry of that column is the candidate ranked in that position.\n",
    "\n",
    "In addition to this format, the city also released the data by district, but included every voter from the entire city in each data set. So we will have to scrub the voters that are from the other 3 districts."
   ]
  },
  {
   "cell_type": "markdown",
   "id": "5de71029",
   "metadata": {},
   "source": [
    "First, we will read in the csv of the cast vote record, scrub the non-district 1 voters, and create new columns that match the format needed by VoteKit. The csv is too large to be stored in GitHub, so [here is a link.](https://multco.us/info/turnout-and-statistics-november-2024-general-election) You will want the \"Councilor District 1 Cast Vote Record Data\". Be sure to save it in your working directory.\n",
    "\n",
    "After we reformat the data, we will use VoteKit to perform the rest of the cleaning."
   ]
  },
  {
   "cell_type": "code",
   "execution_count": null,
   "id": "aef14e83",
   "metadata": {},
   "outputs": [],
   "source": [
    "import pandas as pd\n",
    "\n",
    "D1_df = pd.read_csv(\"../../../data/Portland_D1_raw_from_city.csv\") #insert the file name that you used when you downloaded the csv\n",
    "D1_df.head()"
   ]
  },
  {
   "cell_type": "markdown",
   "id": "47d91913",
   "metadata": {},
   "source": [
    "Wow, 130 columns is a lot, too many for the dataframe to display. Let's look at them just to get familiar with the data set."
   ]
  },
  {
   "cell_type": "code",
   "execution_count": null,
   "id": "e8034232",
   "metadata": {},
   "outputs": [],
   "source": [
    "for column in D1_df.columns:\n",
    "    print(column)"
   ]
  },
  {
   "cell_type": "markdown",
   "id": "1cbd3afb",
   "metadata": {},
   "source": [
    "Here we can see that each candidate gets six columns, one for each ranking position. Remember, in order to make this format readable by VoteKit, we need to transform it so that there are only 6 columns total. Each column represents one position of a ranking, and the entry of that column is the candidate ranked in that position.\n",
    "\n",
    "For now we want to just keep track of the columns that have ranking data."
   ]
  },
  {
   "cell_type": "code",
   "execution_count": null,
   "id": "3f401339",
   "metadata": {},
   "outputs": [],
   "source": [
    "# stores all columns that have ranking information\n",
    "rank_columns = {i:[col for col in D1_df.columns if f'{i}:Number' in col] for i in range(1,7)}\n",
    "all_rank_cols = [col for col_list in rank_columns.values() for col in col_list]"
   ]
  },
  {
   "cell_type": "markdown",
   "id": "3e88ba36",
   "metadata": {},
   "source": [
    "The code below scrubs any voter who did not cast at least one vote, which in turn removes any voter not from district 1."
   ]
  },
  {
   "cell_type": "code",
   "execution_count": null,
   "id": "5ef17247",
   "metadata": {},
   "outputs": [],
   "source": [
    "D1_voters_df = D1_df[D1_df[all_rank_cols].sum(axis=1) > 0].reset_index(drop=True) # just resets the index of the df"
   ]
  },
  {
   "cell_type": "markdown",
   "id": "5eb7ac48",
   "metadata": {},
   "source": [
    "We now add the new ranking columns that match the VoteKit format.\n",
    "\n",
    "In the process, we will lose some information about overvotes, when voters put more than one candidate in a ranking.\n",
    " \n",
    "(Warning about runtime:  in a local installation, this cleaning block takes 30 seconds, but in Colab it can take 4 minutes or more!)\n",
    "\n"
   ]
  },
  {
   "cell_type": "code",
   "execution_count": null,
   "id": "d0099035",
   "metadata": {},
   "outputs": [],
   "source": [
    "from tqdm.notebook import tqdm\n",
    "\n",
    "ranking_data = {i:[-1 for _ in range(len(D1_voters_df))] for i in range(1,7)}\n",
    "\n",
    "for voter_index, row in tqdm(D1_voters_df.iterrows()):\n",
    "    for rank_position in range(1,7):\n",
    "        num_votes_cast = row[rank_columns[rank_position]].sum()\n",
    "\n",
    "        if num_votes_cast == 0:\n",
    "            cast_vote = \"\"\n",
    "\n",
    "        elif num_votes_cast > 1:\n",
    "            cast_vote = \"overvote\"\n",
    "\n",
    "            # here we lost knowledge of who was in the overvote. That's how Portland runs their election\n",
    "            # system, but it could be interesting to study who is in the overvote!\n",
    "\n",
    "        else:\n",
    "            # find candidate name from column\n",
    "            pd_series = row[rank_columns[rank_position]]\n",
    "            cast_vote_column_name = pd_series.loc[pd_series == 1].index.tolist()[0]\n",
    "            cast_vote = cast_vote_column_name.split(\":\")[-2]\n",
    "\n",
    "        ranking_data[rank_position][voter_index] = cast_vote\n",
    "\n",
    "# add the new columns\n",
    "for rank_position in range(1,7):\n",
    "    D1_voters_df[f\"Rank {rank_position}\"] = ranking_data[rank_position]"
   ]
  },
  {
   "cell_type": "code",
   "execution_count": null,
   "id": "0d2d20e3",
   "metadata": {},
   "outputs": [],
   "source": [
    "ranking_df = D1_voters_df[[f\"Rank {rank_position}\" for rank_position in range(1,7)]]\n",
    "ranking_df.head()"
   ]
  },
  {
   "cell_type": "markdown",
   "id": "05a835dd",
   "metadata": {},
   "source": [
    "Now it is in the correct format for VoteKit to read, so we can save it to a csv. Choose a file name that makes sense to you."
   ]
  },
  {
   "cell_type": "code",
   "execution_count": null,
   "id": "5f7630e9",
   "metadata": {},
   "outputs": [],
   "source": [
    "ranking_df.to_csv(\"your_file_name_here.csv\")"
   ]
  },
  {
   "cell_type": "markdown",
   "id": "d4427fd0",
   "metadata": {},
   "source": [
    "Now that the csv is in the correct format for VoteKit, we can complete our cleaning using VoteKit's built in cleaning tools."
   ]
  },
  {
   "cell_type": "markdown",
   "id": "49d3275c",
   "metadata": {},
   "source": [
    "### Try it yourself:\n",
    "\n",
    "Load the raw Portland profile from the csv you just saved using the `load_csv` function. Note, the ranking columns here need to be determined. Remember that Python starts indexing from 0. "
   ]
  },
  {
   "cell_type": "code",
   "execution_count": null,
   "id": "e6e98f4e",
   "metadata": {},
   "outputs": [],
   "source": [
    "rank_cols = [] # type the numbers of the columns you need here, like [5,7,12,14]\n",
    "portland_profile = load_csv(\"your_file_name_here.csv\", rank_cols=rank_cols)"
   ]
  },
  {
   "cell_type": "markdown",
   "id": "c9243c22",
   "metadata": {},
   "source": [
    "### Try it yourself:\n",
    "\n",
    "Print out the list of candidates."
   ]
  },
  {
   "cell_type": "code",
   "execution_count": null,
   "id": "37e375ea",
   "metadata": {},
   "outputs": [],
   "source": [
    "# Your code here"
   ]
  },
  {
   "cell_type": "markdown",
   "id": "78137f1b",
   "metadata": {},
   "source": [
    "In the rules of Portland's election, any skipped positions and overvotes are ignored by the STV algorithm, and any candidates that were ranked below the position are moved up. The same thing occurs to three of the write in categories, but oddly enough, not to the \"Uncertified Write-in\" category."
   ]
  },
  {
   "cell_type": "markdown",
   "id": "7746a8b5",
   "metadata": {},
   "source": [
    "### Try it yourself:\n",
    "\n",
    "Using the `remove_cand` function, remove 'overvote', 'Write-in-120', 'Write-in-121', and 'Write-in-122' from the profile."
   ]
  },
  {
   "cell_type": "code",
   "execution_count": null,
   "id": "67fe86a9",
   "metadata": {},
   "outputs": [],
   "source": [
    "portland_profile_cands_removed = ####"
   ]
  },
  {
   "cell_type": "markdown",
   "id": "45cf9b5f",
   "metadata": {},
   "source": [
    "We also have to handle one more item of cleaning. It is entirely possible that a voter listed the same candidate more than once on their ballot, which is not allowed. Portland chose to keep the first occurrence, and ignore any later occurrences, condensing any positions left empty as a result."
   ]
  },
  {
   "cell_type": "code",
   "execution_count": null,
   "id": "6d92546e",
   "metadata": {},
   "outputs": [],
   "source": [
    "from votekit.cleaning import remove_repeated_candidates\n",
    "\n",
    "portland_profile_pre_condensed = remove_repeated_candidates(portland_profile_cands_removed)"
   ]
  },
  {
   "cell_type": "markdown",
   "id": "a3c63e5e",
   "metadata": {},
   "source": [
    "### Try it yourself:\n",
    "\n",
    "Apply the `condense_profile` function to complete the cleaning."
   ]
  },
  {
   "cell_type": "code",
   "execution_count": null,
   "id": "f7f87ede",
   "metadata": {},
   "outputs": [],
   "source": [
    "cleaned_portland_profile = ####"
   ]
  },
  {
   "cell_type": "markdown",
   "id": "07776f1a",
   "metadata": {},
   "source": [
    "Finally, the profile is cleaned and we can save it for analysis. We save it as a thing called a \"pickle file,\" which is a way of storing Python variables. Choose a file name that makes sense to you!"
   ]
  },
  {
   "cell_type": "code",
   "execution_count": null,
   "id": "eca15b8d",
   "metadata": {},
   "outputs": [],
   "source": [
    "cleaned_portland_profile.to_pickle(\"YOUR FILE NAME HERE.pkl\")"
   ]
  },
  {
   "cell_type": "markdown",
   "id": "1642b8b0",
   "metadata": {},
   "source": [
    "We can now load the cleaned profile, and run an STV election for three seats to confirm that we cleaned it appropriately."
   ]
  },
  {
   "cell_type": "code",
   "execution_count": null,
   "id": "7981a290",
   "metadata": {},
   "outputs": [],
   "source": [
    "from votekit.pref_profile import PreferenceProfile\n",
    "\n",
    "cleaned_portland_profile = PreferenceProfile.from_pickle(\"YOUR FILE NAME HERE.pkl\") # change this to whatever you named your file\n",
    "\n",
    "election = STV(cleaned_portland_profile, m=3)"
   ]
  },
  {
   "cell_type": "markdown",
   "id": "a326df74",
   "metadata": {},
   "source": [
    "Do we have the correct candidates? Do we have the same vote totals? Do we get the same STV winner set? The Election object, called `election` here, has lots of built in methods that allow us to check these stats.\n",
    "\n",
    "In district 1, Avalos, Dunphy, and Smith were elected. The winners, first place vote distribution, and lots of other stats we can double check, are given [here](https://www.portland.gov/sites/default/files/2024/Portland-District-1-Certified-Abstract-Nov-2024.pdf)."
   ]
  },
  {
   "cell_type": "code",
   "execution_count": null,
   "id": "ca99f77c",
   "metadata": {},
   "outputs": [],
   "source": [
    "print(\"Winners in order of election\")\n",
    "i=0\n",
    "for cand_set in election.get_elected():\n",
    "    for cand in cand_set:\n",
    "        i+=1\n",
    "        print(i, cand)"
   ]
  },
  {
   "cell_type": "code",
   "execution_count": null,
   "id": "85c74fbe",
   "metadata": {},
   "outputs": [],
   "source": [
    "# threshold\n",
    "print(f\"Election Threshold: {election.threshold:,}\")"
   ]
  },
  {
   "cell_type": "code",
   "execution_count": null,
   "id": "1fc9d820",
   "metadata": {},
   "outputs": [],
   "source": [
    "from votekit.utils import first_place_votes\n",
    "\n",
    "fpv_dict = first_place_votes(cleaned_portland_profile)\n",
    "cands_sorted_by_fpv = sorted(zip(fpv_dict.keys(), fpv_dict.values()), # creates a list of tuples, (name, fpv)\n",
    "                                reverse=True,  #decreasing order\n",
    "                                key = lambda x: x[1], # sort by second element of tuple, which is fpv)\n",
    "                                    )\n",
    "\n",
    "print(\"Candidates in decreasing order of first-place votes.\\n\")\n",
    "for cand, fpv in cands_sorted_by_fpv:\n",
    "    print(cand, fpv)"
   ]
  },
  {
   "cell_type": "markdown",
   "id": "985f7bc8",
   "metadata": {},
   "source": [
    "Take a moment to verify these against the [official record](https://www.portland.gov/sites/default/files/2024/Portland-District-1-Certified-Abstract-Nov-2024.pdf)."
   ]
  },
  {
   "cell_type": "markdown",
   "id": "1432fb93",
   "metadata": {},
   "source": [
    "## FairVote Repo"
   ]
  },
  {
   "cell_type": "markdown",
   "id": "a6bcf415",
   "metadata": {},
   "source": [
    "As one final source of data, [FairVote](https://fairvote.org/) maintains a repository of cast vote records from single and multi-winner ranked choice elections [here](https://dataverse.harvard.edu/dataverse/rcv_cvrs)."
   ]
  },
  {
   "cell_type": "markdown",
   "id": "d99b78e2",
   "metadata": {},
   "source": [
    "### Try it yourself:\n",
    "\n",
    "1) Go to the [repo](https://dataverse.harvard.edu/dataverse/rcv_cvrs), and choose a single winner CVR. Download it as a csv, and place it into your working directory.\n",
    "\n",
    "2) Load the csv using `load_csv`. Be sure to choose the right `rank_cols`.\n",
    "\n",
    "3) Check the list of candidates, and if necessary, use `remove_cand` to get rid of non-candidates.\n",
    "\n",
    "4) Apply `remove_repeated_cands` to the profile. For those of you who want a challenge, try to see if you can determine if there are any ballots that actually have repeated candidates.\n",
    "\n",
    "5) Apply `condense_profile`.\n",
    "\n",
    "6) Run an IRV election on the cleaned profile."
   ]
  },
  {
   "cell_type": "markdown",
   "id": "4b161bfe",
   "metadata": {},
   "source": [
    "## If there is time\n",
    "\n",
    "# TODO"
   ]
  },
  {
   "cell_type": "markdown",
   "id": "d097fbac",
   "metadata": {},
   "source": []
  }
 ],
 "metadata": {
  "kernelspec": {
   "display_name": ".venv",
   "language": "python",
   "name": "python3"
  },
  "language_info": {
   "codemirror_mode": {
    "name": "ipython",
    "version": 3
   },
   "file_extension": ".py",
   "mimetype": "text/x-python",
   "name": "python",
   "nbconvert_exporter": "python",
   "pygments_lexer": "ipython3",
   "version": "3.13.2"
  }
 },
 "nbformat": 4,
 "nbformat_minor": 5
}
