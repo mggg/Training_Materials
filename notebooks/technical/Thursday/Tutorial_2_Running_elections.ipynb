{
 "cells": [
  {
   "cell_type": "markdown",
   "id": "26892d35",
   "metadata": {},
   "source": [
    "<a href=\"https://colab.research.google.com/github/mggg/Training_Materials_25/blob/main/notebooks/technical/Thursday/Tutorial_2_Running_elections.ipynb\" target=\"_parent\"><img src=\"https://colab.research.google.com/assets/colab-badge.svg\" alt=\"Open In Colab\"/></a>"
   ]
  },
  {
   "cell_type": "markdown",
   "id": "adc32dfb",
   "metadata": {},
   "source": [
    "# Running Elections\n",
    "\n",
    "Elections are the systems or algorithms by which a `PreferenceProfile`, or collection of ballots, is converted into an outcome. There are infinitely many different possible election methods, whether the output is a single winner, a set of winners, or a consensus ranking. VoteKit has a host of built-in election methods, as well as the functionality to let you create your own system of election. By the end of this section, you will have been introduced to the STV and Borda elections, learned about the `Election` object, and created your own election type."
   ]
  },
  {
   "cell_type": "code",
   "execution_count": null,
   "id": "071f39b4",
   "metadata": {},
   "outputs": [],
   "source": [
    "import pandas as pd\n",
    "\n",
    "# To load the Minneapolis CVR data\n",
    "from votekit.cvr_loaders import load_csv\n",
    "from votekit.cleaning import remove_and_condense\n",
    "\n",
    "from votekit.elections import STV\n",
    "\n",
    "# Used in this notebook to make some synthetic Preference Profiles\n",
    "from votekit.ballot import Ballot\n",
    "from votekit.pref_profile import PreferenceProfile\n",
    "\n",
    "# Used to modify STV transfer method\n",
    "from votekit.elections import random_transfer\n",
    "\n",
    "\n",
    "# Used for exploring Borda elections\n",
    "from votekit.elections import Borda\n",
    "import votekit.ballot_generator as bg\n",
    "\n",
    "\n",
    "# Used for making custom elections\n",
    "from votekit.elections import RankingElection, ElectionState\n",
    "from votekit.cleaning import remove_cand\n",
    "import random\n",
    "from fractions import Fraction\n"
   ]
  },
  {
   "cell_type": "markdown",
   "id": "064fba79",
   "metadata": {},
   "source": [
    "## STV (Single Transferable Vote)\n",
    "\n",
    "We are going to start with running through the Minneapolis 2013 mayoral election.\n",
    "This was an election where there were 35 candidates running for one seat in an IRV election\n",
    "which is equivalent to a single-winner STV election.\n",
    "\n",
    "We have a copy of the **cast vote record (CVR)** in our tutorial data for the VoteKit package,\n",
    "so we will load that here."
   ]
  },
  {
   "cell_type": "code",
   "execution_count": 2,
   "id": "c3fa81ad",
   "metadata": {},
   "outputs": [
    {
     "data": {
      "text/plain": [
       "Profile has been cleaned\n",
       "Profile contains rankings: True\n",
       "Maximum ranking length: 3\n",
       "Profile contains scores: False\n",
       "Candidates: ('JACKIE CHERRYHOMES', 'BOB \"AGAIN\" CARNEY JR', 'BETSY HODGES', 'OLE SAVIOR', 'JAMES \"JIMMY\" L. STROUD, JR.', 'TONY LANE', 'EDMUND BERNARD BRUYERE', 'CHRISTOPHER CLARK', 'BILL KAHN', 'KURTIS W. HANNA', 'MIKE GOULD', 'CAM WINTON', 'MARK ANDREW', 'JOHN LESLIE HARTWIG', 'RAHN V. WORKCUFF', 'DON SAMUELS', 'STEPHANIE WOODRUFF', 'JOHN CHARLES WILSON', 'JOSHUA REA', 'JAMES EVERETT', 'CYD GORMAN', 'ALICIA K. BENNETT', 'TROY BENJEGERDES', 'CHRISTOPHER ROBIN ZIMMERMAN', 'JAYMIE KELLY', 'JEFFREY ALAN WAGNER', 'BOB FINE', 'MARK V ANDERSON', 'ABDUL M RAHAMAN \"THE ROCK\"', 'CAPTAIN JACK SPARROW', 'DAN COHEN', 'GREGG A. IVERSON', 'DOUG MANN', 'NEAL BAXTER', 'MERRILL ANDERSON')\n",
       "Candidates who received votes: ('ABDUL M RAHAMAN \"THE ROCK\"', 'DAN COHEN', 'JAMES EVERETT', 'MARK V ANDERSON', 'TROY BENJEGERDES', 'ALICIA K. BENNETT', 'BETSY HODGES', 'MARK ANDREW', 'MIKE GOULD', 'BILL KAHN', 'BOB FINE', 'CAM WINTON', 'DON SAMUELS', 'JACKIE CHERRYHOMES', 'JEFFREY ALAN WAGNER', 'JOHN LESLIE HARTWIG', 'KURTIS W. HANNA', 'JOSHUA REA', 'MERRILL ANDERSON', 'NEAL BAXTER', 'STEPHANIE WOODRUFF', 'BOB \"AGAIN\" CARNEY JR', 'TONY LANE', 'CAPTAIN JACK SPARROW', 'GREGG A. IVERSON', 'JAMES \"JIMMY\" L. STROUD, JR.', 'JAYMIE KELLY', 'CYD GORMAN', 'EDMUND BERNARD BRUYERE', 'DOUG MANN', 'CHRISTOPHER ROBIN ZIMMERMAN', 'RAHN V. WORKCUFF', 'JOHN CHARLES WILSON', 'OLE SAVIOR', 'CHRISTOPHER CLARK')\n",
       "Total number of Ballot objects: 7073\n",
       "Total weight of Ballot objects: 79378"
      ]
     },
     "execution_count": 2,
     "metadata": {},
     "output_type": "execute_result"
    }
   ],
   "source": [
    "minneapolis_profile = load_csv(\"https://raw.githubusercontent.com/mggg/VoteKit/refs/heads/main/examples/data/mn_2013_cast_vote_record.csv\")\n",
    "minneapolis_profile = remove_and_condense([\"undervote\", \"overvote\", \"UWI\"], minneapolis_profile)\n",
    "minneapolis_profile"
   ]
  },
  {
   "cell_type": "markdown",
   "id": "f472216d",
   "metadata": {},
   "source": [
    "We know that Betsy Hodges won the 2013 election, so let's first check and make sure that \n",
    "we get the same result when we run the election using VoteKit:"
   ]
  },
  {
   "cell_type": "code",
   "execution_count": 20,
   "id": "72e18455",
   "metadata": {},
   "outputs": [
    {
     "name": "stdout",
     "output_type": "stream",
     "text": [
      "                                  Status  Round\n",
      "BETSY HODGES                     Elected     35\n",
      "MARK ANDREW                   Eliminated     34\n",
      "DON SAMUELS                   Eliminated     33\n",
      "CAM WINTON                    Eliminated     32\n",
      "JACKIE CHERRYHOMES            Eliminated     31\n",
      "BOB FINE                      Eliminated     30\n",
      "DAN COHEN                     Eliminated     29\n",
      "STEPHANIE WOODRUFF            Eliminated     28\n",
      "MARK V ANDERSON               Eliminated     27\n",
      "DOUG MANN                     Eliminated     26\n",
      "OLE SAVIOR                    Eliminated     25\n",
      "JAMES EVERETT                 Eliminated     24\n",
      "ALICIA K. BENNETT             Eliminated     23\n",
      "ABDUL M RAHAMAN \"THE ROCK\"    Eliminated     22\n",
      "CAPTAIN JACK SPARROW          Eliminated     21\n",
      "CHRISTOPHER CLARK             Eliminated     20\n",
      "TONY LANE                     Eliminated     19\n",
      "JAYMIE KELLY                  Eliminated     18\n",
      "MIKE GOULD                    Eliminated     17\n",
      "KURTIS W. HANNA               Eliminated     16\n",
      "CHRISTOPHER ROBIN ZIMMERMAN   Eliminated     15\n",
      "JEFFREY ALAN WAGNER           Eliminated     14\n",
      "NEAL BAXTER                   Eliminated     13\n",
      "TROY BENJEGERDES              Eliminated     12\n",
      "GREGG A. IVERSON              Eliminated     11\n",
      "MERRILL ANDERSON              Eliminated     10\n",
      "JOSHUA REA                    Eliminated      9\n",
      "BILL KAHN                     Eliminated      8\n",
      "JOHN LESLIE HARTWIG           Eliminated      7\n",
      "EDMUND BERNARD BRUYERE        Eliminated      6\n",
      "JAMES \"JIMMY\" L. STROUD, JR.  Eliminated      5\n",
      "RAHN V. WORKCUFF              Eliminated      4\n",
      "BOB \"AGAIN\" CARNEY JR         Eliminated      3\n",
      "CYD GORMAN                    Eliminated      2\n",
      "JOHN CHARLES WILSON           Eliminated      1\n"
     ]
    },
    {
     "name": "stderr",
     "output_type": "stream",
     "text": [
      "/mnt/efs/h/Dropbox/MADLAB/Training_Materials/June_25/.venv/lib/python3.13/site-packages/votekit/pref_profile/pref_profile.py:997: UserWarning: Profile does not contain rankings but max_ranking_length=3. Setting max_ranking_length to 0.\n",
      "  warnings.warn(\n"
     ]
    }
   ],
   "source": [
    "minn_election = STV(profile=minneapolis_profile, m=1)\n",
    "print(minn_election)"
   ]
  },
  {
   "cell_type": "markdown",
   "id": "c73fff43",
   "metadata": {},
   "source": [
    "The above output is generated after the final step of the election, so the output doesn't include any\n",
    "information about how the election progressed.\n",
    "But, if we were to step through each round of the election, we would see that the set of winners would\n",
    "grow from the top down, the set of eliminated candidates would grow from the bottom up, and any\n",
    "candidate that was neither elected nor eliminated would be listed in the middle as`Remaining`.\n",
    "\n",
    "Let's walk through a smaller election, and see this in action."
   ]
  },
  {
   "cell_type": "code",
   "execution_count": 4,
   "id": "6881f8e0",
   "metadata": {},
   "outputs": [
    {
     "name": "stdout",
     "output_type": "stream",
     "text": [
      "Profile contains rankings: True\n",
      "Maximum ranking length: 3\n",
      "Profile contains scores: False\n",
      "Candidates: ('A', 'B', 'C', 'D', 'E', 'F', 'G')\n",
      "Candidates who received votes: ('A', 'B', 'C', 'D', 'E', 'F', 'G')\n",
      "Total number of Ballot objects: 7\n",
      "Total weight of Ballot objects: 23\n",
      "\n",
      "Sum of ballot weights: 23\n",
      "Number of candidates: 7\n",
      "Initial tiebreak was unsuccessful, performing random tiebreak\n",
      "Threshold: 6\n",
      "Number of rounds 6\n",
      "       Status  Round\n",
      "B     Elected      1\n",
      "D     Elected      4\n",
      "F     Elected      6\n",
      "A   Remaining      6\n",
      "G  Eliminated      5\n",
      "C  Eliminated      3\n",
      "E  Eliminated      2\n"
     ]
    }
   ],
   "source": [
    "candidates = [\"A\", \"B\", \"C\", \"D\", \"E\", \"F\", \"G\"]\n",
    "\n",
    "ballots = [\n",
    "    Ballot(ranking=[{\"A\"}, {\"B\"}], weight=3),\n",
    "    Ballot(ranking=[{\"B\"}, {\"C\"}, {\"D\"}], weight=8),\n",
    "    Ballot(ranking=[{\"C\"}, {\"A\"}, {\"B\"}], weight=1),\n",
    "    Ballot(ranking=[{\"D\"}, {\"E\"}], weight=3),\n",
    "    Ballot(ranking=[{\"E\"}, {\"D\"}, {\"F\"}], weight=1),\n",
    "    Ballot(ranking=[{\"F\"}, {\"G\"}], weight=4),\n",
    "    Ballot(ranking=[{\"G\"}, {\"E\"}, {\"F\"}], weight=3),\n",
    "]\n",
    "\n",
    "profile = PreferenceProfile(ballots=ballots)\n",
    "\n",
    "print(profile)\n",
    "print(\"Sum of ballot weights:\", profile.total_ballot_wt)\n",
    "print(\"Number of candidates:\", len(profile.candidates))\n",
    "\n",
    "election = STV(profile=profile, m=3)\n",
    "\n",
    "print(\"Threshold:\", election.threshold)\n",
    "print(\"Number of rounds\", len(election))\n",
    "print(election)"
   ]
  },
  {
   "cell_type": "markdown",
   "id": "c1081f47",
   "metadata": {},
   "source": [
    "The `STV` method in the above code block returns an `Election` object that lets us access the\n",
    "round-by-round information on what happens in the election.\n",
    "The message about a tiebreak indicates that in some round, a random tiebreak was needed.\n",
    "\n",
    "We can review it step-by-step instead of all at once. Just from a brief glance at the profile and threshold, we see that candidate B should be elected in the first round. Let's see this happen in two ways.\n",
    "\n",
    "First, observe the first-place votes for each candidate. These are stored in the round 0 `ElectionState` object, which can be accessed in the following way:"
   ]
  },
  {
   "cell_type": "code",
   "execution_count": 5,
   "id": "47adc586",
   "metadata": {},
   "outputs": [
    {
     "data": {
      "text/plain": [
       "{'A': Fraction(3, 1),\n",
       " 'B': Fraction(8, 1),\n",
       " 'C': Fraction(1, 1),\n",
       " 'D': Fraction(3, 1),\n",
       " 'E': Fraction(1, 1),\n",
       " 'F': Fraction(4, 1),\n",
       " 'G': Fraction(3, 1)}"
      ]
     },
     "execution_count": 5,
     "metadata": {},
     "output_type": "execute_result"
    }
   ],
   "source": [
    "election.election_states[0].scores"
   ]
  },
  {
   "cell_type": "markdown",
   "id": "7e683974",
   "metadata": {},
   "source": [
    "We can see from this that only B is over the threshold.  The other way we can see who wins in the first round is by looking at the next `ElectionState`."
   ]
  },
  {
   "cell_type": "code",
   "execution_count": 6,
   "id": "389d5ead",
   "metadata": {},
   "outputs": [
    {
     "name": "stdout",
     "output_type": "stream",
     "text": [
      "elected (frozenset({'B'}),)\n",
      "\n",
      "eliminated (frozenset(),)\n",
      "\n",
      "remaining (frozenset({'F'}), frozenset({'G', 'D', 'A', 'C'}), frozenset({'E'}))\n"
     ]
    }
   ],
   "source": [
    "print(\"elected\", election.election_states[1].elected)\n",
    "print()\n",
    "print(\"eliminated\", election.election_states[1].eliminated)\n",
    "print()\n",
    "print(\"remaining\", election.election_states[1].remaining)"
   ]
  },
  {
   "cell_type": "markdown",
   "id": "c4cf1ed1",
   "metadata": {},
   "source": [
    "$B$ passed the threshold by 2 votes with a total of 8, so the $B,C,D$ ballot is going to have $B$ removed and be given weight $2/8$ (excess/total) times its previous weight of 8. To check this, election objects have a method called `get_profile()` that returns the `PreferenceProfile` after a particular round."
   ]
  },
  {
   "cell_type": "code",
   "execution_count": 7,
   "id": "e26ce50e",
   "metadata": {},
   "outputs": [
    {
     "data": {
      "text/plain": [
       "Profile contains rankings: True\n",
       "Maximum ranking length: 3\n",
       "Profile contains scores: False\n",
       "Candidates: ('G', 'A', 'C', 'F', 'D', 'E')\n",
       "Candidates who received votes: ('C', 'D', 'E', 'A', 'F', 'G')\n",
       "Total number of Ballot objects: 7\n",
       "Total weight of Ballot objects: 17"
      ]
     },
     "execution_count": 7,
     "metadata": {},
     "output_type": "execute_result"
    }
   ],
   "source": [
    "election.get_profile(1)"
   ]
  },
  {
   "cell_type": "markdown",
   "id": "208c8b3c",
   "metadata": {},
   "source": [
    "Look, $B$ is now removed from all ballots, and the $B,C,D$ ballot became $C,D$ with weight 2. No one has enough votes to cross the 6 threshold, so the candidate with the least support will be eliminated---that is candidate $E$, with only one first-place vote.\n",
    "\n",
    "The other way of accessing the round information for the election is using the `get_step()` method\n",
    "as detailed below:"
   ]
  },
  {
   "cell_type": "code",
   "execution_count": 8,
   "id": "dc13fc17",
   "metadata": {},
   "outputs": [
    {
     "name": "stdout",
     "output_type": "stream",
     "text": [
      "fpv after round 1: {'C': Fraction(3, 1), 'D': Fraction(3, 1), 'E': Fraction(1, 1), 'A': Fraction(3, 1), 'F': Fraction(4, 1), 'G': Fraction(3, 1)}\n",
      "go to the next step\n",
      "\n",
      "elected (frozenset(),)\n",
      "\n",
      "eliminated (frozenset({'E'}),)\n",
      "\n",
      "remaining (frozenset({'F', 'D'}), frozenset({'G', 'A', 'C'}))\n",
      "Profile has been cleaned\n",
      "Profile contains rankings: True\n",
      "Maximum ranking length: 3\n",
      "Profile contains scores: False\n",
      "Candidates: ('F', 'G', 'A', 'D', 'C')\n",
      "Candidates who received votes: ('C', 'D', 'A', 'F', 'G')\n",
      "Total number of Ballot objects: 7\n",
      "Total weight of Ballot objects: 17\n",
      "\n"
     ]
    }
   ],
   "source": [
    "print(\"fpv after round 1:\", election.election_states[1].scores)\n",
    "print(\"go to the next step\\n\")\n",
    "\n",
    "profile, state = election.get_step(2)\n",
    "print(\"elected\", state.elected)\n",
    "print(\"\\neliminated\", state.eliminated)\n",
    "print(\"\\nremaining\", state.remaining)\n",
    "print(profile)"
   ]
  },
  {
   "cell_type": "code",
   "execution_count": 9,
   "id": "da9075a3",
   "metadata": {},
   "outputs": [
    {
     "name": "stdout",
     "output_type": "stream",
     "text": [
      "fpv after round 2: {'C': Fraction(3, 1), 'D': Fraction(4, 1), 'A': Fraction(3, 1), 'F': Fraction(4, 1), 'G': Fraction(3, 1)}\n",
      "go to the next step\n",
      "\n",
      "elected (frozenset(),)\n",
      "\n",
      "eliminated (frozenset({'C'}),)\n",
      "\n",
      "remaining (frozenset({'D'}), frozenset({'F', 'A'}), frozenset({'G'}))\n",
      "\n",
      "tiebreak resolution {frozenset({'G', 'A', 'C'}): (frozenset({'G'}), frozenset({'A'}), frozenset({'C'}))}\n",
      "\n",
      "Initial tiebreak was unsuccessful, performing random tiebreak\n",
      "Profile has been cleaned\n",
      "Profile contains rankings: True\n",
      "Maximum ranking length: 3\n",
      "Profile contains scores: False\n",
      "Candidates: ('F', 'G', 'A', 'D')\n",
      "Candidates who received votes: ('D', 'A', 'F', 'G')\n",
      "Total number of Ballot objects: 7\n",
      "Total weight of Ballot objects: 17\n",
      "\n"
     ]
    }
   ],
   "source": [
    "print(\"fpv after round 2:\", election.election_states[2].scores)\n",
    "print(\"go to the next step\\n\")\n",
    "\n",
    "\n",
    "print(\"elected\", election.election_states[3].elected)\n",
    "print(\"\\neliminated\", election.election_states[3].eliminated)\n",
    "print(\"\\nremaining\", election.election_states[3].remaining)\n",
    "print(\"\\ntiebreak resolution\", election.election_states[3].tiebreaks)\n",
    "print()\n",
    "print(election.get_profile(3))"
   ]
  },
  {
   "cell_type": "markdown",
   "id": "c8e3d602",
   "metadata": {},
   "source": [
    "Note that here, several candidates were tied for the fewest first-place votes at this stage. When this happens in STV, you use the first-place votes from the original profile to break ties. This means C will be eliminated."
   ]
  },
  {
   "cell_type": "markdown",
   "id": "38d49691",
   "metadata": {},
   "source": [
    "### Modifying the Transfer Method of STV\n",
    "\n",
    "There are several choices that can be made in the progression of a STV election. The most impactful\n",
    "is the method used to transfer overvotes from one round to the next. The default method used here\n",
    "is the \"fractional transfer\" method in which all of the ballots are reweighted according to the\n",
    "number of surplus votes in the previous round and then the votes are transferred with that weight\n",
    "to the next remaining candidate listed on the ballot.\n",
    "\n",
    "\n",
    "In the \"random transfer\" method, we instead randomly select a subset of the ballots that voted\n",
    "for the newly elected candidate and then transfer the votes from those ballots to the next place."
   ]
  },
  {
   "cell_type": "code",
   "execution_count": 10,
   "id": "18d235ad",
   "metadata": {},
   "outputs": [
    {
     "name": "stdout",
     "output_type": "stream",
     "text": [
      "Profile contains rankings: True\n",
      "Maximum ranking length: 3\n",
      "Profile contains scores: False\n",
      "Candidates: ('A', 'B', 'C', 'D', 'E', 'F', 'G')\n",
      "Candidates who received votes: ('A', 'B', 'C', 'D', 'E', 'F', 'G')\n",
      "Total number of Ballot objects: 8\n",
      "Total weight of Ballot objects: 27\n",
      "\n",
      "Sum of ballot weights: 27\n",
      "Number of candidates: 7\n",
      "Initial tiebreak was unsuccessful, performing random tiebreak\n",
      "       Status  Round\n",
      "B     Elected      1\n",
      "D     Elected      7\n",
      "F  Eliminated      6\n",
      "C  Eliminated      5\n",
      "A  Eliminated      4\n",
      "G  Eliminated      3\n",
      "E  Eliminated      2\n"
     ]
    }
   ],
   "source": [
    "candidates = [\"A\", \"B\", \"C\", \"D\", \"E\", \"F\", \"G\"]\n",
    "\n",
    "ballots = [\n",
    "    Ballot(ranking=[{\"A\"}, {\"B\"}], weight=3),\n",
    "    Ballot(ranking=[{\"B\"}, {\"C\"}, {\"D\"}], weight=8),\n",
    "    Ballot(ranking=[{\"B\"}, {\"D\"}, {\"C\"}], weight=8),\n",
    "    Ballot(ranking=[{\"C\"}, {\"A\"}, {\"B\"}], weight=1),\n",
    "    Ballot(ranking=[{\"D\"}, {\"E\"}], weight=1),\n",
    "    Ballot(ranking=[{\"E\"}, {\"D\"}, {\"F\"}], weight=1),\n",
    "    Ballot(ranking=[{\"F\"}, {\"G\"}], weight=4),\n",
    "    Ballot(ranking=[{\"G\"}, {\"E\"}, {\"F\"}], weight=1),\n",
    "]\n",
    "\n",
    "profile = PreferenceProfile(ballots=ballots)\n",
    "\n",
    "print(profile)\n",
    "print(\"Sum of ballot weights:\", profile.total_ballot_wt)\n",
    "print(\"Number of candidates:\", len(profile.candidates))\n",
    "\n",
    "election = STV(profile=profile, transfer=random_transfer, m=2)\n",
    "\n",
    "print(election)"
   ]
  },
  {
   "cell_type": "markdown",
   "id": "2e24753d",
   "metadata": {},
   "source": [
    "## Elections"
   ]
  },
  {
   "cell_type": "markdown",
   "id": "6fbf45bb",
   "metadata": {},
   "source": [
    "### Borda\n",
    "\n",
    "In a Borda election, ranked ballots are converted to a score for a candidate, and then the candidates with the highest scores win. The traditional score vector is $(n,n-1,\\dots,1)$: that is, if there are $n$ candidates, the first-place candidate on a ballot is given $n$ points, the second place $n-1$, all the way down to last, who is given $1$ point. You can change the score vector using the `score_vector` parameter."
   ]
  },
  {
   "cell_type": "code",
   "execution_count": 11,
   "id": "559ea1d0",
   "metadata": {},
   "outputs": [],
   "source": [
    "\n",
    "candidates = [\"A\", \"B\", \"C\", \"D\", \"E\", \"F\"]\n",
    "\n",
    "# recall IAC generates an \"all bets are off\" profile\n",
    "iac = bg.ImpartialAnonymousCulture(candidates=candidates)\n",
    "profile = iac.generate_profile(number_of_ballots=1000)\n",
    "\n",
    "election = Borda(profile, m=3)"
   ]
  },
  {
   "cell_type": "code",
   "execution_count": 12,
   "id": "9370720c",
   "metadata": {},
   "outputs": [
    {
     "name": "stdout",
     "output_type": "stream",
     "text": [
      "Profile contains rankings: True\n",
      "Maximum ranking length: 6\n",
      "Profile contains scores: False\n",
      "Candidates: ('A', 'B', 'C', 'D', 'E', 'F')\n",
      "Candidates who received votes: ('F', 'A', 'B', 'D', 'C', 'E')\n",
      "Total number of Ballot objects: 421\n",
      "Total weight of Ballot objects: 1000\n",
      "\n",
      "\n",
      "      Status  Round\n",
      "F    Elected      1\n",
      "A    Elected      1\n",
      "D    Elected      1\n",
      "E  Remaining      1\n",
      "C  Remaining      1\n",
      "B  Remaining      1\n"
     ]
    }
   ],
   "source": [
    "\n",
    "print(election.get_profile(0))\n",
    "print()\n",
    "\n",
    "print(election)"
   ]
  },
  {
   "cell_type": "code",
   "execution_count": 13,
   "id": "f9054651",
   "metadata": {},
   "outputs": [
    {
     "name": "stdout",
     "output_type": "stream",
     "text": [
      "Winners: (frozenset({'F'}), frozenset({'A'}), frozenset({'D'}))\n",
      "Eliminated: ()\n",
      "Ranking: (frozenset({'F'}), frozenset({'A'}), frozenset({'D'}), frozenset({'E'}), frozenset({'C'}), frozenset({'B'}))\n",
      "Outcome of round 1:\n",
      "       Status  Round\n",
      "F    Elected      1\n",
      "A    Elected      1\n",
      "D    Elected      1\n",
      "E  Remaining      1\n",
      "C  Remaining      1\n",
      "B  Remaining      1\n"
     ]
    }
   ],
   "source": [
    "\n",
    "# the winners up to the given round, -1 means final round\n",
    "print(\"Winners:\", election.get_elected(-1))\n",
    "\n",
    "# the eliminated candidates up to the given round\n",
    "print(\"Eliminated:\", election.get_eliminated(-1))\n",
    "\n",
    "# the ranking of the candidates up to the given round\n",
    "print(\"Ranking:\", election.get_ranking(-1))\n",
    "\n",
    "# the outcome of the given round\n",
    "print(\"Outcome of round 1:\\n\", election.get_status_df(1))"
   ]
  },
  {
   "cell_type": "markdown",
   "id": "7f5a7669",
   "metadata": {},
   "source": [
    "### **Try it yourself**\n",
    "\n",
    "Using the following preference profile, try changing the score vector of a Borda election. Try replacing 3,2,1 with other Borda weights (decreasing and non-negative) showing that each candidate can be elected."
   ]
  },
  {
   "cell_type": "code",
   "execution_count": null,
   "id": "b174869b",
   "metadata": {},
   "outputs": [],
   "source": [
    "ballots = [\n",
    "    Ballot(ranking=[{\"A\"}, {\"B\"}, {\"C\"}], weight=3),\n",
    "    Ballot(ranking=[{\"A\"}, {\"C\"}, {\"B\"}], weight=2),\n",
    "    Ballot(ranking=[{\"B\"}, {\"C\"}, {\"A\"}], weight=2),\n",
    "    Ballot(ranking=[{\"C\"}, {\"B\"}, {\"A\"}], weight=4),\n",
    "]\n",
    "\n",
    "profile = PreferenceProfile(ballots=ballots, candidates=[\"A\", \"B\", \"C\"])\n",
    "\n",
    "score_vector = # edit this!\n",
    "\n",
    "election = Borda(profile, m=1, score_vector=score_vector)\n",
    "print(election)"
   ]
  },
  {
   "cell_type": "markdown",
   "id": "b417c45b",
   "metadata": {},
   "source": [
    "## Creating custom election systems\n",
    "\n",
    "`VoteKit` can't be comprehensive in terms of possible election rules. However, with the `Election` and `ElectionState` classes, you can create your own. Let's create a bit of a silly example; to elect $m$ seats, at each stage of the election we randomly choose one candidate to elect. Most of the methods are handled by the `RankingElection` class, so we really only need to define how a step works, and how to know when it's over.\n",
    "\n",
    "\n",
    "Here is an example where we elect a list of candidates in alphabetical order."
   ]
  },
  {
   "cell_type": "code",
   "execution_count": 18,
   "id": "513f57f3",
   "metadata": {},
   "outputs": [],
   "source": [
    "class AlphabeticaElection(RankingElection):\n",
    "    \"\"\"\n",
    "    Simulates an election where we choose winners alphabetically at each stage.\n",
    "\n",
    "    Args:\n",
    "        profile (PreferenceProfile): Profile to run election on.\n",
    "        m (int, optional): Number of seats to elect.\n",
    "    \"\"\"\n",
    "\n",
    "    def __init__(self, profile: PreferenceProfile, m: int = 1):\n",
    "        # the super method says call the RankingElection class\n",
    "        self.m = m\n",
    "        super().__init__(profile)\n",
    "\n",
    "    def _is_finished(self) -> bool:\n",
    "        \"\"\"\n",
    "        Determines if another round is needed.\n",
    "\n",
    "        Returns:\n",
    "            bool: True if number of seats has been met, False otherwise.\n",
    "        \"\"\"\n",
    "        # need to unpack list of sets\n",
    "        elected = [c for s in self.get_elected() for c in s]\n",
    "\n",
    "        if len(elected) == self.m:\n",
    "            return True\n",
    "\n",
    "        return False\n",
    "\n",
    "    def _run_step(\n",
    "        self, profile: PreferenceProfile, prev_state: ElectionState, store_states=False\n",
    "    ) -> PreferenceProfile:\n",
    "        \"\"\"\n",
    "        Run one step of an election from the given profile and previous state.\n",
    "\n",
    "        Args:\n",
    "            profile (PreferenceProfile): Profile of ballots.\n",
    "            prev_state (ElectionState): The previous ElectionState.\n",
    "            store_states (bool, optional): True if `self.election_states` should be updated with the\n",
    "                ElectionState generated by this round. This should only be True when used by\n",
    "                `self._run_election()`. Defaults to False.\n",
    "\n",
    "        Returns:\n",
    "            PreferenceProfile: The profile of ballots after the round is completed.\n",
    "        \"\"\"\n",
    "\n",
    "        candidates = sorted(profile.candidates)\n",
    "        elected_cand = candidates[0]  # elect the first candidate alphabetically\n",
    "        new_profile = remove_cand(elected_cand, profile)\n",
    "\n",
    "        if store_states:\n",
    "            self.election_states.append(\n",
    "                ElectionState(\n",
    "                    round_number = prev_state.round_number + 1,\n",
    "                    remaining = (frozenset(new_profile.candidates),),\n",
    "                    elected = (frozenset({elected_cand}),),\n",
    "                )\n",
    "            )\n",
    "        return new_profile"
   ]
  },
  {
   "cell_type": "code",
   "execution_count": 19,
   "id": "5801d1a5",
   "metadata": {},
   "outputs": [
    {
     "data": {
      "text/plain": [
       "              Status  Round\n",
       "apple        Elected      1\n",
       "blueberry    Elected      2\n",
       "coffee       Elected      3\n",
       "oats       Remaining      3\n",
       "toast      Remaining      3\n",
       "eggs       Remaining      3"
      ]
     },
     "execution_count": 19,
     "metadata": {},
     "output_type": "execute_result"
    }
   ],
   "source": [
    "cands = [\"eggs\", \"toast\", \"apple\", \"blueberry\", \"oats\", \"coffee\"]\n",
    "\n",
    "profile = bg.ImpartialAnonymousCulture(candidates=cands).generate_profile(number_of_ballots=1000)\n",
    "\n",
    "election = AlphabeticaElection(profile, m=3)\n",
    "\n",
    "election"
   ]
  },
  {
   "cell_type": "markdown",
   "id": "1c521938",
   "metadata": {},
   "source": [
    "### Try it yourself!\n",
    "\n",
    "Our goal in this is to try and recreate the STV with the random transfer method and make it into\n",
    "a class called `RTV` (short for random transferrable vote).  We will be doing this in two stages:\n",
    "\n",
    "1. Make a multi-round election that randomly selects a winner from each round.\n",
    "2. Make the `RTV` class that randomly transfers votes from the elected candidate's supporting ballots\n",
    "   to the next candidate's supporting ballots."
   ]
  },
  {
   "cell_type": "code",
   "execution_count": null,
   "id": "be2db309",
   "metadata": {},
   "outputs": [],
   "source": [
    "class RandomWinners(RankingElection):\n",
    "    \"\"\"\n",
    "    Simulates an election where we randomly choose winners at each stage.\n",
    "\n",
    "    Args:\n",
    "        profile (PreferenceProfile): Profile to run election on.\n",
    "        m (int, optional): Number of seats to elect.\n",
    "    \"\"\"\n",
    "\n",
    "    def __init__(self, profile: PreferenceProfile, m: int = 1):\n",
    "\n",
    "        # Your code here\n",
    "\n",
    "        raise NotImplementedError\n",
    "\n",
    "    def _is_finished(self) -> bool:\n",
    "        \"\"\"\n",
    "        Determines if another round is needed.\n",
    "\n",
    "        Returns:\n",
    "            bool: True if number of seats has been met, False otherwise.\n",
    "        \"\"\"\n",
    "\n",
    "        # Your code here\n",
    "\n",
    "        raise NotImplementedError\n",
    "\n",
    "    def _run_step(\n",
    "        self, profile: PreferenceProfile, prev_state: ElectionState, store_states=False\n",
    "    ) -> PreferenceProfile:\n",
    "        \"\"\"\n",
    "        Run one step of an election from the given profile and previous state.\n",
    "\n",
    "        Args:\n",
    "            profile (PreferenceProfile): Profile of ballots.\n",
    "            prev_state (ElectionState): The previous ElectionState.\n",
    "            store_states (bool, optional): True if `self.election_states` should be updated with the\n",
    "                ElectionState generated by this round. This should only be True when used by\n",
    "                `self._run_election()`. Defaults to False.\n",
    "\n",
    "        Returns:\n",
    "            PreferenceProfile: The profile of ballots after the round is completed.\n",
    "        \"\"\"\n",
    "\n",
    "        # Your code here\n",
    "\n",
    "        raise NotImplementedError"
   ]
  },
  {
   "cell_type": "code",
   "execution_count": null,
   "id": "f4a46770",
   "metadata": {},
   "outputs": [],
   "source": [
    "candidates = [\"A\", \"B\", \"C\", \"D\", \"E\", \"F\"]\n",
    "profile = bg.ImpartialCulture(candidates=candidates).generate_profile(1000)\n",
    "\n",
    "election = RandomWinners(profile=profile, m=3)"
   ]
  },
  {
   "cell_type": "code",
   "execution_count": null,
   "id": "a3a38cd9",
   "metadata": {},
   "outputs": [],
   "source": [
    "from typing import Callable, Union\n",
    "\n",
    "\n",
    "# Assume no ties in the ballots when implementing this election.\n",
    "# Assume that we will not need to handle simultaneous election issues.\n",
    "# Remember all losing first-place votes are transferred to the next choice.\n",
    "class RTV(RankingElection):\n",
    "    \"\"\"\n",
    "    An election similar to STV, but where a random sample of `k` ballots are\n",
    "    transferred to their next choice where `k` is the margin of victory for the\n",
    "    candidate being elected (the number of votes passed the threshold).\n",
    "\n",
    "    Args:\n",
    "        profile (PreferenceProfile): Profile to run election on.\n",
    "        m (int, optional): Number of seats to elect.\n",
    "    \"\"\"\n",
    "\n",
    "    def __init__(self, profile: PreferenceProfile, m: int = 1):\n",
    "\n",
    "        # Your code here\n",
    "        \n",
    "        raise NotImplementedError\n",
    "\n",
    "    def _is_finished(self) -> bool:\n",
    "        \"\"\"\n",
    "        Determines if another round is needed.\n",
    "\n",
    "        Returns:\n",
    "            bool: True if number of seats has been met, False otherwise.\n",
    "        \"\"\"\n",
    "\n",
    "        # Your code here\n",
    "\n",
    "        raise NotImplementedError\n",
    "\n",
    "    def get_threshold(self, total_ballot_wt: Fraction) -> int:\n",
    "        \"\"\"\n",
    "        Calculates threshold required for election.\n",
    "\n",
    "        Args:\n",
    "            total_ballot_wt (Fraction): Total weight of ballots to compute threshold.\n",
    "        Returns:\n",
    "            int: Value of the threshold.\n",
    "        \"\"\"\n",
    "        return int(total_ballot_wt / (self.m + 1) + 1)  # Droop quota\n",
    "\n",
    "\n",
    "    def _run_step(\n",
    "        self, profile: PreferenceProfile, prev_state: ElectionState, store_states=False\n",
    "    ) -> PreferenceProfile:\n",
    "        \"\"\"\n",
    "        Run one step of an election from the given profile and previous state.\n",
    "\n",
    "        Args:\n",
    "            profile (PreferenceProfile): Profile of ballots.\n",
    "            prev_state (ElectionState): The previous ElectionState.\n",
    "            store_states (bool, optional): True if `self.election_states` should be updated with the\n",
    "                ElectionState generated by this round. This should only be True when used by\n",
    "                `self._run_election()`. Defaults to False.\n",
    "\n",
    "        Returns:\n",
    "            PreferenceProfile: The profile of ballots after the round is completed.\n",
    "        \"\"\"\n",
    "\n",
    "        # Your code here\n",
    "\n",
    "        raise NotImplementedError"
   ]
  },
  {
   "cell_type": "markdown",
   "id": "d9ee9709",
   "metadata": {},
   "source": [
    "Here are some profiles that you can test out the RTV method on."
   ]
  },
  {
   "cell_type": "code",
   "execution_count": null,
   "id": "a091009f",
   "metadata": {},
   "outputs": [],
   "source": [
    "test_profile = PreferenceProfile(\n",
    "    ballots=[\n",
    "        Ballot(ranking=({\"Orange\"}, {\"Pear\"}), weight=3),\n",
    "        Ballot(ranking=({\"Pear\"}, {\"Strawberry\"}, {\"Cake\"}), weight=8),\n",
    "        Ballot(ranking=({\"Strawberry\"}, {\"Orange\"}, {\"Pear\"}), weight=1),\n",
    "        Ballot(ranking=({\"Cake\"}, {\"Chocolate\"}), weight=3),\n",
    "        Ballot(ranking=({\"Chocolate\"}, {\"Cake\"}, {\"Burger\"}), weight=1),\n",
    "        Ballot(ranking=({\"Burger\"}, {\"Chicken\"}), weight=4),\n",
    "        Ballot(ranking=({\"Chicken\"}, {\"Chocolate\"}, {\"Burger\"}), weight=3),\n",
    "    ],\n",
    "    max_ranking_length=3,\n",
    ")\n",
    "\n",
    "election = RTV(profile=test_profile, m=3)\n",
    "\n",
    "election"
   ]
  },
  {
   "cell_type": "code",
   "execution_count": null,
   "id": "5c5b7719",
   "metadata": {},
   "outputs": [],
   "source": [
    "candidates = [\"Orange\", \"Pear\", \"Strawberry\", \"Cake\", \"Chocolate\", \"Burger\", \"Chicken\"]\n",
    "\n",
    "profile = bg.ImpartialCulture(candidates=candidates).generate_profile(1000)\n"
   ]
  },
  {
   "cell_type": "code",
   "execution_count": null,
   "id": "531e7c4d",
   "metadata": {},
   "outputs": [],
   "source": [
    "# Run this a bunch to see if you get different results!\n",
    "election = RTV(profile=profile, m=3)\n",
    "\n",
    "election"
   ]
  }
 ],
 "metadata": {
  "kernelspec": {
   "display_name": ".venv",
   "language": "python",
   "name": "python3"
  },
  "language_info": {
   "codemirror_mode": {
    "name": "ipython",
    "version": 3
   },
   "file_extension": ".py",
   "mimetype": "text/x-python",
   "name": "python",
   "nbconvert_exporter": "python",
   "pygments_lexer": "ipython3",
   "version": "3.13.3"
  }
 },
 "nbformat": 4,
 "nbformat_minor": 5
}
