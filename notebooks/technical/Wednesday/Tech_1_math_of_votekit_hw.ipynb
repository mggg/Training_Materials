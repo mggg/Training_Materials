{
 "cells": [
  {
   "cell_type": "markdown",
   "id": "11277888",
   "metadata": {},
   "source": [
    "# Math of VoteKit\n",
    "\n",
    "This notebook is an aggregation of the tutorial notebooks from our documentation page. This is intended to focus on the underlying math of VoteKit, and should be used as a companion to the \"Math of VoteKit\" presentation. This notebook is quite long, just a warning."
   ]
  },
  {
   "cell_type": "markdown",
   "id": "acbae508",
   "metadata": {},
   "source": [
    "\n",
    "## Ballots\n",
    "The first order of business is ballots. In the context of ranked choice voting, a ballot records a voter's preferences as a linear ordering of the candidates. If a voter casts the ballot $A>B>C$, this means they prefer candidate $A$ to $B$ and candidate $B$ to $C$. (We often use the $>$ symbol to indicate higher preference.) Let's see how ballots are stored in VoteKit. First we import the necessary modules."
   ]
  },
  {
   "cell_type": "code",
   "execution_count": 1,
   "id": "4af136ff",
   "metadata": {},
   "outputs": [
    {
     "name": "stdout",
     "output_type": "stream",
     "text": [
      "Ranking\n",
      "1.) A, \n",
      "2.) B, \n",
      "3.) C, \n",
      "Weight: 3/2\n"
     ]
    }
   ],
   "source": [
    "from votekit.ballot import Ballot\n",
    "from fractions import Fraction\n",
    "\n",
    "ballot = Ballot(ranking=[{\"A\"}, {\"B\"}, {\"C\"}], weight=Fraction(3, 2))\n",
    "print(ballot)"
   ]
  },
  {
   "cell_type": "markdown",
   "id": "1a9465df",
   "metadata": {},
   "source": [
    "Here, we have created one ballot. The ballot stored the ranking $A>B>C$. The weight attribute indicates \"how many\" of this ballot were cast. It defaults to 1, but we have put in 3/2.  A fractional weight will be useful in single transferable vote (STV) elections! While the ballot stores the weight as a `Fraction` type, you can actually input the weight as an integer or float and it will convert it for you.\n",
    "\n"
   ]
  },
  {
   "cell_type": "code",
   "execution_count": 2,
   "id": "5a7cb163",
   "metadata": {},
   "outputs": [
    {
     "name": "stdout",
     "output_type": "stream",
     "text": [
      "Ranking\n",
      "1.) A, \n",
      "2.) B, \n",
      "3.) C, \n",
      "Weight: 3/2\n",
      "Ranking\n",
      "1.) A, \n",
      "2.) B, \n",
      "3.) C, \n",
      "Weight: 32\n"
     ]
    }
   ],
   "source": [
    "ballot = Ballot(ranking=[{\"A\"}, {\"B\"}, {\"C\"}], weight=3 / 2)\n",
    "print(ballot)\n",
    "\n",
    "ballot = Ballot(ranking=[{\"A\"}, {\"B\"}, {\"C\"}], weight=32)\n",
    "print(ballot)"
   ]
  },
  {
   "cell_type": "markdown",
   "id": "c9131719",
   "metadata": {},
   "source": [
    "#### **Try it yourself**\n",
    "Create three new ballots, one with weight 47, one with weight 22/7, and one with your own weight idea.\n"
   ]
  },
  {
   "cell_type": "code",
   "execution_count": 3,
   "id": "bf517291",
   "metadata": {},
   "outputs": [],
   "source": [
    "# your code here"
   ]
  },
  {
   "cell_type": "markdown",
   "id": "0e45f8f2",
   "metadata": {},
   "source": [
    "Full linear rankings are not the only possible ballots.\n",
    "Real-world voters frequently list multiple candidates in the same position (even if that is against the rules of the election). As far as we know, this is always treated by localities running ranked choice elections as a voter error, called an **overvote**.\n",
    "\n",
    "Voters also leave some candidates out. In an extreme case, when a voter only lists one candidate, we call this a **bullet vote**.  These are fairly common in ranked elections, and a position with no candidates listed is sometimes called an **undervote**.\n",
    "\n",
    "We might prefer for localities running ranked choice elections to be smart about the voter intent to communicate a tied preference -- and we can do that in VoteKit.  But we'll get to running elections later."
   ]
  },
  {
   "cell_type": "code",
   "execution_count": null,
   "id": "7ad8e206",
   "metadata": {},
   "outputs": [
    {
     "name": "stdout",
     "output_type": "stream",
     "text": [
      "A ballot with overvotes: Ranking\n",
      "1.) D, A, (tie)\n",
      "2.) B, \n",
      "3.) B, C, E, F, (tie)\n",
      "Weight: 1\n"
     ]
    }
   ],
   "source": [
    "ballot = Ballot(ranking=[{\"A\", \"D\"}, {\"B\", \"B\", \"B\"}, {\"C\", \"E\", \"F\", \"B\"}])\n",
    "print(\"A ballot with overvotes:\", ballot)"
   ]
  },
  {
   "cell_type": "markdown",
   "id": "5b257869",
   "metadata": {},
   "source": [
    "The ballot above says that candidates $D$ and $A$ were ranked first, $B$ second, and $E,C,F$ all in third."
   ]
  },
  {
   "cell_type": "code",
   "execution_count": null,
   "id": "4bec1000",
   "metadata": {},
   "outputs": [
    {
     "name": "stdout",
     "output_type": "stream",
     "text": [
      "A bullet vote:\n",
      "Ranking\n",
      "1.) B, \n",
      "Weight: 1\n"
     ]
    }
   ],
   "source": [
    "ballot = Ballot(ranking=[{\"B\"}])\n",
    "print(\"A bullet vote:\")\n",
    "print(ballot)"
   ]
  },
  {
   "cell_type": "markdown",
   "id": "02622432",
   "metadata": {},
   "source": [
    "The ballot above is a bullet vote; only candidate $B$ is listed in first."
   ]
  },
  {
   "cell_type": "markdown",
   "id": "34896662",
   "metadata": {},
   "source": [
    "#### **Automatic cleaning vs specified cleaning**\n",
    "What we really mean to illustrate above is that the `Ballot` class has no understanding of the rules of your election. It is flexible enough to allow all sorts of rankings, even ones that are not valid. \n",
    "\n",
    "Since the ranking is a list of *sets*, the only default cleaning that occurs in ballots in VoteKit is that the candidates listed in a particular position will be deduplicated. In the code above, the first ballot should only print with one candidate named \"B\" in position two. \n",
    "\n",
    "There are many other kinds of cleaning functions, but you have to choose to apply those yourself. This is really crucial to know; lots of elections will behave strangely if you do not have the correct ballot types as input, but it is up to you to clean them to the level needed for your method of election."
   ]
  },
  {
   "cell_type": "markdown",
   "id": "5b87ddec",
   "metadata": {},
   "source": [
    "## Preference Profiles\n",
    "\n",
    "When we want to aggregate a collection of ballots cast by voters, we use the `PreferenceProfile` object. It stores all of the ballots, allows us to visualize them, and comes with some handy features. \n",
    "\n",
    "First we display the simple profile, which just repeats the weights as they were inputted."
   ]
  },
  {
   "cell_type": "code",
   "execution_count": 7,
   "id": "d26de103",
   "metadata": {},
   "outputs": [
    {
     "name": "stdout",
     "output_type": "stream",
     "text": [
      "             Ranking_1 Ranking_2 Ranking_3 Voter Set Weight\n",
      "Ballot Index                                               \n",
      "0                  (A)       (B)       (C)        {}      3\n",
      "1                  (B)       (A)       (C)        {}      1\n",
      "2                  (C)       (B)       (A)        {}      1\n",
      "3                  (A)       (B)       (C)        {}      1\n",
      "4                  (A)       (B)       (C)        {}      1\n",
      "5                  (B)       (A)       (C)        {}      1\n"
     ]
    }
   ],
   "source": [
    "from votekit.pref_profile import PreferenceProfile\n",
    "\n",
    "candidates = [\"A\", \"B\", \"C\"]\n",
    "\n",
    "# let's assume that the ballots come from voters,\n",
    "# so they all have integer weight for now\n",
    "ballots = [\n",
    "    Ballot(ranking=[{\"A\"}, {\"B\"}, {\"C\"}], weight=3),\n",
    "    Ballot(ranking=[{\"B\"}, {\"A\"}, {\"C\"}]),\n",
    "    Ballot(ranking=[{\"C\"}, {\"B\"}, {\"A\"}]),\n",
    "    Ballot(ranking=[{\"A\"}, {\"B\"}, {\"C\"}]),\n",
    "    Ballot(ranking=[{\"A\"}, {\"B\"}, {\"C\"}]),\n",
    "    Ballot(ranking=[{\"B\"}, {\"A\"}, {\"C\"}]),\n",
    "]\n",
    "\n",
    "# we give the profile a list of ballots and a list of candidates\n",
    "profile = PreferenceProfile(ballots=ballots, candidates=candidates)\n",
    "\n",
    "print(profile.df.to_string())"
   ]
  },
  {
   "cell_type": "markdown",
   "id": "fda9b895",
   "metadata": {},
   "source": [
    "The `PreferenceProfile` class takes a list of `Ballot` objects and a list of candidates. The candidate names must be distinct, and it will raise an error if not. Providing the list of candidates is actually optional, and it has no impact on the profile object. If the candidates are not provided, the profile automatically computes the candidates as anyone who appeared on a ballot with positive weight.  However, later when we move on to ballot generation, the list of candidates will be important, so it is good practice to specify them.\n"
   ]
  },
  {
   "cell_type": "markdown",
   "id": "934ed545",
   "metadata": {},
   "source": [
    "Notice that printing the profile did not automatically combine like ballots into a single line. But there's an easy way to get the grouped profile, as follows."
   ]
  },
  {
   "cell_type": "code",
   "execution_count": 8,
   "id": "e2910de1",
   "metadata": {},
   "outputs": [
    {
     "name": "stdout",
     "output_type": "stream",
     "text": [
      "             Ranking_1 Ranking_2 Ranking_3 Weight Voter Set\n",
      "Ballot Index                                               \n",
      "0                  (A)       (B)       (C)      5        {}\n",
      "1                  (B)       (A)       (C)      2        {}\n",
      "2                  (C)       (B)       (A)      1        {}\n"
     ]
    }
   ],
   "source": [
    "grouped_profile = profile.group_ballots()\n",
    "print(grouped_profile.df.to_string())"
   ]
  },
  {
   "cell_type": "markdown",
   "id": "f8f3d7ef",
   "metadata": {},
   "source": [
    "A few other useful attributes/methods are listed here.  Use `profile.ATTR` for each one.\n",
    "\n",
    "- `candidates` returns the list of candidates input to the profile.\n",
    "\n",
    "- `candidates_cast` returns the list of candidates who received votes.\n",
    "\n",
    "- `ballots` returns the list of ballots (useful if you want to extract the ballots to write custom code, say).\n",
    "\n",
    "- `num_ballots` returns the number of ballots, which is the length of `ballots`.\n",
    "\n",
    "- `total_ballot_wt` returns the sum of the ballot weights.\n",
    "\n",
    "\n",
    "\n",
    "\n",
    "### **Try it yourself**\n",
    "Try using all of the above attributes/methods, with or without grouping the ballots.\n",
    "\n",
    "\n"
   ]
  },
  {
   "cell_type": "markdown",
   "id": "73a4038e",
   "metadata": {},
   "source": [
    "## Preference Intervals\n",
    "\n",
    "There are a few ways to input ballots into VoteKit. You can type them all by hand as we did above, you can read them in from real-world vote records, or you can generate them within VoteKit. While we will dive a lot deeper into reading and generating in future sections, it is worthwhile to introduce some of the vocabulary surrounding generative models here.\n",
    "\n",
    "Most of our generative models rely on a **preference interval**. A preference interval stores information about the relative strengths of a voter's priorities for candidates. We visualize this, unsurprisingly, as an interval. We take the interval $[0,1]$ and divide it into pieces, where we've taken all the preference weights and scaled so they add to 1.\n",
    "\n",
    "For example,\n",
    "```\n",
    "{\"A\": 0.7, \"B\": 0.2, \"C\": 0.1}\n",
    "```\n",
    "is a dictionary that represents an ordered preference interval where A is preferred to B by a ratio of 7:2, etc.  \n",
    "\n",
    "Later, the ballot generator models will pull from these preferences to create a ballot for each voter.\n",
    "\n",
    "It should be remarked that there is a difference, at least to VoteKit, between the intervals\n",
    "```\n",
    "{\"A\": 0.7, \"B\": 0.3, \"C\": 0} and\n",
    "{\"A\": 0.7, \"B\": 0.3}\n",
    "```\n",
    "\n",
    "While both say there is no preference for candidate C, if the latter interval is fed into VoteKit, that third candidate will never appear on a generated ballot. If we feed it the former interval, the third candidate will appear at the bottom of the ballot.\n",
    "\n",
    "![png](https://votekit.readthedocs.io/en/latest/_images/preference_interval.png)"
   ]
  },
  {
   "cell_type": "markdown",
   "id": "445dfab2",
   "metadata": {},
   "source": [
    "One of the generative models is called the **slate-Plackett-Luce model**, or s-PL.  In s-PL, voters fill in their ballot from the top position to the bottom by choosing from the available candidates in proportion to their preference weights. We call this the impulsive voter model.\n",
    "\n",
    "You can read more about s-PL in our [social choice documentation](https://votekit.readthedocs.io/en/latest/social_choice_docs/scr/#slate-plackett-luce), but for now let's use it to explore how intervals work. We will assume there is only one bloc of voters. This makes the syntax look a little strange, but bear with us."
   ]
  },
  {
   "cell_type": "code",
   "execution_count": 10,
   "id": "658aa2ca",
   "metadata": {},
   "outputs": [
    {
     "name": "stdout",
     "output_type": "stream",
     "text": [
      "Profile contains rankings: True\n",
      "Maximum ranking length: 3\n",
      "Profile contains scores: False\n",
      "Candidates: ('A', 'C', 'B')\n",
      "Candidates who received votes: ('A', 'B', 'C')\n",
      "Total number of Ballot objects: 6\n",
      "Total weight of Ballot objects: 100\n",
      "\n",
      "\n",
      "             Ranking_1 Ranking_2 Ranking_3 Voter Set Weight\n",
      "Ballot Index                                               \n",
      "0                  (A)       (B)       (C)        {}     66\n",
      "1                  (A)       (C)       (B)        {}     15\n",
      "2                  (B)       (A)       (C)        {}     14\n",
      "3                  (B)       (C)       (A)        {}      1\n",
      "4                  (C)       (B)       (A)        {}      1\n",
      "5                  (C)       (A)       (B)        {}      3\n"
     ]
    }
   ],
   "source": [
    "import votekit.ballot_generator as bg\n",
    "from votekit import PreferenceInterval\n",
    "\n",
    "# the sPL model assumes there are blocs of voters,\n",
    "# but we can just say that there is only one bloc\n",
    "bloc_voter_prop = {\"all_voters\": 1}\n",
    "slate_to_candidates = {\"all_voters\": [\"A\", \"B\", \"C\"]}\n",
    "\n",
    "# the preference interval (80,15,5)\n",
    "pref_intervals_by_bloc = {\n",
    "    \"all_voters\": {\"all_voters\": PreferenceInterval({\"A\": 0.80, \"B\": 0.15, \"C\": 0.05})}\n",
    "}\n",
    "\n",
    "# the sPL model needs an estimate of cohesion between blocs,\n",
    "# but there is only one bloc here\n",
    "cohesion_parameters = {\"all_voters\": {\"all_voters\": 1}}\n",
    "\n",
    "pl = bg.slate_PlackettLuce(\n",
    "    pref_intervals_by_bloc=pref_intervals_by_bloc,\n",
    "    bloc_voter_prop=bloc_voter_prop,\n",
    "    slate_to_candidates=slate_to_candidates,\n",
    "    cohesion_parameters=cohesion_parameters,\n",
    ")\n",
    "\n",
    "profile = pl.generate_profile(number_of_ballots=100)\n",
    "print(profile)\n",
    "print()\n",
    "print(profile.df.to_string())"
   ]
  },
  {
   "cell_type": "markdown",
   "id": "6ed256b0",
   "metadata": {},
   "source": [
    "Re-run the above block several times to see that the elections will come out different!  The s-PL model is random, meaning we won't always get the same profile when we run `generate_profile` (although we are planning to implement an explicit `random seed` option so that you can replicate runs). You probably won't get the same output as what is stored in this tutorial either. That's okay! Check that most ballots rank $A$ first, which is expected because they had the largest portion of the preference interval. Likewise, $C$ is least popular."
   ]
  },
  {
   "cell_type": "markdown",
   "id": "5e7a25a5",
   "metadata": {},
   "source": [
    "## Blocs\n",
    "\n",
    "A **bloc** of voters is a group of voters who have similar voting behavior, generally preferring their **slate** of candidates to the slates associated to other blocs. In VoteKit, we model this by assuming voters within a bloc have the same preference interval. Let's look at an example where there are two blocs called Alpha and Xenon, each with a two-candidate slate ($A,B$ and $X,Y$, respectively). \n",
    "\n",
    "By introducing blocs, we also need to discuss cohesion parameters. In realistic polarized elections, we might be able to identify two groups with different voting tendencies, but real voting blocs are not perfectly monolithic---some voters will stick with their slate, but many others might have a tendency to \"cross over\" to the other slate sometimes in constructing their ballot.\n",
    "\n",
    "The precise meaning of these vary by model, but broadly speaking, **cohesion parameters** measure the strength with which voters within a particular bloc stick to their slate.\n",
    "\n",
    "Since we are printing out a large profile below, we will also introduce the `profile_df_head` method which prints the top ballots by weight."
   ]
  },
  {
   "cell_type": "code",
   "execution_count": 12,
   "id": "ac36523b",
   "metadata": {},
   "outputs": [
    {
     "name": "stdout",
     "output_type": "stream",
     "text": [
      "The ballots from Alpha voters\n",
      "              Ranking_1 Ranking_2 Ranking_3 Ranking_4 Weight Voter Set\n",
      "Ballot Index                                                         \n",
      "0                  (A)       (B)       (Y)       (X)   5188        {}\n",
      "4                  (B)       (A)       (Y)       (X)   1289        {}\n",
      "3                  (Y)       (A)       (B)       (X)    665        {}\n",
      "1                  (A)       (Y)       (B)       (X)    546        {}\n",
      "2                  (Y)       (B)       (A)       (X)    177        {}\n",
      "5                  (B)       (Y)       (A)       (X)    135        {}\n",
      "The ballots from Xenon voters\n",
      "              Ranking_1 Ranking_2 Ranking_3 Ranking_4 Weight Voter Set\n",
      "Ballot Index                                                         \n",
      "1                  (X)       (Y)       (B)       (A)    420        {}\n",
      "7                  (Y)       (X)       (B)       (A)    407        {}\n",
      "6                  (Y)       (X)       (A)       (B)    404        {}\n",
      "0                  (X)       (Y)       (A)       (B)    400        {}\n",
      "19                 (A)       (Y)       (X)       (B)     42        {}\n",
      "11                 (Y)       (B)       (X)       (A)     42        {}\n",
      "13                 (B)       (Y)       (X)       (A)     41        {}\n",
      "5                  (X)       (B)       (Y)       (A)     40        {}\n",
      "9                  (Y)       (A)       (X)       (B)     38        {}\n",
      "15                 (B)       (X)       (Y)       (A)     36        {}\n",
      "Aggregated ballots\n",
      "              Ranking_1 Ranking_2 Ranking_3 Ranking_4 Voter Set Weight\n",
      "Ballot Index                                                         \n",
      "0                  (A)       (B)       (Y)       (X)        {}   5188\n",
      "4                  (B)       (A)       (Y)       (X)        {}   1289\n",
      "3                  (Y)       (A)       (B)       (X)        {}    665\n",
      "1                  (A)       (Y)       (B)       (X)        {}    546\n",
      "7                  (X)       (Y)       (B)       (A)        {}    420\n",
      "13                 (Y)       (X)       (B)       (A)        {}    407\n",
      "12                 (Y)       (X)       (A)       (B)        {}    404\n",
      "6                  (X)       (Y)       (A)       (B)        {}    400\n",
      "2                  (Y)       (B)       (A)       (X)        {}    177\n",
      "5                  (B)       (Y)       (A)       (X)        {}    135\n"
     ]
    }
   ],
   "source": [
    "from votekit.pref_profile import profile_df_head\n",
    "slate_to_candidates = {\"Alpha\": [\"A\", \"B\"], \"Xenon\": [\"X\", \"Y\"]}\n",
    "\n",
    "# note that we include candidates with 0 support,\n",
    "# and that our preference intervals will automatically rescale to sum to 1\n",
    "\n",
    "pref_intervals_by_bloc = {\n",
    "    \"Alpha\": {\n",
    "        \"Alpha\": PreferenceInterval({\"A\": 0.8, \"B\": 0.2}),\n",
    "        \"Xenon\": PreferenceInterval({\"X\": 0, \"Y\": 1}),\n",
    "    },\n",
    "    \"Xenon\": {\n",
    "        \"Alpha\": PreferenceInterval({\"A\": 0.5, \"B\": 0.5}),\n",
    "        \"Xenon\": PreferenceInterval({\"X\": 0.5, \"Y\": 0.5}),\n",
    "    },\n",
    "}\n",
    "\n",
    "\n",
    "bloc_voter_prop = {\"Alpha\": 0.8, \"Xenon\": 0.2}\n",
    "\n",
    "# assume that each bloc is 90% cohesive\n",
    "# we'll discuss exactly what that means later\n",
    "cohesion_parameters = {\n",
    "    \"Alpha\": {\"Alpha\": 0.9, \"Xenon\": 0.1},\n",
    "    \"Xenon\": {\"Xenon\": 0.9, \"Alpha\": 0.1},\n",
    "}\n",
    "\n",
    "pl = bg.slate_PlackettLuce(\n",
    "    pref_intervals_by_bloc=pref_intervals_by_bloc,\n",
    "    bloc_voter_prop=bloc_voter_prop,\n",
    "    slate_to_candidates=slate_to_candidates,\n",
    "    cohesion_parameters=cohesion_parameters,\n",
    ")\n",
    "\n",
    "# the by_bloc parameter allows us to see which ballots came from which blocs of voters\n",
    "profile_dict, agg_profile = pl.generate_profile(number_of_ballots=10000, by_bloc=True)\n",
    "print(\"The ballots from Alpha voters\\n\", profile_df_head(profile_dict[\"Alpha\"], 10))\n",
    "\n",
    "print(\"The ballots from Xenon voters\\n\", profile_df_head(profile_dict[\"Xenon\"],10))\n",
    "\n",
    "print(\"Aggregated ballots\\n\", profile_df_head(agg_profile,10))"
   ]
  },
  {
   "cell_type": "markdown",
   "id": "d5f4b685",
   "metadata": {},
   "source": [
    "Scan this to be sure it is reasonable, recalling that our intervals say that the Alpha voters prefer $A$ to $B$, while $X$ has no support in that bloc. Xenon voters like $X$ and $Y$ equally, and then like $A$ and $B$ equally (although much less than their own slate). There should be a lot more Alpha-style voters than Xenon-style voters.\n",
    "\n"
   ]
  },
  {
   "cell_type": "markdown",
   "id": "073b72e6",
   "metadata": {},
   "source": [
    "## Elections\n",
    "\n",
    "Finally, we are ready to run an election. It is important to distinguish between *preference profiles*, which are a collection of ballots, and *elections*, which are the method by which those ballots are converted to an outcome (candidates elected to seats). We will explore all sorts of election types in later notebooks. For now, let's use a plurality election on a small set of ballots so we can verify that it behaves as it should."
   ]
  },
  {
   "cell_type": "code",
   "execution_count": 14,
   "id": "258dbe24",
   "metadata": {},
   "outputs": [
    {
     "name": "stdout",
     "output_type": "stream",
     "text": [
      "             Ranking_1 Ranking_2 Ranking_3 Weight Voter Set\n",
      "Ballot Index                                               \n",
      "0                  (A)       (B)       (C)     18        {}\n",
      "1                  (B)       (A)       (C)     12        {}\n",
      "2                  (C)       (B)       (A)      6        {}\n",
      "      Status  Round\n",
      "A    Elected      1\n",
      "B  Remaining      1\n",
      "C  Remaining      1\n"
     ]
    }
   ],
   "source": [
    "from votekit.elections import Plurality\n",
    "\n",
    "ballots = [\n",
    "    Ballot(ranking=[{\"A\"}, {\"B\"}, {\"C\"}]),\n",
    "    Ballot(ranking=[{\"B\"}, {\"A\"}, {\"C\"}]),\n",
    "    Ballot(ranking=[{\"C\"}, {\"B\"}, {\"A\"}]),\n",
    "    Ballot(ranking=[{\"A\"}, {\"B\"}, {\"C\"}]),\n",
    "    Ballot(ranking=[{\"A\"}, {\"B\"}, {\"C\"}]),\n",
    "    Ballot(ranking=[{\"B\"}, {\"A\"}, {\"C\"}]),\n",
    "]\n",
    "\n",
    "profile = PreferenceProfile(ballots=ballots * 6, candidates=candidates)\n",
    "\n",
    "profile = profile.group_ballots()\n",
    "\n",
    "print(profile_df_head(profile,10))\n",
    "\n",
    "# m is the number of seats to elect\n",
    "election = Plurality(profile=profile, m=1)\n",
    "\n",
    "print(election)"
   ]
  },
  {
   "cell_type": "markdown",
   "id": "f972ebf0",
   "metadata": {},
   "source": [
    "If everything worked as intended, you should see that $A$ was elected, while $B,C$ were remaining. There is only one round, as plurality elections are single step.\n",
    "\n"
   ]
  },
  {
   "cell_type": "markdown",
   "id": "d32fe7bf",
   "metadata": {},
   "source": [
    "You can also run a plurality election with more seats than one; it just takes the $m$ candidates with the most first-place support as winners.\n",
    "\n",
    "For advanced users:  if several candidates had the same level of first-place support, the default tiebreaker in VoteKit is `None`, and it will raise an error telling you to choose a tiebreak method. This can be done by setting `tiebreak='random'` or `tiebreak='borda'` in the `Plurality` init method. There is also a `'first_place'` option, but that won't help in a plurality tie."
   ]
  },
  {
   "cell_type": "markdown",
   "id": "563bd4a9",
   "metadata": {},
   "source": [
    "### Conclusion\n",
    "The goal of this section was to introduce the vocabulary of VoteKit and ranked choice voting. You should now know about ballots, preference profiles, preference intervals, blocs/slates, and the distinction between profiles and elections. "
   ]
  },
  {
   "cell_type": "markdown",
   "id": "81d5d5a1",
   "metadata": {},
   "source": [
    "#### Extra Prompts\n",
    "\n",
    "If you have finished this section and are looking to extend your understanding, try the following prompts:\n",
    "\n",
    "- Write your own profile with four candidates named Trump, Rubio, Cruz, and Kasich, a preference interval of your choice, and with the bloc name set to \"Repubs2016\". Generate 1000 ballots. Are they distributed how they should be given your preference interval?\n",
    "- Create a preference profile where candidates $B,C$ should be elected under a 2-seat plurality election. Run the election and confirm!"
   ]
  },
  {
   "cell_type": "markdown",
   "id": "73b8a0ca",
   "metadata": {},
   "source": [
    "## Simulated voting with ballot generators\n",
    "\n",
    "If we want to get a large sample of ballots without using real-world data, we can use a variety of ballot generators included in VoteKit."
   ]
  },
  {
   "cell_type": "markdown",
   "id": "077922ec",
   "metadata": {},
   "source": [
    "### Bradley-Terry\n",
    "\n",
    "The slate-Bradley-Terry model (s-BT) uses the same set of input parameters as s-PL: `slate_to_candidates`, `bloc_voter_prop`, `cohesion_parameters`, and `pref_intervals_by_bloc`. We call s-BT the deliberative voter model because part of the generation process involves making all pairwise comparisons between candidates on the ballot. A more detailed discussion can be found in our [social choice documentation](../../social_choice_docs/scr.html#slate-bradley-terry).\n",
    "\n",
    "\n"
   ]
  },
  {
   "cell_type": "code",
   "execution_count": 16,
   "id": "9cae1593",
   "metadata": {},
   "outputs": [
    {
     "name": "stdout",
     "output_type": "stream",
     "text": [
      "             Ranking_1 Ranking_2 Ranking_3 Ranking_4 Voter Set Weight\n",
      "Ballot Index                                                         \n",
      "0                  (A)       (B)       (Y)       (X)        {}     58\n",
      "3                  (B)       (A)       (Y)       (X)        {}     10\n",
      "5                  (X)       (Y)       (A)       (B)        {}      8\n",
      "1                  (A)       (Y)       (B)       (X)        {}      7\n",
      "8                  (Y)       (X)       (B)       (A)        {}      5\n",
      "4                  (Y)       (A)       (B)       (X)        {}      3\n",
      "6                  (X)       (Y)       (B)       (A)        {}      3\n",
      "7                  (Y)       (X)       (A)       (B)        {}      3\n",
      "2                  (B)       (Y)       (A)       (X)        {}      2\n",
      "9                  (A)       (X)       (B)       (Y)        {}      1\n"
     ]
    }
   ],
   "source": [
    "import votekit.ballot_generator as bg\n",
    "from votekit import PreferenceInterval\n",
    "\n",
    "slate_to_candidates = {\"Alpha\": [\"A\", \"B\"], \"Xenon\": [\"X\", \"Y\"]}\n",
    "\n",
    "# note that we include candidates with 0 support, and that our preference intervals\n",
    "# will automatically rescale to sum to 1\n",
    "\n",
    "pref_intervals_by_bloc = {\n",
    "    \"Alpha\": {\n",
    "        \"Alpha\": PreferenceInterval({\"A\": 0.8, \"B\": 0.15}),\n",
    "        \"Xenon\": PreferenceInterval({\"X\": 0, \"Y\": 0.05}),\n",
    "    },\n",
    "    \"Xenon\": {\n",
    "        \"Alpha\": PreferenceInterval({\"A\": 0.05, \"B\": 0.05}),\n",
    "        \"Xenon\": PreferenceInterval({\"X\": 0.45, \"Y\": 0.45}),\n",
    "    },\n",
    "}\n",
    "\n",
    "\n",
    "bloc_voter_prop = {\"Alpha\": 0.8, \"Xenon\": 0.2}\n",
    "\n",
    "# assume that each bloc is 90% cohesive\n",
    "cohesion_parameters = {\n",
    "    \"Alpha\": {\"Alpha\": 0.9, \"Xenon\": 0.1},\n",
    "    \"Xenon\": {\"Xenon\": 0.9, \"Alpha\": 0.1},\n",
    "}\n",
    "\n",
    "bt = bg.slate_BradleyTerry(\n",
    "    pref_intervals_by_bloc=pref_intervals_by_bloc,\n",
    "    bloc_voter_prop=bloc_voter_prop,\n",
    "    slate_to_candidates=slate_to_candidates,\n",
    "    cohesion_parameters=cohesion_parameters,\n",
    ")\n",
    "\n",
    "profile = bt.generate_profile(number_of_ballots=100)\n",
    "print(profile_df_head(profile,10))"
   ]
  },
  {
   "cell_type": "markdown",
   "id": "930c21ab",
   "metadata": {},
   "source": [
    "## Generating Preference Intervals from Hyperparameters\n",
    "\n",
    "Now that we have seen a few ballot generators, we can introduce the candidate simplex and the Dirichlet distribution.\n",
    "\n",
    "\n",
    "We saw that you can initialize the Plackett-Luce model and the Bradley-Terry model from a preference interval (or multiple ones if you have different voting blocs). Recall, a preference interval stores a voter's preference for candidates as a vector of non-negative values that sum to 1. Other models that rely on preference intervals include the Alternating Crossover model (AC) and the Cambridge Sampler (CS). There is a nice geometric representation of preference intervals via the candidate simplex.\n",
    "\n",
    "### Candidate Simplex\n",
    "\n",
    "Informally, the candidate simplex is a geometric representation of the space of preference intervals. With two candidates, it is an interval; with three candidates, it is a triangle; with four, a tetrahedron; and so on getting harder to visualize as the dimension goes up.\n",
    "\n",
    "This will be easiest to visualize with three candidates $A,B,C$. Then there is a one-to-one correspondence between positions in the triangle and what are called **convex combinations** of the extreme points.  For instance, $.8A+.15B+.05C$ is a weighted average of those points giving 80% of the weight to $A$, 15% to $B$, and 5% to $C$.  The result is a point that is closest to $A$, as seen in the picture.  \n",
    "\n",
    "Those coefficients, which sum to 1, become the lengths of the candidate's sub-intervals.  So this lets us see the simplex as the space of all preference intervals.\n",
    "\n",
    "![png](https://votekit.readthedocs.io/en/latest/_images/candidate_simplex.png)"
   ]
  },
  {
   "cell_type": "markdown",
   "id": "d5d58d63",
   "metadata": {},
   "source": [
    "### Dirichlet Distribution\n",
    "\n",
    "**Dirichlet distributions** are a one-parameter family of probability distributions on the simplex---this is used here to choose a preference interval at random. We parameterize it with a value $\\alpha \\in (0,\\infty)$. As $\\alpha\\to \\infty$, the support of the distribution moves to the center of the simplex. This means we are more likely to sample preference intervals that have roughly equal support for all candidates, which will translate to all orderings being equally likely. As $\\alpha\\to 0$, the mass moves to the vertices. This means we are more likely to choose a preference interval that has strong support for a single candidate.  In between is $\\alpha=1$, where any region of the simplex is weighted in proportion to its area.  We think of this as the \"all bets are off\" setting -- you might choose a balanced preference, a concentrated preference, or something in between.\n",
    "\n",
    "The value $\\alpha$ is never allowed to equal 0 or $\\infty$ in Python, so VoteKit changes these to a very small number ($10^{-10}$) and a very large number $(10^{20})$.  We don't recommend using values that extreme. In previous studies, MGGG members have taken $\\alpha = 1/2$ to be \"small\" and $\\alpha = 2$ to be \"big.\"\n",
    "\n",
    "![png](https://votekit.readthedocs.io/en/latest/_images/dirichlet_distribution.png)"
   ]
  },
  {
   "cell_type": "markdown",
   "id": "64870638",
   "metadata": {},
   "source": [
    "It is easy to sample a `PreferenceInterval` from the Dirichlet distribution. Rerun the code below several times to get a feel for how these change with randomness."
   ]
  },
  {
   "cell_type": "code",
   "execution_count": null,
   "id": "76565ec0",
   "metadata": {},
   "outputs": [
    {
     "name": "stdout",
     "output_type": "stream",
     "text": [
      "Strong preference for one candidate {'A': 0.1521, 'B': 0.0002, 'C': 0.8477}\n",
      "All bets are off preference {'A': 0.4171, 'B': 0.1821, 'C': 0.4007}\n",
      "Uniform preference for all candidates {'A': 0.3079, 'B': 0.3069, 'C': 0.3852}\n"
     ]
    }
   ],
   "source": [
    "strong_pref_interval = PreferenceInterval.from_dirichlet(\n",
    "    candidates=[\"A\", \"B\", \"C\"], alpha=0.1\n",
    ")\n",
    "print(\"Strong preference for one candidate\", strong_pref_interval)\n",
    "\n",
    "abo_pref_interval = PreferenceInterval.from_dirichlet(\n",
    "    candidates=[\"A\", \"B\", \"C\"], alpha=1\n",
    ")\n",
    "print(\"All bets are off preference\", abo_pref_interval)\n",
    "\n",
    "unif_pref_interval = PreferenceInterval.from_dirichlet(\n",
    "    candidates=[\"A\", \"B\", \"C\"], alpha=10\n",
    ")\n",
    "print(\"Uniform preference for all candidates\", unif_pref_interval)"
   ]
  },
  {
   "cell_type": "markdown",
   "id": "dced8137",
   "metadata": {},
   "source": [
    "Let's initialize the s-PL model from the Dirichlet distribution, using that to build a preference interval rather than specifying the interval. Each bloc will need two Dirichlet alpha values; one to describe their own preference interval, and another to describe their preference for the opposing candidates."
   ]
  },
  {
   "cell_type": "code",
   "execution_count": 17,
   "id": "7f01e9e2",
   "metadata": {},
   "outputs": [
    {
     "name": "stdout",
     "output_type": "stream",
     "text": [
      "Preference interval for X bloc and X candidates\n",
      "{'X1': 0.2791, 'X2': 0.7209}\n",
      "\n",
      "Preference interval for X bloc and Y candidates\n",
      "{'Y1': 0.2134, 'Y2': 0.7866}\n",
      "\n",
      "             Ranking_1 Ranking_2 Ranking_3 Ranking_4 Weight Voter Set\n",
      "Ballot Index                                                         \n",
      "6                 (X2)      (X1)      (Y2)      (Y1)     38        {}\n",
      "0                 (X1)      (X2)      (Y2)      (Y1)     16        {}\n",
      "7                 (X2)      (X1)      (Y1)      (Y2)     10        {}\n",
      "2                 (Y2)      (X2)      (X1)      (Y1)      5        {}\n",
      "8                 (X2)      (Y2)      (X1)      (Y1)      4        {}\n",
      "4                 (Y2)      (X1)      (X2)      (Y1)      3        {}\n",
      "1                 (X1)      (Y2)      (X2)      (Y1)      1        {}\n",
      "3                 (Y2)      (Y1)      (X1)      (X2)      1        {}\n",
      "5                 (X2)      (Y1)      (X1)      (Y2)      1        {}\n",
      "9                 (Y1)      (X2)      (X1)      (Y2)      1        {}\n"
     ]
    }
   ],
   "source": [
    "bloc_voter_prop = {\"X\": 0.8, \"Y\": 0.2}\n",
    "\n",
    "# the values of .9 indicate that these blocs are highly polarized;\n",
    "# they prefer their own candidates much more than the opposing slate\n",
    "cohesion_parameters = {\"X\": {\"X\": 0.9, \"Y\": 0.1}, \"Y\": {\"Y\": 0.9, \"X\": 0.1}}\n",
    "\n",
    "alphas = {\"X\": {\"X\": 2, \"Y\": 1}, \"Y\": {\"X\": 1, \"Y\": 0.5}}\n",
    "\n",
    "slate_to_candidates = {\"X\": [\"X1\", \"X2\"], \"Y\": [\"Y1\", \"Y2\"]}\n",
    "\n",
    "# the from_params method allows us to sample from\n",
    "# the Dirichlet distribution for our intervals\n",
    "pl = bg.slate_PlackettLuce.from_params(\n",
    "    slate_to_candidates=slate_to_candidates,\n",
    "    bloc_voter_prop=bloc_voter_prop,\n",
    "    cohesion_parameters=cohesion_parameters,\n",
    "    alphas=alphas,\n",
    ")\n",
    "\n",
    "print(\"Preference interval for X bloc and X candidates\")\n",
    "print(pl.pref_intervals_by_bloc[\"X\"][\"X\"])\n",
    "print()\n",
    "print(\"Preference interval for X bloc and Y candidates\")\n",
    "print(pl.pref_intervals_by_bloc[\"X\"][\"Y\"])\n",
    "\n",
    "print()\n",
    "profile_dict, agg_profile = pl.generate_profile(number_of_ballots=100, by_bloc=True)\n",
    "print(profile_df_head(profile_dict[\"X\"],10))"
   ]
  },
  {
   "cell_type": "markdown",
   "id": "d7da2b8c",
   "metadata": {},
   "source": [
    "Let's confirm that the intervals and ballots look reasonable. We have $\\alpha_{XX} = 2$ and $\\alpha_{XY} = 1$. This means that the $X$ voters tend to be relatively indifferent among their own candidates, but might adopt any candidate strength behavior for the $Y$ slate.\n",
    "\n",
    "\n",
    "### **Try it yourself**\n",
    "> Change the code above to check that the preference intervals and ballots for the $Y$ bloc look reasonable.\n",
    "\n"
   ]
  },
  {
   "cell_type": "markdown",
   "id": "2124a0b9",
   "metadata": {},
   "source": [
    "## Cambridge Sampler\n",
    "We introduce one more method of generating ballots: the **Cambridge Sampler** (CS). CS generates ranked ballots using historical election data from Cambridge, MA (which has been continuously conducting ranked choice elections since 1941). It is the only ballot generator we will see today that is capable of producing incomplete ballots, including bullet votes.\n",
    "\n",
    "By default, CS uses five elections (2009-2017, odd years); with the help of local organizers, we coded the candidates as White (W) or People of Color (POC, or C for short).  This is not necessarily the biggest factor predicting people's vote in Cambridge -- housing policy is the biggie -- but it's a good place to find realistic rankings, with candidates of two types.\n",
    "\n",
    "You also have the option of providing CS with your own historical election data from which to generate ballots instead of using Cambridge data."
   ]
  },
  {
   "cell_type": "code",
   "execution_count": 19,
   "id": "4ac4dee8",
   "metadata": {},
   "outputs": [
    {
     "name": "stdout",
     "output_type": "stream",
     "text": [
      "             Ranking_1 Ranking_2 Ranking_3 Ranking_4 Ranking_5 Voter Set Weight\n",
      "Ballot Index                                                                   \n",
      "198               (C1)      (C2)      (W3)      (W1)      (W2)        {}     31\n",
      "122               (W3)       (~)       (~)       (~)       (~)        {}     26\n",
      "133               (W3)      (W1)      (W2)      (C2)      (C1)        {}     23\n",
      "215               (C1)      (W3)      (C2)      (W1)      (W2)        {}     21\n",
      "112               (W3)      (W2)      (W1)       (~)       (~)        {}     19\n",
      "131               (W3)      (W1)      (W2)       (~)       (~)        {}     16\n",
      "118               (W3)      (W2)      (C2)      (W1)      (C1)        {}     16\n",
      "95                (W3)      (C2)      (C1)      (W2)      (W1)        {}     16\n",
      "200               (C1)      (C2)       (~)       (~)       (~)        {}     15\n",
      "85                (W1)      (W3)      (W2)      (C2)      (C1)        {}     14\n"
     ]
    }
   ],
   "source": [
    "bloc_voter_prop = {\"W\": 0.8, \"C\": 0.2}\n",
    "\n",
    "# the values of .9 indicate that these blocs are highly polarized;\n",
    "# they prefer their own candidates much more than the opposing slate\n",
    "cohesion_parameters = {\"W\": {\"W\": 0.9, \"C\": 0.1}, \"C\": {\"C\": 0.9, \"W\": 0.1}}\n",
    "\n",
    "alphas = {\"W\": {\"W\": 2, \"C\": 1}, \"C\": {\"W\": 1, \"C\": 0.5}}\n",
    "\n",
    "slate_to_candidates = {\"W\": [\"W1\", \"W2\", \"W3\"], \"C\": [\"C1\", \"C2\"]}\n",
    "\n",
    "cs = bg.CambridgeSampler.from_params(\n",
    "    slate_to_candidates=slate_to_candidates,\n",
    "    bloc_voter_prop=bloc_voter_prop,\n",
    "    cohesion_parameters=cohesion_parameters,\n",
    "    alphas=alphas,\n",
    ")\n",
    "\n",
    "\n",
    "profile = cs.generate_profile(number_of_ballots=1000)\n",
    "print(profile_df_head(profile,10).to_string())"
   ]
  },
  {
   "cell_type": "markdown",
   "id": "aa0a5403",
   "metadata": {},
   "source": [
    "Note: the ballot type (as in, Ws and Cs) is strictly drawn from the historical frequencies.  The candidate IDs (as in W1 and W2 among the W slate) are filled in by sampling without replacement from the preference interval that you either provided or made from Dirichlet alphas. That is the only role of the preference interval."
   ]
  },
  {
   "cell_type": "markdown",
   "id": "377dec54",
   "metadata": {},
   "source": [
    "## Conclusion\n",
    "\n",
    "There are many other models of ballot generation in VoteKit, both for ranked choice ballots and score based ballots (think cumulative or approval voting). See the [ballot generator](../../package_info/api.html#module-votekit.ballot_generator) section of the VoteKit documentation for more."
   ]
  },
  {
   "cell_type": "markdown",
   "id": "d4fdcfd9",
   "metadata": {},
   "source": [
    "# Elections\n",
    "\n",
    "Elections are the systems or algorithms by which a `PreferenceProfile`, or collection of ballots, is converted into an outcome. There are infinitely many different possible election methods, whether the output is a single winner, a set of winners, or a consensus ranking. VoteKit has a host of built-in election methods, as well as the functionality to let you create your own system of election. By the end of this section, you will have been introduced to the STV and Borda elections, learned about the `Election` object, and created your own election type."
   ]
  },
  {
   "cell_type": "markdown",
   "id": "c42a19c0",
   "metadata": {},
   "source": [
    "## STV\n",
    "\n",
    "To start, let's quickly introduce the Impartial Culture (IC) model to generate ballots for an STV election.  This model says that when a voter goes to cast a ranked-ballot, they do so by randomly choosing one out of all of the possible rankings (uniform over the set of permutations for you probabilty folk). That's it. There is only one knob to turn--the number of candidates--and no way to change the behavior of the voters. They all vote randomly.\n",
    "\n",
    "This model might not be very realistic, but it is easy to use and prove theorems about, so it abounds in the academic literature. Impartial Culture is ill-suited to studying real-world jurisdictions."
   ]
  },
  {
   "cell_type": "code",
   "execution_count": null,
   "id": "68ae1a9f",
   "metadata": {},
   "outputs": [
    {
     "name": "stdout",
     "output_type": "stream",
     "text": [
      "       Status  Round\n",
      "A     Elected      3\n",
      "C     Elected      3\n",
      "D   Remaining      3\n",
      "E  Eliminated      2\n",
      "B  Eliminated      1\n"
     ]
    }
   ],
   "source": [
    "from votekit.elections import STV\n",
    "from votekit.ballot_generator import ImpartialCulture\n",
    "\n",
    "ic = ImpartialCulture(candidates = [\"A\", \"B\", \"C\", \"D\", \"E\"])\n",
    "profile = ic.generate_profile(1000)\n",
    "\n",
    "print(profile_df_head(profile, 10).to_string())\n",
    "\n",
    "# m = 2 means 2 seats\n",
    "election = STV(profile=profile, m=2)\n",
    "print(election)"
   ]
  },
  {
   "cell_type": "markdown",
   "id": "18e20fb1",
   "metadata": {},
   "source": [
    "First, what is this showing?  Generally, the winners are listed in the order they were elected, from the top down.  Eliminated candidates are filled in in the order they were eliminated, bottom-up.  If any candidates are still remaining without having been designated elected or eliminated, they are in a middle category called `Remaining`.  Ties are broken by strength, meaning for instance that if 3 candidates are remaining at the end, they are listed in the order of their first-place in the final election state.  This means that this output can be thought of as an aggregate ranking vector produced by applying the election method to the voters' ranking vectors.  "
   ]
  },
  {
   "cell_type": "markdown",
   "id": "1a2edb7d",
   "metadata": {},
   "source": [
    "So what exactly is happening in this STV election? STV stands for \"single transferable vote.\" Voters cast ranked choice ballots. A threshold is set of how much support is required for election; if a candidate crosses the threshold, they are designated as a winner. The threshold in VoteKit defaults to something called the **Droop quota**. If there are $N$ voters and $m$ seats, then Droop quota is computed as $T=\\lfloor N/(m+1)\\rfloor +1$. Another option is the **Hare quota**, which is just $T=N/m$, which is a little bit larger. Generally, all that is needed of a threshold is that it can't be the case that $m+1$ candidates exceed it.\n",
    "\n",
    "In the first round, the first-place votes for each candidate are tallied. If candidate $A$ crosses the threshold, they are elected. If there were surplus votes, then the ballots with $A$ in first place are transfered, with appropriately reduced weight, to the next choice of those voters. If another candidate receives enough transfered support to cross the threshold, they are elected. If no candidate does, the candidate with the fewest first-place votes is removed from all ballots, and their votes are transfered with full weight. This repeats until all seats are filled.\n",
    "\n",
    "Let's work out a small example where it is easier to see how STV works. We will use a fractional transfer rule. If the threshold is $T$ and a candidate received $rT$ votes in a given round, where $r>1$, then the excess is $(r-1)T$ and so ballots are now \"discounted\" to have new weight $(r-1)/r$. For instance if the candidate received 150 votes but only needed 100, there would be 50 \"excess\" votes.  Instead of randomly picking 50 out of 150 ballots to transfer, we transfer them all with a reduced weight of 50/150, or 1/3.  Here is a [link](https://mggg.org/publications/political-geometry/20-WeighillDuchin.pdf) to a more substantial explainer about ranked choice.\n",
    "\n",
    "In our example, suppose there are $N=23$ voters and $n=7$ candidates running for $m=3$ seats with the following profile."
   ]
  },
  {
   "cell_type": "code",
   "execution_count": 3,
   "id": "128ca140",
   "metadata": {},
   "outputs": [
    {
     "name": "stdout",
     "output_type": "stream",
     "text": [
      "             Ranking_1 Ranking_2 Ranking_3 Voter Set Weight\n",
      "Ballot Index                                               \n",
      "1                  (B)       (C)       (D)        {}      8\n",
      "5                  (F)       (G)       (~)        {}      4\n",
      "0                  (A)       (B)       (~)        {}      3\n",
      "3                  (D)       (E)       (~)        {}      3\n",
      "6                  (G)       (E)       (F)        {}      3\n",
      "2                  (C)       (A)       (B)        {}      1\n",
      "4                  (E)       (D)       (F)        {}      1\n",
      "Sum of ballot weights: 23\n",
      "Number of candidates: 7\n",
      "Initial tiebreak was unsuccessful, performing random tiebreak\n",
      "Threshold: 6\n",
      "Number of rounds 6\n",
      "       Status  Round\n",
      "B     Elected      1\n",
      "D     Elected      4\n",
      "F     Elected      6\n",
      "A   Remaining      6\n",
      "G  Eliminated      5\n",
      "C  Eliminated      3\n",
      "E  Eliminated      2\n"
     ]
    }
   ],
   "source": [
    "from votekit.ballot import Ballot\n",
    "from votekit.pref_profile import PreferenceProfile, profile_df_head\n",
    "\n",
    "candidates = [\"A\", \"B\", \"C\", \"D\", \"E\", \"F\", \"G\"]\n",
    "\n",
    "ballots = [\n",
    "    Ballot(ranking=[{\"A\"}, {\"B\"}], weight=3),\n",
    "    Ballot(ranking=[{\"B\"}, {\"C\"}, {\"D\"}], weight=8),\n",
    "    Ballot(ranking=[{\"C\"}, {\"A\"}, {\"B\"}], weight=1),\n",
    "    Ballot(ranking=[{\"D\"}, {\"E\"}], weight=3),\n",
    "    Ballot(ranking=[{\"E\"}, {\"D\"}, {\"F\"}], weight=1),\n",
    "    Ballot(ranking=[{\"F\"}, {\"G\"}], weight=4),\n",
    "    Ballot(ranking=[{\"G\"}, {\"E\"}, {\"F\"}], weight=3),\n",
    "]\n",
    "\n",
    "profile = PreferenceProfile(ballots=ballots)\n",
    "\n",
    "print(profile_df_head(profile,10))\n",
    "print(\"Sum of ballot weights:\", profile.total_ballot_wt)\n",
    "print(\"Number of candidates:\", len(profile.candidates))\n",
    "\n",
    "election = STV(profile=profile, m=3)\n",
    "\n",
    "print(\"Threshold:\", election.threshold)\n",
    "print(\"Number of rounds\", len(election))\n",
    "print(election)"
   ]
  },
  {
   "cell_type": "markdown",
   "id": "105c3b3d",
   "metadata": {},
   "source": [
    "What this code block did is create an `Election` object that lets us access all the information, round-by-round, about what would happen under the designated election method. The message about a tiebreak indicates that in some round, a random tiebreak was needed.\n",
    "\n",
    "We can review it step-by-step instead of all at once. Just from a brief glance at the profile and threshold, we see that candidate B should be elected in the first round. Let's see this happen in two ways.\n",
    "\n",
    "First, observe the first-place votes for each candidate. These are stored in the round 0 `ElectionState` object, which can be accessed as follows."
   ]
  },
  {
   "cell_type": "code",
   "execution_count": 4,
   "id": "288860db",
   "metadata": {},
   "outputs": [
    {
     "data": {
      "text/plain": [
       "{'A': Fraction(3, 1),\n",
       " 'B': Fraction(8, 1),\n",
       " 'C': Fraction(1, 1),\n",
       " 'D': Fraction(3, 1),\n",
       " 'E': Fraction(1, 1),\n",
       " 'F': Fraction(4, 1),\n",
       " 'G': Fraction(3, 1)}"
      ]
     },
     "execution_count": 4,
     "metadata": {},
     "output_type": "execute_result"
    }
   ],
   "source": [
    "election.election_states[0].scores"
   ]
  },
  {
   "cell_type": "markdown",
   "id": "568cbb6f",
   "metadata": {},
   "source": [
    "We can see from this that only B is over the threshold.  The other way we can see who wins in the first round is by looking at the next `ElectionState`.\n",
    "\n"
   ]
  },
  {
   "cell_type": "code",
   "execution_count": 5,
   "id": "834c5a70",
   "metadata": {},
   "outputs": [
    {
     "name": "stdout",
     "output_type": "stream",
     "text": [
      "elected (frozenset({'B'}),)\n",
      "\n",
      "eliminated (frozenset(),)\n",
      "\n",
      "remaining (frozenset({'F'}), frozenset({'A', 'D', 'C', 'G'}), frozenset({'E'}))\n"
     ]
    }
   ],
   "source": [
    "print(\"elected\", election.election_states[1].elected)\n",
    "print(\"\\neliminated\", election.election_states[1].eliminated)\n",
    "print(\"\\nremaining\", election.election_states[1].remaining)"
   ]
  },
  {
   "cell_type": "markdown",
   "id": "1bb4944f",
   "metadata": {},
   "source": [
    "$B$ passed the threshold by 2 votes with a total of 8, so the $B,C,D$ ballot is going to have $B$ removed and be given weight $2/8$ (excess/total) times its previous weight of 8. To check this, election objects have a method called `get_profile()` that returns the `PreferenceProfile` after a particular round."
   ]
  },
  {
   "cell_type": "code",
   "execution_count": 7,
   "id": "b8f71d1b",
   "metadata": {},
   "outputs": [
    {
     "data": {
      "text/html": [
       "<div>\n",
       "<style scoped>\n",
       "    .dataframe tbody tr th:only-of-type {\n",
       "        vertical-align: middle;\n",
       "    }\n",
       "\n",
       "    .dataframe tbody tr th {\n",
       "        vertical-align: top;\n",
       "    }\n",
       "\n",
       "    .dataframe thead th {\n",
       "        text-align: right;\n",
       "    }\n",
       "</style>\n",
       "<table border=\"1\" class=\"dataframe\">\n",
       "  <thead>\n",
       "    <tr style=\"text-align: right;\">\n",
       "      <th></th>\n",
       "      <th>Ranking_1</th>\n",
       "      <th>Ranking_2</th>\n",
       "      <th>Ranking_3</th>\n",
       "      <th>Voter Set</th>\n",
       "      <th>Weight</th>\n",
       "    </tr>\n",
       "    <tr>\n",
       "      <th>Ballot Index</th>\n",
       "      <th></th>\n",
       "      <th></th>\n",
       "      <th></th>\n",
       "      <th></th>\n",
       "      <th></th>\n",
       "    </tr>\n",
       "  </thead>\n",
       "  <tbody>\n",
       "    <tr>\n",
       "      <th>1</th>\n",
       "      <td>(F)</td>\n",
       "      <td>(G)</td>\n",
       "      <td>(~)</td>\n",
       "      <td>{}</td>\n",
       "      <td>4</td>\n",
       "    </tr>\n",
       "    <tr>\n",
       "      <th>3</th>\n",
       "      <td>(A)</td>\n",
       "      <td>(~)</td>\n",
       "      <td>(~)</td>\n",
       "      <td>{}</td>\n",
       "      <td>3</td>\n",
       "    </tr>\n",
       "    <tr>\n",
       "      <th>4</th>\n",
       "      <td>(D)</td>\n",
       "      <td>(E)</td>\n",
       "      <td>(~)</td>\n",
       "      <td>{}</td>\n",
       "      <td>3</td>\n",
       "    </tr>\n",
       "    <tr>\n",
       "      <th>6</th>\n",
       "      <td>(G)</td>\n",
       "      <td>(E)</td>\n",
       "      <td>(F)</td>\n",
       "      <td>{}</td>\n",
       "      <td>3</td>\n",
       "    </tr>\n",
       "    <tr>\n",
       "      <th>0</th>\n",
       "      <td>(C)</td>\n",
       "      <td>(D)</td>\n",
       "      <td>(~)</td>\n",
       "      <td>{}</td>\n",
       "      <td>2</td>\n",
       "    </tr>\n",
       "    <tr>\n",
       "      <th>2</th>\n",
       "      <td>(C)</td>\n",
       "      <td>(A)</td>\n",
       "      <td>(~)</td>\n",
       "      <td>{}</td>\n",
       "      <td>1</td>\n",
       "    </tr>\n",
       "    <tr>\n",
       "      <th>5</th>\n",
       "      <td>(E)</td>\n",
       "      <td>(D)</td>\n",
       "      <td>(F)</td>\n",
       "      <td>{}</td>\n",
       "      <td>1</td>\n",
       "    </tr>\n",
       "  </tbody>\n",
       "</table>\n",
       "</div>"
      ],
      "text/plain": [
       "             Ranking_1 Ranking_2 Ranking_3 Voter Set Weight\n",
       "Ballot Index                                               \n",
       "1                  (F)       (G)       (~)        {}      4\n",
       "3                  (A)       (~)       (~)        {}      3\n",
       "4                  (D)       (E)       (~)        {}      3\n",
       "6                  (G)       (E)       (F)        {}      3\n",
       "0                  (C)       (D)       (~)        {}      2\n",
       "2                  (C)       (A)       (~)        {}      1\n",
       "5                  (E)       (D)       (F)        {}      1"
      ]
     },
     "execution_count": 7,
     "metadata": {},
     "output_type": "execute_result"
    }
   ],
   "source": [
    "pp = election.get_profile(1)\n",
    "profile_df_head(pp, 10)"
   ]
  },
  {
   "cell_type": "markdown",
   "id": "44edcca0",
   "metadata": {},
   "source": [
    "Look, $B$ is now removed from all ballots, and the $B,C,D$ ballot became $C,D$ with weight 2. No one has enough votes to cross the 6 threshold, so the candidate with the least support will be eliminated---that is candidate $E$, with only one first-place vote.\n",
    "\n",
    "We also introduce the `get_step()` method which accesses the profile and state of a given round."
   ]
  },
  {
   "cell_type": "code",
   "execution_count": 9,
   "id": "fe2a0094",
   "metadata": {},
   "outputs": [
    {
     "name": "stdout",
     "output_type": "stream",
     "text": [
      "fpv after round 1: {'C': Fraction(3, 1), 'D': Fraction(3, 1), 'F': Fraction(4, 1), 'G': Fraction(3, 1), 'A': Fraction(3, 1), 'E': Fraction(1, 1)}\n",
      "go to the next step\n",
      "\n",
      "elected (frozenset(),)\n",
      "\n",
      "eliminated (frozenset({'E'}),)\n",
      "\n",
      "remaining (frozenset({'D', 'F'}), frozenset({'G', 'C', 'A'}))\n",
      "             Ranking_1 Ranking_2 Ranking_3 Voter Set Weight\n",
      "Ballot Index                                               \n",
      "1                  (F)       (G)       (~)        {}      4\n",
      "3                  (A)       (~)       (~)        {}      3\n",
      "4                  (D)       (~)       (~)        {}      3\n",
      "6                  (G)       (F)       (~)        {}      3\n",
      "0                  (C)       (D)       (~)        {}      2\n",
      "2                  (C)       (A)       (~)        {}      1\n",
      "5                  (D)       (F)       (~)        {}      1\n"
     ]
    }
   ],
   "source": [
    "print(\"fpv after round 1:\", election.election_states[1].scores)\n",
    "print(\"go to the next step\\n\")\n",
    "\n",
    "profile, state = election.get_step(2)\n",
    "print(\"elected\", state.elected)\n",
    "print(\"\\neliminated\", state.eliminated)\n",
    "print(\"\\nremaining\", state.remaining)\n",
    "print(profile_df_head(profile,10))"
   ]
  },
  {
   "cell_type": "markdown",
   "id": "697bee5b",
   "metadata": {},
   "source": [
    "$E$ has been removed from all of the ballots. Again, no one crosses the threshold so the candidate with the fewest first-place votes will be eliminated."
   ]
  },
  {
   "cell_type": "code",
   "execution_count": 11,
   "id": "f1b3dd10",
   "metadata": {},
   "outputs": [
    {
     "name": "stdout",
     "output_type": "stream",
     "text": [
      "fpv after round 2: {'F': Fraction(4, 1), 'C': Fraction(3, 1), 'G': Fraction(3, 1), 'D': Fraction(4, 1), 'A': Fraction(3, 1)}\n",
      "go to the next step\n",
      "\n",
      "elected (frozenset(),)\n",
      "\n",
      "eliminated (frozenset({'C'}),)\n",
      "\n",
      "remaining (frozenset({'D'}), frozenset({'F', 'A'}), frozenset({'G'}))\n",
      "\n",
      "tiebreak resolution {frozenset({'G', 'C', 'A'}): (frozenset({'A'}), frozenset({'G'}), frozenset({'C'}))}\n",
      "\n",
      "Initial tiebreak was unsuccessful, performing random tiebreak\n",
      "             Ranking_1 Ranking_2 Ranking_3 Voter Set Weight\n",
      "Ballot Index                                               \n",
      "1                  (F)       (G)       (~)        {}      4\n",
      "3                  (A)       (~)       (~)        {}      3\n",
      "4                  (D)       (~)       (~)        {}      3\n",
      "6                  (G)       (F)       (~)        {}      3\n",
      "0                  (D)       (~)       (~)        {}      2\n",
      "2                  (A)       (~)       (~)        {}      1\n",
      "5                  (D)       (F)       (~)        {}      1\n"
     ]
    }
   ],
   "source": [
    "print(\"fpv after round 2:\", election.election_states[2].scores)\n",
    "print(\"go to the next step\\n\")\n",
    "\n",
    "\n",
    "print(\"elected\", election.election_states[3].elected)\n",
    "print(\"\\neliminated\", election.election_states[3].eliminated)\n",
    "print(\"\\nremaining\", election.election_states[3].remaining)\n",
    "print(\"\\ntiebreak resolution\", election.election_states[3].tiebreaks)\n",
    "print()\n",
    "print(profile_df_head(election.get_profile(3),10))"
   ]
  },
  {
   "cell_type": "markdown",
   "id": "dcb17f9a",
   "metadata": {},
   "source": [
    "Note that here, several candidates were tied for the fewest first-place votes at this stage. When this happens in STV, you use the first-place votes from the original profile to break ties. This means C will be eliminated. The `tiebreaks` parameter records the resolution of the tie; since we are looking for the person with the least first-place votes, the candidate in the final entry of the tuple is eliminated. The reason the message \"Initial tiebreak was unsuccessful, performing random tiebreak\" appeared is that A and G were tied by first-place votes, and thus a random tiebreak was needed to separate them. This didn't affect the outcome, since C had the fewest first-place votes.\n",
    "\n",
    "### **Try it yourself**\n",
    "> Keep printing the first-place votes and running a step of the election until all seats have been filled. At each step, think through why the election state transitioned as it did."
   ]
  },
  {
   "cell_type": "markdown",
   "id": "39f51748",
   "metadata": {},
   "source": [
    "We now change the transfer type. Using the same profile as above, we'll now use `random_transfer`. In the default fractional transfer, we reweighted all of the ballots in proportion to the surplus. Here, we will randomly choose the appropriate number of ballots to transfer (the same number as the surplus).  Though it sounds strange, this is the method actually used in Cambridge, MA.  (Recall that Cambridge has used STV continuously since 1941 so back in the day they probably needed a low-tech physical way to do the transfers.)"
   ]
  },
  {
   "cell_type": "code",
   "execution_count": 12,
   "id": "ea591304",
   "metadata": {},
   "outputs": [
    {
     "name": "stdout",
     "output_type": "stream",
     "text": [
      "Profile contains rankings: True\n",
      "Maximum ranking length: 3\n",
      "Profile contains scores: False\n",
      "Candidates: ('A', 'B', 'C', 'D', 'E', 'F', 'G')\n",
      "Candidates who received votes: ('A', 'B', 'C', 'D', 'E', 'F', 'G')\n",
      "Total number of Ballot objects: 8\n",
      "Total weight of Ballot objects: 27\n",
      "\n",
      "Sum of ballot weights: 27\n",
      "Number of candidates: 7\n",
      "Initial tiebreak was unsuccessful, performing random tiebreak\n",
      "       Status  Round\n",
      "B     Elected      1\n",
      "D     Elected      7\n",
      "F  Eliminated      6\n",
      "C  Eliminated      5\n",
      "A  Eliminated      4\n",
      "G  Eliminated      3\n",
      "E  Eliminated      2\n"
     ]
    }
   ],
   "source": [
    "from votekit.elections import random_transfer\n",
    "\n",
    "candidates = [\"A\", \"B\", \"C\", \"D\", \"E\", \"F\", \"G\"]\n",
    "\n",
    "ballots = [\n",
    "    Ballot(ranking=[{\"A\"}, {\"B\"}], weight=3),\n",
    "    Ballot(ranking=[{\"B\"}, {\"C\"}, {\"D\"}], weight=8),\n",
    "    Ballot(ranking=[{\"B\"}, {\"D\"}, {\"C\"}], weight=8),\n",
    "    Ballot(ranking=[{\"C\"}, {\"A\"}, {\"B\"}], weight=1),\n",
    "    Ballot(ranking=[{\"D\"}, {\"E\"}], weight=1),\n",
    "    Ballot(ranking=[{\"E\"}, {\"D\"}, {\"F\"}], weight=1),\n",
    "    Ballot(ranking=[{\"F\"}, {\"G\"}], weight=4),\n",
    "    Ballot(ranking=[{\"G\"}, {\"E\"}, {\"F\"}], weight=1),\n",
    "]\n",
    "\n",
    "profile = PreferenceProfile(ballots=ballots)\n",
    "\n",
    "print(profile)\n",
    "print(\"Sum of ballot weights:\", profile.total_ballot_wt)\n",
    "print(\"Number of candidates:\", len(profile.candidates))\n",
    "\n",
    "election = STV(profile=profile, transfer=random_transfer, m=2)\n",
    "\n",
    "print(election)"
   ]
  },
  {
   "cell_type": "markdown",
   "id": "8a894e03",
   "metadata": {},
   "source": [
    "### **Try it yourself**\n",
    "> Rerun the code above until you see that different candidates can win under random transfer."
   ]
  },
  {
   "cell_type": "markdown",
   "id": "db9a1f6b",
   "metadata": {},
   "source": [
    "## Election\n",
    "\n",
    "Let's poke around the `Election` class a bit more. It contains a lot of useful information about what is happening in an election. We will also introduce the Borda election."
   ]
  },
  {
   "cell_type": "markdown",
   "id": "b672286e",
   "metadata": {},
   "source": [
    "### Borda Election\n",
    "\n",
    "In a Borda election, ranked ballots are converted to a score for a candidate, and then the candidates with the highest scores win. The traditional score vector is $(n,n-1,\\dots,1)$: that is, if there are $n$ candidates, the first-place candidate on a ballot is given $n$ points, the second place $n-1$, all the way down to last, who is given $1$ point. You can change the score vector using the `score_vector` parameter.\n",
    "\n",
    "Let's quickly introduce the Impartial Anonymous Culture (IAC) model to generate ballots for a Borda election. This is best described in terms of profiles rather than ballots. For a fixed number of ballots `n`, the IAC model generates a profile of size `n` uniformly at random from the set of all profiles. The IAC model only produces complete ballots. Again, the only parameterization is the number of candidates.\n",
    "\n",
    "This model might not be very realistic, but it is easy to use and prove theorems about, so it abounds in the academic literature. Impartial Anonymous Culture is ill-suited to studying real-world jurisdictions."
   ]
  },
  {
   "cell_type": "code",
   "execution_count": 13,
   "id": "d73b0ead",
   "metadata": {},
   "outputs": [],
   "source": [
    "from votekit.elections import Borda\n",
    "import votekit.ballot_generator as bg\n",
    "\n",
    "candidates = [\"A\", \"B\", \"C\", \"D\", \"E\", \"F\"]\n",
    "\n",
    "# recall IAC generates an \"all bets are off\" profile\n",
    "iac = bg.ImpartialAnonymousCulture(candidates=candidates)\n",
    "profile = iac.generate_profile(number_of_ballots=1000)\n",
    "\n",
    "election = Borda(profile, m=3)"
   ]
  },
  {
   "cell_type": "code",
   "execution_count": 17,
   "id": "2568ce18",
   "metadata": {},
   "outputs": [
    {
     "name": "stdout",
     "output_type": "stream",
     "text": [
      "             Ranking_1 Ranking_2 Ranking_3 Ranking_4 Ranking_5 Ranking_6 Voter Set Weight\n",
      "Ballot Index                                                                             \n",
      "114                (B)       (C)       (E)       (D)       (A)       (F)        {}     16\n",
      "49                 (B)       (A)       (C)       (E)       (D)       (F)        {}     11\n",
      "97                 (D)       (F)       (B)       (A)       (C)       (E)        {}     10\n",
      "64                 (D)       (B)       (A)       (F)       (C)       (E)        {}     10\n",
      "22                 (A)       (B)       (C)       (E)       (D)       (F)        {}      9\n",
      "28                 (C)       (A)       (D)       (F)       (E)       (B)        {}      9\n",
      "2                  (C)       (A)       (E)       (F)       (D)       (B)        {}      8\n",
      "94                 (C)       (E)       (B)       (D)       (F)       (A)        {}      8\n",
      "13                 (B)       (C)       (F)       (E)       (D)       (A)        {}      8\n",
      "30                 (E)       (C)       (F)       (B)       (D)       (A)        {}      7\n",
      "\n",
      "      Status  Round\n",
      "B    Elected      1\n",
      "C    Elected      1\n",
      "D    Elected      1\n",
      "E  Remaining      1\n",
      "F  Remaining      1\n",
      "A  Remaining      1\n"
     ]
    }
   ],
   "source": [
    "print(profile_df_head(election.get_profile(0),10).to_string())\n",
    "print()\n",
    "\n",
    "print(election)"
   ]
  },
  {
   "cell_type": "markdown",
   "id": "699b4aaf",
   "metadata": {},
   "source": [
    "The Borda election is one-shot (like plurality), so running a step or the election is equivalent. Let's see what the election stores.\n",
    "\n"
   ]
  },
  {
   "cell_type": "code",
   "execution_count": 18,
   "id": "a7a6989c",
   "metadata": {},
   "outputs": [
    {
     "name": "stdout",
     "output_type": "stream",
     "text": [
      "Winners: (frozenset({'B'}), frozenset({'C'}), frozenset({'D'}))\n",
      "Eliminated: ()\n",
      "Ranking: (frozenset({'B'}), frozenset({'C'}), frozenset({'D'}), frozenset({'E'}), frozenset({'F'}), frozenset({'A'}))\n",
      "Outcome of round 1:\n",
      "       Status  Round\n",
      "B    Elected      1\n",
      "C    Elected      1\n",
      "D    Elected      1\n",
      "E  Remaining      1\n",
      "F  Remaining      1\n",
      "A  Remaining      1\n"
     ]
    }
   ],
   "source": [
    "# the winners up to the given round, -1 means final round\n",
    "print(\"Winners:\", election.get_elected(-1))\n",
    "\n",
    "# the eliminated candidates up to the given round\n",
    "print(\"Eliminated:\", election.get_eliminated(-1))\n",
    "\n",
    "# the ranking of the candidates up to the given round\n",
    "print(\"Ranking:\", election.get_ranking(-1))\n",
    "\n",
    "# the outcome of the given round\n",
    "print(\"Outcome of round 1:\\n\", election.get_status_df(1))"
   ]
  },
  {
   "cell_type": "markdown",
   "id": "b32ab154",
   "metadata": {},
   "source": [
    "### **Try it yourself**\n",
    "\n",
    "> Using the following preference profile, try changing the score vector of a Borda election. Try replacing 3,2,1 with other Borda weights (decreasing and non-negative) showing that each candidate can be elected."
   ]
  },
  {
   "cell_type": "code",
   "execution_count": null,
   "id": "ee65c954",
   "metadata": {},
   "outputs": [
    {
     "name": "stdout",
     "output_type": "stream",
     "text": [
      "      Status  Round\n",
      "C    Elected      1\n",
      "B  Remaining      1\n",
      "A  Remaining      1\n"
     ]
    }
   ],
   "source": [
    "ballots = [\n",
    "    Ballot(ranking=[{\"A\"}, {\"B\"}, {\"C\"}], weight=3),\n",
    "    Ballot(ranking=[{\"A\"}, {\"C\"}, {\"B\"}], weight=2),\n",
    "    Ballot(ranking=[{\"B\"}, {\"C\"}, {\"A\"}], weight=2),\n",
    "    Ballot(ranking=[{\"C\"}, {\"B\"}, {\"A\"}], weight=4),\n",
    "]\n",
    "\n",
    "profile = PreferenceProfile(ballots=ballots, candidates=[\"A\", \"B\", \"C\"])\n",
    "\n",
    "# borda election\n",
    "score_vector = [3, 2, 1]\n",
    "election = Borda(profile, m=1, score_vector=score_vector)\n",
    "print(election)"
   ]
  },
  {
   "cell_type": "markdown",
   "id": "91fff2a7",
   "metadata": {},
   "source": [
    "Since a Borda election is a one-shot election, most of the information stored in the `Election` is extraneous, but you can see its utility in an STV election where there are many rounds."
   ]
  },
  {
   "cell_type": "code",
   "execution_count": 19,
   "id": "235caf32",
   "metadata": {},
   "outputs": [
    {
     "name": "stdout",
     "output_type": "stream",
     "text": [
      "Round 1\n",
      "\n",
      "Winners: ()\n",
      "Eliminated: (frozenset({'B'}),)\n",
      "Remaining: (frozenset({'E', 'C'}), frozenset({'F'}), frozenset({'D'}), frozenset({'A'}))\n",
      "       Status  Round\n",
      "E   Remaining      1\n",
      "C   Remaining      1\n",
      "F   Remaining      1\n",
      "D   Remaining      1\n",
      "A   Remaining      1\n",
      "B  Eliminated      1\n",
      "\n",
      "Round 2\n",
      "\n",
      "Winners: ()\n",
      "Eliminated: (frozenset({'A'}), frozenset({'B'}))\n",
      "Remaining: (frozenset({'E'}), frozenset({'C'}), frozenset({'F'}), frozenset({'D'}))\n",
      "       Status  Round\n",
      "E   Remaining      2\n",
      "C   Remaining      2\n",
      "F   Remaining      2\n",
      "D   Remaining      2\n",
      "A  Eliminated      2\n",
      "B  Eliminated      1\n",
      "\n",
      "Round 3\n",
      "\n",
      "Winners: ()\n",
      "Eliminated: (frozenset({'D'}), frozenset({'A'}), frozenset({'B'}))\n",
      "Remaining: (frozenset({'E'}), frozenset({'C'}), frozenset({'F'}))\n",
      "       Status  Round\n",
      "E   Remaining      3\n",
      "C   Remaining      3\n",
      "F   Remaining      3\n",
      "D  Eliminated      3\n",
      "A  Eliminated      2\n",
      "B  Eliminated      1\n",
      "\n",
      "Round 4\n",
      "\n",
      "Winners: ()\n",
      "Eliminated: (frozenset({'F'}), frozenset({'D'}), frozenset({'A'}), frozenset({'B'}))\n",
      "Remaining: (frozenset({'C'}), frozenset({'E'}))\n",
      "       Status  Round\n",
      "C   Remaining      4\n",
      "E   Remaining      4\n",
      "F  Eliminated      4\n",
      "D  Eliminated      3\n",
      "A  Eliminated      2\n",
      "B  Eliminated      1\n",
      "\n",
      "Round 5\n",
      "\n",
      "Winners: (frozenset({'C'}),)\n",
      "Eliminated: (frozenset({'F'}), frozenset({'D'}), frozenset({'A'}), frozenset({'B'}))\n",
      "Remaining: (frozenset({'E'}),)\n",
      "       Status  Round\n",
      "C     Elected      5\n",
      "E   Remaining      5\n",
      "F  Eliminated      4\n",
      "D  Eliminated      3\n",
      "A  Eliminated      2\n",
      "B  Eliminated      1\n",
      "\n"
     ]
    }
   ],
   "source": [
    "candidates = [\"A\", \"B\", \"C\", \"D\", \"E\", \"F\"]\n",
    "iac = bg.ImpartialAnonymousCulture(candidates=candidates)\n",
    "profile = iac.generate_profile(number_of_ballots=1000)\n",
    "\n",
    "\n",
    "election = STV(profile=profile, m=1)\n",
    "\n",
    "for i in range(1, 6):\n",
    "    print(f\"Round {i}\\n\")\n",
    "    # the winners up to the current round\n",
    "    print(\"Winners:\", election.get_elected(i))\n",
    "\n",
    "    # the eliminated candidates up to the current round\n",
    "    print(\"Eliminated:\", election.get_eliminated(i))\n",
    "\n",
    "    # the remaining candidates, sorted by first-place votes\n",
    "    print(\"Remaining:\", election.get_remaining(i))\n",
    "\n",
    "    # the same information as a df\n",
    "    print(election.get_status_df(i))\n",
    "\n",
    "    print()"
   ]
  },
  {
   "cell_type": "markdown",
   "id": "d516bba8",
   "metadata": {},
   "source": [
    "## Conclusion\n",
    "There are many different possible election methods, both for choosing a single seat or multiple seats. `VoteKit` has a host of built-in election methods, as well as the functionality to let you create your own kind of election. You have been introduced to the STV and Borda elections and learned about the `Election` object. This should allow you to model any kind of elections you see in the real world, including rules that have not yet been implemented in `VoteKit`."
   ]
  }
 ],
 "metadata": {
  "kernelspec": {
   "display_name": ".venv",
   "language": "python",
   "name": "python3"
  },
  "language_info": {
   "codemirror_mode": {
    "name": "ipython",
    "version": 3
   },
   "file_extension": ".py",
   "mimetype": "text/x-python",
   "name": "python",
   "nbconvert_exporter": "python",
   "pygments_lexer": "ipython3",
   "version": "3.13.2"
  }
 },
 "nbformat": 4,
 "nbformat_minor": 5
}
