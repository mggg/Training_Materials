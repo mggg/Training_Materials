{
 "cells": [
  {
   "cell_type": "markdown",
   "id": "fc9155d1",
   "metadata": {},
   "source": [
    "<a href=\"https://colab.research.google.com/github/mggg/Training_Materials_25/blob/main/notebooks/practitioners/Wednesday/Prac_1-1_hello_world.ipynb\" target=\"_parent\"><img src=\"https://colab.research.google.com/assets/colab-badge.svg\" alt=\"Open In Colab\"/></a>"
   ]
  },
  {
   "cell_type": "markdown",
   "id": "e951abe8",
   "metadata": {},
   "source": [
    "# Hello World! \n",
    "## An Introduction to Reading Python"
   ]
  },
  {
   "cell_type": "markdown",
   "id": "064688f4",
   "metadata": {},
   "source": [
    "The goal of this tutorial is to get you familiar with the very basics of Python. Over the next few\n",
    "days, we will be working with A LOT of python code, and, while we will not expect you to be able to\n",
    "write much of it on your own, it is very important that you are able to read the basic syntax of\n",
    "python. This will pay huge dividends when working with the more technical members of the team since\n",
    "it will give you some language/vocabulary to more clearly communicate your wants/needs with them\n",
    "when working on a project."
   ]
  },
  {
   "cell_type": "markdown",
   "id": "1f467f02",
   "metadata": {},
   "source": [
    "### Types in Python\n",
    "\n",
    "There are 4 basic types in Python:\n",
    "\n",
    "- Integers\n",
    "- Floats\n",
    "- Strings\n",
    "- Booleans\n",
    "\n",
    "#### Integers\n",
    "\n",
    "Integers are whole numbers, like 1, 2, 3, etc."
   ]
  },
  {
   "cell_type": "code",
   "execution_count": 2,
   "id": "11e0e501",
   "metadata": {},
   "outputs": [
    {
     "data": {
      "text/plain": [
       "int"
      ]
     },
     "execution_count": 2,
     "metadata": {},
     "output_type": "execute_result"
    }
   ],
   "source": [
    "type(3)"
   ]
  },
  {
   "cell_type": "code",
   "execution_count": 3,
   "id": "b5f17169",
   "metadata": {},
   "outputs": [
    {
     "data": {
      "text/plain": [
       "int"
      ]
     },
     "execution_count": 3,
     "metadata": {},
     "output_type": "execute_result"
    }
   ],
   "source": [
    "type(-1)"
   ]
  },
  {
   "cell_type": "markdown",
   "id": "7582dbc3",
   "metadata": {},
   "source": [
    "And in python, we can do all of the basic arithmetic operations (+, -, *, /) with integers. However,\n",
    "it is very rare to see an integer standing out on its own in a program. Instead, we store generally\n",
    "store integers in **variables**."
   ]
  },
  {
   "cell_type": "code",
   "execution_count": 4,
   "id": "21c1a583",
   "metadata": {},
   "outputs": [],
   "source": [
    "x = 1"
   ]
  },
  {
   "cell_type": "markdown",
   "id": "21ca26ed",
   "metadata": {},
   "source": [
    "Here we have have stored the value '1' in the variable called 'x'. In programming `=` sign is NOT\n",
    "read as \"equals\" but should be read as \"is assigned the value\" so the expression `x = 1` is read as\n",
    "\"x is assigned the value 1\". Other common ways of expressing this are \"let x be 1\" or \"x is 1\".\n",
    "\n",
    "Since we have stored the value '1' in the variable 'x', we can then use it in other expressions:"
   ]
  },
  {
   "cell_type": "code",
   "execution_count": 12,
   "id": "54c73c30",
   "metadata": {},
   "outputs": [
    {
     "name": "stdout",
     "output_type": "stream",
     "text": [
      "3\n"
     ]
    }
   ],
   "source": [
    "print(x + 2)"
   ]
  },
  {
   "cell_type": "markdown",
   "id": "19fafe55",
   "metadata": {},
   "source": [
    "Now, \"x\" is actually a bad name for a variable since it isn't very descriptive, so it is often\n",
    "better to use longer names that tell you what you are trying to store in the variable. "
   ]
  },
  {
   "cell_type": "code",
   "execution_count": 6,
   "id": "327cdea6",
   "metadata": {},
   "outputs": [],
   "source": [
    "my_favorite_number = 9"
   ]
  },
  {
   "cell_type": "code",
   "execution_count": 13,
   "id": "308cacfd",
   "metadata": {},
   "outputs": [
    {
     "name": "stdout",
     "output_type": "stream",
     "text": [
      "10\n"
     ]
    }
   ],
   "source": [
    "print(my_favorite_number + 1)"
   ]
  },
  {
   "cell_type": "markdown",
   "id": "3f4c7998",
   "metadata": {},
   "source": [
    "#### Floats\n",
    "\n",
    "Floats are just any number with a decimal in it"
   ]
  },
  {
   "cell_type": "code",
   "execution_count": 8,
   "id": "1e102c53",
   "metadata": {},
   "outputs": [
    {
     "data": {
      "text/plain": [
       "float"
      ]
     },
     "execution_count": 8,
     "metadata": {},
     "output_type": "execute_result"
    }
   ],
   "source": [
    "type(1.0)"
   ]
  },
  {
   "cell_type": "markdown",
   "id": "7d208e2c",
   "metadata": {},
   "source": [
    "#### Strings\n",
    "\n",
    "Strings are just little bits of text that are surrounded by quotes. In python, these quotes\n",
    "can be either single or double quotes."
   ]
  },
  {
   "cell_type": "code",
   "execution_count": 9,
   "id": "01eacc88",
   "metadata": {},
   "outputs": [
    {
     "data": {
      "text/plain": [
       "str"
      ]
     },
     "execution_count": 9,
     "metadata": {},
     "output_type": "execute_result"
    }
   ],
   "source": [
    "type(\"This is a string\")"
   ]
  },
  {
   "cell_type": "markdown",
   "id": "01bda8c6",
   "metadata": {},
   "source": [
    "Most of the time, the reason that we make strings is so that we can print them using python's\n",
    "`print` function."
   ]
  },
  {
   "cell_type": "code",
   "execution_count": 14,
   "id": "dff9ae74",
   "metadata": {},
   "outputs": [
    {
     "name": "stdout",
     "output_type": "stream",
     "text": [
      "Goodbye, Mars.\n",
      "Hello, World!\n"
     ]
    }
   ],
   "source": [
    "print(\"Goodbye, Mars.\")\n",
    "print(\"Hello, World!\")"
   ]
  },
  {
   "cell_type": "markdown",
   "id": "d3a9fa8b",
   "metadata": {},
   "source": [
    "There are special types of strings in python known as \"formatted strings.\" These strings are\n",
    "have an 'f' before the first quotation mark. We like formatted strings because they allow\n",
    "us to put variable values into a string in a way that is easy to read and understand."
   ]
  },
  {
   "cell_type": "code",
   "execution_count": 15,
   "id": "175d99ea",
   "metadata": {},
   "outputs": [
    {
     "name": "stdout",
     "output_type": "stream",
     "text": [
      "This is a formatted string. My favorite number is 9.\n"
     ]
    }
   ],
   "source": [
    "print(f\"This is a formatted string. My favorite number is {my_favorite_number}.\")"
   ]
  },
  {
   "cell_type": "markdown",
   "id": "f585d554",
   "metadata": {},
   "source": [
    "#### Booleans\n",
    "\n",
    "Booleans are a special type in python. Where any whole number without a decimal point is considered\n",
    "an integer, the only values that can be a boolean are `True` and `False`."
   ]
  },
  {
   "cell_type": "code",
   "execution_count": 17,
   "id": "bdbce8e8",
   "metadata": {},
   "outputs": [
    {
     "data": {
      "text/plain": [
       "bool"
      ]
     },
     "execution_count": 17,
     "metadata": {},
     "output_type": "execute_result"
    }
   ],
   "source": [
    "type(True)"
   ]
  },
  {
   "cell_type": "code",
   "execution_count": 18,
   "id": "a6f58d01",
   "metadata": {},
   "outputs": [],
   "source": [
    "my_boolean = True"
   ]
  },
  {
   "cell_type": "markdown",
   "id": "eb35e9d2",
   "metadata": {},
   "source": [
    "##### Comments in Python\n",
    "\n",
    "Sometimes, it's nice to remind yourself what is going on in a bit of code. We do this by adding\n",
    "comments to the code. Comments are any bit of text that appears after a hash symbol (#).\n",
    "Comments are expressions that are ignored by the computer."
   ]
  },
  {
   "cell_type": "code",
   "execution_count": null,
   "id": "d1769510",
   "metadata": {},
   "outputs": [],
   "source": [
    "# This is a comment\n",
    "my_new_favorite_number = 7 # This is also a comment even \n",
    "# x = 3 <- this is still a comment because it starts with a hash\n",
    "\n",
    "# The following line is commented out and will not run:\n",
    "# print(my_new_favorite_number + 1)\n",
    "\n",
    "\n",
    "# # # # This is a comment"
   ]
  },
  {
   "cell_type": "markdown",
   "id": "1aea15f0",
   "metadata": {},
   "source": [
    "##### Why do we care about booleans?\n",
    "\n",
    "At first glance, booleans seem like a really weird type. However, they can actually be really\n",
    "useful when we are trying to control the behaviour of our code. For example, we might want to\n",
    "print out different things depending on the value of a variable."
   ]
  },
  {
   "cell_type": "code",
   "execution_count": null,
   "id": "7a1abc23",
   "metadata": {},
   "outputs": [
    {
     "name": "stdout",
     "output_type": "stream",
     "text": [
      "Democrats win!\n"
     ]
    }
   ],
   "source": [
    "dem_votes = 100\n",
    "rep_votes = 99\n",
    "\n",
    "if dem_votes > rep_votes:\n",
    "    print(\"Democrats win!\")  # This line is executed if Democrats have more votes\n",
    "# The \"elif\" keyword can be read as \"else if\"\n",
    "elif dem_votes < rep_votes:\n",
    "    print(\"Republicans win!\") # This line is executed if Democrats have fewer votes \n",
    "else:\n",
    "    print(\"It's a tie!\") # This line is executed if both have the same votes"
   ]
  },
  {
   "cell_type": "markdown",
   "id": "700fd8f5",
   "metadata": {},
   "source": [
    "Okay, so what about equality? We know `=` is the assignment symbol, so what is the symbol for equality?\n",
    "Well, in python, it's `==`"
   ]
  },
  {
   "cell_type": "code",
   "execution_count": null,
   "id": "773056da",
   "metadata": {},
   "outputs": [],
   "source": [
    "x = 9 # Assigning a new value, 9, to the variable x"
   ]
  },
  {
   "cell_type": "code",
   "execution_count": null,
   "id": "d02c6104",
   "metadata": {},
   "outputs": [],
   "source": [
    "# what will this print?\n",
    "if x == 8:\n",
    "    print(\"x is equal to 8\")\n",
    "else:\n",
    "    print(\"x is not equal to 8\")"
   ]
  },
  {
   "cell_type": "code",
   "execution_count": null,
   "id": "1ec4c80f",
   "metadata": {},
   "outputs": [
    {
     "name": "stdout",
     "output_type": "stream",
     "text": [
      "x is 9\n"
     ]
    }
   ],
   "source": [
    "# what will this print?\n",
    "if x == 8:\n",
    "    print(\"x is 8\")\n",
    "elif x == 9:\n",
    "    print(\"x is 9\")\n",
    "else:\n",
    "    print(\"x is neither 8 nor 9\") "
   ]
  },
  {
   "cell_type": "code",
   "execution_count": null,
   "id": "0383b6c8",
   "metadata": {},
   "outputs": [],
   "source": [
    "# what will this print?\n",
    "if x == 8:\n",
    "    print(\"x is 8\")\n",
    "elif x == 10:\n",
    "    print(\"x is 10\")\n",
    "else:\n",
    "    print(\"x is neither 8 nor 10\")"
   ]
  },
  {
   "cell_type": "markdown",
   "id": "d2a1445a",
   "metadata": {},
   "source": [
    "### Loops and Lists\n",
    "\n",
    "Generally, there are two different types of loops in Python: \"for\" loops and \"while\" loops. However,\n",
    "we will only cover \"for\" loops here since they are the most commonly used.\n",
    "\n",
    "Lists are exactly what they sound like. Fundamentally, they are just a collection of items. For example,\n",
    "we can have a list of numbers:\n",
    "\n",
    "```python\n",
    "numbers = [1, 2, 3, 4, 5]\n",
    "```\n",
    "\n",
    "We can also have a list of strings:\n",
    "\n",
    "```python\n",
    "names = [\"Alice\", \"Bob\", \"Charlie\"]\n",
    "```\n",
    "\n",
    "A `for` loop is a nice way of iterating through the values in a list and then doing something\n",
    "with each of those values."
   ]
  },
  {
   "cell_type": "code",
   "execution_count": 22,
   "id": "0567939b",
   "metadata": {},
   "outputs": [
    {
     "name": "stdout",
     "output_type": "stream",
     "text": [
      "Hello, Alice!\n",
      "Hello, Bob!\n",
      "Hello, Charlie!\n"
     ]
    }
   ],
   "source": [
    "names = [\"Alice\", \"Bob\", \"Charlie\"]\n",
    "\n",
    "# what will this print?\n",
    "for name in names:\n",
    "    print(f\"Hello, {name}!\")"
   ]
  },
  {
   "cell_type": "markdown",
   "id": "476c5fc5",
   "metadata": {},
   "source": [
    "We can also loop over a range of numbers using a \"for\" loop. For example, if I wanted to\n",
    "loop over the first 10 integers, I would write the following:"
   ]
  },
  {
   "cell_type": "code",
   "execution_count": null,
   "id": "3ccaaf2d",
   "metadata": {},
   "outputs": [],
   "source": [
    "# what will this print?\n",
    "for i in range(10):\n",
    "    print(i)"
   ]
  },
  {
   "cell_type": "markdown",
   "id": "da8a757f",
   "metadata": {},
   "source": [
    "Wait a second... why did this start at 0 and go to 9 rather than running from 1 to 10? Well, this is\n",
    "because python, like most programing languages, is __zero-indexed__. This means that we start counting\n",
    "at 0."
   ]
  },
  {
   "cell_type": "markdown",
   "id": "11f0382f",
   "metadata": {},
   "source": [
    "##### Try it!\n",
    "\n",
    "Finish the print statements below so that they print out the following:\n",
    "\n",
    "```console\n",
    "Hi, Charlie! \n",
    "Hi, Alice!\n",
    "Hi, Bob!\n",
    "```"
   ]
  },
  {
   "cell_type": "code",
   "execution_count": 25,
   "id": "01bdc0ac",
   "metadata": {},
   "outputs": [
    {
     "ename": "SyntaxError",
     "evalue": "invalid syntax. Perhaps you forgot a comma? (2069818348.py, line 4)",
     "output_type": "error",
     "traceback": [
      "  \u001b[36mCell\u001b[39m\u001b[36m \u001b[39m\u001b[32mIn[25]\u001b[39m\u001b[32m, line 4\u001b[39m\n\u001b[31m    \u001b[39m\u001b[31mprint(f\"Hi, {names[]}\")\u001b[39m\n                 ^\n\u001b[31mSyntaxError\u001b[39m\u001b[31m:\u001b[39m invalid syntax. Perhaps you forgot a comma?\n"
     ]
    }
   ],
   "source": [
    "# Index      0      1        2\n",
    "names = [\"Alice\", \"Bob\", \"Charlie\"]\n",
    "\n",
    "print(f\"Hi, {names[]}\")\n",
    "print(f\"Hi, {names[]}\")\n",
    "print(f\"Hi, {names[]}\")"
   ]
  },
  {
   "cell_type": "code",
   "execution_count": 26,
   "id": "18399e2f",
   "metadata": {},
   "outputs": [
    {
     "name": "stdout",
     "output_type": "stream",
     "text": [
      "6\n"
     ]
    }
   ],
   "source": [
    "numbers = [80, 2, -1, 3, 20, 9000]\n",
    "\n",
    "# the function len() returns the number of items in a list\n",
    "print(len(numbers))"
   ]
  },
  {
   "cell_type": "code",
   "execution_count": 27,
   "id": "b9a384b0",
   "metadata": {},
   "outputs": [
    {
     "name": "stdout",
     "output_type": "stream",
     "text": [
      "80\n",
      "2\n",
      "-1\n",
      "3\n",
      "20\n",
      "9000\n"
     ]
    }
   ],
   "source": [
    "number_of_items = len(numbers)\n",
    "\n",
    "# what will this print?\n",
    "for index in range(number_of_items):\n",
    "    print(numbers[index])"
   ]
  },
  {
   "cell_type": "markdown",
   "id": "00e5359d",
   "metadata": {},
   "source": [
    "Since you can access a value stored in a list using its index, this means that you can also\n",
    "edit the values in a list by reassigning the value at a given index."
   ]
  },
  {
   "cell_type": "code",
   "execution_count": 29,
   "id": "366d99cc",
   "metadata": {},
   "outputs": [
    {
     "name": "stdout",
     "output_type": "stream",
     "text": [
      "['Alice', 'Bob', 'Charlie']\n",
      "['Alice', 'Bob', 'Caroline']\n"
     ]
    }
   ],
   "source": [
    "# What will this print?\n",
    "print(names)\n",
    "\n",
    "names[2] = \"Caroline\"\n",
    "\n",
    "# What will this print?\n",
    "print(names)"
   ]
  },
  {
   "cell_type": "markdown",
   "id": "d4d30ae3",
   "metadata": {},
   "source": [
    "We can also add items to lists at any time using the `append` function."
   ]
  },
  {
   "cell_type": "code",
   "execution_count": null,
   "id": "a001babd",
   "metadata": {},
   "outputs": [],
   "source": [
    "names.append(\"David\")\n",
    "\n",
    "# What will this print?\n",
    "print(names)"
   ]
  },
  {
   "cell_type": "markdown",
   "id": "51db3b5c",
   "metadata": {},
   "source": [
    "### Dictionaries\n",
    "\n",
    "Python dictionaries are very similar to lists except they allow you to make custom keys\n",
    "for accessing values stored in the dictionary. This is very useful for categorizing things\n",
    "into different groups. \n",
    "\n",
    "\n",
    "A great example of a dictionary that you have probably seen before is the glossary at the back\n",
    "of a book. The words (keys) are directly associated with their definitions (values)."
   ]
  },
  {
   "cell_type": "code",
   "execution_count": 37,
   "id": "2e1eaafb",
   "metadata": {},
   "outputs": [],
   "source": [
    "my_dictionary = {\n",
    "    \"Trump\": \"Republican\",  # They key \"Trump\" is assigned the value \"Republican\"\n",
    "    \"Biden\": \"Democrat\",\n",
    "    \"Harris\": \"Democrat\",\n",
    "    \"Sinema\": \"Democrat\",\n",
    "    \"Cruz\": \"Republican\"\n",
    "}"
   ]
  },
  {
   "cell_type": "code",
   "execution_count": 38,
   "id": "a1baf16e",
   "metadata": {},
   "outputs": [
    {
     "name": "stdout",
     "output_type": "stream",
     "text": [
      "Republican\n"
     ]
    }
   ],
   "source": [
    "# What will this print?\n",
    "print(my_dictionary[\"Trump\"])"
   ]
  },
  {
   "cell_type": "markdown",
   "id": "91bba91a",
   "metadata": {},
   "source": [
    "Just like with lists, we can change what is stored in a dictionary by assigning a new value to a key."
   ]
  },
  {
   "cell_type": "code",
   "execution_count": 39,
   "id": "9865d5fa",
   "metadata": {},
   "outputs": [
    {
     "data": {
      "text/plain": [
       "{'Trump': 'Republican',\n",
       " 'Biden': 'Democrat',\n",
       " 'Harris': 'Democrat',\n",
       " 'Sinema': 'Independent',\n",
       " 'Cruz': 'Republican',\n",
       " 'Sanders': 'Independent'}"
      ]
     },
     "execution_count": 39,
     "metadata": {},
     "output_type": "execute_result"
    }
   ],
   "source": [
    "# Modifying an existing key-value pair in the dictionary\n",
    "my_dictionary[\"Sinema\"] = \"Independent\"\n",
    "\n",
    "# Adding a new key-value pair to the dictionary\n",
    "my_dictionary[\"Sanders\"] = \"Independent\"\n",
    "\n",
    "# What will this print?\n",
    "my_dictionary"
   ]
  },
  {
   "cell_type": "markdown",
   "id": "77b61fe8",
   "metadata": {},
   "source": [
    "### Functions\n",
    "\n",
    "The last thing that we will need to talk about are functions. In python, if you would like to make\n",
    "your own function, you can do so by putting the keyword \"def\" before the name of the function. So\n",
    "the following would be the definition fo a function called \"hello_world\":\n",
    "\n"
   ]
  },
  {
   "cell_type": "code",
   "execution_count": 41,
   "id": "93de054e",
   "metadata": {},
   "outputs": [],
   "source": [
    "def hello_world():\n",
    "    print(\"Hello, world!\")\n",
    "    return "
   ]
  },
  {
   "cell_type": "markdown",
   "id": "b35c1959",
   "metadata": {},
   "source": [
    "You can then **call** the function by typing the name of the function followed by parentheses:\n"
   ]
  },
  {
   "cell_type": "code",
   "execution_count": 42,
   "id": "c725d188",
   "metadata": {},
   "outputs": [
    {
     "name": "stdout",
     "output_type": "stream",
     "text": [
      "Hello, world!\n"
     ]
    }
   ],
   "source": [
    "# This calls the function hello_world which then prints \"Hello, world!\"\n",
    "hello_world()"
   ]
  },
  {
   "cell_type": "markdown",
   "id": "b9109b24",
   "metadata": {},
   "source": [
    "Functions can also take **parameters**, which are the things that you put in the parentheses when\n",
    "you call the function. For example, the following function takes a parameter called \"name\":"
   ]
  },
  {
   "cell_type": "code",
   "execution_count": null,
   "id": "b2f38682",
   "metadata": {},
   "outputs": [
    {
     "name": "stdout",
     "output_type": "stream",
     "text": [
      "Hello, Alice!\n"
     ]
    }
   ],
   "source": [
    "def hello_name(name):\n",
    "    print(f\"Hello, {name}!\")\n",
    "\n",
    "  \n",
    "hello_name(name=\"Alice\")"
   ]
  },
  {
   "cell_type": "markdown",
   "id": "edc1f23b",
   "metadata": {},
   "source": [
    "For now, it is useful to think about functions just as a nice way of putting together a bunch\n",
    "of code so that you don't have to doing the \"copy and paste\" thing all the time.\n",
    "\n",
    "Terminology:\n",
    "\n",
    "* The **parameters**/**arguments** of a function are the things that you put in the parentheses when\n",
    "  you define or call the function.\n",
    "* The **body** of a function is the code that is executed when you call the function.\n",
    "* The **return value** of a function is what the function hands back to you when you call it. Return\n",
    "  values can then be stored in variables and used later."
   ]
  },
  {
   "cell_type": "code",
   "execution_count": null,
   "id": "33604d2d",
   "metadata": {},
   "outputs": [],
   "source": [
    "# The parameters of this function are name and age\n",
    "def introduce_yourself(name, age):\n",
    "    # Everything indented below the def line is called the body of the function\n",
    "\n",
    "    # This line creates a string that includes the name and age\n",
    "    introduction = f\"My name is {name} and I am {age} years old.\"\n",
    "    \n",
    "    # We return the string so that we can use it later\n",
    "    return introduction\n",
    "    \n",
    "    \n",
    "new_introduction = introduce_yourself(name=\"Bob\", age=30)\n",
    "\n",
    "# What will this print?\n",
    "print(new_introduction)"
   ]
  },
  {
   "cell_type": "markdown",
   "id": "2a3ba5b1",
   "metadata": {},
   "source": [
    "#### Try it!\n",
    "\n",
    "Finish the code below so that it prints the following:\n",
    "\n",
    "```console\n",
    "My name is Alice and I am 35 years old.\n",
    "My name is Bob and I am 30 years old.\n",
    "My name is Charlie and I am 40 years old.\n",
    "```"
   ]
  },
  {
   "cell_type": "code",
   "execution_count": null,
   "id": "f68e2211",
   "metadata": {},
   "outputs": [],
   "source": [
    "name_list = [\"Alice\", \"Bob\", \"Charlie\"]\n",
    "name_to_age_dictionary = {\"Alice\": 35, \"Bob\": 30, \"Charlie\": 40} \n",
    "\n",
    "\n",
    "for name in name_list:\n",
    "    introduction = introduce_yourself(\n",
    "        name=<something_goes_here>, \n",
    "        age=name_to_age_dictionary[<something_goes_here>]\n",
    "    )\n",
    "    print(<something_goes_here>)"
   ]
  },
  {
   "cell_type": "markdown",
   "id": "2c019f5e",
   "metadata": {},
   "source": []
  }
 ],
 "metadata": {
  "kernelspec": {
   "display_name": ".venv",
   "language": "python",
   "name": "python3"
  },
  "language_info": {
   "codemirror_mode": {
    "name": "ipython",
    "version": 3
   },
   "file_extension": ".py",
   "mimetype": "text/x-python",
   "name": "python",
   "nbconvert_exporter": "python",
   "pygments_lexer": "ipython3",
   "version": "3.13.3"
  }
 },
 "nbformat": 4,
 "nbformat_minor": 5
}
