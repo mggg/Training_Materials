{
  "cells": [
    {
      "cell_type": "markdown",
      "metadata": {
        "id": "view-in-github",
        "colab_type": "text"
      },
      "source": [
        "<a href=\"https://colab.research.google.com/github/mggg/Training_Materials_25/blob/main/notebooks/practitioners/Wednesday/Prac_1-1_hello_world.ipynb\" target=\"_parent\"><img src=\"https://colab.research.google.com/assets/colab-badge.svg\" alt=\"Open In Colab\"/></a>"
      ]
    },
    {
      "cell_type": "markdown",
      "id": "e951abe8",
      "metadata": {
        "id": "e951abe8"
      },
      "source": [
        "# Hello World!\n",
        "## An Introduction to Reading Python"
      ]
    },
    {
      "cell_type": "markdown",
      "id": "064688f4",
      "metadata": {
        "id": "064688f4"
      },
      "source": [
        "The goal of this tutorial is to get you familiar with the very basics of Python. Over the next few\n",
        "days, we will be working with A LOT of python code, and, while we will not expect you to be able to\n",
        "write much of it on your own, it is very important that you are able to read the basic syntax of\n",
        "python. This will pay huge dividends when working with the more technical members of the team since\n",
        "it will give you some language/vocabulary to more clearly communicate your wants/needs with them\n",
        "when working on a project."
      ]
    },
    {
      "cell_type": "markdown",
      "id": "1f467f02",
      "metadata": {
        "id": "1f467f02"
      },
      "source": [
        "### Types in Python\n",
        "\n",
        "There are 4 basic types in Python:\n",
        "\n",
        "- Integers\n",
        "- Floats\n",
        "- Strings\n",
        "- Booleans\n",
        "\n",
        "#### Integers\n",
        "\n",
        "Integers are whole numbers, like 1, 2, 3, etc."
      ]
    },
    {
      "cell_type": "code",
      "execution_count": null,
      "id": "11e0e501",
      "metadata": {
        "id": "11e0e501",
        "outputId": "a5d71097-d385-43bc-9461-7b29ba004943"
      },
      "outputs": [
        {
          "data": {
            "text/plain": [
              "int"
            ]
          },
          "execution_count": 2,
          "metadata": {},
          "output_type": "execute_result"
        }
      ],
      "source": [
        "type(3)"
      ]
    },
    {
      "cell_type": "code",
      "execution_count": null,
      "id": "b5f17169",
      "metadata": {
        "id": "b5f17169",
        "outputId": "c449f882-f737-4aa2-a7a7-6709a744dd3e"
      },
      "outputs": [
        {
          "data": {
            "text/plain": [
              "int"
            ]
          },
          "execution_count": 3,
          "metadata": {},
          "output_type": "execute_result"
        }
      ],
      "source": [
        "type(-1)"
      ]
    },
    {
      "cell_type": "markdown",
      "id": "7582dbc3",
      "metadata": {
        "id": "7582dbc3"
      },
      "source": [
        "And in python, we can do all of the basic arithmetic operations (+, -, *, /) with integers. However,\n",
        "it is very rare to see an integer standing out on its own in a program. Instead, we store generally\n",
        "store integers in **variables**."
      ]
    },
    {
      "cell_type": "code",
      "execution_count": null,
      "id": "21c1a583",
      "metadata": {
        "id": "21c1a583"
      },
      "outputs": [],
      "source": [
        "x = 1"
      ]
    },
    {
      "cell_type": "markdown",
      "id": "21ca26ed",
      "metadata": {
        "id": "21ca26ed"
      },
      "source": [
        "Here we have have stored the value '1' in the variable called 'x'. In programming `=` sign is NOT\n",
        "read as \"equals\" but should be read as \"is assigned the value\" so the expression `x = 1` is read as\n",
        "\"x is assigned the value 1\". Other common ways of expressing this are \"let x be 1\" or \"x is 1\".\n",
        "\n",
        "Since we have stored the value '1' in the variable 'x', we can then use it in other expressions:"
      ]
    },
    {
      "cell_type": "code",
      "execution_count": null,
      "id": "54c73c30",
      "metadata": {
        "id": "54c73c30",
        "outputId": "9d2641c6-4b9c-4cda-d22d-f081d10704a0"
      },
      "outputs": [
        {
          "name": "stdout",
          "output_type": "stream",
          "text": [
            "3\n"
          ]
        }
      ],
      "source": [
        "print(x + 2)"
      ]
    },
    {
      "cell_type": "markdown",
      "id": "19fafe55",
      "metadata": {
        "id": "19fafe55"
      },
      "source": [
        "Now, \"x\" is actually a bad name for a variable since it isn't very descriptive, so it is often\n",
        "better to use longer names that tell you what you are trying to store in the variable."
      ]
    },
    {
      "cell_type": "code",
      "execution_count": null,
      "id": "327cdea6",
      "metadata": {
        "id": "327cdea6"
      },
      "outputs": [],
      "source": [
        "my_favorite_number = 9"
      ]
    },
    {
      "cell_type": "code",
      "execution_count": null,
      "id": "308cacfd",
      "metadata": {
        "id": "308cacfd",
        "outputId": "bc1524b2-7274-4bfc-b878-baddeb4da23f"
      },
      "outputs": [
        {
          "name": "stdout",
          "output_type": "stream",
          "text": [
            "10\n"
          ]
        }
      ],
      "source": [
        "print(my_favorite_number + 1)"
      ]
    },
    {
      "cell_type": "markdown",
      "id": "3f4c7998",
      "metadata": {
        "id": "3f4c7998"
      },
      "source": [
        "#### Floats\n",
        "\n",
        "Floats are just any number with a decimal in it"
      ]
    },
    {
      "cell_type": "code",
      "execution_count": null,
      "id": "1e102c53",
      "metadata": {
        "id": "1e102c53",
        "outputId": "feede486-ec41-4884-b692-e8bab54e0101"
      },
      "outputs": [
        {
          "data": {
            "text/plain": [
              "float"
            ]
          },
          "execution_count": 8,
          "metadata": {},
          "output_type": "execute_result"
        }
      ],
      "source": [
        "type(1.0)"
      ]
    },
    {
      "cell_type": "markdown",
      "id": "7d208e2c",
      "metadata": {
        "id": "7d208e2c"
      },
      "source": [
        "#### Strings\n",
        "\n",
        "Strings are just little bits of text that are surrounded by quotes. In python, these quotes\n",
        "can be either single or double quotes."
      ]
    },
    {
      "cell_type": "code",
      "execution_count": null,
      "id": "01eacc88",
      "metadata": {
        "id": "01eacc88",
        "outputId": "5c3af562-46d9-4af7-ef31-25dcd4d3f43e"
      },
      "outputs": [
        {
          "data": {
            "text/plain": [
              "str"
            ]
          },
          "execution_count": 9,
          "metadata": {},
          "output_type": "execute_result"
        }
      ],
      "source": [
        "type(\"This is a string\")"
      ]
    },
    {
      "cell_type": "markdown",
      "id": "01bda8c6",
      "metadata": {
        "id": "01bda8c6"
      },
      "source": [
        "Most of the time, the reason that we make strings is so that we can print them using python's\n",
        "`print` function."
      ]
    },
    {
      "cell_type": "code",
      "execution_count": null,
      "id": "dff9ae74",
      "metadata": {
        "id": "dff9ae74",
        "outputId": "3668b331-b4b0-414a-e769-363e2b0ed011"
      },
      "outputs": [
        {
          "name": "stdout",
          "output_type": "stream",
          "text": [
            "Goodbye, Mars.\n",
            "Hello, World!\n"
          ]
        }
      ],
      "source": [
        "print(\"Goodbye, Mars.\")\n",
        "print(\"Hello, World!\")"
      ]
    },
    {
      "cell_type": "markdown",
      "id": "d3a9fa8b",
      "metadata": {
        "id": "d3a9fa8b"
      },
      "source": [
        "There are special types of strings in python known as \"formatted strings.\" These strings are\n",
        "have an 'f' before the first quotation mark. We like formatted strings because they allow\n",
        "us to put variable values into a string in a way that is easy to read and understand."
      ]
    },
    {
      "cell_type": "code",
      "execution_count": null,
      "id": "175d99ea",
      "metadata": {
        "id": "175d99ea",
        "outputId": "47f12996-b378-403d-faf3-1bbb322f429c"
      },
      "outputs": [
        {
          "name": "stdout",
          "output_type": "stream",
          "text": [
            "This is a formatted string. My favorite number is 9.\n"
          ]
        }
      ],
      "source": [
        "print(f\"This is a formatted string. My favorite number is {my_favorite_number}.\")"
      ]
    },
    {
      "cell_type": "markdown",
      "id": "f585d554",
      "metadata": {
        "id": "f585d554"
      },
      "source": [
        "#### Booleans\n",
        "\n",
        "Booleans are a special type in python. Where any whole number without a decimal point is considered\n",
        "an integer, the only values that can be a boolean are `True` and `False`."
      ]
    },
    {
      "cell_type": "code",
      "execution_count": null,
      "id": "bdbce8e8",
      "metadata": {
        "id": "bdbce8e8",
        "outputId": "a0803a5a-16e0-496b-e6a6-444e3eee696a"
      },
      "outputs": [
        {
          "data": {
            "text/plain": [
              "bool"
            ]
          },
          "execution_count": 17,
          "metadata": {},
          "output_type": "execute_result"
        }
      ],
      "source": [
        "type(True)"
      ]
    },
    {
      "cell_type": "code",
      "execution_count": null,
      "id": "a6f58d01",
      "metadata": {
        "id": "a6f58d01"
      },
      "outputs": [],
      "source": [
        "my_boolean = True"
      ]
    },
    {
      "cell_type": "markdown",
      "id": "eb35e9d2",
      "metadata": {
        "id": "eb35e9d2"
      },
      "source": [
        "##### Comments in Python\n",
        "\n",
        "Sometimes, it's nice to remind yourself what is going on in a bit of code. We do this by adding\n",
        "comments to the code. Comments are any bit of text that appears after a hash symbol (#).\n",
        "Comments are expressions that are ignored by the computer."
      ]
    },
    {
      "cell_type": "code",
      "execution_count": null,
      "id": "d1769510",
      "metadata": {
        "id": "d1769510"
      },
      "outputs": [],
      "source": [
        "# This is a comment\n",
        "my_new_favorite_number = 7 # This is also a comment even\n",
        "# x = 3 <- this is still a comment because it starts with a hash\n",
        "\n",
        "# The following line is commented out and will not run:\n",
        "# print(my_new_favorite_number + 1)\n",
        "\n",
        "\n",
        "# # # # This is a comment"
      ]
    },
    {
      "cell_type": "markdown",
      "id": "1aea15f0",
      "metadata": {
        "id": "1aea15f0"
      },
      "source": [
        "##### Why do we care about booleans?\n",
        "\n",
        "At first glance, booleans seem like a really weird type. However, they can actually be really\n",
        "useful when we are trying to control the behaviour of our code. For example, we might want to\n",
        "print out different things depending on the value of a variable."
      ]
    },
    {
      "cell_type": "code",
      "execution_count": null,
      "id": "7a1abc23",
      "metadata": {
        "id": "7a1abc23",
        "outputId": "5cba1f91-d9a7-4197-9850-eea429cc468a"
      },
      "outputs": [
        {
          "name": "stdout",
          "output_type": "stream",
          "text": [
            "Democrats win!\n"
          ]
        }
      ],
      "source": [
        "dem_votes = 100\n",
        "rep_votes = 99\n",
        "\n",
        "if dem_votes > rep_votes:\n",
        "    print(\"Democrats win!\")  # This line is executed if Democrats have more votes\n",
        "# The \"elif\" keyword can be read as \"else if\"\n",
        "elif dem_votes < rep_votes:\n",
        "    print(\"Republicans win!\") # This line is executed if Democrats have fewer votes\n",
        "else:\n",
        "    print(\"It's a tie!\") # This line is executed if both have the same votes"
      ]
    },
    {
      "cell_type": "markdown",
      "id": "700fd8f5",
      "metadata": {
        "id": "700fd8f5"
      },
      "source": [
        "Okay, so what about equality? We know `=` is the assignment symbol, so what is the symbol for equality?\n",
        "Well, in python, it's `==`"
      ]
    },
    {
      "cell_type": "code",
      "execution_count": null,
      "id": "773056da",
      "metadata": {
        "id": "773056da"
      },
      "outputs": [],
      "source": [
        "x = 9 # Assigning a new value, 9, to the variable x"
      ]
    },
    {
      "cell_type": "code",
      "execution_count": null,
      "id": "d02c6104",
      "metadata": {
        "id": "d02c6104"
      },
      "outputs": [],
      "source": [
        "# what will this print?\n",
        "if x == 8:\n",
        "    print(\"x is equal to 8\")\n",
        "else:\n",
        "    print(\"x is not equal to 8\")"
      ]
    },
    {
      "cell_type": "code",
      "execution_count": null,
      "id": "1ec4c80f",
      "metadata": {
        "id": "1ec4c80f",
        "outputId": "46efa1b2-c5ec-41d4-b966-aefdc23518ef"
      },
      "outputs": [
        {
          "name": "stdout",
          "output_type": "stream",
          "text": [
            "x is 9\n"
          ]
        }
      ],
      "source": [
        "# what will this print?\n",
        "if x == 8:\n",
        "    print(\"x is 8\")\n",
        "elif x == 9:\n",
        "    print(\"x is 9\")\n",
        "else:\n",
        "    print(\"x is neither 8 nor 9\")"
      ]
    },
    {
      "cell_type": "code",
      "execution_count": null,
      "id": "0383b6c8",
      "metadata": {
        "id": "0383b6c8"
      },
      "outputs": [],
      "source": [
        "# what will this print?\n",
        "if x == 8:\n",
        "    print(\"x is 8\")\n",
        "elif x == 10:\n",
        "    print(\"x is 10\")\n",
        "else:\n",
        "    print(\"x is neither 8 nor 10\")"
      ]
    },
    {
      "cell_type": "markdown",
      "id": "d2a1445a",
      "metadata": {
        "id": "d2a1445a"
      },
      "source": [
        "### Loops and Lists\n",
        "\n",
        "Generally, there are two different types of loops in Python: \"for\" loops and \"while\" loops. However,\n",
        "we will only cover \"for\" loops here since they are the most commonly used.\n",
        "\n",
        "Lists are exactly what they sound like. Fundamentally, they are just a collection of items. For example,\n",
        "we can have a list of numbers:\n",
        "\n",
        "```python\n",
        "numbers = [1, 2, 3, 4, 5]\n",
        "```\n",
        "\n",
        "We can also have a list of strings:\n",
        "\n",
        "```python\n",
        "names = [\"Alice\", \"Bob\", \"Charlie\"]\n",
        "```\n",
        "\n",
        "A `for` loop is a nice way of iterating through the values in a list and then doing something\n",
        "with each of those values."
      ]
    },
    {
      "cell_type": "code",
      "execution_count": null,
      "id": "0567939b",
      "metadata": {
        "id": "0567939b",
        "outputId": "c25933d8-3e93-4356-c5d4-452dbca4b3b2"
      },
      "outputs": [
        {
          "name": "stdout",
          "output_type": "stream",
          "text": [
            "Hello, Alice!\n",
            "Hello, Bob!\n",
            "Hello, Charlie!\n"
          ]
        }
      ],
      "source": [
        "names = [\"Alice\", \"Bob\", \"Charlie\"]\n",
        "\n",
        "# what will this print?\n",
        "for name in names:\n",
        "    print(f\"Hello, {name}!\")"
      ]
    },
    {
      "cell_type": "markdown",
      "id": "476c5fc5",
      "metadata": {
        "id": "476c5fc5"
      },
      "source": [
        "We can also loop over a range of numbers using a \"for\" loop. For example, if I wanted to\n",
        "loop over the first 10 integers, I would write the following:"
      ]
    },
    {
      "cell_type": "code",
      "execution_count": null,
      "id": "3ccaaf2d",
      "metadata": {
        "id": "3ccaaf2d"
      },
      "outputs": [],
      "source": [
        "# what will this print?\n",
        "for i in range(10):\n",
        "    print(i)"
      ]
    },
    {
      "cell_type": "markdown",
      "id": "da8a757f",
      "metadata": {
        "id": "da8a757f"
      },
      "source": [
        "Wait a second... why did this start at 0 and go to 9 rather than running from 1 to 10? Well, this is\n",
        "because python, like most programing languages, is __zero-indexed__. This means that we start counting\n",
        "at 0."
      ]
    },
    {
      "cell_type": "markdown",
      "id": "11f0382f",
      "metadata": {
        "id": "11f0382f"
      },
      "source": [
        "##### Try it!\n",
        "\n",
        "Finish the print statements below so that they print out the following:\n",
        "\n",
        "```console\n",
        "Hi, Charlie!\n",
        "Hi, Alice!\n",
        "Hi, Bob!\n",
        "```"
      ]
    },
    {
      "cell_type": "code",
      "execution_count": null,
      "id": "01bdc0ac",
      "metadata": {
        "id": "01bdc0ac",
        "outputId": "c0feedb9-6960-44f3-8083-b478dbafe662"
      },
      "outputs": [
        {
          "ename": "SyntaxError",
          "evalue": "invalid syntax. Perhaps you forgot a comma? (2069818348.py, line 4)",
          "output_type": "error",
          "traceback": [
            "  \u001b[36mCell\u001b[39m\u001b[36m \u001b[39m\u001b[32mIn[25]\u001b[39m\u001b[32m, line 4\u001b[39m\n\u001b[31m    \u001b[39m\u001b[31mprint(f\"Hi, {names[]}\")\u001b[39m\n                 ^\n\u001b[31mSyntaxError\u001b[39m\u001b[31m:\u001b[39m invalid syntax. Perhaps you forgot a comma?\n"
          ]
        }
      ],
      "source": [
        "# Index      0      1        2\n",
        "names = [\"Alice\", \"Bob\", \"Charlie\"]\n",
        "\n",
        "print(f\"Hi, {names[]}\")\n",
        "print(f\"Hi, {names[]}\")\n",
        "print(f\"Hi, {names[]}\")"
      ]
    },
    {
      "cell_type": "code",
      "execution_count": null,
      "id": "18399e2f",
      "metadata": {
        "id": "18399e2f",
        "outputId": "d3edd096-bbee-45ba-9288-626c8779d644"
      },
      "outputs": [
        {
          "name": "stdout",
          "output_type": "stream",
          "text": [
            "6\n"
          ]
        }
      ],
      "source": [
        "numbers = [80, 2, -1, 3, 20, 9000]\n",
        "\n",
        "# the function len() returns the number of items in a list\n",
        "print(len(numbers))"
      ]
    },
    {
      "cell_type": "code",
      "execution_count": null,
      "id": "b9a384b0",
      "metadata": {
        "id": "b9a384b0",
        "outputId": "d878d372-5c09-4eca-8238-8f5927807619"
      },
      "outputs": [
        {
          "name": "stdout",
          "output_type": "stream",
          "text": [
            "80\n",
            "2\n",
            "-1\n",
            "3\n",
            "20\n",
            "9000\n"
          ]
        }
      ],
      "source": [
        "number_of_items = len(numbers)\n",
        "\n",
        "# what will this print?\n",
        "for index in range(number_of_items):\n",
        "    print(numbers[index])"
      ]
    },
    {
      "cell_type": "markdown",
      "id": "00e5359d",
      "metadata": {
        "id": "00e5359d"
      },
      "source": [
        "Since you can access a value stored in a list using its index, this means that you can also\n",
        "edit the values in a list by reassigning the value at a given index."
      ]
    },
    {
      "cell_type": "code",
      "execution_count": null,
      "id": "366d99cc",
      "metadata": {
        "id": "366d99cc",
        "outputId": "afdcf334-8f0f-45f3-ad4f-fa67c3af37f9"
      },
      "outputs": [
        {
          "name": "stdout",
          "output_type": "stream",
          "text": [
            "['Alice', 'Bob', 'Charlie']\n",
            "['Alice', 'Bob', 'Caroline']\n"
          ]
        }
      ],
      "source": [
        "# What will this print?\n",
        "print(names)\n",
        "\n",
        "names[2] = \"Caroline\"\n",
        "\n",
        "# What will this print?\n",
        "print(names)"
      ]
    },
    {
      "cell_type": "markdown",
      "id": "d4d30ae3",
      "metadata": {
        "id": "d4d30ae3"
      },
      "source": [
        "We can also add items to lists at any time using the `append` function."
      ]
    },
    {
      "cell_type": "code",
      "execution_count": null,
      "id": "a001babd",
      "metadata": {
        "id": "a001babd"
      },
      "outputs": [],
      "source": [
        "names.append(\"David\")\n",
        "\n",
        "# What will this print?\n",
        "print(names)"
      ]
    },
    {
      "cell_type": "markdown",
      "id": "51db3b5c",
      "metadata": {
        "id": "51db3b5c"
      },
      "source": [
        "### Dictionaries\n",
        "\n",
        "Python dictionaries are very similar to lists except they allow you to make custom keys\n",
        "for accessing values stored in the dictionary. This is very useful for categorizing things\n",
        "into different groups.\n",
        "\n",
        "\n",
        "A great example of a dictionary that you have probably seen before is the glossary at the back\n",
        "of a book. The words (keys) are directly associated with their definitions (values)."
      ]
    },
    {
      "cell_type": "code",
      "execution_count": null,
      "id": "2e1eaafb",
      "metadata": {
        "id": "2e1eaafb"
      },
      "outputs": [],
      "source": [
        "my_dictionary = {\n",
        "    \"Trump\": \"Republican\",  # They key \"Trump\" is assigned the value \"Republican\"\n",
        "    \"Biden\": \"Democrat\",\n",
        "    \"Harris\": \"Democrat\",\n",
        "    \"Sinema\": \"Democrat\",\n",
        "    \"Cruz\": \"Republican\"\n",
        "}"
      ]
    },
    {
      "cell_type": "code",
      "execution_count": null,
      "id": "a1baf16e",
      "metadata": {
        "id": "a1baf16e",
        "outputId": "0970a760-c8f8-4347-cf7b-e403bc1de649"
      },
      "outputs": [
        {
          "name": "stdout",
          "output_type": "stream",
          "text": [
            "Republican\n"
          ]
        }
      ],
      "source": [
        "# What will this print?\n",
        "print(my_dictionary[\"Trump\"])"
      ]
    },
    {
      "cell_type": "markdown",
      "id": "91bba91a",
      "metadata": {
        "id": "91bba91a"
      },
      "source": [
        "Just like with lists, we can change what is stored in a dictionary by assigning a new value to a key."
      ]
    },
    {
      "cell_type": "code",
      "execution_count": null,
      "id": "9865d5fa",
      "metadata": {
        "id": "9865d5fa",
        "outputId": "caae1c24-f293-4200-9f63-d09fbc8ed067"
      },
      "outputs": [
        {
          "data": {
            "text/plain": [
              "{'Trump': 'Republican',\n",
              " 'Biden': 'Democrat',\n",
              " 'Harris': 'Democrat',\n",
              " 'Sinema': 'Independent',\n",
              " 'Cruz': 'Republican',\n",
              " 'Sanders': 'Independent'}"
            ]
          },
          "execution_count": 39,
          "metadata": {},
          "output_type": "execute_result"
        }
      ],
      "source": [
        "# Modifying an existing key-value pair in the dictionary\n",
        "my_dictionary[\"Sinema\"] = \"Independent\"\n",
        "\n",
        "# Adding a new key-value pair to the dictionary\n",
        "my_dictionary[\"Sanders\"] = \"Independent\"\n",
        "\n",
        "# What will this print?\n",
        "my_dictionary"
      ]
    },
    {
      "cell_type": "markdown",
      "id": "77b61fe8",
      "metadata": {
        "id": "77b61fe8"
      },
      "source": [
        "### Functions\n",
        "\n",
        "The last thing that we will need to talk about are functions. In python, if you would like to make\n",
        "your own function, you can do so by putting the keyword \"def\" before the name of the function. So\n",
        "the following would be the definition fo a function called \"hello_world\":\n",
        "\n"
      ]
    },
    {
      "cell_type": "code",
      "execution_count": null,
      "id": "93de054e",
      "metadata": {
        "id": "93de054e"
      },
      "outputs": [],
      "source": [
        "def hello_world():\n",
        "    print(\"Hello, world!\")\n",
        "    return"
      ]
    },
    {
      "cell_type": "markdown",
      "id": "b35c1959",
      "metadata": {
        "id": "b35c1959"
      },
      "source": [
        "You can then **call** the function by typing the name of the function followed by parentheses:\n"
      ]
    },
    {
      "cell_type": "code",
      "execution_count": null,
      "id": "c725d188",
      "metadata": {
        "id": "c725d188",
        "outputId": "d386498d-ce71-4dca-bda8-2f1e179d5031"
      },
      "outputs": [
        {
          "name": "stdout",
          "output_type": "stream",
          "text": [
            "Hello, world!\n"
          ]
        }
      ],
      "source": [
        "# This calls the function hello_world which then prints \"Hello, world!\"\n",
        "hello_world()"
      ]
    },
    {
      "cell_type": "markdown",
      "id": "b9109b24",
      "metadata": {
        "id": "b9109b24"
      },
      "source": [
        "Functions can also take **parameters**, which are the things that you put in the parentheses when\n",
        "you call the function. For example, the following function takes a parameter called \"name\":"
      ]
    },
    {
      "cell_type": "code",
      "execution_count": null,
      "id": "b2f38682",
      "metadata": {
        "id": "b2f38682",
        "outputId": "30a949cd-1e87-45b2-c33f-b46b2e28d6d1"
      },
      "outputs": [
        {
          "name": "stdout",
          "output_type": "stream",
          "text": [
            "Hello, Alice!\n"
          ]
        }
      ],
      "source": [
        "def hello_name(name):\n",
        "    print(f\"Hello, {name}!\")\n",
        "\n",
        "\n",
        "hello_name(name=\"Alice\")"
      ]
    },
    {
      "cell_type": "markdown",
      "id": "edc1f23b",
      "metadata": {
        "id": "edc1f23b"
      },
      "source": [
        "For now, it is useful to think about functions just as a nice way of putting together a bunch\n",
        "of code so that you don't have to doing the \"copy and paste\" thing all the time.\n",
        "\n",
        "Terminology:\n",
        "\n",
        "* The **parameters**/**arguments** of a function are the things that you put in the parentheses when\n",
        "  you define or call the function.\n",
        "* The **body** of a function is the code that is executed when you call the function.\n",
        "* The **return value** of a function is what the function hands back to you when you call it. Return\n",
        "  values can then be stored in variables and used later."
      ]
    },
    {
      "cell_type": "code",
      "execution_count": null,
      "id": "33604d2d",
      "metadata": {
        "id": "33604d2d"
      },
      "outputs": [],
      "source": [
        "# The parameters of this function are name and age\n",
        "def introduce_yourself(name, age):\n",
        "    # Everything indented below the def line is called the body of the function\n",
        "\n",
        "    # This line creates a string that includes the name and age\n",
        "    introduction = f\"My name is {name} and I am {age} years old.\"\n",
        "\n",
        "    # We return the string so that we can use it later\n",
        "    return introduction\n",
        "\n",
        "\n",
        "new_introduction = introduce_yourself(name=\"Bob\", age=30)\n",
        "\n",
        "# What will this print?\n",
        "print(new_introduction)"
      ]
    },
    {
      "cell_type": "markdown",
      "id": "2a3ba5b1",
      "metadata": {
        "id": "2a3ba5b1"
      },
      "source": [
        "#### Try it!\n",
        "\n",
        "Finish the code below so that it prints the following:\n",
        "\n",
        "```console\n",
        "My name is Alice and I am 35 years old.\n",
        "My name is Bob and I am 30 years old.\n",
        "My name is Charlie and I am 40 years old.\n",
        "```"
      ]
    },
    {
      "cell_type": "code",
      "execution_count": null,
      "id": "f68e2211",
      "metadata": {
        "id": "f68e2211"
      },
      "outputs": [],
      "source": [
        "name_list = [\"Alice\", \"Bob\", \"Charlie\"]\n",
        "name_to_age_dictionary = {\"Alice\": 35, \"Bob\": 30, \"Charlie\": 40}\n",
        "\n",
        "\n",
        "for name in name_list:\n",
        "    introduction = introduce_yourself(\n",
        "        name=<something_goes_here>,\n",
        "        age=name_to_age_dictionary[<something_goes_here>]\n",
        "    )\n",
        "    print(<something_goes_here>)"
      ]
    },
    {
      "cell_type": "markdown",
      "id": "2c019f5e",
      "metadata": {
        "id": "2c019f5e"
      },
      "source": []
    }
  ],
  "metadata": {
    "kernelspec": {
      "display_name": ".venv",
      "language": "python",
      "name": "python3"
    },
    "language_info": {
      "codemirror_mode": {
        "name": "ipython",
        "version": 3
      },
      "file_extension": ".py",
      "mimetype": "text/x-python",
      "name": "python",
      "nbconvert_exporter": "python",
      "pygments_lexer": "ipython3",
      "version": "3.13.3"
    },
    "colab": {
      "provenance": [],
      "include_colab_link": true
    }
  },
  "nbformat": 4,
  "nbformat_minor": 5
}