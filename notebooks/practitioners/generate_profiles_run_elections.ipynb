{
 "cells": [
  {
   "cell_type": "markdown",
   "id": "f473c302",
   "metadata": {},
   "source": [
    "# Profiles and Elections\n",
    "\n",
    "A profile is a collection of ballots. An election is the rule/algorithm that converts the collection of ballots into a set of elected candidates. Colloquially, these two are rarely distinguished.\n",
    "\n",
    "\n",
    "But mathematically speaking these are two separate parts of a voting pipeline. We can take the same profile and run it through many different election rules to see how the rules change the outcome. Similarly, we can feed many different profiles through the same election rule to see how properties of the profiles affect the elected candidates. \n",
    "\n",
    "In this session we will learn how to use some of the ballot generator models built into VoteKit to create profiles of ballots, and then we will feed them through some common elections methods."
   ]
  },
  {
   "cell_type": "markdown",
   "id": "20e92a77",
   "metadata": {},
   "source": [
    "## Generating Profiles\n",
    "\n",
    "As we saw earlier, there are many models for generating ballots available to us, and these models have different knobs we can turn to model different voter behaviors. Here is how we can implement some of the most common in VoteKit."
   ]
  },
  {
   "cell_type": "markdown",
   "id": "fe63c7ec",
   "metadata": {},
   "source": [
    "The slate-Plackett-Luce (sPL) model models \"impulsive\" voters. These are voters who rank their candidates only by considering how much they like each individual candidate. Later we will see a model for \"deliberative\" voters. Both use the same set up, so we will focus on sPL first."
   ]
  },
  {
   "cell_type": "markdown",
   "id": "3faa7c62",
   "metadata": {},
   "source": [
    "The first parameter we need to decide is the number and size of our voting blocs. This could be Democract/Republican, White/POC, or some other breakdown of the voters. You aren't limited to just two blocs, although the number of parameters ends up growing a LOT when you start adding more blocs, so we will stick with two for now."
   ]
  },
  {
   "cell_type": "code",
   "execution_count": null,
   "id": "bbd493cf",
   "metadata": {},
   "outputs": [],
   "source": [
    "from votekit.ballot_generator import slate_PlackettLuce\n",
    "\n",
    "\n",
    "bloc_voter_prop = {\"X\": .8, \"Y\": .2}\n",
    "\n"
   ]
  },
  {
   "cell_type": "code",
   "execution_count": null,
   "id": "df44572d",
   "metadata": {},
   "outputs": [],
   "source": [
    "slate_to_candidates = {\"X\": [\"X1\", \"X2\"],\n",
    "                        \"Y\": [\"Y1\", \"Y2\"]}"
   ]
  },
  {
   "cell_type": "code",
   "execution_count": null,
   "id": "7af849b3",
   "metadata": {},
   "outputs": [],
   "source": [
    "# the values of .9 indicate that these blocs are highly polarized;\n",
    "# they prefer their own candidates much more than the opposing slate\n",
    "cohesion_parameters = {\"X\": {\"X\":.9, \"Y\":.1},\n",
    "                        \"Y\": {\"Y\":.9, \"X\":.1}}\n",
    "\n"
   ]
  },
  {
   "cell_type": "code",
   "execution_count": null,
   "id": "cc62c951",
   "metadata": {},
   "outputs": [],
   "source": [
    "alphas = {\"X\": {\"X\":2, \"Y\":1},\n",
    "                    \"Y\": {\"X\":1, \"Y\":.5}}\n",
    "\n",
    "\n",
    "\n",
    "# the from_params method allows us to sample from\n",
    "# the Dirichlet distribution for our intervals\n",
    "pl = slate_PlackettLuce.from_params(slate_to_candidates=slate_to_candidates,\n",
    "          bloc_voter_prop=bloc_voter_prop,\n",
    "          cohesion_parameters=cohesion_parameters,\n",
    "          alphas=alphas)"
   ]
  },
  {
   "cell_type": "markdown",
   "id": "f63e862d",
   "metadata": {},
   "source": [
    "## Loading Profiles \n",
    "\n",
    "VoteKit allows you to load profiles of ballots in from other sources. You have the ability to:\n",
    "- load Scottish election csv files from https://github.com/mggg/scot-elex\n",
    "- load csv files where each row represents a ballot and each column of the csv represents a ranking position\n",
    "- load PreferenceProfiles made with VoteKit\n",
    "\n",
    "In all cases, the file you want to load needs to be in the working directory of your Python file/notebook.\n",
    "Here are a few examples!"
   ]
  },
  {
   "cell_type": "markdown",
   "id": "8f654bb8",
   "metadata": {},
   "source": [
    "### Scottish\n",
    "\n",
    "Go to https://github.com/mggg/scot-elex and download a Scottish election of your choice! Put the csv file in your working directory, and change the name of the file below to match the name of your file."
   ]
  },
  {
   "cell_type": "code",
   "execution_count": 1,
   "id": "9755f304",
   "metadata": {},
   "outputs": [
    {
     "name": "stdout",
     "output_type": "stream",
     "text": [
      "Election in ward Leven\n",
      "Number of seats for election: 4\n",
      "\n",
      "With the following candidates:\n",
      "Jim Bollan\n",
      "Ian Dickson\n",
      "George Drummond\n",
      "Caroline Mcallister\n",
      "Michelle Marie Mcginty\n",
      "John Kelly Millar\n",
      "Peter Parlane\n",
      "Sean Quinn\n",
      "\n",
      "The candidates have the following party IDs:\n",
      "Jim Bollan is identified with West Dunbartonshire Community (WDuns).\n",
      "Ian Dickson is identified with Scottish National Party (SNP).\n",
      "George Drummond is identified with Liberal Democrat (LD).\n",
      "Caroline Mcallister is identified with Scottish National Party (SNP).\n",
      "Michelle Marie Mcginty is identified with Labour (Lab).\n",
      "John Kelly Millar is identified with Labour (Lab).\n",
      "Peter Parlane is identified with Conservative and Unionist Party (Con).\n",
      "Sean Quinn is identified with Green (Gr).\n",
      "\n",
      "The first 10 ballots of the profile are:\n",
      "                 Ranking_1      Ranking_2              Ranking_3                 Ranking_4                 Ranking_5            Ranking_6          Ranking_7          Ranking_8 Voter Set Weight\n",
      "Ballot Index                                                                                                                                                                                    \n",
      "0             (Jim Bollan)  (Ian Dickson)      (George Drummond)     (Caroline Mcallister)  (Michelle Marie Mcginty)  (John Kelly Millar)    (Peter Parlane)       (Sean Quinn)        {}      3\n",
      "1             (Jim Bollan)  (Ian Dickson)      (George Drummond)     (Caroline Mcallister)                       NaN                  NaN                NaN                NaN        {}      1\n",
      "2             (Jim Bollan)  (Ian Dickson)      (George Drummond)  (Michelle Marie Mcginty)              (Sean Quinn)                  NaN                NaN                NaN        {}      1\n",
      "3             (Jim Bollan)  (Ian Dickson)      (George Drummond)  (Michelle Marie Mcginty)                       NaN                  NaN                NaN                NaN        {}      1\n",
      "4             (Jim Bollan)  (Ian Dickson)      (George Drummond)       (John Kelly Millar)                       NaN                  NaN                NaN                NaN        {}      1\n",
      "5             (Jim Bollan)  (Ian Dickson)      (George Drummond)                       NaN                       NaN                  NaN                NaN                NaN        {}      6\n",
      "6             (Jim Bollan)  (Ian Dickson)  (Caroline Mcallister)  (Michelle Marie Mcginty)              (Sean Quinn)  (John Kelly Millar)  (George Drummond)    (Peter Parlane)        {}      1\n",
      "7             (Jim Bollan)  (Ian Dickson)  (Caroline Mcallister)  (Michelle Marie Mcginty)       (John Kelly Millar)      (Peter Parlane)       (Sean Quinn)  (George Drummond)        {}      1\n",
      "8             (Jim Bollan)  (Ian Dickson)  (Caroline Mcallister)  (Michelle Marie Mcginty)       (John Kelly Millar)    (George Drummond)    (Peter Parlane)       (Sean Quinn)        {}      1\n",
      "9             (Jim Bollan)  (Ian Dickson)  (Caroline Mcallister)  (Michelle Marie Mcginty)       (John Kelly Millar)         (Sean Quinn)  (George Drummond)    (Peter Parlane)        {}      3\n"
     ]
    }
   ],
   "source": [
    "from votekit.cvr_loaders import load_scottish\n",
    "\n",
    "scottish_profile, num_seats, cand_list, cand_to_party, ward = load_scottish(\"west_dunbartonshire_2017_ward2.csv\")\n",
    "\n",
    "print(f\"Election in ward {ward}\")\n",
    "print(f\"Number of seats for election: {num_seats}\")\n",
    "print()\n",
    "print(\"With the following candidates:\")\n",
    "for cand in cand_list:\n",
    "    print(cand)\n",
    "\n",
    "\n",
    "print(\"\\nThe candidates have the following party IDs:\")\n",
    "for cand, party in cand_to_party.items():\n",
    "    print(f\"{cand} is identified with {party}.\")\n",
    "\n",
    "print(f\"\\nThe first 10 ballots of the profile are:\")\n",
    "print(scottish_profile.df.head(10).to_string())\n"
   ]
  },
  {
   "cell_type": "markdown",
   "id": "0a66763c",
   "metadata": {},
   "source": [
    "### Load csv with ballot rows and ranking columns \n",
    " \n",
    "Go to https://github.com/mggg/VoteKit/tree/main/examples/data and download the Minnesota 2013 mayoral election cast vote record. Put it in your working directory. Open the file and notice that each row is a ballot, and each column represents one position of the ranking. Voters were allowed to rank 3 candidates."
   ]
  },
  {
   "cell_type": "code",
   "execution_count": 2,
   "id": "5adfb9dc",
   "metadata": {},
   "outputs": [
    {
     "name": "stdout",
     "output_type": "stream",
     "text": [
      "The maximum number of candidates you could rank was 3.\n",
      "\n",
      "The candidates for the Minnesota 2013 mayoral race were:\n",
      "\n",
      "ABDUL M RAHAMAN \"THE ROCK\"\n",
      "DAN COHEN\n",
      "JAMES EVERETT\n",
      "MARK V ANDERSON\n",
      "TROY BENJEGERDES\n",
      "undervote\n",
      "ALICIA K. BENNETT\n",
      "BETSY HODGES\n",
      "MARK ANDREW\n",
      "MIKE GOULD\n",
      "BILL KAHN\n",
      "BOB FINE\n",
      "CAM WINTON\n",
      "DON SAMUELS\n",
      "JACKIE CHERRYHOMES\n",
      "JEFFREY ALAN WAGNER\n",
      "JOHN LESLIE HARTWIG\n",
      "KURTIS W. HANNA\n",
      "JOSHUA REA\n",
      "MERRILL ANDERSON\n",
      "NEAL BAXTER\n",
      "STEPHANIE WOODRUFF\n",
      "UWI\n",
      "BOB \"AGAIN\" CARNEY JR\n",
      "TONY LANE\n",
      "CAPTAIN JACK SPARROW\n",
      "GREGG A. IVERSON\n",
      "JAMES \"JIMMY\" L. STROUD, JR.\n",
      "JAYMIE KELLY\n",
      "CYD GORMAN\n",
      "EDMUND BERNARD BRUYERE\n",
      "DOUG MANN\n",
      "CHRISTOPHER ROBIN ZIMMERMAN\n",
      "RAHN V. WORKCUFF\n",
      "JOHN CHARLES WILSON\n",
      "OLE SAVIOR\n",
      "overvote\n",
      "CHRISTOPHER CLARK\n"
     ]
    }
   ],
   "source": [
    "from votekit.cvr_loaders import load_csv\n",
    "\n",
    "mn_profile = load_csv(\"mn_2013_cast_vote_record.csv\")\n",
    "\n",
    "print(f\"The maximum number of candidates you could rank was {mn_profile.max_ranking_length}.\\n\")\n",
    "\n",
    "print(f\"The candidates for the Minnesota 2013 mayoral race were:\\n\")\n",
    "\n",
    "for cand in mn_profile.candidates:\n",
    "    print(cand)"
   ]
  },
  {
   "cell_type": "markdown",
   "id": "2e1f2b9a",
   "metadata": {},
   "source": [
    "Let's take a moment to make a quick edit to this profile, and then save the result to a \"pickle\" file, which is a way of storing Python data. This is super useful, because raw cast vote records often need processing to be run through election methods, and the \"pickle\" format allows us to do our processing once, and then use the saved profile from then on.\n",
    "\n",
    "Notice that in the candidate list above, there are three strange names: \"overvote\", \"undervote\", and \"UWI\". In MN, when a voter put more than one candidate in a ranking position it was recorded as \"overvote\". If they skipped a slot, it was an \"undervote\". If they listed an unregistered write-in candidate, it was recorded as \"UWI\". The IRV election that was run on this profile needs those three \"candidates\" scrubbed from the ballots before it can be run. VoteKit includes some cleaning functions that make this easy.\n"
   ]
  },
  {
   "cell_type": "code",
   "execution_count": 3,
   "id": "4a038a1f",
   "metadata": {},
   "outputs": [
    {
     "name": "stdout",
     "output_type": "stream",
     "text": [
      "The difference between the raw profile's candidate list and the cleaned profile's list is {'undervote', 'UWI', 'overvote'}.\n"
     ]
    }
   ],
   "source": [
    "from votekit.cleaning import remove_and_condense\n",
    "\n",
    "# remove deletes the listed \"candidates\" from each ballot\n",
    "# condense moves up any lower ranked candidates\n",
    "cleaned_mn_profile = remove_and_condense([\"overvote\", \"undervote\", \"UWI\"], mn_profile)\n",
    "\n",
    "print(f\"The difference between the raw profile's candidate list and the cleaned profile's list is {set(mn_profile.candidates)-set(cleaned_mn_profile.candidates)}.\")"
   ]
  },
  {
   "cell_type": "markdown",
   "id": "50f2f9b3",
   "metadata": {},
   "source": [
    "And now we can save the processed profile. This allows us to load it back in later."
   ]
  },
  {
   "cell_type": "code",
   "execution_count": 5,
   "id": "b8309bbd",
   "metadata": {},
   "outputs": [
    {
     "name": "stdout",
     "output_type": "stream",
     "text": [
      "\n",
      "Does the loaded profile match the cleaned profile: True\n",
      "\n",
      "Does the loaded profile match the uncleaned profile: False\n"
     ]
    }
   ],
   "source": [
    "from votekit.pref_profile import PreferenceProfile\n",
    "\n",
    "cleaned_mn_profile.to_pickle(\"cleaned_mn_profile.pkl\")\n",
    "\n",
    "loaded_mn_profile = PreferenceProfile.from_pickle(\"cleaned_mn_profile.pkl\")\n",
    "\n",
    "print(f\"\\nDoes the loaded profile match the cleaned profile: {loaded_mn_profile == cleaned_mn_profile}\")\n",
    "print(f\"\\nDoes the loaded profile match the uncleaned profile: {loaded_mn_profile == mn_profile}\")\n"
   ]
  },
  {
   "cell_type": "markdown",
   "id": "a9cf1fe8",
   "metadata": {},
   "source": [
    "## Running Elections\n"
   ]
  },
  {
   "cell_type": "markdown",
   "id": "511014cd",
   "metadata": {},
   "source": []
  }
 ],
 "metadata": {
  "kernelspec": {
   "display_name": ".venv",
   "language": "python",
   "name": "python3"
  },
  "language_info": {
   "codemirror_mode": {
    "name": "ipython",
    "version": 3
   },
   "file_extension": ".py",
   "mimetype": "text/x-python",
   "name": "python",
   "nbconvert_exporter": "python",
   "pygments_lexer": "ipython3",
   "version": "3.13.2"
  }
 },
 "nbformat": 4,
 "nbformat_minor": 5
}
