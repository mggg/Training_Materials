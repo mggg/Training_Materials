{
  "cells": [
    {
      "cell_type": "markdown",
      "metadata": {
        "colab_type": "text",
        "id": "view-in-github"
      },
      "source": [
        "<a href=\"https://colab.research.google.com/github/mggg/Training_Materials/blob/main/notebooks/practitioners/Prac_1-2_loading_a_CVR.ipynb\" target=\"_parent\"><img src=\"https://colab.research.google.com/assets/colab-badge.svg\" alt=\"Open In Colab\"/></a>"
      ]
    },
    {
      "cell_type": "markdown",
      "id": "dec7a1bc",
      "metadata": {
        "id": "dec7a1bc"
      },
      "source": [
        "# Loading a CVR\n",
        "\n",
        "First, we will need to go and get some data to load into our notebook. Here are the steps:\n",
        "\n",
        "1. Go to our [CVR Example Google Sheet](https://docs.google.com/spreadsheets/d/1BFdXuY2N6lg_IEcms_A-XLu0ybQahXuMdFCdV6yKR_0/edit?gid=1055709698#gid=1055709698)\n",
        "   and download the \"MN2013\" sheet and the \"Cambridge city council 2009\" sheet as CSV files.\n",
        "   Also download the whole sheet as an Excel file.\n",
        "\n",
        "2. Upload the CSV files and the Excel file to this google colab notebook using the \"File\" menu\n",
        "   on the left side of the screen."
      ]
    },
    {
      "cell_type": "markdown",
      "id": "eee46667",
      "metadata": {
        "id": "eee46667"
      },
      "source": [
        "## The Pandas library\n",
        "\n",
        "Much like VoteKit (the main library that we will be working with in this course), Pandas is a\n",
        "library published on the Python Package Index (PyPI) that provides data structures and functions\n",
        "for working with tabular data (Spreadsheets!). We will be working with the Pandas library a lot in\n",
        "this course, so we are now going to spend a couple of minutes getting familiar with it.\n",
        "\n",
        "\n",
        "Since pandas is not a library that comes with your standard Python installation, we will need to\n",
        "make sure that it is installed and then we will need to import it to our notebook. Colab actually\n",
        "comes with pandas preinstalled, so we just need to import it so we can get access to its functions."
      ]
    },
    {
      "cell_type": "code",
      "execution_count": null,
      "id": "8f5187e2",
      "metadata": {
        "id": "8f5187e2"
      },
      "outputs": [],
      "source": [
        "import pandas"
      ]
    },
    {
      "cell_type": "code",
      "execution_count": null,
      "id": "c4e60227",
      "metadata": {
        "id": "c4e60227",
        "outputId": "6321df70-83ab-4872-f883-dca58322f093"
      },
      "outputs": [],
      "source": [
        "mn_df = pandas.read_csv('selected ranked choice CVRs - MN2013.csv')\n",
        "mn_df"
      ]
    },
    {
      "cell_type": "code",
      "execution_count": null,
      "id": "3ed52c0e",
      "metadata": {
        "id": "3ed52c0e",
        "outputId": "7c11e1e1-6ca1-4804-b90c-d2e720d85705"
      },
      "outputs": [],
      "source": [
        "cambridge_df = pandas.read_csv('selected ranked choice CVRs - Cambridge city council 2009.csv')\n",
        "cambridge_df"
      ]
    },
    {
      "cell_type": "code",
      "execution_count": null,
      "id": "92ab308f",
      "metadata": {
        "id": "92ab308f",
        "outputId": "235e5921-3496-46a0-d5e3-cc15286a6a34"
      },
      "outputs": [],
      "source": [
        "mn_df_excel = pandas.read_excel('selected ranked choice CVRs.xlsx', sheet_name='MN2013')\n",
        "\n",
        "# Check if the DataFrame loaded from Excel matches the original CSV DataFrame\n",
        "mn_df_excel == mn_df # This will return a DataFrame of boolean values indicating if each element matches"
      ]
    },
    {
      "cell_type": "code",
      "execution_count": null,
      "id": "9cf2860f",
      "metadata": {
        "id": "9cf2860f",
        "outputId": "6eb98d0f-9828-4bcc-9339-6cba7db867ad"
      },
      "outputs": [],
      "source": [
        "# How to check that all the values are equal\n",
        "print(mn_df_excel.equals(mn_df))\n",
        "print(all(mn_df == mn_df_excel))"
      ]
    },
    {
      "cell_type": "code",
      "execution_count": null,
      "id": "78fce0ed",
      "metadata": {
        "id": "78fce0ed",
        "outputId": "106d2234-89b3-4582-f3d5-00c30f0c9a2e"
      },
      "outputs": [],
      "source": [
        "# Do the same to check Cambridge DataFrames\n",
        "cambridge_df_excel = pandas.read_excel('selected ranked choice CVRs.xlsx', sheet_name='Cambridge city council 2009')\n",
        "\n",
        "# Check if the DataFrame loaded from Excel matches the original CSV DataFrame\n",
        "print(cambridge_df_excel.equals(cambridge_df))\n",
        "# Do the same to check Cambridge DataFrames\n",
        "print(all(cambridge_df == cambridge_df_excel))"
      ]
    },
    {
      "cell_type": "markdown",
      "id": "29b764a3",
      "metadata": {
        "id": "29b764a3"
      },
      "source": [
        "## Working with data in a dataframe"
      ]
    },
    {
      "cell_type": "markdown",
      "id": "2c86f2c6",
      "metadata": {
        "id": "2c86f2c6"
      },
      "source": [
        "There are a few different things that we would like to do when working with a dataframe. First, we\n",
        "would like to be able to access particular columns of the dataframe and then collect statistics\n",
        "on those columns. Second, we would like to be able to filter the dataframe based on features."
      ]
    },
    {
      "cell_type": "markdown",
      "id": "e8189f45",
      "metadata": {
        "id": "e8189f45"
      },
      "source": [
        "### Accessing column data"
      ]
    },
    {
      "cell_type": "code",
      "execution_count": null,
      "id": "93fa6f03",
      "metadata": {
        "id": "93fa6f03",
        "outputId": "2ab82171-82d3-479f-9b78-4bf460fcece6"
      },
      "outputs": [],
      "source": [
        "mn_df"
      ]
    },
    {
      "cell_type": "markdown",
      "id": "bd8e5f39",
      "metadata": {},
      "source": [
        "Let's start with getting the precinct names for Minneapolis"
      ]
    },
    {
      "cell_type": "code",
      "execution_count": null,
      "id": "30b29eab",
      "metadata": {
        "id": "30b29eab",
        "outputId": "3259a951-5c63-4189-991f-748593697994"
      },
      "outputs": [],
      "source": [
        "# This will give us the column with all of the precinct names as a Pandas Series\n",
        "# Note: A pandas Series is basically a dictionary. In the output, the left-hand side is\n",
        "# the set of \"keys\" and the right-hand side is the \"values\".\n",
        "mn_df['Precinct']"
      ]
    },
    {
      "cell_type": "markdown",
      "id": "a4a6e7c5",
      "metadata": {
        "id": "a4a6e7c5"
      },
      "source": [
        "#### Try it!\n",
        "\n",
        "Get the column for the first ranked candidate."
      ]
    },
    {
      "cell_type": "code",
      "execution_count": null,
      "id": "1cd0a2b5",
      "metadata": {
        "id": "1cd0a2b5",
        "outputId": "b4983e28-5f3e-46fc-b309-4a84c818f1d6"
      },
      "outputs": [],
      "source": [
        "# Edit the line below\n",
        "column_name = 'Precinct'\n",
        "\n",
        "mn_df[column_name]  # Don't edit this line"
      ]
    },
    {
      "cell_type": "markdown",
      "id": "b2e5cece",
      "metadata": {},
      "source": [
        "If you want to, you can convert this Series to a dictionary"
      ]
    },
    {
      "cell_type": "code",
      "execution_count": null,
      "id": "76e5504a",
      "metadata": {
        "id": "76e5504a",
        "outputId": "59ea28ce-9cad-403a-f9f2-07f0d2aec11e"
      },
      "outputs": [],
      "source": [
        "mn_df[\"Precinct\"].to_dict()"
      ]
    },
    {
      "cell_type": "markdown",
      "id": "e2c14f00",
      "metadata": {},
      "source": [
        "Since the keys are just the row numbers indexed from 0, we can also convert this Series to a list"
      ]
    },
    {
      "cell_type": "code",
      "execution_count": null,
      "id": "234847e8",
      "metadata": {
        "id": "234847e8",
        "outputId": "9657eaa8-83d3-4163-9ad0-96a7d47aa0f4"
      },
      "outputs": [],
      "source": [
        "mn_df[\"Precinct\"].tolist()"
      ]
    },
    {
      "cell_type": "markdown",
      "id": "ab438bd3",
      "metadata": {},
      "source": [
        "If `mn_df[\"Precinct\"]` is like a dictionary, then it stands to reason that we can grab a single precinct\n",
        "name using `[<precinct number>]` notation."
      ]
    },
    {
      "cell_type": "code",
      "execution_count": null,
      "id": "a29ee62b",
      "metadata": {
        "id": "a29ee62b",
        "outputId": "d7d093e9-fafc-4125-973b-6c2a01a1b8e4"
      },
      "outputs": [],
      "source": [
        "\n",
        "precinct_series = mn_df[\"Precinct\"]\n",
        "\n",
        "# Let's grab the precinct name for the precinct in position 1\n",
        "precinct_series[1]"
      ]
    },
    {
      "cell_type": "markdown",
      "id": "674b3e77",
      "metadata": {},
      "source": [
        "We can grab the whole row of the dataframe using the `.loc[]` method and it will also return a Series"
      ]
    },
    {
      "cell_type": "code",
      "execution_count": null,
      "id": "082782e1",
      "metadata": {
        "id": "082782e1",
        "outputId": "9bbcd17a-95a3-46cd-cd67-69314c2616b7"
      },
      "outputs": [],
      "source": [
        "mn_df.loc[1]"
      ]
    },
    {
      "cell_type": "markdown",
      "id": "093c8846",
      "metadata": {},
      "source": [
        "Again, this can just be thought of as a dictionary"
      ]
    },
    {
      "cell_type": "code",
      "execution_count": null,
      "id": "e75bf9f6",
      "metadata": {
        "id": "e75bf9f6",
        "outputId": "ac25ff2d-982e-4ef4-ad4f-043af00cf5af"
      },
      "outputs": [],
      "source": [
        "mn_df.loc[1].to_dict()"
      ]
    },
    {
      "cell_type": "markdown",
      "id": "155b8837",
      "metadata": {
        "id": "155b8837"
      },
      "source": [
        "#### Try it!\n",
        "\n",
        "Print our the first row with the precinct name 'MINNEAPOLIS W-6 P-02'"
      ]
    },
    {
      "cell_type": "code",
      "execution_count": null,
      "id": "1370c934",
      "metadata": {
        "id": "1370c934",
        "outputId": "3644dbd9-1a86-400a-8c64-b954182f4229"
      },
      "outputs": [],
      "source": [
        "# Edit only the following line\n",
        "index = 0\n",
        "\n",
        "mn_df.loc[index] # Don't touch this line"
      ]
    },
    {
      "cell_type": "markdown",
      "id": "d64f5db2",
      "metadata": {},
      "source": [
        "Now print out the first choice for mayor in the above row"
      ]
    },
    {
      "cell_type": "code",
      "execution_count": null,
      "id": "312c498f",
      "metadata": {
        "id": "312c498f",
        "outputId": "72424c56-84d4-41f6-d2e5-9bbe99886edc"
      },
      "outputs": [],
      "source": [
        "row = mn_df.loc[index]\n",
        "\n",
        "# Edit the line below\n",
        "row[\"Precinct\"]"
      ]
    },
    {
      "cell_type": "markdown",
      "id": "1acf30bc",
      "metadata": {
        "id": "1acf30bc"
      },
      "source": [
        "The last thing that is nice to be able to do is find all of the unique values in a column along with\n",
        "their counts:"
      ]
    },
    {
      "cell_type": "code",
      "execution_count": null,
      "id": "a9f03ccb",
      "metadata": {
        "id": "a9f03ccb",
        "outputId": "f33bfbc2-1255-452c-a45b-e45551185bd5"
      },
      "outputs": [],
      "source": [
        "mn_df['Precinct'].unique()"
      ]
    },
    {
      "cell_type": "code",
      "execution_count": null,
      "id": "aa41e0aa",
      "metadata": {
        "id": "aa41e0aa",
        "outputId": "25da4a29-c538-46de-97b1-6d07dc7e1f9b"
      },
      "outputs": [],
      "source": [
        "mn_df['Precinct'].value_counts()"
      ]
    },
    {
      "cell_type": "markdown",
      "id": "81215f3b",
      "metadata": {
        "id": "81215f3b"
      },
      "source": [
        "#### Try it!\n",
        "\n",
        "Find the number of first place votes for each candidate in Minneapolis."
      ]
    },
    {
      "cell_type": "code",
      "execution_count": null,
      "id": "df8a534a",
      "metadata": {
        "id": "df8a534a",
        "outputId": "541ce841-4037-401b-b90b-e333bf036c49"
      },
      "outputs": [],
      "source": [
        "mn_df['1ST CHOICE MAYOR MINNEAPOLIS']"
      ]
    },
    {
      "cell_type": "markdown",
      "id": "0cdfb7cd",
      "metadata": {
        "id": "0cdfb7cd"
      },
      "source": [
        "### Filtering the dataframe\n",
        "\n",
        "The other important thing that we would like to do is filter a dataframe. In pandas, there are\n",
        "actually two ways to do this, so we will show both ways of finding all of the ballots belonging to\n",
        "the precinct 'MINNEAPOLIS W-6 P-02', but it should be noted that method 1 is generally preferred. "
      ]
    },
    {
      "cell_type": "code",
      "execution_count": null,
      "id": "7a737883",
      "metadata": {
        "id": "7a737883",
        "outputId": "a964318e-0656-4478-fe14-6a2791b4a09c"
      },
      "outputs": [],
      "source": [
        "# Method 1 - using the query function\n",
        "mn_df.query(\" Precinct == 'MINNEAPOLIS W-6 P-02' \")"
      ]
    },
    {
      "cell_type": "code",
      "execution_count": null,
      "id": "d7bf24e3",
      "metadata": {
        "id": "d7bf24e3",
        "outputId": "df732a16-eb87-4b8e-d06c-d872cfffbc57"
      },
      "outputs": [],
      "source": [
        "# Method 2 - using nested [] notation\n",
        "# This is good to know about, but the query() function is much easier to read\n",
        "mn_df[mn_df['Precinct'] == 'MINNEAPOLIS W-6 P-02']"
      ]
    },
    {
      "cell_type": "markdown",
      "id": "08e762e7",
      "metadata": {
        "id": "08e762e7"
      },
      "source": [
        "#### Try it!\n",
        "\n",
        "Find all of the ballots that marked \"BETSY HODGES\" in first place"
      ]
    },
    {
      "cell_type": "code",
      "execution_count": null,
      "id": "d354cc07",
      "metadata": {
        "id": "d354cc07",
        "outputId": "501748e4-81d5-4e07-8c2d-5a78efb7d3fc"
      },
      "outputs": [],
      "source": [
        "# Edit this line\n",
        "mn_df.query(\" `1ST CHOICE MAYOR MINNEAPOLIS` == 'undervote' \")\n",
        "#             ^                            ^\n",
        "# Backticks are needed here because the column name has spaces in it"
      ]
    },
    {
      "cell_type": "markdown",
      "id": "23db2e58",
      "metadata": {
        "id": "23db2e58"
      },
      "source": [
        "Another nice thing about the `query()` function is that it allows us to combine queries easily.\n",
        "\n",
        "Let's try filtering to find all ballots in the district 'MINNEAPOLIS W-6 P-02' and the first choice\n",
        "for mayor is 'BETSY HODGES'"
      ]
    },
    {
      "cell_type": "code",
      "execution_count": null,
      "id": "753c9096",
      "metadata": {
        "id": "753c9096",
        "outputId": "c7d6a0bd-0f33-4d03-ce08-6f98d209938b"
      },
      "outputs": [],
      "source": [
        "\n",
        "mn_df.query(\" Precinct == 'MINNEAPOLIS W-6 P-02' and `1ST CHOICE MAYOR MINNEAPOLIS` == 'BETSY HODGES' \")\n",
        "#                                                ^\n",
        "#                                      notice the 'and' here"
      ]
    },
    {
      "cell_type": "markdown",
      "id": "a4953420",
      "metadata": {},
      "source": [
        "Let's now filter the dataframe to find all ballots where the first or second choice for mayor is 'BETSY HODGES'"
      ]
    },
    {
      "cell_type": "code",
      "execution_count": null,
      "id": "4efda901",
      "metadata": {
        "id": "4efda901",
        "outputId": "ee1a92a8-7946-42e8-ea4b-9e53715b780c"
      },
      "outputs": [],
      "source": [
        "\n",
        "mn_df.query(\" `1ST CHOICE MAYOR MINNEAPOLIS` == 'BETSY HODGES' or `2ND CHOICE MAYOR MINNEAPOLIS` == 'BETSY HODGES' \")\n",
        "#                                                             ^\n",
        "#                                                   notice the 'or' here"
      ]
    },
    {
      "cell_type": "markdown",
      "id": "6b6d8f0b",
      "metadata": {
        "id": "6b6d8f0b"
      },
      "source": [
        "#### Try it!\n",
        "\n",
        "Filter the dataframe to find all ballots which had an undervote in the last two positions (i.e.\n",
        "bullet votes and blank ballots)."
      ]
    },
    {
      "cell_type": "code",
      "execution_count": null,
      "id": "b1296add",
      "metadata": {
        "id": "b1296add",
        "outputId": "bb65ddd1-1417-48f8-dadb-5408aebb6925"
      },
      "outputs": [],
      "source": [
        "mn_df.query(\" `2ND CHOICE MAYOR MINNEAPOLIS` == 'undervote' \") # Finish this query"
      ]
    },
    {
      "cell_type": "markdown",
      "id": "f685eccb",
      "metadata": {
        "id": "f685eccb"
      },
      "source": [
        "Filter the dataframe to find all ballots in precincts 'MINNEAPOLIS W-8 P-01' or 'MINNEAPOLIS W-4 P-01'."
      ]
    },
    {
      "cell_type": "code",
      "execution_count": null,
      "id": "e1b457d2",
      "metadata": {
        "id": "e1b457d2",
        "outputId": "79aa3456-7ae8-4655-b015-55213dc22369"
      },
      "outputs": [],
      "source": [
        "mn_df.query(\" Precinct == 'MINNEAPOLIS W-8 P-01' \") # Finish this query"
      ]
    },
    {
      "cell_type": "code",
      "execution_count": null,
      "id": "80a2b63f",
      "metadata": {
        "id": "80a2b63f"
      },
      "outputs": [],
      "source": []
    }
  ],
  "metadata": {
    "colab": {
      "include_colab_link": true,
      "provenance": []
    },
    "kernelspec": {
      "display_name": ".venv",
      "language": "python",
      "name": "python3"
    },
    "language_info": {
      "codemirror_mode": {
        "name": "ipython",
        "version": 3
      },
      "file_extension": ".py",
      "mimetype": "text/x-python",
      "name": "python",
      "nbconvert_exporter": "python",
      "pygments_lexer": "ipython3",
      "version": "3.13.3"
    }
  },
  "nbformat": 4,
  "nbformat_minor": 5
}
