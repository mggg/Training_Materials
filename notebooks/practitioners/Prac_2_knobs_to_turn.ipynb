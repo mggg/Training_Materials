{
  "cells": [
    {
      "cell_type": "markdown",
      "metadata": {
        "id": "view-in-github",
        "colab_type": "text"
      },
      "source": [
        "<a href=\"https://colab.research.google.com/github/mggg/Training_Materials/blob/main/notebooks/practitioners/Prac_2_knobs_to_turn.ipynb\" target=\"_parent\"><img src=\"https://colab.research.google.com/assets/colab-badge.svg\" alt=\"Open In Colab\"/></a>"
      ]
    },
    {
      "cell_type": "markdown",
      "id": "f473c302",
      "metadata": {
        "id": "f473c302"
      },
      "source": [
        "# Knobs to turn\n",
        "\n",
        "In this session we will learn about different models of ballot generator, and what \"knobs\" each model has that we can turn to model changes in voter behavior.\n"
      ]
    },
    {
      "cell_type": "markdown",
      "id": "20e92a77",
      "metadata": {
        "id": "20e92a77"
      },
      "source": [
        "# Generating Profiles\n",
        "\n",
        "There are many ways of generating ballots, and some of these methods have different knobs we can turn to model different voter behaviors. Here is how we can implement some of these in VoteKit."
      ]
    },
    {
      "cell_type": "markdown",
      "id": "ac5e3cca",
      "metadata": {
        "id": "ac5e3cca"
      },
      "source": [
        "## A model with one knob\n",
        "\n",
        "For a point of comparison, we will introduce the \"Impartial Culture\" model. This model says that when a voter goes to cast a ranked-ballot, they do so by randomly choosing one out of all of the possible rankings (uniform over the set of permutations for you probabilty folk). That's it. There is only one knob to turn--the number of candidates--and no way to affect the behavior of the voters. They all vote randomly.\n",
        "\n",
        "This model might not be very realistic, but it is easy to use and prove theorems about, so it abounds in the academic literature. Impartial Culture is ill-suited to studying real-world jurisdictions. We just wanted to show you that some models have fewer knobs!"
      ]
    },
    {
      "cell_type": "code",
      "execution_count": null,
      "id": "bf9158b5",
      "metadata": {
        "id": "bf9158b5"
      },
      "outputs": [],
      "source": [
        "from votekit.ballot_generator import ImpartialCulture\n",
        "from votekit.pref_profile import profile_df_head\n",
        "\n",
        "# the only thing you have to do is choose the candidates\n",
        "\n",
        "# Type a list of 3 candidate names\n",
        "candidates = [\"Chris\", \"Moon\", \"Peter\"]\n",
        "ic_bg = ImpartialCulture(candidates = candidates)\n",
        "\n",
        "# choose the number of ballots you want to generate\n",
        "profile = ic_bg.generate_profile(1000)"
      ]
    },
    {
      "cell_type": "markdown",
      "id": "8604e959",
      "metadata": {
        "id": "8604e959"
      },
      "source": [
        "If there are 3 candidates, there are 6 possible rankings. Since the Impartial Culture model has voters vote randomly, we should expect to see about equal numbers of each ballot type in the generated profile."
      ]
    },
    {
      "cell_type": "code",
      "execution_count": null,
      "id": "686c8c6b",
      "metadata": {
        "id": "686c8c6b",
        "outputId": "8c9ce73b-2472-4e61-ef4e-35e4594a0bbd"
      },
      "outputs": [
        {
          "data": {
            "text/html": [
              "<div>\n",
              "<style scoped>\n",
              "    .dataframe tbody tr th:only-of-type {\n",
              "        vertical-align: middle;\n",
              "    }\n",
              "\n",
              "    .dataframe tbody tr th {\n",
              "        vertical-align: top;\n",
              "    }\n",
              "\n",
              "    .dataframe thead th {\n",
              "        text-align: right;\n",
              "    }\n",
              "</style>\n",
              "<table border=\"1\" class=\"dataframe\">\n",
              "  <thead>\n",
              "    <tr style=\"text-align: right;\">\n",
              "      <th></th>\n",
              "      <th>Ranking_1</th>\n",
              "      <th>Ranking_2</th>\n",
              "      <th>Ranking_3</th>\n",
              "      <th>Voter Set</th>\n",
              "      <th>Weight</th>\n",
              "    </tr>\n",
              "    <tr>\n",
              "      <th>Ballot Index</th>\n",
              "      <th></th>\n",
              "      <th></th>\n",
              "      <th></th>\n",
              "      <th></th>\n",
              "      <th></th>\n",
              "    </tr>\n",
              "  </thead>\n",
              "  <tbody>\n",
              "    <tr>\n",
              "      <th>0</th>\n",
              "      <td>(Moon)</td>\n",
              "      <td>(Chris)</td>\n",
              "      <td>(Peter)</td>\n",
              "      <td>{}</td>\n",
              "      <td>194</td>\n",
              "    </tr>\n",
              "    <tr>\n",
              "      <th>2</th>\n",
              "      <td>(Chris)</td>\n",
              "      <td>(Moon)</td>\n",
              "      <td>(Peter)</td>\n",
              "      <td>{}</td>\n",
              "      <td>184</td>\n",
              "    </tr>\n",
              "    <tr>\n",
              "      <th>4</th>\n",
              "      <td>(Peter)</td>\n",
              "      <td>(Moon)</td>\n",
              "      <td>(Chris)</td>\n",
              "      <td>{}</td>\n",
              "      <td>167</td>\n",
              "    </tr>\n",
              "    <tr>\n",
              "      <th>3</th>\n",
              "      <td>(Moon)</td>\n",
              "      <td>(Peter)</td>\n",
              "      <td>(Chris)</td>\n",
              "      <td>{}</td>\n",
              "      <td>152</td>\n",
              "    </tr>\n",
              "    <tr>\n",
              "      <th>5</th>\n",
              "      <td>(Chris)</td>\n",
              "      <td>(Peter)</td>\n",
              "      <td>(Moon)</td>\n",
              "      <td>{}</td>\n",
              "      <td>152</td>\n",
              "    </tr>\n",
              "    <tr>\n",
              "      <th>1</th>\n",
              "      <td>(Peter)</td>\n",
              "      <td>(Chris)</td>\n",
              "      <td>(Moon)</td>\n",
              "      <td>{}</td>\n",
              "      <td>151</td>\n",
              "    </tr>\n",
              "  </tbody>\n",
              "</table>\n",
              "</div>"
            ],
            "text/plain": [
              "             Ranking_1 Ranking_2 Ranking_3 Voter Set Weight\n",
              "Ballot Index                                               \n",
              "0               (Moon)   (Chris)   (Peter)        {}    194\n",
              "2              (Chris)    (Moon)   (Peter)        {}    184\n",
              "4              (Peter)    (Moon)   (Chris)        {}    167\n",
              "3               (Moon)   (Peter)   (Chris)        {}    152\n",
              "5              (Chris)   (Peter)    (Moon)        {}    152\n",
              "1              (Peter)   (Chris)    (Moon)        {}    151"
            ]
          },
          "execution_count": 8,
          "metadata": {},
          "output_type": "execute_result"
        }
      ],
      "source": [
        "profile_df_head(profile, n=6) # prints the profile in decreasing order of weight"
      ]
    },
    {
      "cell_type": "markdown",
      "id": "913fcd3c",
      "metadata": {
        "id": "913fcd3c"
      },
      "source": [
        "### Try it yourself\n",
        "Change the number of ballots generated. The more ballots you generate the closer to the same number of each ballot you should get. Try changing the candidate names or even the number of candidates.\n",
        "\n",
        "Be careful, if the number of candidates goes above 11 it will crash from the size of the computation."
      ]
    },
    {
      "cell_type": "code",
      "execution_count": null,
      "id": "a8daa39a",
      "metadata": {
        "id": "a8daa39a",
        "outputId": "d8a9a928-0c00-4a94-9c66-ce9ef720c395"
      },
      "outputs": [
        {
          "data": {
            "text/html": [
              "<div>\n",
              "<style scoped>\n",
              "    .dataframe tbody tr th:only-of-type {\n",
              "        vertical-align: middle;\n",
              "    }\n",
              "\n",
              "    .dataframe tbody tr th {\n",
              "        vertical-align: top;\n",
              "    }\n",
              "\n",
              "    .dataframe thead th {\n",
              "        text-align: right;\n",
              "    }\n",
              "</style>\n",
              "<table border=\"1\" class=\"dataframe\">\n",
              "  <thead>\n",
              "    <tr style=\"text-align: right;\">\n",
              "      <th></th>\n",
              "      <th>Ranking_1</th>\n",
              "      <th>Ranking_2</th>\n",
              "      <th>Ranking_3</th>\n",
              "      <th>Voter Set</th>\n",
              "      <th>Weight</th>\n",
              "    </tr>\n",
              "    <tr>\n",
              "      <th>Ballot Index</th>\n",
              "      <th></th>\n",
              "      <th></th>\n",
              "      <th></th>\n",
              "      <th></th>\n",
              "      <th></th>\n",
              "    </tr>\n",
              "  </thead>\n",
              "  <tbody>\n",
              "    <tr>\n",
              "      <th>2</th>\n",
              "      <td>(Peter)</td>\n",
              "      <td>(Chris)</td>\n",
              "      <td>(Moon)</td>\n",
              "      <td>{}</td>\n",
              "      <td>3</td>\n",
              "    </tr>\n",
              "    <tr>\n",
              "      <th>3</th>\n",
              "      <td>(Moon)</td>\n",
              "      <td>(Peter)</td>\n",
              "      <td>(Chris)</td>\n",
              "      <td>{}</td>\n",
              "      <td>2</td>\n",
              "    </tr>\n",
              "    <tr>\n",
              "      <th>5</th>\n",
              "      <td>(Chris)</td>\n",
              "      <td>(Moon)</td>\n",
              "      <td>(Peter)</td>\n",
              "      <td>{}</td>\n",
              "      <td>2</td>\n",
              "    </tr>\n",
              "    <tr>\n",
              "      <th>0</th>\n",
              "      <td>(Moon)</td>\n",
              "      <td>(Chris)</td>\n",
              "      <td>(Peter)</td>\n",
              "      <td>{}</td>\n",
              "      <td>1</td>\n",
              "    </tr>\n",
              "    <tr>\n",
              "      <th>1</th>\n",
              "      <td>(Peter)</td>\n",
              "      <td>(Moon)</td>\n",
              "      <td>(Chris)</td>\n",
              "      <td>{}</td>\n",
              "      <td>1</td>\n",
              "    </tr>\n",
              "    <tr>\n",
              "      <th>4</th>\n",
              "      <td>(Chris)</td>\n",
              "      <td>(Peter)</td>\n",
              "      <td>(Moon)</td>\n",
              "      <td>{}</td>\n",
              "      <td>1</td>\n",
              "    </tr>\n",
              "  </tbody>\n",
              "</table>\n",
              "</div>"
            ],
            "text/plain": [
              "             Ranking_1 Ranking_2 Ranking_3 Voter Set Weight\n",
              "Ballot Index                                               \n",
              "2              (Peter)   (Chris)    (Moon)        {}      3\n",
              "3               (Moon)   (Peter)   (Chris)        {}      2\n",
              "5              (Chris)    (Moon)   (Peter)        {}      2\n",
              "0               (Moon)   (Chris)   (Peter)        {}      1\n",
              "1              (Peter)    (Moon)   (Chris)        {}      1\n",
              "4              (Chris)   (Peter)    (Moon)        {}      1"
            ]
          },
          "execution_count": 9,
          "metadata": {},
          "output_type": "execute_result"
        }
      ],
      "source": [
        "candidates = [\"Chris\", \"Moon\", \"Peter\"]\n",
        "ic_bg = ImpartialCulture(candidates = candidates)\n",
        "\n",
        "# choose the number of ballots you want to generate\n",
        "profile = ic_bg.generate_profile(10)\n",
        "profile_df_head(profile, n=6)"
      ]
    },
    {
      "cell_type": "markdown",
      "id": "6394457d",
      "metadata": {
        "id": "6394457d"
      },
      "source": [
        "## A model with knobs"
      ]
    },
    {
      "cell_type": "markdown",
      "id": "fe63c7ec",
      "metadata": {
        "id": "fe63c7ec"
      },
      "source": [
        "The slate-Plackett-Luce (sPL) model models \"impulsive\" voters. These are voters who rank their candidates only by considering how much they like each individual candidate. Later we will see a model for \"deliberative\" voters. Both use the same set up, so we will focus on sPL first. There are 5 knobs to turn, so the set up can be a bit overwhelming, but the tradeoff is that we can model more realistic voter behavior."
      ]
    },
    {
      "cell_type": "markdown",
      "id": "3faa7c62",
      "metadata": {
        "id": "3faa7c62"
      },
      "source": [
        "Knob 1: Number of blocs\n",
        "\n",
        "The first parameter we need to decide is the voting blocs. This could be Democract/Republican, White/POC, or some other breakdown of the voters. You aren't limited to just two blocs, although the number of parameters ends up growing a LOT when you start adding more blocs, so we will stick with two for now.\n",
        "\n",
        "Knob 2: Size of blocs\n",
        "\n",
        "The second parameter we need to decide is the relative size of each bloc.\n",
        "\n",
        "What can turning these knobs model?\n",
        "\n",
        "These knobs are useful for keeping track of a voting bloc of interest, and measuring the impact of low/high turnout of groups relative to other groups."
      ]
    },
    {
      "cell_type": "code",
      "execution_count": null,
      "id": "bbd493cf",
      "metadata": {
        "id": "bbd493cf"
      },
      "outputs": [],
      "source": [
        "from votekit.ballot_generator import slate_PlackettLuce\n",
        "\n",
        "bloc_voter_prop = {\"X\": .8, \"Y\": .2} # these numbers need to add to 1\n",
        "                                     # they represent the fraction of total voters in each bloc"
      ]
    },
    {
      "cell_type": "markdown",
      "id": "ee2ec880",
      "metadata": {
        "id": "ee2ec880"
      },
      "source": [
        "Knob 3: Number of candidates\n",
        "\n",
        "For each bloc of voters, we need to decide how many candidates are in their slate. This knob is useful for understanding the impacts of a crowded or sparse field of candidates. Think \"vote splitting.\""
      ]
    },
    {
      "cell_type": "code",
      "execution_count": null,
      "id": "df44572d",
      "metadata": {
        "id": "df44572d"
      },
      "outputs": [],
      "source": [
        "slate_to_candidates = {\n",
        "    \"X\": [\"Chris\", \"Peter\", \"Jeanne\"],\n",
        "    \"Y\": [\"Moon\", \"Mala\"],\n",
        "}"
      ]
    },
    {
      "cell_type": "markdown",
      "id": "2e3b0cde",
      "metadata": {
        "id": "2e3b0cde"
      },
      "source": [
        "Knob 4: Bloc cohesion\n",
        "\n",
        "For each bloc of voters, we need to decide how cohesive they are. Think of cohesion as polarization. If cohesion is 1, it means that every voter ranks all of their own candidates above all of the others (highly polarized). If cohesion is 1/2, this means that a voter tends to rank one candidate from their own slate, then a candidate from the other slate, and back and forth (low polarization)."
      ]
    },
    {
      "cell_type": "code",
      "execution_count": null,
      "id": "7af849b3",
      "metadata": {
        "id": "7af849b3"
      },
      "outputs": [],
      "source": [
        "# the values of .9 indicate that these blocs are highly polarized;\n",
        "# they prefer their own candidates much more than the opposing slate\n",
        "cohesion_parameters = {\n",
        "    \"X\": {\"X\":.9, \"Y\":.1}, # these numbers have to add to 1\n",
        "    \"Y\": {\"X\":.1, \"Y\":.9},\n",
        "}\n",
        "\n"
      ]
    },
    {
      "cell_type": "markdown",
      "id": "9e2d4a90",
      "metadata": {
        "id": "9e2d4a90"
      },
      "source": [
        "Knob 5: Candidate strength\n",
        "\n",
        "The final knob to turn is the candidate strength knob. This is a number between 0 and infinity. The smaller the number, the more a strong candidate emerges. That is, the bloc of voters prefers a single candidate.\n",
        "The larger the number, the more uniform candidate strength becomes. That is, the bloc of voters tends to prefer all candidates similarly.\n",
        "If the number is 1, all bets are off!\n",
        "\n",
        "Technically, these parameters are known as \"Dirichlet alpha\" values. You don't need to know what that means (although you can read about it [here](https://votekit.readthedocs.io/en/latest/social_choice_docs/scr/#dirichlet-distribution)), but that explains why we name the variable `alphas`.\n",
        "\n",
        "This knob is good for modeling how the strength of candidates can impact an election. What if a candidate receives an endorsement? What if there is an incumbent candidate with strong support? What if the candidates are all equally matched?"
      ]
    },
    {
      "cell_type": "code",
      "execution_count": null,
      "id": "cc62c951",
      "metadata": {
        "id": "cc62c951"
      },
      "outputs": [],
      "source": [
        "alphas = {\n",
        "    \"X\": {\"X\":100, \"Y\":1}, # the X block has uniform preference for their candidates, and unknown for the Y candidates\n",
        "    \"Y\": {\"X\":1, \"Y\":0.1}, # the Y block has strong preference for one of their candidates, and unknown for the X candidates\n",
        "}"
      ]
    },
    {
      "cell_type": "markdown",
      "id": "10d02ec1",
      "metadata": {
        "id": "10d02ec1"
      },
      "source": [
        "Finally, we are ready to create the ballot generator."
      ]
    },
    {
      "cell_type": "code",
      "execution_count": null,
      "id": "99115a3c",
      "metadata": {
        "id": "99115a3c"
      },
      "outputs": [],
      "source": [
        "pl = slate_PlackettLuce.from_params(\n",
        "    bloc_voter_prop=bloc_voter_prop, # Knob 1 and 2\n",
        "    slate_to_candidates=slate_to_candidates, # Knob 3\n",
        "    cohesion_parameters=cohesion_parameters, # Knob 4\n",
        "    alphas=alphas, # Knob 5\n",
        ")"
      ]
    },
    {
      "cell_type": "markdown",
      "id": "34d8377c",
      "metadata": {
        "id": "34d8377c"
      },
      "source": [
        "We can generate ballots in the same way as before."
      ]
    },
    {
      "cell_type": "code",
      "execution_count": null,
      "id": "8994f43c",
      "metadata": {
        "id": "8994f43c",
        "outputId": "bf74dbb9-1c01-4429-fef5-4369eb852ad3"
      },
      "outputs": [
        {
          "data": {
            "text/html": [
              "<div>\n",
              "<style scoped>\n",
              "    .dataframe tbody tr th:only-of-type {\n",
              "        vertical-align: middle;\n",
              "    }\n",
              "\n",
              "    .dataframe tbody tr th {\n",
              "        vertical-align: top;\n",
              "    }\n",
              "\n",
              "    .dataframe thead th {\n",
              "        text-align: right;\n",
              "    }\n",
              "</style>\n",
              "<table border=\"1\" class=\"dataframe\">\n",
              "  <thead>\n",
              "    <tr style=\"text-align: right;\">\n",
              "      <th></th>\n",
              "      <th>Ranking_1</th>\n",
              "      <th>Ranking_2</th>\n",
              "      <th>Ranking_3</th>\n",
              "      <th>Ranking_4</th>\n",
              "      <th>Ranking_5</th>\n",
              "      <th>Voter Set</th>\n",
              "      <th>Weight</th>\n",
              "    </tr>\n",
              "    <tr>\n",
              "      <th>Ballot Index</th>\n",
              "      <th></th>\n",
              "      <th></th>\n",
              "      <th></th>\n",
              "      <th></th>\n",
              "      <th></th>\n",
              "      <th></th>\n",
              "      <th></th>\n",
              "    </tr>\n",
              "  </thead>\n",
              "  <tbody>\n",
              "    <tr>\n",
              "      <th>18</th>\n",
              "      <td>(Peter)</td>\n",
              "      <td>(Chris)</td>\n",
              "      <td>(Jeanne)</td>\n",
              "      <td>(Mala)</td>\n",
              "      <td>(Moon)</td>\n",
              "      <td>{}</td>\n",
              "      <td>108</td>\n",
              "    </tr>\n",
              "    <tr>\n",
              "      <th>46</th>\n",
              "      <td>(Chris)</td>\n",
              "      <td>(Peter)</td>\n",
              "      <td>(Jeanne)</td>\n",
              "      <td>(Mala)</td>\n",
              "      <td>(Moon)</td>\n",
              "      <td>{}</td>\n",
              "      <td>105</td>\n",
              "    </tr>\n",
              "    <tr>\n",
              "      <th>22</th>\n",
              "      <td>(Peter)</td>\n",
              "      <td>(Jeanne)</td>\n",
              "      <td>(Chris)</td>\n",
              "      <td>(Mala)</td>\n",
              "      <td>(Moon)</td>\n",
              "      <td>{}</td>\n",
              "      <td>103</td>\n",
              "    </tr>\n",
              "    <tr>\n",
              "      <th>0</th>\n",
              "      <td>(Jeanne)</td>\n",
              "      <td>(Peter)</td>\n",
              "      <td>(Chris)</td>\n",
              "      <td>(Mala)</td>\n",
              "      <td>(Moon)</td>\n",
              "      <td>{}</td>\n",
              "      <td>88</td>\n",
              "    </tr>\n",
              "    <tr>\n",
              "      <th>7</th>\n",
              "      <td>(Jeanne)</td>\n",
              "      <td>(Chris)</td>\n",
              "      <td>(Peter)</td>\n",
              "      <td>(Mala)</td>\n",
              "      <td>(Moon)</td>\n",
              "      <td>{}</td>\n",
              "      <td>76</td>\n",
              "    </tr>\n",
              "    <tr>\n",
              "      <th>55</th>\n",
              "      <td>(Chris)</td>\n",
              "      <td>(Jeanne)</td>\n",
              "      <td>(Peter)</td>\n",
              "      <td>(Mala)</td>\n",
              "      <td>(Moon)</td>\n",
              "      <td>{}</td>\n",
              "      <td>75</td>\n",
              "    </tr>\n",
              "    <tr>\n",
              "      <th>67</th>\n",
              "      <td>(Moon)</td>\n",
              "      <td>(Mala)</td>\n",
              "      <td>(Chris)</td>\n",
              "      <td>(Jeanne)</td>\n",
              "      <td>(Peter)</td>\n",
              "      <td>{}</td>\n",
              "      <td>60</td>\n",
              "    </tr>\n",
              "    <tr>\n",
              "      <th>62</th>\n",
              "      <td>(Moon)</td>\n",
              "      <td>(Mala)</td>\n",
              "      <td>(Jeanne)</td>\n",
              "      <td>(Chris)</td>\n",
              "      <td>(Peter)</td>\n",
              "      <td>{}</td>\n",
              "      <td>40</td>\n",
              "    </tr>\n",
              "    <tr>\n",
              "      <th>66</th>\n",
              "      <td>(Moon)</td>\n",
              "      <td>(Mala)</td>\n",
              "      <td>(Chris)</td>\n",
              "      <td>(Peter)</td>\n",
              "      <td>(Jeanne)</td>\n",
              "      <td>{}</td>\n",
              "      <td>20</td>\n",
              "    </tr>\n",
              "    <tr>\n",
              "      <th>57</th>\n",
              "      <td>(Chris)</td>\n",
              "      <td>(Jeanne)</td>\n",
              "      <td>(Mala)</td>\n",
              "      <td>(Peter)</td>\n",
              "      <td>(Moon)</td>\n",
              "      <td>{}</td>\n",
              "      <td>16</td>\n",
              "    </tr>\n",
              "  </tbody>\n",
              "</table>\n",
              "</div>"
            ],
            "text/plain": [
              "             Ranking_1 Ranking_2 Ranking_3 Ranking_4 Ranking_5 Voter Set  \\\n",
              "Ballot Index                                                               \n",
              "18             (Peter)   (Chris)  (Jeanne)    (Mala)    (Moon)        {}   \n",
              "46             (Chris)   (Peter)  (Jeanne)    (Mala)    (Moon)        {}   \n",
              "22             (Peter)  (Jeanne)   (Chris)    (Mala)    (Moon)        {}   \n",
              "0             (Jeanne)   (Peter)   (Chris)    (Mala)    (Moon)        {}   \n",
              "7             (Jeanne)   (Chris)   (Peter)    (Mala)    (Moon)        {}   \n",
              "55             (Chris)  (Jeanne)   (Peter)    (Mala)    (Moon)        {}   \n",
              "67              (Moon)    (Mala)   (Chris)  (Jeanne)   (Peter)        {}   \n",
              "62              (Moon)    (Mala)  (Jeanne)   (Chris)   (Peter)        {}   \n",
              "66              (Moon)    (Mala)   (Chris)   (Peter)  (Jeanne)        {}   \n",
              "57             (Chris)  (Jeanne)    (Mala)   (Peter)    (Moon)        {}   \n",
              "\n",
              "             Weight  \n",
              "Ballot Index         \n",
              "18              108  \n",
              "46              105  \n",
              "22              103  \n",
              "0                88  \n",
              "7                76  \n",
              "55               75  \n",
              "67               60  \n",
              "62               40  \n",
              "66               20  \n",
              "57               16  "
            ]
          },
          "execution_count": 15,
          "metadata": {},
          "output_type": "execute_result"
        }
      ],
      "source": [
        "profile = pl.generate_profile(1000)\n",
        "profile_df_head(profile, n=10) # prints the profile in decreasing order of weight"
      ]
    },
    {
      "cell_type": "markdown",
      "id": "e72c65aa",
      "metadata": {
        "id": "e72c65aa"
      },
      "source": [
        "Do the top 10 ballots make sense given our parameters? The top few ballots should be X bloc voters whose top candidates are Peter, Chris, and Jeanne. The X bloc has uniform preference over their candidates. The Y bloc has strong preference for one candidate, so their ballots should mostly rank Moon over Mala or Mala over Moon (the randomization does not let us know which of the candidates will be strong)."
      ]
    },
    {
      "cell_type": "markdown",
      "id": "07df4ef5",
      "metadata": {
        "id": "07df4ef5"
      },
      "source": [
        "Actually, it can be hard to tell which ballots come from which bloc of voters. Let's regenerate a profile but split the ballots by bloc."
      ]
    },
    {
      "cell_type": "code",
      "execution_count": null,
      "id": "e75d5c2c",
      "metadata": {
        "id": "e75d5c2c",
        "outputId": "a73b64cb-2c56-4116-f11f-13b599f1bbc3"
      },
      "outputs": [
        {
          "name": "stdout",
          "output_type": "stream",
          "text": [
            "This is the top ten ballots of the profile for bloc X.\n",
            "             Ranking_1 Ranking_2 Ranking_3 Ranking_4 Ranking_5 Voter Set Weight\n",
            "Ballot Index                                                                   \n",
            "48             (Peter)   (Chris)  (Jeanne)    (Mala)    (Moon)        {}    108\n",
            "15            (Jeanne)   (Peter)   (Chris)    (Mala)    (Moon)        {}    100\n",
            "53             (Peter)  (Jeanne)   (Chris)    (Mala)    (Moon)        {}     96\n",
            "0              (Chris)   (Peter)  (Jeanne)    (Mala)    (Moon)        {}     91\n",
            "7              (Chris)  (Jeanne)   (Peter)    (Mala)    (Moon)        {}     78\n",
            "18            (Jeanne)   (Chris)   (Peter)    (Mala)    (Moon)        {}     72\n",
            "60             (Peter)    (Mala)   (Chris)  (Jeanne)    (Moon)        {}     15\n",
            "44              (Mala)  (Jeanne)   (Peter)   (Chris)    (Moon)        {}     12\n",
            "28              (Mala)   (Peter)  (Jeanne)   (Chris)    (Moon)        {}     11\n",
            "36              (Mala)   (Chris)   (Peter)  (Jeanne)    (Moon)        {}     11\n",
            "\n",
            "This is the top ten ballots of the profile for bloc Y.\n",
            "             Ranking_1 Ranking_2 Ranking_3 Ranking_4 Ranking_5 Voter Set Weight\n",
            "Ballot Index                                                                   \n",
            "0               (Moon)    (Mala)   (Chris)  (Jeanne)   (Peter)        {}     64\n",
            "3               (Moon)    (Mala)  (Jeanne)   (Chris)   (Peter)        {}     49\n",
            "5               (Moon)    (Mala)   (Peter)   (Chris)  (Jeanne)        {}     16\n",
            "1               (Moon)    (Mala)   (Chris)   (Peter)  (Jeanne)        {}     16\n",
            "2               (Moon)    (Mala)  (Jeanne)   (Peter)   (Chris)        {}     10\n",
            "8               (Moon)   (Chris)    (Mala)  (Jeanne)   (Peter)        {}      6\n",
            "4               (Moon)    (Mala)   (Peter)  (Jeanne)   (Chris)        {}      6\n",
            "18             (Chris)    (Moon)    (Mala)  (Jeanne)   (Peter)        {}      5\n",
            "19             (Chris)    (Moon)    (Mala)   (Peter)  (Jeanne)        {}      5\n",
            "17            (Jeanne)    (Moon)    (Mala)   (Chris)   (Peter)        {}      4\n",
            "\n",
            "This is the complete profile.\n",
            "             Ranking_1 Ranking_2 Ranking_3 Ranking_4 Ranking_5 Voter Set Weight\n",
            "Ballot Index                                                                   \n",
            "48             (Peter)   (Chris)  (Jeanne)    (Mala)    (Moon)        {}    108\n",
            "15            (Jeanne)   (Peter)   (Chris)    (Mala)    (Moon)        {}    100\n",
            "53             (Peter)  (Jeanne)   (Chris)    (Mala)    (Moon)        {}     96\n",
            "0              (Chris)   (Peter)  (Jeanne)    (Mala)    (Moon)        {}     91\n",
            "7              (Chris)  (Jeanne)   (Peter)    (Mala)    (Moon)        {}     78\n",
            "18            (Jeanne)   (Chris)   (Peter)    (Mala)    (Moon)        {}     72\n",
            "69              (Moon)    (Mala)   (Chris)  (Jeanne)   (Peter)        {}     64\n",
            "72              (Moon)    (Mala)  (Jeanne)   (Chris)   (Peter)        {}     49\n",
            "74              (Moon)    (Mala)   (Peter)   (Chris)  (Jeanne)        {}     16\n",
            "70              (Moon)    (Mala)   (Chris)   (Peter)  (Jeanne)        {}     16\n"
          ]
        }
      ],
      "source": [
        "profiles_by_bloc, complete_profile = pl.generate_profile(1000, by_bloc = True)\n",
        "\n",
        "for bloc, profile in profiles_by_bloc.items():\n",
        "    print(f\"This is the top ten ballots of the profile for bloc {bloc}.\")\n",
        "    print(profile_df_head(profile, n=10).to_string())\n",
        "    print()\n",
        "\n",
        "print(\"This is the complete profile.\")\n",
        "print(profile_df_head(complete_profile, n=10).to_string())"
      ]
    },
    {
      "cell_type": "markdown",
      "id": "a909c4c4",
      "metadata": {
        "id": "a909c4c4"
      },
      "source": [
        "Now do the top 10 ballots make sense given our parameters? The top ballots from the X bloc should be voters whose top candidates are Peter, Chris, and Jeanne. The X bloc has uniform preference over their candidates. The Y bloc has strong preference for one candidate, so their ballots should mostly rank Moon over Mala or Mala over Moon."
      ]
    },
    {
      "cell_type": "markdown",
      "id": "8bbae70c",
      "metadata": {
        "id": "8bbae70c"
      },
      "source": [
        "### Try it yourself:\n",
        "\n",
        "Edit the code below to explore how changing the different knobs allows you to model different voter behavior. One at a time, try the following prompts.\n",
        "\n",
        "1) Try changing the relative bloc sizes to model low turnout of one bloc.\n",
        "2) Try changing the number of candidates of one bloc.\n",
        "3) Try changing the polarization of the blocs.\n",
        "4) Try changing the candidate strength of the blocs.\n"
      ]
    },
    {
      "cell_type": "code",
      "execution_count": null,
      "id": "741187c5",
      "metadata": {
        "id": "741187c5"
      },
      "outputs": [],
      "source": [
        "bloc_voter_prop = {\"X\": .8, \"Y\": .2}\n",
        "\n",
        "slate_to_candidates = {\"X\": [\"X1\", \"X2\"],\n",
        "                        \"Y\": [\"Y1\", \"Y2\"]}\n",
        "\n",
        "# how polarized are the blocs\n",
        "cohesion_parameters = {\n",
        "    \"X\": {\"X\":.9, \"Y\":.1},\n",
        "    \"Y\": {\"X\":.1, \"Y\":.9},\n",
        "    }\n",
        "\n",
        "\n",
        "alphas = { # the candidate strength\n",
        "    \"X\": {\"X\":2, \"Y\":1},\n",
        "    \"Y\": {\"X\":1, \"Y\":.5},\n",
        "    }\n",
        "\n",
        "\n",
        "pl = slate_PlackettLuce.from_params(slate_to_candidates=slate_to_candidates,\n",
        "          bloc_voter_prop=bloc_voter_prop,\n",
        "          cohesion_parameters=cohesion_parameters,\n",
        "          alphas=alphas)\n",
        "\n",
        "profiles_by_bloc, complete_profile = pl.generate_profile(1000, by_bloc = True)\n",
        "\n",
        "for bloc, profile in profiles_by_bloc.items():\n",
        "    print(f\"This is the top ten ballots of the profile for bloc {bloc}.\")\n",
        "    print(profile_df_head(profile, n=10).to_string())\n",
        "    print()\n",
        "\n",
        "print(\"This is the top ten ballots of the complete profile.\")\n",
        "print(profile_df_head(complete_profile, n=10).to_string())"
      ]
    },
    {
      "cell_type": "markdown",
      "id": "7f470c7c",
      "metadata": {
        "id": "7f470c7c"
      },
      "source": [
        "### Try it yourself:\n",
        "\n",
        "We mentioned earlier that it is possible to use more than two blocs of voters. This can be useful if you want to model things like a convervative, moderate, progressive split. However, the number of parameters grows a lot, and it generally becomes messier to deal with.\n",
        "\n",
        "Edit the code below to include a third bloc, 'Z'. We've already done a bit of it for you."
      ]
    },
    {
      "cell_type": "code",
      "execution_count": null,
      "id": "11fdc6fd",
      "metadata": {
        "id": "11fdc6fd"
      },
      "outputs": [],
      "source": [
        "bloc_voter_prop = {\"X\": .7, \"Y\": .2, \"Z\": .1}\n",
        "\n",
        "slate_to_candidates = {\"X\": [\"X1\", \"X2\"],\n",
        "                        \"Y\": [\"Y1\", \"Y2\"],\n",
        "                        \"Z\": [ ], # add candidates\n",
        "                        }\n",
        "\n",
        "# how polarized are the blocs\n",
        "cohesion_parameters = {\n",
        "    \"X\": {\"X\":.9, \"Y\":.05, \"Z\": .05}, # these always need to sum to 1\n",
        "    \"Y\": {\"X\":.1, \"Y\":.9}, # add Z\n",
        "    \"Z\": {}, # add X, Y, and Z\n",
        "    }\n",
        "\n",
        "\n",
        "alphas = { # the candidate strength\n",
        "    \"X\": {\"X\":2, \"Y\":1, \"Z\": 1},\n",
        "    \"Y\": {\"X\":1, \"Y\":.5},# add Z\n",
        "    \"Z\": {}, # add X, Y, and Z\n",
        "    }\n",
        "\n",
        "\n",
        "pl = slate_PlackettLuce.from_params(slate_to_candidates=slate_to_candidates,\n",
        "          bloc_voter_prop=bloc_voter_prop,\n",
        "          cohesion_parameters=cohesion_parameters,\n",
        "          alphas=alphas)\n",
        "\n",
        "profiles_by_bloc, complete_profile = pl.generate_profile(1000, by_bloc = True)\n",
        "\n",
        "for bloc, profile in profiles_by_bloc.items():\n",
        "    print(f\"This is the top ten ballots of the profile for bloc {bloc}.\")\n",
        "    print(profile_df_head(profile, n=10).to_string())\n",
        "    print()\n",
        "\n",
        "print(\"This is the top ten ballots of the complete profile.\")\n",
        "print(profile_df_head(complete_profile, n=10).to_string())"
      ]
    },
    {
      "cell_type": "markdown",
      "id": "c340fcf6",
      "metadata": {
        "id": "c340fcf6"
      },
      "source": [
        "### Try it yourself:\n",
        "\n",
        "The sPL model is for \"impulsive\" voters, who only consider how they feel about each candidate individually when they rank. We have implemented another model, the slate-Bradley-Terry (sBT) model that is for \"deliberative\" voters who consider how they feel about each candidate in relation to every other candidate when they rank.\n",
        "\n",
        "The syntax and knobs are exactly the same, we just change the name of the generator. Below, implement the sBT model and compare how its generated ballots differ from sPL. Use two blocs of voters."
      ]
    },
    {
      "cell_type": "code",
      "execution_count": null,
      "id": "b22bc737",
      "metadata": {
        "id": "b22bc737"
      },
      "outputs": [],
      "source": [
        "from votekit.ballot_generator import slate_BradleyTerry\n",
        "\n",
        "bloc_voter_prop =\n",
        "\n",
        "slate_to_candidates =\n",
        "\n",
        "cohesion_parameters =\n",
        "\n",
        "alphas =\n",
        "\n",
        "\n",
        "pl = slate_PlackettLuce.from_params(slate_to_candidates=slate_to_candidates,\n",
        "          bloc_voter_prop=bloc_voter_prop,\n",
        "          cohesion_parameters=cohesion_parameters,\n",
        "          alphas=alphas)\n",
        "\n",
        "bt = slate_BradleyTerry.from_params(slate_to_candidates=slate_to_candidates,\n",
        "          bloc_voter_prop=bloc_voter_prop,\n",
        "          cohesion_parameters=cohesion_parameters,\n",
        "          alphas=alphas)\n",
        "\n",
        "pl_complete_profile = pl.generate_profile(1000, by_bloc = False)\n",
        "bt_complete_profile = bt.generate_profile(1000, by_bloc = False)\n",
        "\n",
        "print(\"This is the top ten ballots of the PL profile.\")\n",
        "print(profile_df_head(pl_complete_profile, n=10).to_string())\n",
        "\n",
        "print(\"This is the top ten ballots of the BT profile.\")\n",
        "print(profile_df_head(bt_complete_profile, n=10).to_string())"
      ]
    },
    {
      "cell_type": "markdown",
      "id": "a9cf1fe8",
      "metadata": {
        "id": "a9cf1fe8"
      },
      "source": [
        "## Running the same election under different voter behavior\n",
        "\n",
        "The utility of changing all of these knobs around is it lets us see how voter behavior impacts the outcome of an election. We will walk you through how to study the impact of low turnout on the number of progressive candidates elected. Then, we'll have you try studing the impact of high polarization.\n",
        "\n",
        "It is always important to isolate the one knob you are turning, so we will hold the rest of our knobs fixed for this experiment.\n"
      ]
    },
    {
      "cell_type": "code",
      "execution_count": null,
      "id": "e6d49ba0",
      "metadata": {
        "id": "e6d49ba0",
        "outputId": "c48bb21c-0be8-4bfd-e8c6-4bbc52b6c9ca"
      },
      "outputs": [
        {
          "name": "stdout",
          "output_type": "stream",
          "text": [
            "Requirement already satisfied: tqdm in /Users/cdonnay/Documents/GitHub/MGGG/Training_Materials_25/.venv/lib/python3.13/site-packages (4.67.1)\n"
          ]
        }
      ],
      "source": [
        "# this block of code isn't Python, the \"!\" symbol tells the notebook to run this as a terminal command\n",
        "# This installs the tqdm library which shows progress bars on for loops. Helpful for keeping track of long runs of experiments!\n",
        "!pip install tqdm"
      ]
    },
    {
      "cell_type": "code",
      "execution_count": null,
      "id": "d9701b4f",
      "metadata": {
        "id": "d9701b4f",
        "outputId": "99a68dcc-c527-4bfb-f69d-6bc7729a2e3b",
        "colab": {
          "referenced_widgets": [
            "2b0ce54e6e0c4b168cfda08baf68d72f",
            "fcf51c61afec4f94a34452e32dc86480"
          ]
        }
      },
      "outputs": [
        {
          "name": "stdout",
          "output_type": "stream",
          "text": [
            "high_progressive_turnout\n"
          ]
        },
        {
          "data": {
            "application/vnd.jupyter.widget-view+json": {
              "model_id": "2b0ce54e6e0c4b168cfda08baf68d72f",
              "version_major": 2,
              "version_minor": 0
            },
            "text/plain": [
              "  0%|          | 0/50 [00:00<?, ?it/s]"
            ]
          },
          "metadata": {},
          "output_type": "display_data"
        },
        {
          "name": "stdout",
          "output_type": "stream",
          "text": [
            "low_progressive_turnout\n"
          ]
        },
        {
          "data": {
            "application/vnd.jupyter.widget-view+json": {
              "model_id": "fcf51c61afec4f94a34452e32dc86480",
              "version_major": 2,
              "version_minor": 0
            },
            "text/plain": [
              "  0%|          | 0/50 [00:00<?, ?it/s]"
            ]
          },
          "metadata": {},
          "output_type": "display_data"
        }
      ],
      "source": [
        "from votekit.elections import STV\n",
        "from tqdm.notebook import tqdm\n",
        "\n",
        "num_cands = {\"P\": 3, \"C\": 3}\n",
        "num_voters = 5000\n",
        "num_seats = 3\n",
        "num_trials = 50\n",
        "\n",
        "# Fixed parameters\n",
        "slate_to_candidates = {\"P\": [f\"P_{i}\" for i in range(num_cands[\"P\"])], # creates the list [\"P_0\", \"P_1\", \"P_2\"]\n",
        "                        \"C\": [f\"C_{i}\" for i in range(num_cands[\"C\"])],} # creates the list [\"C_0\", \"C_1\", \"C_2\"]\n",
        "\n",
        "cohesion_parameters = {\n",
        "    \"P\": {\"P\":.8, \"C\":.2}, # relatively high polarization\n",
        "    \"C\": {\"P\":.2, \"C\":.8},\n",
        "    }\n",
        "\n",
        "alphas = { # the candidate strength\n",
        "    \"P\": {\"P\":1, \"C\":1}, # all bets are off for all candidates\n",
        "    \"C\": {\"P\":1, \"C\":1},\n",
        "    }\n",
        "\n",
        "# Varying parameter\n",
        "turnouts = {\n",
        "    \"high_progressive_turnout\"  : {\"P\": .7, \"C\": .3},\n",
        "    \"low_progressive_turnout\"  : {\"P\": .5, \"C\": .5},\n",
        "    }\n",
        "\n",
        "\n",
        "# used to store the results\n",
        "num_prog_winners_by_turnout = {\n",
        "    \"high_progressive_turnout\": [],\n",
        "    \"low_progressive_turnout\": [],\n",
        "    }\n",
        "\n",
        "for turnout_label, bloc_voter_prop in turnouts.items():\n",
        "\n",
        "    print(turnout_label)\n",
        "\n",
        "    for _ in tqdm(range(num_trials)): # tqdm creates a progress bar\n",
        "        pl = slate_PlackettLuce.from_params(slate_to_candidates=slate_to_candidates,\n",
        "                bloc_voter_prop=bloc_voter_prop,\n",
        "                cohesion_parameters=cohesion_parameters,\n",
        "                alphas=alphas)\n",
        "\n",
        "        profile = pl.generate_profile(num_voters)\n",
        "\n",
        "        e = STV(profile, m= num_seats)\n",
        "\n",
        "        winners = e.get_elected()\n",
        "\n",
        "        # compute the number of profressive winners\n",
        "        num_prog_winners = len([c for cand_set in winners for c in cand_set if \"P_\" in c])\n",
        "\n",
        "        # add the number of progressive winners to the end of a list\n",
        "        num_prog_winners_by_turnout[turnout_label].append(num_prog_winners)\n",
        "\n"
      ]
    },
    {
      "cell_type": "markdown",
      "id": "e2525328",
      "metadata": {
        "id": "e2525328"
      },
      "source": [
        "The code below plots the results of our experiment."
      ]
    },
    {
      "cell_type": "code",
      "execution_count": null,
      "id": "eabe7af4",
      "metadata": {
        "id": "eabe7af4",
        "outputId": "85fae41b-ff6c-4a5e-a565-9e7a9ed447a9"
      },
      "outputs": [
        {
          "data": {
            "image/png": "[encoded data removed]",
            "text/plain": [
              "<Figure size 900x400 with 1 Axes>"
            ]
          },
          "metadata": {},
          "output_type": "display_data"
        }
      ],
      "source": [
        "import matplotlib.pyplot as plt\n",
        "import numpy as np\n",
        "\n",
        "fig,ax = plt.subplots(figsize = (9,4))\n",
        "\n",
        "bins = np.arange(-1/2, num_seats +1.5)\n",
        "\n",
        "ax.hist(num_prog_winners_by_turnout.values(), label = num_prog_winners_by_turnout.keys(), bins = bins)\n",
        "ax.set_xlim(-1, num_seats+1)\n",
        "ax.set_xticks(range(0,num_seats+1))\n",
        "ax.set_title(\"Comparing progressive seats as turnout varies\")\n",
        "\n",
        "\n",
        "plt.legend()\n",
        "plt.show()"
      ]
    },
    {
      "cell_type": "markdown",
      "id": "eacf0fa2",
      "metadata": {
        "id": "eacf0fa2"
      },
      "source": [
        "### Try it yourself:\n",
        "\n",
        "Using the code below as a skeleton, try to study the impact of high polarization. These are the cohesion parameters. Higher cohesion means higher polarization."
      ]
    },
    {
      "cell_type": "code",
      "execution_count": null,
      "id": "1fe4db8e",
      "metadata": {
        "id": "1fe4db8e"
      },
      "outputs": [],
      "source": [
        "from votekit.elections import STV\n",
        "from tqdm.notebook import tqdm\n",
        "\n",
        "num_cands = {\"P\": 3, \"C\": 3}\n",
        "num_voters = 5000\n",
        "num_seats = 3\n",
        "num_trials = 50\n",
        "\n",
        "# Fixed parameters\n",
        "slate_to_candidates = {\"P\": [f\"P_{i}\" for i in range(num_cands[\"P\"])],\n",
        "                        \"C\": [f\"C_{i}\" for i in range(num_cands[\"C\"])],}\n",
        "\n",
        "bloc_voter_prop = {\"P\": .6, \"C\": .4} # 60% Prog, 40% Cons\n",
        "\n",
        "alphas = { # the candidate strength\n",
        "    \"P\": {\"P\":1, \"C\":1}, # all bets are off\n",
        "    \"C\": {\"P\":1, \"C\":1},\n",
        "    }\n",
        "\n",
        "\n",
        "# Varying parameter\n",
        "cohesions = {\n",
        "    \"high_polarize\": {\n",
        "        \"P\": {\"P\":, \"C\":}, # type in values that model high polarization. they must add to one in each row\n",
        "        \"C\": {\"P\":, \"C\":},\n",
        "        },\n",
        "    \"low_polarize\":{\n",
        "        \"P\": {\"P\":, \"C\":}, # type in values that model low polarization. they must add to one in each row\n",
        "        \"C\": {\"P\":, \"C\":},\n",
        "        },\n",
        "    }\n",
        "\n",
        "\n",
        "\n",
        "num_prog_winners_by_polarize = {\n",
        "    \"high_polarize\": [],\n",
        "    \"low_polarize\": [],\n",
        "    }\n",
        "\n",
        "for cohesion_label, cohesion_parameters in cohesions.items():\n",
        "    print(cohesion_label)\n",
        "    for _ in tqdm(range(num_trials)):\n",
        "        pl = slate_PlackettLuce.from_params(slate_to_candidates=slate_to_candidates,\n",
        "                bloc_voter_prop=bloc_voter_prop,\n",
        "                cohesion_parameters=cohesion_parameters,\n",
        "                alphas=alphas)\n",
        "\n",
        "        profile = pl.generate_profile(num_voters)\n",
        "\n",
        "        e = STV(profile, m= num_seats)\n",
        "\n",
        "        winners = e.get_elected()\n",
        "        num_prog_winners = len([c for cand_set in winners for c in cand_set if \"P_\" in c])\n",
        "\n",
        "        num_prog_winners_by_polarize[cohesion_label].append(num_prog_winners)\n"
      ]
    },
    {
      "cell_type": "code",
      "execution_count": null,
      "id": "1a61b356",
      "metadata": {
        "id": "1a61b356"
      },
      "outputs": [],
      "source": [
        "import matplotlib.pyplot as plt\n",
        "import numpy as np\n",
        "\n",
        "fig,ax = plt.subplots(figsize = (9,4))\n",
        "\n",
        "bins = np.arange(-1/2, num_seats +1.5)\n",
        "\n",
        "ax.hist(num_prog_winners_by_polarize.values(), label = num_prog_winners_by_polarize.keys(), bins = bins)\n",
        "ax.set_xlim(-1, num_seats+1)\n",
        "ax.set_xticks(range(0,num_seats+1))\n",
        "ax.set_title(\"Comparing progressive seats as polarization varies\")\n",
        "\n",
        "plt.legend()\n",
        "plt.show()"
      ]
    }
  ],
  "metadata": {
    "kernelspec": {
      "display_name": ".venv",
      "language": "python",
      "name": "python3"
    },
    "language_info": {
      "codemirror_mode": {
        "name": "ipython",
        "version": 3
      },
      "file_extension": ".py",
      "mimetype": "text/x-python",
      "name": "python",
      "nbconvert_exporter": "python",
      "pygments_lexer": "ipython3",
      "version": "3.13.2"
    },
    "colab": {
      "provenance": [],
      "include_colab_link": true
    }
  },
  "nbformat": 4,
  "nbformat_minor": 5
}