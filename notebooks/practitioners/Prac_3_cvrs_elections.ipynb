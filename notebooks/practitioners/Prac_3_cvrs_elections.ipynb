{
  "cells": [
    {
      "cell_type": "markdown",
      "metadata": {
        "colab_type": "text",
        "id": "view-in-github"
      },
      "source": [
        "<a href=\"https://colab.research.google.com/github/mggg/Training_Materials_25/blob/main/notebooks/practitioners/Thursday/load_clean_run.ipynb\" target=\"_parent\"><img src=\"https://colab.research.google.com/assets/colab-badge.svg\" alt=\"Open In Colab\"/></a>"
      ]
    },
    {
      "cell_type": "markdown",
      "metadata": {
        "id": "YGk_3bPyYA2W"
      },
      "source": [
        "# Cast Vote Records and Elections\n",
        "\n",
        "In this tutorial notebook, we show how VoteKit can be used to load the cast vote record, clean the ballots, and then run elections.\n",
        "\n"
      ]
    },
    {
      "cell_type": "markdown",
      "metadata": {
        "id": "LA7r0WMyYA2X"
      },
      "source": [
        "## Cast Vote Record (CVR)\n",
        "\n",
        "A cast vote record is the collection of ballots used in an election. While previously we had been working with generated ballots, all of the examples below will use real-world data."
      ]
    },
    {
      "cell_type": "markdown",
      "metadata": {},
      "source": [
        "## Scottish Profiles"
      ]
    },
    {
      "cell_type": "markdown",
      "metadata": {},
      "source": [
        "Scottish elections give us a great source for real-world ranked data, because STV is used for local government elections. Thanks to David McCune of William Jewell College, we have a fantastic [repository](https://github.com/mggg/scot-elex) of shiny, clean ranking data from over 1000 elections, which feature 3-14 candidates apiece, running with a party label.\n",
        "\n",
        "Go to the [repository](https://github.com/mggg/scot-elex), choose a locality, and download the csv file to your working directory (the same folder as your code). You will need to edit the code below to reflect your file name."
      ]
    },
    {
      "cell_type": "code",
      "execution_count": 1,
      "metadata": {},
      "outputs": [],
      "source": [
        "from votekit.cvr_loaders import load_scottish\n",
        "\n",
        "# the load_scottish function returns a tuple of information:\n",
        "# the first element is the profile itself, the second is the number of seats in the election\n",
        "# the third is a list of candidates, the fourth a dictionary mapping candidates to parties,\n",
        "# and the fourth the ward name\n",
        "scottish_profile, num_seats, cand_list, cand_to_party, ward = load_scottish(\"../../../data/west_dunbartonshire_2017_ward2.csv\") "
      ]
    },
    {
      "cell_type": "markdown",
      "metadata": {},
      "source": [
        "Let's quickly look at each of the returned variables."
      ]
    },
    {
      "cell_type": "code",
      "execution_count": 2,
      "metadata": {},
      "outputs": [
        {
          "name": "stdout",
          "output_type": "stream",
          "text": [
            "This election took place in Leven.\n",
            "The number of seats up for election was 4.\n",
            "The number of candidates was 8.\n"
          ]
        }
      ],
      "source": [
        "print(f\"This election took place in {ward}.\")\n",
        "print(f\"The number of seats up for election was {num_seats}.\")\n",
        "print(f\"The number of candidates was {len(cand_list)}.\")"
      ]
    },
    {
      "cell_type": "code",
      "execution_count": 3,
      "metadata": {},
      "outputs": [
        {
          "name": "stdout",
          "output_type": "stream",
          "text": [
            "Profile contains rankings: True\n",
            "Maximum ranking length: 8\n",
            "Profile contains scores: False\n",
            "Candidates: ('Jim Bollan', 'Ian Dickson', 'George Drummond', 'Caroline Mcallister', 'Michelle Marie Mcginty', 'John Kelly Millar', 'Peter Parlane', 'Sean Quinn')\n",
            "Candidates who received votes: ('John Kelly Millar', 'Sean Quinn', 'George Drummond', 'Peter Parlane', 'Caroline Mcallister', 'Ian Dickson', 'Jim Bollan', 'Michelle Marie Mcginty')\n",
            "Total number of Ballot objects: 1283\n",
            "Total weight of Ballot objects: 5893\n",
            "\n",
            "\n",
            "The top 10 ballots by weight are\n",
            "                             Ranking_1                 Ranking_2              Ranking_3 Ranking_4 Ranking_5 Ranking_6 Ranking_7 Ranking_8 Weight Voter Set\n",
            "Ballot Index                                                                                                                                              \n",
            "314                      (Ian Dickson)     (Caroline Mcallister)                    (~)       (~)       (~)       (~)       (~)       (~)    342        {}\n",
            "947                (John Kelly Millar)  (Michelle Marie Mcginty)                    (~)       (~)       (~)       (~)       (~)       (~)    245        {}\n",
            "0                         (Jim Bollan)                       (~)                    (~)       (~)       (~)       (~)       (~)       (~)    223        {}\n",
            "781           (Michelle Marie Mcginty)       (John Kelly Millar)                    (~)       (~)       (~)       (~)       (~)       (~)    216        {}\n",
            "1089                   (Peter Parlane)                       (~)                    (~)       (~)       (~)       (~)       (~)       (~)    196        {}\n",
            "618              (Caroline Mcallister)             (Ian Dickson)                    (~)       (~)       (~)       (~)       (~)       (~)    182        {}\n",
            "382                      (Ian Dickson)     (Caroline Mcallister)           (Sean Quinn)       (~)       (~)       (~)       (~)       (~)    148        {}\n",
            "418                      (Ian Dickson)     (Caroline Mcallister)           (Jim Bollan)       (~)       (~)       (~)       (~)       (~)    120        {}\n",
            "910                (John Kelly Millar)                       (~)                    (~)       (~)       (~)       (~)       (~)       (~)    103        {}\n",
            "8                         (Jim Bollan)             (Ian Dickson)  (Caroline Mcallister)       (~)       (~)       (~)       (~)       (~)     98        {}\n"
          ]
        }
      ],
      "source": [
        "from votekit.pref_profile import profile_df_head\n",
        "print(scottish_profile)\n",
        "print()\n",
        "print(\"The top 10 ballots by weight are\")\n",
        "print(profile_df_head(scottish_profile, 10).to_string())\n"
      ]
    },
    {
      "cell_type": "markdown",
      "metadata": {},
      "source": [
        "In Scottish elections, voters can rank up to the number of candidates. The most common vote in Scottish elections tends to be a ballot of length `num_seats`, followed by bullet votes (votes for one candidate).\n",
        "\n",
        "One of the utilities of this repository of elections is that the candidates are labeled with what party they ran under."
      ]
    },
    {
      "cell_type": "code",
      "execution_count": 4,
      "metadata": {},
      "outputs": [
        {
          "name": "stdout",
          "output_type": "stream",
          "text": [
            "Jim Bollan ran under the following party: West Dunbartonshire Community (WDuns)\n",
            "\n",
            "Ian Dickson ran under the following party: Scottish National Party (SNP)\n",
            "\n",
            "George Drummond ran under the following party: Liberal Democrat (LD)\n",
            "\n",
            "Caroline Mcallister ran under the following party: Scottish National Party (SNP)\n",
            "\n",
            "Michelle Marie Mcginty ran under the following party: Labour (Lab)\n",
            "\n",
            "John Kelly Millar ran under the following party: Labour (Lab)\n",
            "\n",
            "Peter Parlane ran under the following party: Conservative and Unionist Party (Con)\n",
            "\n",
            "Sean Quinn ran under the following party: Green (Gr)\n",
            "\n"
          ]
        }
      ],
      "source": [
        "for cand, party in cand_to_party.items():\n",
        "    print(f\"{cand} ran under the following party: {party}\\n\")"
      ]
    },
    {
      "cell_type": "markdown",
      "metadata": {},
      "source": [
        "Scottish elections use the STV mechanism, so let's quickly see who the winner set is."
      ]
    },
    {
      "cell_type": "code",
      "execution_count": 5,
      "metadata": {},
      "outputs": [
        {
          "name": "stdout",
          "output_type": "stream",
          "text": [
            "(frozenset({'Ian Dickson'}), frozenset({'Jim Bollan'}), frozenset({'John Kelly Millar'}), frozenset({'Caroline Mcallister'}))\n"
          ]
        },
        {
          "name": "stderr",
          "output_type": "stream",
          "text": [
            "/Users/cdonnay/Documents/GitHub/MGGG/VoteKit/src/votekit/utils.py:211: RuntimeWarning: overflow encountered in scalar multiply\n",
            "  denom = common_den * common_den\n"
          ]
        }
      ],
      "source": [
        "from votekit.elections import STV\n",
        "\n",
        "e = STV(scottish_profile, m=num_seats)\n",
        "\n",
        "print(e.get_elected())"
      ]
    },
    {
      "cell_type": "markdown",
      "metadata": {},
      "source": [
        "We read this tuple as a ranking: the first entry of the tuple is the candidate elected first, etc. Your tuple should look something like `(frozenset({'Ian Dickson'}), frozenset({'Jim Bollan'}), frozenset({'John Kelly Millar'}), frozenset({'Caroline Mcallister'}))` (albeit with different candidate names).\n",
        "This means Ian Dickson was elected first, then Jim Bollan, then John Kelly Millar, then Caroline Mcallister."
      ]
    },
    {
      "cell_type": "markdown",
      "metadata": {},
      "source": [
        "## Minnesota 2013\n"
      ]
    },
    {
      "cell_type": "markdown",
      "metadata": {},
      "source": [
        "Another possible data source is real-world elections that return their cast vote records (CVRs) as csv files. To be readable by VoteKit, the csv file must have a row for each voter, and must have one column per ranking position.\n",
        "\n",
        "The Minnesota 2013 Mayoral race, which used IRV, did just that. Let's load the csv file into VoteKit. You can find the file [here](https://github.com/mggg/Training_Materials_25/blob/main/data/mn_2013_cast_vote_record.csv). Download it and put it into your working directory.\n",
        "\n",
        "Voters were allowed to rank three candidates.\n",
        "\n"
      ]
    },
    {
      "cell_type": "code",
      "execution_count": 6,
      "metadata": {},
      "outputs": [],
      "source": [
        "from votekit.cvr_loaders import load_csv\n",
        "\n",
        "mn_profile = load_csv(\"../../../data/mn_2013_cast_vote_record.csv\", rank_cols=[0,1,2]) # the first 3 columns of the csv hold the ranking information     \n",
        "                                                                                     # in order from 1st place to 3rd place"
      ]
    },
    {
      "cell_type": "markdown",
      "metadata": {},
      "source": [
        "Let's look at the candidates for the race."
      ]
    },
    {
      "cell_type": "code",
      "execution_count": 7,
      "metadata": {},
      "outputs": [
        {
          "name": "stdout",
          "output_type": "stream",
          "text": [
            "ABDUL M RAHAMAN \"THE ROCK\"\n",
            "DAN COHEN\n",
            "JAMES EVERETT\n",
            "MARK V ANDERSON\n",
            "TROY BENJEGERDES\n",
            "undervote\n",
            "ALICIA K. BENNETT\n",
            "BETSY HODGES\n",
            "MARK ANDREW\n",
            "MIKE GOULD\n",
            "BILL KAHN\n",
            "BOB FINE\n",
            "CAM WINTON\n",
            "DON SAMUELS\n",
            "JACKIE CHERRYHOMES\n",
            "JEFFREY ALAN WAGNER\n",
            "JOHN LESLIE HARTWIG\n",
            "KURTIS W. HANNA\n",
            "JOSHUA REA\n",
            "MERRILL ANDERSON\n",
            "NEAL BAXTER\n",
            "STEPHANIE WOODRUFF\n",
            "UWI\n",
            "BOB \"AGAIN\" CARNEY JR\n",
            "TONY LANE\n",
            "CAPTAIN JACK SPARROW\n",
            "GREGG A. IVERSON\n",
            "JAMES \"JIMMY\" L. STROUD, JR.\n",
            "JAYMIE KELLY\n",
            "CYD GORMAN\n",
            "EDMUND BERNARD BRUYERE\n",
            "DOUG MANN\n",
            "CHRISTOPHER ROBIN ZIMMERMAN\n",
            "RAHN V. WORKCUFF\n",
            "JOHN CHARLES WILSON\n",
            "OLE SAVIOR\n",
            "overvote\n",
            "CHRISTOPHER CLARK\n"
          ]
        }
      ],
      "source": [
        "for candidate in mn_profile.candidates:\n",
        "    print(candidate)"
      ]
    },
    {
      "cell_type": "markdown",
      "metadata": {},
      "source": [
        "Woah, that’s a little funky! There are candidates called ‘undervote’, ‘overvote’, and ‘UWI’. This cast vote record was already cleaned by the City of Minneapolis, and they chose this way of parsing the ballots: ‘undervote’ indicates that the voter left a position unfilled, such as by having no candidate listed in second place. The ‘overvote’ notation arises when a voter puts two candidates in one position, like by putting Hodges and Samuels both in first place. Unfortunately this way of storing the profile means we have lost any knowledge of the voter intent (which was probably to indicate equal preference). ‘UWI’ stands for unregistered write-in.\n",
        "\n",
        "This reminds us that it is really important to think carefully about how we want to handle cleaning ballots, as some storage methods are efficient but lossy. For now, let’s assume that we want to further condense the ballots, discarding ‘undervote’, ‘overvote’, and ‘UWI’ as candidates. We will then move up lower ranked candidates to replace the removed non-candidates. The `remove_and_condense` function does this for us."
      ]
    },
    {
      "cell_type": "code",
      "execution_count": 8,
      "metadata": {},
      "outputs": [],
      "source": [
        "from votekit.cleaning import remove_and_condense\n",
        "\n",
        "remove_cand_mn_profile = remove_and_condense([\"overvote\", \"undervote\", \"UWI\"], mn_profile)"
      ]
    },
    {
      "cell_type": "markdown",
      "metadata": {},
      "source": [
        "Let's see that the three \"candidates\" have been removed."
      ]
    },
    {
      "cell_type": "code",
      "execution_count": 9,
      "metadata": {},
      "outputs": [
        {
          "name": "stdout",
          "output_type": "stream",
          "text": [
            "The following candidates appear in the uncleaned profile but have been removed.\n",
            "{'undervote', 'overvote', 'UWI'}\n"
          ]
        }
      ],
      "source": [
        "print(\"The following candidates appear in the uncleaned profile but have been removed.\")\n",
        "print(set(mn_profile.candidates)-set(remove_cand_mn_profile.candidates))"
      ]
    },
    {
      "cell_type": "markdown",
      "metadata": {},
      "source": [
        "Now all of the ballots are properly formatted to run an IRV election."
      ]
    },
    {
      "cell_type": "code",
      "execution_count": 10,
      "metadata": {},
      "outputs": [
        {
          "name": "stdout",
          "output_type": "stream",
          "text": [
            "(frozenset({'BETSY HODGES'}),)\n"
          ]
        },
        {
          "name": "stderr",
          "output_type": "stream",
          "text": [
            "/Users/cdonnay/Documents/GitHub/MGGG/VoteKit/src/votekit/pref_profile/pref_profile.py:1100: UserWarning: Profile does not contain rankings but max_ranking_length=3. Setting max_ranking_length to 0.\n",
            "  warnings.warn(\n"
          ]
        }
      ],
      "source": [
        "from votekit.elections import IRV\n",
        "\n",
        "e = IRV(mn_profile)\n",
        "\n",
        "print(e.get_elected())"
      ]
    },
    {
      "cell_type": "markdown",
      "metadata": {},
      "source": [
        "## Pre-saved PreferenceProfiles: Portland\n",
        "\n",
        "VoteKit allows you to save PreferenceProfiles to what are called \"pickle\" files. Pkl files save Python variables so you can access them after closing a Python session. The Data and Democracy Lab has cleaned and prepared the cvr from the 2024 Portland, OR City Council election, district 1. You can download the file [here](https://github.com/mggg/Training_Materials_25/blob/main/data/Portland_D1_cleaned_votekit_pref_profile.pkl). Then place it in your working directory."
      ]
    },
    {
      "cell_type": "code",
      "execution_count": 11,
      "metadata": {},
      "outputs": [],
      "source": [
        "from votekit.pref_profile import PreferenceProfile\n",
        "\n",
        "# change this file name to reflect where the file is on your computer.\n",
        "profile = PreferenceProfile.from_pickle(\"../../../data/Portland_D1_cleaned_votekit_pref_profile.pkl\") "
      ]
    },
    {
      "cell_type": "code",
      "execution_count": 12,
      "metadata": {
        "id": "lyJP7rpsYA2Z"
      },
      "outputs": [
        {
          "name": "stderr",
          "output_type": "stream",
          "text": [
            "/Users/cdonnay/Documents/GitHub/MGGG/VoteKit/src/votekit/utils.py:211: RuntimeWarning: overflow encountered in scalar multiply\n",
            "  denom = common_den * common_den\n",
            "/Users/cdonnay/Documents/GitHub/MGGG/VoteKit/src/votekit/pref_profile/pref_profile.py:1100: UserWarning: Profile does not contain rankings but max_ranking_length=6. Setting max_ranking_length to 0.\n",
            "  warnings.warn(\n"
          ]
        }
      ],
      "source": [
        "# 3 seat election\n",
        "election = STV(profile, m=3)"
      ]
    },
    {
      "cell_type": "markdown",
      "metadata": {
        "id": "Q1SBuIp4YA2Z"
      },
      "source": [
        "Do we have the correct candidates? Do we have the same vote totals? Do we get the same STV winner set? The Election object, called `election` here, has lots of built in methods that allow us to check these stats.\n",
        "\n",
        "In district 1, Avalos, Dunphy, and Smith were elected. The winners, first place vote distribution, and lots of other stats we can double check, are given [here](https://www.portland.gov/sites/default/files/2024/Portland-District-1-Certified-Abstract-Nov-2024.pdf)."
      ]
    },
    {
      "cell_type": "code",
      "execution_count": 13,
      "metadata": {
        "colab": {
          "base_uri": "https://localhost:8080/"
        },
        "id": "239S6NXQYA2Z",
        "outputId": "323bbaa0-276c-49ea-90e1-302d96c34c06"
      },
      "outputs": [
        {
          "name": "stdout",
          "output_type": "stream",
          "text": [
            "Winners in order of election\n",
            "1 Candace Avalos\n",
            "2 Loretta Smith\n",
            "3 Jamie Dunphy\n"
          ]
        }
      ],
      "source": [
        "print(\"Winners in order of election\")\n",
        "i=0\n",
        "for cand_set in election.get_elected():\n",
        "    i+=1\n",
        "    # this extra loop is necessary b/c it's possible two or more candidates are elected simultaneously\n",
        "    for cand in cand_set:\n",
        "        print(i, cand)"
      ]
    },
    {
      "cell_type": "code",
      "execution_count": 14,
      "metadata": {
        "colab": {
          "base_uri": "https://localhost:8080/"
        },
        "id": "cQQtnoq0YA2Z",
        "outputId": "f8420773-5d6f-4159-fbea-6f21a7cb40e0"
      },
      "outputs": [
        {
          "name": "stdout",
          "output_type": "stream",
          "text": [
            "Election Threshold: 10,718\n"
          ]
        }
      ],
      "source": [
        "# threshold\n",
        "print(f\"Election Threshold: {election.threshold:,}\")"
      ]
    },
    {
      "cell_type": "code",
      "execution_count": 15,
      "metadata": {
        "colab": {
          "base_uri": "https://localhost:8080/"
        },
        "id": "vW1G87OMYA2Z",
        "outputId": "310cf47f-0039-4a87-cff1-2de0c31cbd60"
      },
      "outputs": [
        {
          "name": "stdout",
          "output_type": "stream",
          "text": [
            "Candidates in decreasing order of first-place votes.\n",
            "\n",
            "Candace Avalos 8297\n",
            "Loretta Smith 5586\n",
            "Jamie Dunphy 5064\n",
            "Noah Ernst 4052\n",
            "Terrence Hayes 3975\n",
            "Steph Routh 3894\n",
            "Timur Ender 3550\n",
            "Doug Clove 1698\n",
            "Peggy Sue Owens 1266\n",
            "David Linn 1111\n",
            "Joe Allen 978\n",
            "Michael (Mike) Sands 952\n",
            "Deian Salazar 720\n",
            "Cayle Tern 711\n",
            "Thomas Shervey 385\n",
            "Joe Furi 355\n",
            "Uncertified Write In 277\n"
          ]
        }
      ],
      "source": [
        "from votekit.utils import first_place_votes\n",
        "\n",
        "fpv_dict = first_place_votes(profile)\n",
        "cands_sorted_by_fpv = sorted(zip(fpv_dict.keys(), fpv_dict.values()), # creates a list of tuples, (name, fpv)\n",
        "                                reverse=True,  #decreasing order\n",
        "                                key = lambda x: x[1], # sort by second element of tuple, which is fpv)\n",
        "                                    )\n",
        "\n",
        "print(\"Candidates in decreasing order of first-place votes.\\n\")\n",
        "for cand, fpv in cands_sorted_by_fpv:\n",
        "    print(cand, fpv)"
      ]
    },
    {
      "cell_type": "code",
      "execution_count": 21,
      "metadata": {},
      "outputs": [
        {
          "name": "stdout",
          "output_type": "stream",
          "text": [
            "The final ordering of the candidates is\n",
            "1 Candace Avalos\n",
            "2 Loretta Smith\n",
            "3 Jamie Dunphy\n",
            "4 Terrence Hayes\n",
            "5 Noah Ernst\n",
            "6 Steph Routh\n",
            "7 Timur Ender\n",
            "8 Doug Clove\n",
            "9 Peggy Sue Owens\n",
            "10 David Linn\n",
            "11 Joe Allen\n",
            "12 Michael (Mike) Sands\n",
            "13 Deian Salazar\n",
            "14 Cayle Tern\n",
            "15 Thomas Shervey\n",
            "16 Joe Furi\n",
            "17 Uncertified Write In\n"
          ]
        }
      ],
      "source": [
        "print(\"The final ordering of the candidates is\")\n",
        "for i, cand_set in enumerate(election.get_ranking()):\n",
        "    for cand in cand_set:\n",
        "        print(i+1, cand)"
      ]
    },
    {
      "cell_type": "markdown",
      "metadata": {
        "id": "H3qClWD6YA2a"
      },
      "source": [
        "Take a moment to verify these against the [official record](https://www.portland.gov/sites/default/files/2024/Portland-District-1-Certified-Abstract-Nov-2024.pdf)."
      ]
    },
    {
      "cell_type": "markdown",
      "metadata": {
        "id": "grgtkIciYA2a"
      },
      "source": [
        "## Comparing to other systems\n",
        "\n",
        "VoteKit makes it very easy to try running the same profile through different election methods. This allows us to answer questions like \"If Portland had used a Plurality election, who would have won?\""
      ]
    },
    {
      "cell_type": "code",
      "execution_count": 18,
      "metadata": {
        "colab": {
          "base_uri": "https://localhost:8080/"
        },
        "id": "uIgFol7SYA2a",
        "outputId": "7728cd6c-1578-4b3d-8118-9900bd134bf3"
      },
      "outputs": [
        {
          "name": "stderr",
          "output_type": "stream",
          "text": [
            "/Users/cdonnay/Documents/GitHub/MGGG/VoteKit/src/votekit/utils.py:211: RuntimeWarning: overflow encountered in scalar multiply\n",
            "  denom = common_den * common_den\n"
          ]
        },
        {
          "name": "stdout",
          "output_type": "stream",
          "text": [
            "Condorcet\n",
            "In order of election, the winners are\n",
            "0) Candace Avalos\n",
            "1) Steph Routh\n",
            "2) Jamie Dunphy\n",
            "\n",
            "Borda\n",
            "In order of election, the winners are\n",
            "0) Candace Avalos\n",
            "1) Steph Routh\n",
            "2) Loretta Smith\n",
            "\n",
            "Plurality\n",
            "In order of election, the winners are\n",
            "0) Candace Avalos\n",
            "1) Loretta Smith\n",
            "2) Jamie Dunphy\n",
            "\n",
            "STV\n",
            "In order of election, the winners are\n",
            "0) Candace Avalos\n",
            "1) Loretta Smith\n",
            "2) Jamie Dunphy\n",
            "\n"
          ]
        },
        {
          "name": "stderr",
          "output_type": "stream",
          "text": [
            "/Users/cdonnay/Documents/GitHub/MGGG/VoteKit/src/votekit/pref_profile/pref_profile.py:1100: UserWarning: Profile does not contain rankings but max_ranking_length=6. Setting max_ranking_length to 0.\n",
            "  warnings.warn(\n"
          ]
        }
      ],
      "source": [
        "from votekit.elections.election_types.ranking import CondoBorda, Plurality, Borda\n",
        "\n",
        "profile = PreferenceProfile.from_pickle(\"../../../data/Portland_D1_cleaned_votekit_pref_profile.pkl\") \n",
        "\n",
        "alt_elections = {\"Condorcet\": CondoBorda(profile, m=3),\n",
        "                 \"Borda\": Borda(profile, m=3),\n",
        "                 \"Plurality\": Plurality(profile, m=3),\n",
        "                 \"STV\": STV(profile, m=3)\n",
        "                 }\n",
        "\n",
        "for e_name, e in alt_elections.items():\n",
        "    print(e_name)\n",
        "    e_winners = [c for s in e.get_elected() for c in s]\n",
        "    print(\"In order of election, the winners are\")\n",
        "\n",
        "    for i, winner in enumerate(e_winners):\n",
        "        print(f\"{i}) {winner}\")\n",
        "    print()"
      ]
    },
    {
      "cell_type": "markdown",
      "metadata": {
        "id": "-uf1YXgVYA2a"
      },
      "source": [
        "Go to the list of ranking elections that VoteKit supports https://votekit.readthedocs.io/en/latest/social_choice_docs/scr/#ranking-based, and try importing one and applying it to the Portland profile."
      ]
    },
    {
      "cell_type": "code",
      "execution_count": null,
      "metadata": {
        "id": "iEGhQrm9YA2a"
      },
      "outputs": [],
      "source": [
        "from votekit.elections.election_types.ranking import ??????\n",
        "\n",
        "election = ??????(profile, m=)"
      ]
    },
    {
      "cell_type": "markdown",
      "metadata": {
        "id": "KUsgQqQpYA2a"
      },
      "source": [
        "Try changing the number of seats `m`, either on the election type you just imported, or on some of the elections we previously used. Who wins then?"
      ]
    },
    {
      "cell_type": "code",
      "execution_count": null,
      "metadata": {
        "id": "nQeo-_ObYA2a"
      },
      "outputs": [],
      "source": [
        "# your code here"
      ]
    }
  ],
  "metadata": {
    "colab": {
      "include_colab_link": true,
      "provenance": []
    },
    "kernelspec": {
      "display_name": ".venv",
      "language": "python",
      "name": "python3"
    },
    "language_info": {
      "codemirror_mode": {
        "name": "ipython",
        "version": 3
      },
      "file_extension": ".py",
      "mimetype": "text/x-python",
      "name": "python",
      "nbconvert_exporter": "python",
      "pygments_lexer": "ipython3",
      "version": "3.13.2"
    }
  },
  "nbformat": 4,
  "nbformat_minor": 0
}
