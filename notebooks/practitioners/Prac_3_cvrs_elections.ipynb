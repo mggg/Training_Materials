{
  "cells": [
    {
      "cell_type": "markdown",
      "metadata": {
        "id": "view-in-github",
        "colab_type": "text"
      },
      "source": [
        "<a href=\"https://colab.research.google.com/github/mggg/Training_Materials/blob/main/notebooks/practitioners/Prac_3_cvrs_elections.ipynb\" target=\"_parent\"><img src=\"https://colab.research.google.com/assets/colab-badge.svg\" alt=\"Open In Colab\"/></a>"
      ]
    },
    {
      "cell_type": "code",
      "source": [
        "!pip install votekit"
      ],
      "metadata": {
        "id": "tT6QFwv8jLmD"
      },
      "execution_count": null,
      "outputs": []
    },
    {
      "cell_type": "markdown",
      "metadata": {
        "id": "YGk_3bPyYA2W"
      },
      "source": [
        "# Cast Vote Records and Elections\n",
        "\n",
        "In this tutorial notebook, we show how VoteKit can be used to load the cast vote record, clean the ballots, and then run elections.\n",
        "\n"
      ]
    },
    {
      "cell_type": "markdown",
      "metadata": {
        "id": "LA7r0WMyYA2X"
      },
      "source": [
        "## Cast Vote Record (CVR)\n",
        "\n",
        "A cast vote record is the collection of ballots used in an election. While previously we had been working with generated ballots, all of the examples below will use real-world data."
      ]
    },
    {
      "cell_type": "markdown",
      "metadata": {
        "id": "ptPmwda9jKEK"
      },
      "source": [
        "## Scottish Profiles"
      ]
    },
    {
      "cell_type": "markdown",
      "metadata": {
        "id": "oHVg2o5ujKEK"
      },
      "source": [
        "Scottish elections give us a great source for real-world ranked data, because STV is used for local government elections. Thanks to David McCune of William Jewell College, we have a fantastic [repository](https://github.com/mggg/scot-elex) of shiny, clean ranking data from over 1000 elections, which feature 3-14 candidates apiece, running with a party label.\n",
        "\n",
        "Go to the [repository](https://github.com/mggg/scot-elex), choose a locality, and download the csv file to your working directory (the same folder as your code). You will need to edit the code below to reflect your file name."
      ]
    },
    {
      "cell_type": "code",
      "execution_count": null,
      "metadata": {
        "id": "0APqtwnUjKEK"
      },
      "outputs": [],
      "source": [
        "from votekit.cvr_loaders import load_scottish\n",
        "\n",
        "# the load_scottish function returns a tuple of information:\n",
        "# the first element is the profile itself, the second is the number of seats in the election\n",
        "# the third is a list of candidates, the fourth a dictionary mapping candidates to parties,\n",
        "# and the fourth the ward name\n",
        "scottish_profile, num_seats, cand_list, cand_to_party, ward = load_scottish(\"west_dunbartonshire_2017_ward2.csv\")"
      ]
    },
    {
      "cell_type": "markdown",
      "metadata": {
        "id": "xFMEJ2aqjKEL"
      },
      "source": [
        "Let's quickly look at each of the returned variables."
      ]
    },
    {
      "cell_type": "code",
      "execution_count": null,
      "metadata": {
        "id": "mh3V-tZMjKEL"
      },
      "outputs": [],
      "source": [
        "print(f\"This election took place in {ward}.\")\n",
        "print(f\"The number of seats up for election was {num_seats}.\")\n",
        "print(f\"The number of candidates was {len(cand_list)}.\")"
      ]
    },
    {
      "cell_type": "code",
      "execution_count": null,
      "metadata": {
        "id": "uJxhcLYRjKEL"
      },
      "outputs": [],
      "source": [
        "from votekit.pref_profile import profile_df_head\n",
        "print(scottish_profile)\n",
        "print()\n",
        "print(\"The top 10 ballots by weight are\")\n",
        "print(profile_df_head(scottish_profile, 10).to_string())\n"
      ]
    },
    {
      "cell_type": "markdown",
      "metadata": {
        "id": "sZnZsAfvjKEL"
      },
      "source": [
        "In Scottish elections, voters can rank up to the number of candidates. The most common vote in Scottish elections tends to be a ballot of length `num_seats`, followed by bullet votes (votes for one candidate).\n",
        "\n",
        "One of the utilities of this repository of elections is that the candidates are labeled with what party they ran under."
      ]
    },
    {
      "cell_type": "code",
      "execution_count": null,
      "metadata": {
        "id": "nKRnsAu0jKEL"
      },
      "outputs": [],
      "source": [
        "for cand, party in cand_to_party.items():\n",
        "    print(f\"{cand} ran under the following party: {party}\\n\")"
      ]
    },
    {
      "cell_type": "markdown",
      "metadata": {
        "id": "xqeRLP2KjKEL"
      },
      "source": [
        "Scottish elections use the STV mechanism, so let's quickly see who the winner set is."
      ]
    },
    {
      "cell_type": "code",
      "execution_count": null,
      "metadata": {
        "id": "hpzhm5eijKEL"
      },
      "outputs": [],
      "source": [
        "from votekit.elections import STV\n",
        "\n",
        "e = STV(scottish_profile, m=num_seats)\n",
        "\n",
        "print(e.get_elected())"
      ]
    },
    {
      "cell_type": "markdown",
      "metadata": {
        "id": "JpMFNkRljKEL"
      },
      "source": [
        "We read this tuple as a ranking: the first entry of the tuple is the candidate elected first, etc. Your tuple should look something like `(frozenset({'Ian Dickson'}), frozenset({'Jim Bollan'}), frozenset({'John Kelly Millar'}), frozenset({'Caroline Mcallister'}))` (albeit with different candidate names).\n",
        "This means Ian Dickson was elected first, then Jim Bollan, then John Kelly Millar, then Caroline Mcallister."
      ]
    },
    {
      "cell_type": "markdown",
      "metadata": {
        "id": "ADNxcd4MjKEL"
      },
      "source": [
        "## Minnesota 2013\n"
      ]
    },
    {
      "cell_type": "markdown",
      "metadata": {
        "id": "qnfu0Bp4jKEL"
      },
      "source": [
        "Another possible data source is real-world elections that return their cast vote records (CVRs) as csv files. To be readable by VoteKit, the csv file must have a row for each voter, and must have one column per ranking position.\n",
        "\n",
        "The Minnesota 2013 Mayoral race, which used IRV, did just that. Let's load the csv file into VoteKit. You can find the file [here](https://github.com/mggg/Training_Materials_25/blob/main/data/mn_2013_cast_vote_record.csv). Download it and put it into your working directory.\n",
        "\n",
        "Voters were allowed to rank three candidates.\n",
        "\n"
      ]
    },
    {
      "cell_type": "code",
      "execution_count": null,
      "metadata": {
        "id": "46YhgJEpjKEL"
      },
      "outputs": [],
      "source": [
        "from votekit.cvr_loaders import load_csv\n",
        "\n",
        "mn_profile = load_csv(\"mn_2013_cast_vote_record.csv\", rank_cols=[0,1,2]) # the first 3 columns of the csv hold the ranking information\n",
        "                                                                                     # in order from 1st place to 3rd place"
      ]
    },
    {
      "cell_type": "markdown",
      "metadata": {
        "id": "hVA3AURGjKEL"
      },
      "source": [
        "Let's look at the candidates for the race."
      ]
    },
    {
      "cell_type": "code",
      "execution_count": null,
      "metadata": {
        "id": "3FjV6LtJjKEL"
      },
      "outputs": [],
      "source": [
        "for candidate in mn_profile.candidates:\n",
        "    print(candidate)"
      ]
    },
    {
      "cell_type": "markdown",
      "metadata": {
        "id": "49WtLqNOjKEL"
      },
      "source": [
        "Woah, that’s a little funky! There are candidates called ‘undervote’, ‘overvote’, and ‘UWI’. This cast vote record was already cleaned by the City of Minneapolis, and they chose this way of parsing the ballots: ‘undervote’ indicates that the voter left a position unfilled, such as by having no candidate listed in second place. The ‘overvote’ notation arises when a voter puts two candidates in one position, like by putting Hodges and Samuels both in first place. Unfortunately this way of storing the profile means we have lost any knowledge of the voter intent (which was probably to indicate equal preference). ‘UWI’ stands for unregistered write-in.\n",
        "\n",
        "This reminds us that it is really important to think carefully about how we want to handle cleaning ballots, as some storage methods are efficient but lossy. For now, let’s assume that we want to further condense the ballots, discarding ‘undervote’, ‘overvote’, and ‘UWI’ as candidates. We will then move up lower ranked candidates to replace the removed non-candidates. The `remove_and_condense` function does this for us."
      ]
    },
    {
      "cell_type": "code",
      "execution_count": null,
      "metadata": {
        "id": "A3y5zFabjKEM"
      },
      "outputs": [],
      "source": [
        "from votekit.cleaning import remove_and_condense\n",
        "\n",
        "remove_cand_mn_profile = remove_and_condense([\"overvote\", \"undervote\", \"UWI\"], mn_profile)"
      ]
    },
    {
      "cell_type": "markdown",
      "metadata": {
        "id": "6dPiveRnjKEM"
      },
      "source": [
        "Let's see that the three \"candidates\" have been removed."
      ]
    },
    {
      "cell_type": "code",
      "execution_count": null,
      "metadata": {
        "id": "ee_2Z-x3jKEM"
      },
      "outputs": [],
      "source": [
        "print(\"The following candidates appear in the uncleaned profile but have been removed.\")\n",
        "print(set(mn_profile.candidates)-set(remove_cand_mn_profile.candidates))"
      ]
    },
    {
      "cell_type": "markdown",
      "metadata": {
        "id": "EIEuLN_1jKEM"
      },
      "source": [
        "Now all of the ballots are properly formatted to run an IRV election."
      ]
    },
    {
      "cell_type": "code",
      "execution_count": null,
      "metadata": {
        "id": "MvlRoxO8jKEM"
      },
      "outputs": [],
      "source": [
        "from votekit.elections import IRV\n",
        "\n",
        "e = IRV(mn_profile)\n",
        "\n",
        "print(e.get_elected())"
      ]
    },
    {
      "cell_type": "markdown",
      "metadata": {
        "id": "LG7xeugZjKEM"
      },
      "source": [
        "## Pre-saved PreferenceProfiles: Portland\n",
        "\n",
        "VoteKit allows you to save PreferenceProfiles to what are called \"pickle\" files. Pkl files save Python variables so you can access them after closing a Python session. The Data and Democracy Lab has cleaned and prepared the cvr from the 2024 Portland, OR City Council election, district 1. You can download the file [here](https://github.com/mggg/Training_Materials_25/blob/main/data/Portland_D1_cleaned_votekit_pref_profile.pkl). Then place it in your working directory."
      ]
    },
    {
      "cell_type": "code",
      "execution_count": null,
      "metadata": {
        "id": "oMMioZ10jKEM"
      },
      "outputs": [],
      "source": [
        "from votekit.pref_profile import PreferenceProfile\n",
        "\n",
        "# change this file name to reflect where the file is on your computer.\n",
        "profile = PreferenceProfile.from_pickle(\"Portland_D1_cleaned_votekit_pref_profile.pkl\")"
      ]
    },
    {
      "cell_type": "code",
      "execution_count": null,
      "metadata": {
        "id": "lyJP7rpsYA2Z"
      },
      "outputs": [],
      "source": [
        "# 3 seat election\n",
        "election = STV(profile, m=3)"
      ]
    },
    {
      "cell_type": "markdown",
      "metadata": {
        "id": "Q1SBuIp4YA2Z"
      },
      "source": [
        "Do we have the correct candidates? Do we have the same vote totals? Do we get the same STV winner set? The Election object, called `election` here, has lots of built in methods that allow us to check these stats.\n",
        "\n",
        "In district 1, Avalos, Dunphy, and Smith were elected. The winners, first place vote distribution, and lots of other stats we can double check, are given [here](https://www.portland.gov/sites/default/files/2024/Portland-District-1-Certified-Abstract-Nov-2024.pdf)."
      ]
    },
    {
      "cell_type": "code",
      "execution_count": null,
      "metadata": {
        "id": "239S6NXQYA2Z"
      },
      "outputs": [],
      "source": [
        "print(\"Winners in order of election\")\n",
        "i=0\n",
        "for cand_set in election.get_elected():\n",
        "    i+=1\n",
        "    # this extra loop is necessary b/c it's possible two or more candidates are elected simultaneously\n",
        "    for cand in cand_set:\n",
        "        print(i, cand)"
      ]
    },
    {
      "cell_type": "code",
      "execution_count": null,
      "metadata": {
        "id": "cQQtnoq0YA2Z"
      },
      "outputs": [],
      "source": [
        "# threshold\n",
        "print(f\"Election Threshold: {election.threshold:,}\")"
      ]
    },
    {
      "cell_type": "code",
      "execution_count": null,
      "metadata": {
        "id": "vW1G87OMYA2Z"
      },
      "outputs": [],
      "source": [
        "from votekit.utils import first_place_votes\n",
        "\n",
        "fpv_dict = first_place_votes(profile)\n",
        "cands_sorted_by_fpv = sorted(zip(fpv_dict.keys(), fpv_dict.values()), # creates a list of tuples, (name, fpv)\n",
        "                                reverse=True,  #decreasing order\n",
        "                                key = lambda x: x[1], # sort by second element of tuple, which is fpv)\n",
        "                                    )\n",
        "\n",
        "print(\"Candidates in decreasing order of first-place votes.\\n\")\n",
        "for cand, fpv in cands_sorted_by_fpv:\n",
        "    print(cand, fpv)"
      ]
    },
    {
      "cell_type": "code",
      "execution_count": null,
      "metadata": {
        "id": "ruEYPAl5jKEM"
      },
      "outputs": [],
      "source": [
        "print(\"The final ordering of the candidates is\")\n",
        "for i, cand_set in enumerate(election.get_ranking()):\n",
        "    for cand in cand_set:\n",
        "        print(i+1, cand)"
      ]
    },
    {
      "cell_type": "markdown",
      "metadata": {
        "id": "H3qClWD6YA2a"
      },
      "source": [
        "Take a moment to verify these against the [official record](https://www.portland.gov/sites/default/files/2024/Portland-District-1-Certified-Abstract-Nov-2024.pdf)."
      ]
    },
    {
      "cell_type": "markdown",
      "metadata": {
        "id": "grgtkIciYA2a"
      },
      "source": [
        "## Comparing to other systems\n",
        "\n",
        "VoteKit makes it very easy to try running the same profile through different election methods. This allows us to answer questions like \"If Portland had used a Plurality election, who would have won?\""
      ]
    },
    {
      "cell_type": "code",
      "execution_count": null,
      "metadata": {
        "id": "uIgFol7SYA2a"
      },
      "outputs": [],
      "source": [
        "from votekit.elections.election_types.ranking import CondoBorda, Plurality, Borda\n",
        "\n",
        "profile = PreferenceProfile.from_pickle(\"Portland_D1_cleaned_votekit_pref_profile.pkl\")\n",
        "\n",
        "alt_elections = {\"Condorcet\": CondoBorda(profile, m=3),\n",
        "                 \"Borda\": Borda(profile, m=3),\n",
        "                 \"Plurality\": Plurality(profile, m=3),\n",
        "                 \"STV\": STV(profile, m=3)\n",
        "                 }\n",
        "\n",
        "for e_name, e in alt_elections.items():\n",
        "    print(e_name)\n",
        "    e_winners = [c for s in e.get_elected() for c in s]\n",
        "    print(\"In order of election, the winners are\")\n",
        "\n",
        "    for i, winner in enumerate(e_winners):\n",
        "        print(f\"{i}) {winner}\")\n",
        "    print()"
      ]
    },
    {
      "cell_type": "markdown",
      "metadata": {
        "id": "-uf1YXgVYA2a"
      },
      "source": [
        "Go to the list of ranking elections that VoteKit supports https://votekit.readthedocs.io/en/latest/social_choice_docs/scr/#ranking-based, and try importing one and applying it to the Portland profile."
      ]
    },
    {
      "cell_type": "code",
      "execution_count": null,
      "metadata": {
        "id": "iEGhQrm9YA2a"
      },
      "outputs": [],
      "source": [
        "from votekit.elections.election_types.ranking import ??????\n",
        "\n",
        "election = ??????(profile, m=)"
      ]
    },
    {
      "cell_type": "markdown",
      "metadata": {
        "id": "KUsgQqQpYA2a"
      },
      "source": [
        "Try changing the number of seats `m`, either on the election type you just imported, or on some of the elections we previously used. Who wins then?"
      ]
    },
    {
      "cell_type": "code",
      "execution_count": null,
      "metadata": {
        "id": "nQeo-_ObYA2a"
      },
      "outputs": [],
      "source": [
        "# your code here"
      ]
    }
  ],
  "metadata": {
    "colab": {
      "provenance": [],
      "include_colab_link": true
    },
    "kernelspec": {
      "display_name": ".venv",
      "language": "python",
      "name": "python3"
    },
    "language_info": {
      "codemirror_mode": {
        "name": "ipython",
        "version": 3
      },
      "file_extension": ".py",
      "mimetype": "text/x-python",
      "name": "python",
      "nbconvert_exporter": "python",
      "pygments_lexer": "ipython3",
      "version": "3.13.2"
    }
  },
  "nbformat": 4,
  "nbformat_minor": 0
}