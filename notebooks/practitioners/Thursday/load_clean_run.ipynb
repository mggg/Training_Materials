{
  "cells": [
    {
      "cell_type": "markdown",
      "metadata": {
        "colab_type": "text",
        "id": "view-in-github"
      },
      "source": [
        "<a href=\"https://colab.research.google.com/github/mggg/Training_Materials_25/blob/main/notebooks/practitioners/Thursday/load_clean_run.ipynb\" target=\"_parent\"><img src=\"https://colab.research.google.com/assets/colab-badge.svg\" alt=\"Open In Colab\"/></a>"
      ]
    },
    {
      "cell_type": "markdown",
      "metadata": {
        "id": "YGk_3bPyYA2W"
      },
      "source": [
        "# Load a profile, clean a profile, run an election\n",
        "\n",
        "In this tutorial notebook, we show how VoteKit can be used to load the cast vote record, clean the ballots, and then run an STV election.\n",
        "\n",
        "In November 2022, voters in Portland, Oregon approved an overhaul to their system of election.\n",
        "Previously, Portland had a commission model, with four councillors elected at-large, plus the mayor\n",
        "as a member of the council. In that system, candidates ran for numbered seats—for instance \"City\n",
        "Commissioner Position 4\"—for which the whole city voted. The new system holds the mayor separate and expands to 12 seats, with four geographical districts electing three councillors each through ranked-choice voting.\n",
        "\n",
        "The precise system of election now in place is called STV or \"single transferable vote\"; support\n",
        "from roughly a quarter of the district’s voters is the threshold required for election. Voters can rank\n",
        "up to six candidates, and rounds of tabulation are conducted with support transferring down the\n",
        "ballot until three candidates cross the threshold.\n",
        "\n",
        "The Data and Democracy Lab released a report studying the election, in particular the mechanics of the STV election to explain that the voting system played a direct role in securing such strong representation for communities of color. You can read the report [here.](https://mggg.org/ppm)\n"
      ]
    },
    {
      "cell_type": "markdown",
      "metadata": {
        "id": "LA7r0WMyYA2X"
      },
      "source": [
        "## Cast Vote Record (CVR)"
      ]
    },
    {
      "cell_type": "markdown",
      "metadata": {
        "id": "3HdXwEAmYA2X"
      },
      "source": [
        "The city of Portland released the cast vote record (CVR) for the election in a format that reflected the scantron style ballot. Each voter was given a row in a table, and each candidate was given 6 columns, one for each ranking position. A vote for a candidate in position i was recorded as a 1 in that candidate's \"Ranking i\" column, and 0 otherwise. This allows for the possiblity of overvotes---multiple candidates can have a 1 in their \"Ranking i\" column--- and skips---no candidate has a 1 in their \"Ranking i\" column.\n",
        "\n",
        "In order to make this format readable by VoteKit, we need to transform it so that there are only 6 columns total. Each column represents one position of a ranking, and the entry of that column is the candidate ranked in that position.\n",
        "\n",
        "In addition to this format, the city also released the data by district, but included every voter from the entire city in each data set. So we will have to scrub the voters that are from the other 3 districts."
      ]
    },
    {
      "cell_type": "markdown",
      "metadata": {
        "id": "W3x2SDolYA2X"
      },
      "source": [
        "### Reformatting the raw data"
      ]
    },
    {
      "cell_type": "markdown",
      "metadata": {
        "id": "P5OoW9qiYA2X"
      },
      "source": [
        "First, we will read in the csv of the cast vote record, scrub the non-district 1 voters, and create new columns that match the format needed by VoteKit. The csv is too large to be stored in GitHub, so [here is a link.](https://multco.us/info/turnout-and-statistics-november-2024-general-election) You will want the \"Councilor District 1 Cast Vote Record Data\". Be sure to save it in your working directory.\n",
        "\n",
        "After we reformat the data, we will use VoteKit to perform the rest of the cleaning."
      ]
    },
    {
      "cell_type": "code",
      "execution_count": 1,
      "metadata": {
        "colab": {
          "base_uri": "https://localhost:8080/",
          "height": 446
        },
        "id": "Wr_8OZePYA2X",
        "outputId": "87cc1e1d-36e4-4d96-ad8d-89436c530382"
      },
      "outputs": [
        {
          "data": {
            "application/vnd.google.colaboratory.intrinsic+json": {
              "type": "dataframe",
              "variable_name": "D1_df"
            },
            "text/html": [
              "\n",
              "  <div id=\"df-ccfadddd-b34d-4666-982e-09f35c14f20f\" class=\"colab-df-container\">\n",
              "    <div>\n",
              "<style scoped>\n",
              "    .dataframe tbody tr th:only-of-type {\n",
              "        vertical-align: middle;\n",
              "    }\n",
              "\n",
              "    .dataframe tbody tr th {\n",
              "        vertical-align: top;\n",
              "    }\n",
              "\n",
              "    .dataframe thead th {\n",
              "        text-align: right;\n",
              "    }\n",
              "</style>\n",
              "<table border=\"1\" class=\"dataframe\">\n",
              "  <thead>\n",
              "    <tr style=\"text-align: right;\">\n",
              "      <th></th>\n",
              "      <th>RowNumber</th>\n",
              "      <th>BoxID</th>\n",
              "      <th>BoxPosition</th>\n",
              "      <th>BallotID</th>\n",
              "      <th>PrecinctID</th>\n",
              "      <th>BallotStyleID</th>\n",
              "      <th>PrecinctStyleName</th>\n",
              "      <th>ScanComputerName</th>\n",
              "      <th>Status</th>\n",
              "      <th>Remade</th>\n",
              "      <th>...</th>\n",
              "      <th>Choice_122_1:City of Portland, Councilor, District 1:3:Number of Winners 3:Write-in-122:NON</th>\n",
              "      <th>Choice_122_1:City of Portland, Councilor, District 1:4:Number of Winners 3:Write-in-122:NON</th>\n",
              "      <th>Choice_122_1:City of Portland, Councilor, District 1:5:Number of Winners 3:Write-in-122:NON</th>\n",
              "      <th>Choice_122_1:City of Portland, Councilor, District 1:6:Number of Winners 3:Write-in-122:NON</th>\n",
              "      <th>Choice_50003_1:City of Portland, Councilor, District 1:1:Number of Winners 3:Uncertified Write In:NON</th>\n",
              "      <th>Choice_50003_1:City of Portland, Councilor, District 1:2:Number of Winners 3:Uncertified Write In:NON</th>\n",
              "      <th>Choice_50003_1:City of Portland, Councilor, District 1:3:Number of Winners 3:Uncertified Write In:NON</th>\n",
              "      <th>Choice_50003_1:City of Portland, Councilor, District 1:4:Number of Winners 3:Uncertified Write In:NON</th>\n",
              "      <th>Choice_50003_1:City of Portland, Councilor, District 1:5:Number of Winners 3:Uncertified Write In:NON</th>\n",
              "      <th>Choice_50003_1:City of Portland, Councilor, District 1:6:Number of Winners 3:Uncertified Write In:NON</th>\n",
              "    </tr>\n",
              "  </thead>\n",
              "  <tbody>\n",
              "    <tr>\n",
              "      <th>0</th>\n",
              "      <td>1</td>\n",
              "      <td>RCV-0001</td>\n",
              "      <td>1</td>\n",
              "      <td>RCV-0001+10003</td>\n",
              "      <td>26</td>\n",
              "      <td>3</td>\n",
              "      <td>4506-1</td>\n",
              "      <td>ScanStation6</td>\n",
              "      <td>0</td>\n",
              "      <td>0</td>\n",
              "      <td>...</td>\n",
              "      <td>0</td>\n",
              "      <td>0</td>\n",
              "      <td>0</td>\n",
              "      <td>0</td>\n",
              "      <td>0</td>\n",
              "      <td>0</td>\n",
              "      <td>0</td>\n",
              "      <td>0</td>\n",
              "      <td>0</td>\n",
              "      <td>0</td>\n",
              "    </tr>\n",
              "    <tr>\n",
              "      <th>1</th>\n",
              "      <td>2</td>\n",
              "      <td>RCV-0001</td>\n",
              "      <td>2</td>\n",
              "      <td>RCV-0001+10005</td>\n",
              "      <td>32</td>\n",
              "      <td>1</td>\n",
              "      <td>2804-1</td>\n",
              "      <td>ScanStation6</td>\n",
              "      <td>0</td>\n",
              "      <td>0</td>\n",
              "      <td>...</td>\n",
              "      <td>0</td>\n",
              "      <td>0</td>\n",
              "      <td>0</td>\n",
              "      <td>0</td>\n",
              "      <td>0</td>\n",
              "      <td>0</td>\n",
              "      <td>0</td>\n",
              "      <td>0</td>\n",
              "      <td>0</td>\n",
              "      <td>0</td>\n",
              "    </tr>\n",
              "    <tr>\n",
              "      <th>2</th>\n",
              "      <td>3</td>\n",
              "      <td>RCV-0001</td>\n",
              "      <td>3</td>\n",
              "      <td>RCV-0001+10007</td>\n",
              "      <td>53</td>\n",
              "      <td>1</td>\n",
              "      <td>3303-1</td>\n",
              "      <td>ScanStation6</td>\n",
              "      <td>0</td>\n",
              "      <td>0</td>\n",
              "      <td>...</td>\n",
              "      <td>0</td>\n",
              "      <td>0</td>\n",
              "      <td>0</td>\n",
              "      <td>0</td>\n",
              "      <td>0</td>\n",
              "      <td>0</td>\n",
              "      <td>0</td>\n",
              "      <td>0</td>\n",
              "      <td>0</td>\n",
              "      <td>0</td>\n",
              "    </tr>\n",
              "    <tr>\n",
              "      <th>3</th>\n",
              "      <td>4</td>\n",
              "      <td>RCV-0001</td>\n",
              "      <td>4</td>\n",
              "      <td>RCV-0001+10009</td>\n",
              "      <td>22</td>\n",
              "      <td>1</td>\n",
              "      <td>4105-1</td>\n",
              "      <td>ScanStation6</td>\n",
              "      <td>0</td>\n",
              "      <td>0</td>\n",
              "      <td>...</td>\n",
              "      <td>0</td>\n",
              "      <td>0</td>\n",
              "      <td>0</td>\n",
              "      <td>0</td>\n",
              "      <td>0</td>\n",
              "      <td>0</td>\n",
              "      <td>0</td>\n",
              "      <td>0</td>\n",
              "      <td>0</td>\n",
              "      <td>0</td>\n",
              "    </tr>\n",
              "    <tr>\n",
              "      <th>4</th>\n",
              "      <td>5</td>\n",
              "      <td>RCV-0001</td>\n",
              "      <td>5</td>\n",
              "      <td>RCV-0001+10011</td>\n",
              "      <td>53</td>\n",
              "      <td>1</td>\n",
              "      <td>3303-1</td>\n",
              "      <td>ScanStation6</td>\n",
              "      <td>0</td>\n",
              "      <td>0</td>\n",
              "      <td>...</td>\n",
              "      <td>0</td>\n",
              "      <td>0</td>\n",
              "      <td>0</td>\n",
              "      <td>0</td>\n",
              "      <td>0</td>\n",
              "      <td>0</td>\n",
              "      <td>0</td>\n",
              "      <td>0</td>\n",
              "      <td>0</td>\n",
              "      <td>0</td>\n",
              "    </tr>\n",
              "  </tbody>\n",
              "</table>\n",
              "<p>5 rows × 130 columns</p>\n",
              "</div>\n",
              "    <div class=\"colab-df-buttons\">\n",
              "\n",
              "  <div class=\"colab-df-container\">\n",
              "    <button class=\"colab-df-convert\" onclick=\"convertToInteractive('df-ccfadddd-b34d-4666-982e-09f35c14f20f')\"\n",
              "            title=\"Convert this dataframe to an interactive table.\"\n",
              "            style=\"display:none;\">\n",
              "\n",
              "  <svg xmlns=\"http://www.w3.org/2000/svg\" height=\"24px\" viewBox=\"0 -960 960 960\">\n",
              "    <path d=\"M120-120v-720h720v720H120Zm60-500h600v-160H180v160Zm220 220h160v-160H400v160Zm0 220h160v-160H400v160ZM180-400h160v-160H180v160Zm440 0h160v-160H620v160ZM180-180h160v-160H180v160Zm440 0h160v-160H620v160Z\"/>\n",
              "  </svg>\n",
              "    </button>\n",
              "\n",
              "  <style>\n",
              "    .colab-df-container {\n",
              "      display:flex;\n",
              "      gap: 12px;\n",
              "    }\n",
              "\n",
              "    .colab-df-convert {\n",
              "      background-color: #E8F0FE;\n",
              "      border: none;\n",
              "      border-radius: 50%;\n",
              "      cursor: pointer;\n",
              "      display: none;\n",
              "      fill: #1967D2;\n",
              "      height: 32px;\n",
              "      padding: 0 0 0 0;\n",
              "      width: 32px;\n",
              "    }\n",
              "\n",
              "    .colab-df-convert:hover {\n",
              "      background-color: #E2EBFA;\n",
              "      box-shadow: 0px 1px 2px rgba(60, 64, 67, 0.3), 0px 1px 3px 1px rgba(60, 64, 67, 0.15);\n",
              "      fill: #174EA6;\n",
              "    }\n",
              "\n",
              "    .colab-df-buttons div {\n",
              "      margin-bottom: 4px;\n",
              "    }\n",
              "\n",
              "    [theme=dark] .colab-df-convert {\n",
              "      background-color: #3B4455;\n",
              "      fill: #D2E3FC;\n",
              "    }\n",
              "\n",
              "    [theme=dark] .colab-df-convert:hover {\n",
              "      background-color: #434B5C;\n",
              "      box-shadow: 0px 1px 3px 1px rgba(0, 0, 0, 0.15);\n",
              "      filter: drop-shadow(0px 1px 2px rgba(0, 0, 0, 0.3));\n",
              "      fill: #FFFFFF;\n",
              "    }\n",
              "  </style>\n",
              "\n",
              "    <script>\n",
              "      const buttonEl =\n",
              "        document.querySelector('#df-ccfadddd-b34d-4666-982e-09f35c14f20f button.colab-df-convert');\n",
              "      buttonEl.style.display =\n",
              "        google.colab.kernel.accessAllowed ? 'block' : 'none';\n",
              "\n",
              "      async function convertToInteractive(key) {\n",
              "        const element = document.querySelector('#df-ccfadddd-b34d-4666-982e-09f35c14f20f');\n",
              "        const dataTable =\n",
              "          await google.colab.kernel.invokeFunction('convertToInteractive',\n",
              "                                                    [key], {});\n",
              "        if (!dataTable) return;\n",
              "\n",
              "        const docLinkHtml = 'Like what you see? Visit the ' +\n",
              "          '<a target=\"_blank\" href=https://colab.research.google.com/notebooks/data_table.ipynb>data table notebook</a>'\n",
              "          + ' to learn more about interactive tables.';\n",
              "        element.innerHTML = '';\n",
              "        dataTable['output_type'] = 'display_data';\n",
              "        await google.colab.output.renderOutput(dataTable, element);\n",
              "        const docLink = document.createElement('div');\n",
              "        docLink.innerHTML = docLinkHtml;\n",
              "        element.appendChild(docLink);\n",
              "      }\n",
              "    </script>\n",
              "  </div>\n",
              "\n",
              "\n",
              "    <div id=\"df-342785e6-d30e-40b2-a9ee-d13216fbc107\">\n",
              "      <button class=\"colab-df-quickchart\" onclick=\"quickchart('df-342785e6-d30e-40b2-a9ee-d13216fbc107')\"\n",
              "                title=\"Suggest charts\"\n",
              "                style=\"display:none;\">\n",
              "\n",
              "<svg xmlns=\"http://www.w3.org/2000/svg\" height=\"24px\"viewBox=\"0 0 24 24\"\n",
              "     width=\"24px\">\n",
              "    <g>\n",
              "        <path d=\"M19 3H5c-1.1 0-2 .9-2 2v14c0 1.1.9 2 2 2h14c1.1 0 2-.9 2-2V5c0-1.1-.9-2-2-2zM9 17H7v-7h2v7zm4 0h-2V7h2v10zm4 0h-2v-4h2v4z\"/>\n",
              "    </g>\n",
              "</svg>\n",
              "      </button>\n",
              "\n",
              "<style>\n",
              "  .colab-df-quickchart {\n",
              "      --bg-color: #E8F0FE;\n",
              "      --fill-color: #1967D2;\n",
              "      --hover-bg-color: #E2EBFA;\n",
              "      --hover-fill-color: #174EA6;\n",
              "      --disabled-fill-color: #AAA;\n",
              "      --disabled-bg-color: #DDD;\n",
              "  }\n",
              "\n",
              "  [theme=dark] .colab-df-quickchart {\n",
              "      --bg-color: #3B4455;\n",
              "      --fill-color: #D2E3FC;\n",
              "      --hover-bg-color: #434B5C;\n",
              "      --hover-fill-color: #FFFFFF;\n",
              "      --disabled-bg-color: #3B4455;\n",
              "      --disabled-fill-color: #666;\n",
              "  }\n",
              "\n",
              "  .colab-df-quickchart {\n",
              "    background-color: var(--bg-color);\n",
              "    border: none;\n",
              "    border-radius: 50%;\n",
              "    cursor: pointer;\n",
              "    display: none;\n",
              "    fill: var(--fill-color);\n",
              "    height: 32px;\n",
              "    padding: 0;\n",
              "    width: 32px;\n",
              "  }\n",
              "\n",
              "  .colab-df-quickchart:hover {\n",
              "    background-color: var(--hover-bg-color);\n",
              "    box-shadow: 0 1px 2px rgba(60, 64, 67, 0.3), 0 1px 3px 1px rgba(60, 64, 67, 0.15);\n",
              "    fill: var(--button-hover-fill-color);\n",
              "  }\n",
              "\n",
              "  .colab-df-quickchart-complete:disabled,\n",
              "  .colab-df-quickchart-complete:disabled:hover {\n",
              "    background-color: var(--disabled-bg-color);\n",
              "    fill: var(--disabled-fill-color);\n",
              "    box-shadow: none;\n",
              "  }\n",
              "\n",
              "  .colab-df-spinner {\n",
              "    border: 2px solid var(--fill-color);\n",
              "    border-color: transparent;\n",
              "    border-bottom-color: var(--fill-color);\n",
              "    animation:\n",
              "      spin 1s steps(1) infinite;\n",
              "  }\n",
              "\n",
              "  @keyframes spin {\n",
              "    0% {\n",
              "      border-color: transparent;\n",
              "      border-bottom-color: var(--fill-color);\n",
              "      border-left-color: var(--fill-color);\n",
              "    }\n",
              "    20% {\n",
              "      border-color: transparent;\n",
              "      border-left-color: var(--fill-color);\n",
              "      border-top-color: var(--fill-color);\n",
              "    }\n",
              "    30% {\n",
              "      border-color: transparent;\n",
              "      border-left-color: var(--fill-color);\n",
              "      border-top-color: var(--fill-color);\n",
              "      border-right-color: var(--fill-color);\n",
              "    }\n",
              "    40% {\n",
              "      border-color: transparent;\n",
              "      border-right-color: var(--fill-color);\n",
              "      border-top-color: var(--fill-color);\n",
              "    }\n",
              "    60% {\n",
              "      border-color: transparent;\n",
              "      border-right-color: var(--fill-color);\n",
              "    }\n",
              "    80% {\n",
              "      border-color: transparent;\n",
              "      border-right-color: var(--fill-color);\n",
              "      border-bottom-color: var(--fill-color);\n",
              "    }\n",
              "    90% {\n",
              "      border-color: transparent;\n",
              "      border-bottom-color: var(--fill-color);\n",
              "    }\n",
              "  }\n",
              "</style>\n",
              "\n",
              "      <script>\n",
              "        async function quickchart(key) {\n",
              "          const quickchartButtonEl =\n",
              "            document.querySelector('#' + key + ' button');\n",
              "          quickchartButtonEl.disabled = true;  // To prevent multiple clicks.\n",
              "          quickchartButtonEl.classList.add('colab-df-spinner');\n",
              "          try {\n",
              "            const charts = await google.colab.kernel.invokeFunction(\n",
              "                'suggestCharts', [key], {});\n",
              "          } catch (error) {\n",
              "            console.error('Error during call to suggestCharts:', error);\n",
              "          }\n",
              "          quickchartButtonEl.classList.remove('colab-df-spinner');\n",
              "          quickchartButtonEl.classList.add('colab-df-quickchart-complete');\n",
              "        }\n",
              "        (() => {\n",
              "          let quickchartButtonEl =\n",
              "            document.querySelector('#df-342785e6-d30e-40b2-a9ee-d13216fbc107 button');\n",
              "          quickchartButtonEl.style.display =\n",
              "            google.colab.kernel.accessAllowed ? 'block' : 'none';\n",
              "        })();\n",
              "      </script>\n",
              "    </div>\n",
              "\n",
              "    </div>\n",
              "  </div>\n"
            ],
            "text/plain": [
              "   RowNumber     BoxID  BoxPosition        BallotID  PrecinctID  \\\n",
              "0          1  RCV-0001            1  RCV-0001+10003          26   \n",
              "1          2  RCV-0001            2  RCV-0001+10005          32   \n",
              "2          3  RCV-0001            3  RCV-0001+10007          53   \n",
              "3          4  RCV-0001            4  RCV-0001+10009          22   \n",
              "4          5  RCV-0001            5  RCV-0001+10011          53   \n",
              "\n",
              "   BallotStyleID PrecinctStyleName ScanComputerName  Status  Remade  ...  \\\n",
              "0              3            4506-1     ScanStation6       0       0  ...   \n",
              "1              1            2804-1     ScanStation6       0       0  ...   \n",
              "2              1            3303-1     ScanStation6       0       0  ...   \n",
              "3              1            4105-1     ScanStation6       0       0  ...   \n",
              "4              1            3303-1     ScanStation6       0       0  ...   \n",
              "\n",
              "   Choice_122_1:City of Portland, Councilor, District 1:3:Number of Winners 3:Write-in-122:NON  \\\n",
              "0                                                  0                                             \n",
              "1                                                  0                                             \n",
              "2                                                  0                                             \n",
              "3                                                  0                                             \n",
              "4                                                  0                                             \n",
              "\n",
              "   Choice_122_1:City of Portland, Councilor, District 1:4:Number of Winners 3:Write-in-122:NON  \\\n",
              "0                                                  0                                             \n",
              "1                                                  0                                             \n",
              "2                                                  0                                             \n",
              "3                                                  0                                             \n",
              "4                                                  0                                             \n",
              "\n",
              "   Choice_122_1:City of Portland, Councilor, District 1:5:Number of Winners 3:Write-in-122:NON  \\\n",
              "0                                                  0                                             \n",
              "1                                                  0                                             \n",
              "2                                                  0                                             \n",
              "3                                                  0                                             \n",
              "4                                                  0                                             \n",
              "\n",
              "   Choice_122_1:City of Portland, Councilor, District 1:6:Number of Winners 3:Write-in-122:NON  \\\n",
              "0                                                  0                                             \n",
              "1                                                  0                                             \n",
              "2                                                  0                                             \n",
              "3                                                  0                                             \n",
              "4                                                  0                                             \n",
              "\n",
              "   Choice_50003_1:City of Portland, Councilor, District 1:1:Number of Winners 3:Uncertified Write In:NON  \\\n",
              "0                                                  0                                                       \n",
              "1                                                  0                                                       \n",
              "2                                                  0                                                       \n",
              "3                                                  0                                                       \n",
              "4                                                  0                                                       \n",
              "\n",
              "   Choice_50003_1:City of Portland, Councilor, District 1:2:Number of Winners 3:Uncertified Write In:NON  \\\n",
              "0                                                  0                                                       \n",
              "1                                                  0                                                       \n",
              "2                                                  0                                                       \n",
              "3                                                  0                                                       \n",
              "4                                                  0                                                       \n",
              "\n",
              "   Choice_50003_1:City of Portland, Councilor, District 1:3:Number of Winners 3:Uncertified Write In:NON  \\\n",
              "0                                                  0                                                       \n",
              "1                                                  0                                                       \n",
              "2                                                  0                                                       \n",
              "3                                                  0                                                       \n",
              "4                                                  0                                                       \n",
              "\n",
              "   Choice_50003_1:City of Portland, Councilor, District 1:4:Number of Winners 3:Uncertified Write In:NON  \\\n",
              "0                                                  0                                                       \n",
              "1                                                  0                                                       \n",
              "2                                                  0                                                       \n",
              "3                                                  0                                                       \n",
              "4                                                  0                                                       \n",
              "\n",
              "   Choice_50003_1:City of Portland, Councilor, District 1:5:Number of Winners 3:Uncertified Write In:NON  \\\n",
              "0                                                  0                                                       \n",
              "1                                                  0                                                       \n",
              "2                                                  0                                                       \n",
              "3                                                  0                                                       \n",
              "4                                                  0                                                       \n",
              "\n",
              "   Choice_50003_1:City of Portland, Councilor, District 1:6:Number of Winners 3:Uncertified Write In:NON  \n",
              "0                                                  0                                                      \n",
              "1                                                  0                                                      \n",
              "2                                                  0                                                      \n",
              "3                                                  0                                                      \n",
              "4                                                  0                                                      \n",
              "\n",
              "[5 rows x 130 columns]"
            ]
          },
          "execution_count": 1,
          "metadata": {},
          "output_type": "execute_result"
        }
      ],
      "source": [
        "import pandas as pd\n",
        "\n",
        "D1_df = pd.read_csv(\"/content/City_of_Portland__Councilor__District_1_2024_11_29_17_26_12.cvr.csv\") #insert the file name that you used when you downloaded the csv\n",
        "D1_df.head()"
      ]
    },
    {
      "cell_type": "markdown",
      "metadata": {
        "id": "XSr6qXPBYA2Y"
      },
      "source": [
        "Wow, 130 columns is a lot, too many for the dataframe to display. Let's look at them just to get familiar with the data set."
      ]
    },
    {
      "cell_type": "code",
      "execution_count": 2,
      "metadata": {
        "colab": {
          "base_uri": "https://localhost:8080/"
        },
        "id": "u_svVNV0YA2Y",
        "outputId": "75095c6b-df2b-40b7-da5d-e35b24cee91c"
      },
      "outputs": [
        {
          "name": "stdout",
          "output_type": "stream",
          "text": [
            "RowNumber\n",
            "BoxID\n",
            "BoxPosition\n",
            "BallotID\n",
            "PrecinctID\n",
            "BallotStyleID\n",
            "PrecinctStyleName\n",
            "ScanComputerName\n",
            "Status\n",
            "Remade\n",
            "Choice_20_1:City of Portland, Councilor, District 1:1:Number of Winners 3:Peggy Sue Owens:NON\n",
            "Choice_20_1:City of Portland, Councilor, District 1:2:Number of Winners 3:Peggy Sue Owens:NON\n",
            "Choice_20_1:City of Portland, Councilor, District 1:3:Number of Winners 3:Peggy Sue Owens:NON\n",
            "Choice_20_1:City of Portland, Councilor, District 1:4:Number of Winners 3:Peggy Sue Owens:NON\n",
            "Choice_20_1:City of Portland, Councilor, District 1:5:Number of Winners 3:Peggy Sue Owens:NON\n",
            "Choice_20_1:City of Portland, Councilor, District 1:6:Number of Winners 3:Peggy Sue Owens:NON\n",
            "Choice_21_1:City of Portland, Councilor, District 1:1:Number of Winners 3:Timur Ender:NON\n",
            "Choice_21_1:City of Portland, Councilor, District 1:2:Number of Winners 3:Timur Ender:NON\n",
            "Choice_21_1:City of Portland, Councilor, District 1:3:Number of Winners 3:Timur Ender:NON\n",
            "Choice_21_1:City of Portland, Councilor, District 1:4:Number of Winners 3:Timur Ender:NON\n",
            "Choice_21_1:City of Portland, Councilor, District 1:5:Number of Winners 3:Timur Ender:NON\n",
            "Choice_21_1:City of Portland, Councilor, District 1:6:Number of Winners 3:Timur Ender:NON\n",
            "Choice_22_1:City of Portland, Councilor, District 1:1:Number of Winners 3:Noah Ernst:NON\n",
            "Choice_22_1:City of Portland, Councilor, District 1:2:Number of Winners 3:Noah Ernst:NON\n",
            "Choice_22_1:City of Portland, Councilor, District 1:3:Number of Winners 3:Noah Ernst:NON\n",
            "Choice_22_1:City of Portland, Councilor, District 1:4:Number of Winners 3:Noah Ernst:NON\n",
            "Choice_22_1:City of Portland, Councilor, District 1:5:Number of Winners 3:Noah Ernst:NON\n",
            "Choice_22_1:City of Portland, Councilor, District 1:6:Number of Winners 3:Noah Ernst:NON\n",
            "Choice_23_1:City of Portland, Councilor, District 1:1:Number of Winners 3:Candace Avalos:NON\n",
            "Choice_23_1:City of Portland, Councilor, District 1:2:Number of Winners 3:Candace Avalos:NON\n",
            "Choice_23_1:City of Portland, Councilor, District 1:3:Number of Winners 3:Candace Avalos:NON\n",
            "Choice_23_1:City of Portland, Councilor, District 1:4:Number of Winners 3:Candace Avalos:NON\n",
            "Choice_23_1:City of Portland, Councilor, District 1:5:Number of Winners 3:Candace Avalos:NON\n",
            "Choice_23_1:City of Portland, Councilor, District 1:6:Number of Winners 3:Candace Avalos:NON\n",
            "Choice_24_1:City of Portland, Councilor, District 1:1:Number of Winners 3:Joe Allen:NON\n",
            "Choice_24_1:City of Portland, Councilor, District 1:2:Number of Winners 3:Joe Allen:NON\n",
            "Choice_24_1:City of Portland, Councilor, District 1:3:Number of Winners 3:Joe Allen:NON\n",
            "Choice_24_1:City of Portland, Councilor, District 1:4:Number of Winners 3:Joe Allen:NON\n",
            "Choice_24_1:City of Portland, Councilor, District 1:5:Number of Winners 3:Joe Allen:NON\n",
            "Choice_24_1:City of Portland, Councilor, District 1:6:Number of Winners 3:Joe Allen:NON\n",
            "Choice_25_1:City of Portland, Councilor, District 1:1:Number of Winners 3:David Linn:NON\n",
            "Choice_25_1:City of Portland, Councilor, District 1:2:Number of Winners 3:David Linn:NON\n",
            "Choice_25_1:City of Portland, Councilor, District 1:3:Number of Winners 3:David Linn:NON\n",
            "Choice_25_1:City of Portland, Councilor, District 1:4:Number of Winners 3:David Linn:NON\n",
            "Choice_25_1:City of Portland, Councilor, District 1:5:Number of Winners 3:David Linn:NON\n",
            "Choice_25_1:City of Portland, Councilor, District 1:6:Number of Winners 3:David Linn:NON\n",
            "Choice_26_1:City of Portland, Councilor, District 1:1:Number of Winners 3:Cayle Tern:NON\n",
            "Choice_26_1:City of Portland, Councilor, District 1:2:Number of Winners 3:Cayle Tern:NON\n",
            "Choice_26_1:City of Portland, Councilor, District 1:3:Number of Winners 3:Cayle Tern:NON\n",
            "Choice_26_1:City of Portland, Councilor, District 1:4:Number of Winners 3:Cayle Tern:NON\n",
            "Choice_26_1:City of Portland, Councilor, District 1:5:Number of Winners 3:Cayle Tern:NON\n",
            "Choice_26_1:City of Portland, Councilor, District 1:6:Number of Winners 3:Cayle Tern:NON\n",
            "Choice_27_1:City of Portland, Councilor, District 1:1:Number of Winners 3:Doug Clove:NON\n",
            "Choice_27_1:City of Portland, Councilor, District 1:2:Number of Winners 3:Doug Clove:NON\n",
            "Choice_27_1:City of Portland, Councilor, District 1:3:Number of Winners 3:Doug Clove:NON\n",
            "Choice_27_1:City of Portland, Councilor, District 1:4:Number of Winners 3:Doug Clove:NON\n",
            "Choice_27_1:City of Portland, Councilor, District 1:5:Number of Winners 3:Doug Clove:NON\n",
            "Choice_27_1:City of Portland, Councilor, District 1:6:Number of Winners 3:Doug Clove:NON\n",
            "Choice_28_1:City of Portland, Councilor, District 1:1:Number of Winners 3:Joe Furi:NON\n",
            "Choice_28_1:City of Portland, Councilor, District 1:2:Number of Winners 3:Joe Furi:NON\n",
            "Choice_28_1:City of Portland, Councilor, District 1:3:Number of Winners 3:Joe Furi:NON\n",
            "Choice_28_1:City of Portland, Councilor, District 1:4:Number of Winners 3:Joe Furi:NON\n",
            "Choice_28_1:City of Portland, Councilor, District 1:5:Number of Winners 3:Joe Furi:NON\n",
            "Choice_28_1:City of Portland, Councilor, District 1:6:Number of Winners 3:Joe Furi:NON\n",
            "Choice_29_1:City of Portland, Councilor, District 1:1:Number of Winners 3:Michael (Mike) Sands:NON\n",
            "Choice_29_1:City of Portland, Councilor, District 1:2:Number of Winners 3:Michael (Mike) Sands:NON\n",
            "Choice_29_1:City of Portland, Councilor, District 1:3:Number of Winners 3:Michael (Mike) Sands:NON\n",
            "Choice_29_1:City of Portland, Councilor, District 1:4:Number of Winners 3:Michael (Mike) Sands:NON\n",
            "Choice_29_1:City of Portland, Councilor, District 1:5:Number of Winners 3:Michael (Mike) Sands:NON\n",
            "Choice_29_1:City of Portland, Councilor, District 1:6:Number of Winners 3:Michael (Mike) Sands:NON\n",
            "Choice_30_1:City of Portland, Councilor, District 1:1:Number of Winners 3:Deian Salazar:NON\n",
            "Choice_30_1:City of Portland, Councilor, District 1:2:Number of Winners 3:Deian Salazar:NON\n",
            "Choice_30_1:City of Portland, Councilor, District 1:3:Number of Winners 3:Deian Salazar:NON\n",
            "Choice_30_1:City of Portland, Councilor, District 1:4:Number of Winners 3:Deian Salazar:NON\n",
            "Choice_30_1:City of Portland, Councilor, District 1:5:Number of Winners 3:Deian Salazar:NON\n",
            "Choice_30_1:City of Portland, Councilor, District 1:6:Number of Winners 3:Deian Salazar:NON\n",
            "Choice_31_1:City of Portland, Councilor, District 1:1:Number of Winners 3:Loretta Smith:NON\n",
            "Choice_31_1:City of Portland, Councilor, District 1:2:Number of Winners 3:Loretta Smith:NON\n",
            "Choice_31_1:City of Portland, Councilor, District 1:3:Number of Winners 3:Loretta Smith:NON\n",
            "Choice_31_1:City of Portland, Councilor, District 1:4:Number of Winners 3:Loretta Smith:NON\n",
            "Choice_31_1:City of Portland, Councilor, District 1:5:Number of Winners 3:Loretta Smith:NON\n",
            "Choice_31_1:City of Portland, Councilor, District 1:6:Number of Winners 3:Loretta Smith:NON\n",
            "Choice_32_1:City of Portland, Councilor, District 1:1:Number of Winners 3:Thomas Shervey:NON\n",
            "Choice_32_1:City of Portland, Councilor, District 1:2:Number of Winners 3:Thomas Shervey:NON\n",
            "Choice_32_1:City of Portland, Councilor, District 1:3:Number of Winners 3:Thomas Shervey:NON\n",
            "Choice_32_1:City of Portland, Councilor, District 1:4:Number of Winners 3:Thomas Shervey:NON\n",
            "Choice_32_1:City of Portland, Councilor, District 1:5:Number of Winners 3:Thomas Shervey:NON\n",
            "Choice_32_1:City of Portland, Councilor, District 1:6:Number of Winners 3:Thomas Shervey:NON\n",
            "Choice_33_1:City of Portland, Councilor, District 1:1:Number of Winners 3:Terrence Hayes:NON\n",
            "Choice_33_1:City of Portland, Councilor, District 1:2:Number of Winners 3:Terrence Hayes:NON\n",
            "Choice_33_1:City of Portland, Councilor, District 1:3:Number of Winners 3:Terrence Hayes:NON\n",
            "Choice_33_1:City of Portland, Councilor, District 1:4:Number of Winners 3:Terrence Hayes:NON\n",
            "Choice_33_1:City of Portland, Councilor, District 1:5:Number of Winners 3:Terrence Hayes:NON\n",
            "Choice_33_1:City of Portland, Councilor, District 1:6:Number of Winners 3:Terrence Hayes:NON\n",
            "Choice_34_1:City of Portland, Councilor, District 1:1:Number of Winners 3:Steph Routh:NON\n",
            "Choice_34_1:City of Portland, Councilor, District 1:2:Number of Winners 3:Steph Routh:NON\n",
            "Choice_34_1:City of Portland, Councilor, District 1:3:Number of Winners 3:Steph Routh:NON\n",
            "Choice_34_1:City of Portland, Councilor, District 1:4:Number of Winners 3:Steph Routh:NON\n",
            "Choice_34_1:City of Portland, Councilor, District 1:5:Number of Winners 3:Steph Routh:NON\n",
            "Choice_34_1:City of Portland, Councilor, District 1:6:Number of Winners 3:Steph Routh:NON\n",
            "Choice_35_1:City of Portland, Councilor, District 1:1:Number of Winners 3:Jamie Dunphy:NON\n",
            "Choice_35_1:City of Portland, Councilor, District 1:2:Number of Winners 3:Jamie Dunphy:NON\n",
            "Choice_35_1:City of Portland, Councilor, District 1:3:Number of Winners 3:Jamie Dunphy:NON\n",
            "Choice_35_1:City of Portland, Councilor, District 1:4:Number of Winners 3:Jamie Dunphy:NON\n",
            "Choice_35_1:City of Portland, Councilor, District 1:5:Number of Winners 3:Jamie Dunphy:NON\n",
            "Choice_35_1:City of Portland, Councilor, District 1:6:Number of Winners 3:Jamie Dunphy:NON\n",
            "Choice_120_1:City of Portland, Councilor, District 1:1:Number of Winners 3:Write-in-120:NON\n",
            "Choice_120_1:City of Portland, Councilor, District 1:2:Number of Winners 3:Write-in-120:NON\n",
            "Choice_120_1:City of Portland, Councilor, District 1:3:Number of Winners 3:Write-in-120:NON\n",
            "Choice_120_1:City of Portland, Councilor, District 1:4:Number of Winners 3:Write-in-120:NON\n",
            "Choice_120_1:City of Portland, Councilor, District 1:5:Number of Winners 3:Write-in-120:NON\n",
            "Choice_120_1:City of Portland, Councilor, District 1:6:Number of Winners 3:Write-in-120:NON\n",
            "Choice_121_1:City of Portland, Councilor, District 1:1:Number of Winners 3:Write-in-121:NON\n",
            "Choice_121_1:City of Portland, Councilor, District 1:2:Number of Winners 3:Write-in-121:NON\n",
            "Choice_121_1:City of Portland, Councilor, District 1:3:Number of Winners 3:Write-in-121:NON\n",
            "Choice_121_1:City of Portland, Councilor, District 1:4:Number of Winners 3:Write-in-121:NON\n",
            "Choice_121_1:City of Portland, Councilor, District 1:5:Number of Winners 3:Write-in-121:NON\n",
            "Choice_121_1:City of Portland, Councilor, District 1:6:Number of Winners 3:Write-in-121:NON\n",
            "Choice_122_1:City of Portland, Councilor, District 1:1:Number of Winners 3:Write-in-122:NON\n",
            "Choice_122_1:City of Portland, Councilor, District 1:2:Number of Winners 3:Write-in-122:NON\n",
            "Choice_122_1:City of Portland, Councilor, District 1:3:Number of Winners 3:Write-in-122:NON\n",
            "Choice_122_1:City of Portland, Councilor, District 1:4:Number of Winners 3:Write-in-122:NON\n",
            "Choice_122_1:City of Portland, Councilor, District 1:5:Number of Winners 3:Write-in-122:NON\n",
            "Choice_122_1:City of Portland, Councilor, District 1:6:Number of Winners 3:Write-in-122:NON\n",
            "Choice_50003_1:City of Portland, Councilor, District 1:1:Number of Winners 3:Uncertified Write In:NON\n",
            "Choice_50003_1:City of Portland, Councilor, District 1:2:Number of Winners 3:Uncertified Write In:NON\n",
            "Choice_50003_1:City of Portland, Councilor, District 1:3:Number of Winners 3:Uncertified Write In:NON\n",
            "Choice_50003_1:City of Portland, Councilor, District 1:4:Number of Winners 3:Uncertified Write In:NON\n",
            "Choice_50003_1:City of Portland, Councilor, District 1:5:Number of Winners 3:Uncertified Write In:NON\n",
            "Choice_50003_1:City of Portland, Councilor, District 1:6:Number of Winners 3:Uncertified Write In:NON\n"
          ]
        }
      ],
      "source": [
        "for column in D1_df.columns:\n",
        "    print(column)"
      ]
    },
    {
      "cell_type": "markdown",
      "metadata": {
        "id": "3zcvu9S2YA2Y"
      },
      "source": [
        "Here we can see that each candidate gets six columns, one for each ranking position. Remember, in order to make this format readable by VoteKit, we need to transform it so that there are only 6 columns total. Each column represents one position of a ranking, and the entry of that column is the candidate ranked in that position.\n",
        "\n",
        "For now we want to just keep track of the columns that have ranking data."
      ]
    },
    {
      "cell_type": "code",
      "execution_count": 3,
      "metadata": {
        "id": "wwRpWyWJYA2Y"
      },
      "outputs": [],
      "source": [
        "# stores all columns that have ranking information\n",
        "rank_columns = {i:[col for col in D1_df.columns if f'{i}:Number' in col] for i in range(1,7)}\n",
        "all_rank_cols = [col for col_list in rank_columns.values() for col in col_list]"
      ]
    },
    {
      "cell_type": "markdown",
      "metadata": {
        "id": "tbWdMqUqYA2Y"
      },
      "source": [
        "The code below scrubs any voter who did not cast at least one vote, which in turn removes any voter not from district 1."
      ]
    },
    {
      "cell_type": "code",
      "execution_count": 4,
      "metadata": {
        "id": "dsl1FRFDYA2Y"
      },
      "outputs": [],
      "source": [
        "D1_voters_df = D1_df[D1_df[all_rank_cols].sum(axis=1) > 0].reset_index(drop=True) # just resets the index of the df"
      ]
    },
    {
      "cell_type": "markdown",
      "metadata": {
        "id": "p1w_zvmBYA2Y"
      },
      "source": [
        "We now add the new ranking columns that match the VoteKit format.\n",
        "\n",
        "In the process, we will lose some information about overvotes, when voters put more than one candidate in a ranking."
      ]
    },
    {
      "cell_type": "markdown",
      "metadata": {
        "id": "s1vu2sgSZHeg"
      },
      "source": [
        "(warning about runtime:  in a local installation, this cleaning block takes 30 seconds, but in Colab it can take 4 minutes or more!)\n",
        "\n"
      ]
    },
    {
      "cell_type": "code",
      "execution_count": 6,
      "metadata": {
        "id": "CoW8vKGdZ-ij"
      },
      "outputs": [],
      "source": [
        "from tqdm.notebook import tqdm"
      ]
    },
    {
      "cell_type": "code",
      "execution_count": 5,
      "metadata": {
        "id": "6mnSqJeWYA2Y"
      },
      "outputs": [],
      "source": [
        "ranking_data = {i:[-1 for _ in range(len(D1_voters_df))] for i in range(1,7)}\n",
        "\n",
        "for voter_index, row in tqdm(D1_voters_df.iterrows()):\n",
        "    for rank_position in range(1,7):\n",
        "        num_votes_cast = row[rank_columns[rank_position]].sum()\n",
        "\n",
        "        if num_votes_cast == 0:\n",
        "            cast_vote = \"\"\n",
        "\n",
        "        elif num_votes_cast > 1:\n",
        "            cast_vote = \"overvote\"\n",
        "\n",
        "            # here we lost knowledge of who was in the overvote. That's how Portland runs their election\n",
        "            # system, but it could be interesting to study who is in the overvote!\n",
        "\n",
        "        else:\n",
        "            # find candidate name from column\n",
        "            pd_series = row[rank_columns[rank_position]]\n",
        "            cast_vote_column_name = pd_series.loc[pd_series == 1].index.tolist()[0]\n",
        "            cast_vote = cast_vote_column_name.split(\":\")[-2]\n",
        "\n",
        "        ranking_data[rank_position][voter_index] = cast_vote\n",
        "\n",
        "# add the new columns\n",
        "for rank_position in range(1,7):\n",
        "    D1_voters_df[f\"Rank {rank_position}\"] = ranking_data[rank_position]"
      ]
    },
    {
      "cell_type": "code",
      "execution_count": 7,
      "metadata": {
        "colab": {
          "base_uri": "https://localhost:8080/",
          "height": 206
        },
        "id": "4Z-71jCuYA2Y",
        "outputId": "37ccb057-665c-4092-a6b5-8745181b1c77"
      },
      "outputs": [
        {
          "data": {
            "application/vnd.google.colaboratory.intrinsic+json": {
              "summary": "{\n  \"name\": \"ranking_df\",\n  \"rows\": 43669,\n  \"fields\": [\n    {\n      \"column\": \"Rank 1\",\n      \"properties\": {\n        \"dtype\": \"category\",\n        \"num_unique_values\": 22,\n        \"samples\": [\n          \"Terrence Hayes\",\n          \"\",\n          \"Jamie Dunphy\"\n        ],\n        \"semantic_type\": \"\",\n        \"description\": \"\"\n      }\n    },\n    {\n      \"column\": \"Rank 2\",\n      \"properties\": {\n        \"dtype\": \"category\",\n        \"num_unique_values\": 22,\n        \"samples\": [\n          \"Loretta Smith\",\n          \"overvote\",\n          \"Jamie Dunphy\"\n        ],\n        \"semantic_type\": \"\",\n        \"description\": \"\"\n      }\n    },\n    {\n      \"column\": \"Rank 3\",\n      \"properties\": {\n        \"dtype\": \"category\",\n        \"num_unique_values\": 22,\n        \"samples\": [\n          \"Noah Ernst\",\n          \"Jamie Dunphy\",\n          \"Steph Routh\"\n        ],\n        \"semantic_type\": \"\",\n        \"description\": \"\"\n      }\n    },\n    {\n      \"column\": \"Rank 4\",\n      \"properties\": {\n        \"dtype\": \"category\",\n        \"num_unique_values\": 22,\n        \"samples\": [\n          \"\",\n          \"Michael (Mike) Sands\",\n          \"Peggy Sue Owens\"\n        ],\n        \"semantic_type\": \"\",\n        \"description\": \"\"\n      }\n    },\n    {\n      \"column\": \"Rank 5\",\n      \"properties\": {\n        \"dtype\": \"category\",\n        \"num_unique_values\": 22,\n        \"samples\": [\n          \"\",\n          \"Joe Allen\",\n          \"Loretta Smith\"\n        ],\n        \"semantic_type\": \"\",\n        \"description\": \"\"\n      }\n    },\n    {\n      \"column\": \"Rank 6\",\n      \"properties\": {\n        \"dtype\": \"category\",\n        \"num_unique_values\": 22,\n        \"samples\": [\n          \"\",\n          \"Deian Salazar\",\n          \"Joe Furi\"\n        ],\n        \"semantic_type\": \"\",\n        \"description\": \"\"\n      }\n    }\n  ]\n}",
              "type": "dataframe",
              "variable_name": "ranking_df"
            },
            "text/html": [
              "\n",
              "  <div id=\"df-9460ca04-99cd-466b-a539-13fcb4e55e5b\" class=\"colab-df-container\">\n",
              "    <div>\n",
              "<style scoped>\n",
              "    .dataframe tbody tr th:only-of-type {\n",
              "        vertical-align: middle;\n",
              "    }\n",
              "\n",
              "    .dataframe tbody tr th {\n",
              "        vertical-align: top;\n",
              "    }\n",
              "\n",
              "    .dataframe thead th {\n",
              "        text-align: right;\n",
              "    }\n",
              "</style>\n",
              "<table border=\"1\" class=\"dataframe\">\n",
              "  <thead>\n",
              "    <tr style=\"text-align: right;\">\n",
              "      <th></th>\n",
              "      <th>Rank 1</th>\n",
              "      <th>Rank 2</th>\n",
              "      <th>Rank 3</th>\n",
              "      <th>Rank 4</th>\n",
              "      <th>Rank 5</th>\n",
              "      <th>Rank 6</th>\n",
              "    </tr>\n",
              "  </thead>\n",
              "  <tbody>\n",
              "    <tr>\n",
              "      <th>0</th>\n",
              "      <td>Terrence Hayes</td>\n",
              "      <td>Loretta Smith</td>\n",
              "      <td>Noah Ernst</td>\n",
              "      <td></td>\n",
              "      <td></td>\n",
              "      <td></td>\n",
              "    </tr>\n",
              "    <tr>\n",
              "      <th>1</th>\n",
              "      <td>Loretta Smith</td>\n",
              "      <td>Steph Routh</td>\n",
              "      <td>Timur Ender</td>\n",
              "      <td>David Linn</td>\n",
              "      <td>Candace Avalos</td>\n",
              "      <td>Jamie Dunphy</td>\n",
              "    </tr>\n",
              "    <tr>\n",
              "      <th>2</th>\n",
              "      <td>Loretta Smith</td>\n",
              "      <td>Steph Routh</td>\n",
              "      <td>Timur Ender</td>\n",
              "      <td>David Linn</td>\n",
              "      <td>Candace Avalos</td>\n",
              "      <td>Jamie Dunphy</td>\n",
              "    </tr>\n",
              "    <tr>\n",
              "      <th>3</th>\n",
              "      <td>Michael (Mike) Sands</td>\n",
              "      <td>Doug Clove</td>\n",
              "      <td>Joe Furi</td>\n",
              "      <td>Timur Ender</td>\n",
              "      <td>Deian Salazar</td>\n",
              "      <td>Loretta Smith</td>\n",
              "    </tr>\n",
              "    <tr>\n",
              "      <th>4</th>\n",
              "      <td>Timur Ender</td>\n",
              "      <td>Candace Avalos</td>\n",
              "      <td>Cayle Tern</td>\n",
              "      <td>Steph Routh</td>\n",
              "      <td>Michael (Mike) Sands</td>\n",
              "      <td>Jamie Dunphy</td>\n",
              "    </tr>\n",
              "  </tbody>\n",
              "</table>\n",
              "</div>\n",
              "    <div class=\"colab-df-buttons\">\n",
              "\n",
              "  <div class=\"colab-df-container\">\n",
              "    <button class=\"colab-df-convert\" onclick=\"convertToInteractive('df-9460ca04-99cd-466b-a539-13fcb4e55e5b')\"\n",
              "            title=\"Convert this dataframe to an interactive table.\"\n",
              "            style=\"display:none;\">\n",
              "\n",
              "  <svg xmlns=\"http://www.w3.org/2000/svg\" height=\"24px\" viewBox=\"0 -960 960 960\">\n",
              "    <path d=\"M120-120v-720h720v720H120Zm60-500h600v-160H180v160Zm220 220h160v-160H400v160Zm0 220h160v-160H400v160ZM180-400h160v-160H180v160Zm440 0h160v-160H620v160ZM180-180h160v-160H180v160Zm440 0h160v-160H620v160Z\"/>\n",
              "  </svg>\n",
              "    </button>\n",
              "\n",
              "  <style>\n",
              "    .colab-df-container {\n",
              "      display:flex;\n",
              "      gap: 12px;\n",
              "    }\n",
              "\n",
              "    .colab-df-convert {\n",
              "      background-color: #E8F0FE;\n",
              "      border: none;\n",
              "      border-radius: 50%;\n",
              "      cursor: pointer;\n",
              "      display: none;\n",
              "      fill: #1967D2;\n",
              "      height: 32px;\n",
              "      padding: 0 0 0 0;\n",
              "      width: 32px;\n",
              "    }\n",
              "\n",
              "    .colab-df-convert:hover {\n",
              "      background-color: #E2EBFA;\n",
              "      box-shadow: 0px 1px 2px rgba(60, 64, 67, 0.3), 0px 1px 3px 1px rgba(60, 64, 67, 0.15);\n",
              "      fill: #174EA6;\n",
              "    }\n",
              "\n",
              "    .colab-df-buttons div {\n",
              "      margin-bottom: 4px;\n",
              "    }\n",
              "\n",
              "    [theme=dark] .colab-df-convert {\n",
              "      background-color: #3B4455;\n",
              "      fill: #D2E3FC;\n",
              "    }\n",
              "\n",
              "    [theme=dark] .colab-df-convert:hover {\n",
              "      background-color: #434B5C;\n",
              "      box-shadow: 0px 1px 3px 1px rgba(0, 0, 0, 0.15);\n",
              "      filter: drop-shadow(0px 1px 2px rgba(0, 0, 0, 0.3));\n",
              "      fill: #FFFFFF;\n",
              "    }\n",
              "  </style>\n",
              "\n",
              "    <script>\n",
              "      const buttonEl =\n",
              "        document.querySelector('#df-9460ca04-99cd-466b-a539-13fcb4e55e5b button.colab-df-convert');\n",
              "      buttonEl.style.display =\n",
              "        google.colab.kernel.accessAllowed ? 'block' : 'none';\n",
              "\n",
              "      async function convertToInteractive(key) {\n",
              "        const element = document.querySelector('#df-9460ca04-99cd-466b-a539-13fcb4e55e5b');\n",
              "        const dataTable =\n",
              "          await google.colab.kernel.invokeFunction('convertToInteractive',\n",
              "                                                    [key], {});\n",
              "        if (!dataTable) return;\n",
              "\n",
              "        const docLinkHtml = 'Like what you see? Visit the ' +\n",
              "          '<a target=\"_blank\" href=https://colab.research.google.com/notebooks/data_table.ipynb>data table notebook</a>'\n",
              "          + ' to learn more about interactive tables.';\n",
              "        element.innerHTML = '';\n",
              "        dataTable['output_type'] = 'display_data';\n",
              "        await google.colab.output.renderOutput(dataTable, element);\n",
              "        const docLink = document.createElement('div');\n",
              "        docLink.innerHTML = docLinkHtml;\n",
              "        element.appendChild(docLink);\n",
              "      }\n",
              "    </script>\n",
              "  </div>\n",
              "\n",
              "\n",
              "    <div id=\"df-cd09b15b-4296-4750-8485-d9e296b6f998\">\n",
              "      <button class=\"colab-df-quickchart\" onclick=\"quickchart('df-cd09b15b-4296-4750-8485-d9e296b6f998')\"\n",
              "                title=\"Suggest charts\"\n",
              "                style=\"display:none;\">\n",
              "\n",
              "<svg xmlns=\"http://www.w3.org/2000/svg\" height=\"24px\"viewBox=\"0 0 24 24\"\n",
              "     width=\"24px\">\n",
              "    <g>\n",
              "        <path d=\"M19 3H5c-1.1 0-2 .9-2 2v14c0 1.1.9 2 2 2h14c1.1 0 2-.9 2-2V5c0-1.1-.9-2-2-2zM9 17H7v-7h2v7zm4 0h-2V7h2v10zm4 0h-2v-4h2v4z\"/>\n",
              "    </g>\n",
              "</svg>\n",
              "      </button>\n",
              "\n",
              "<style>\n",
              "  .colab-df-quickchart {\n",
              "      --bg-color: #E8F0FE;\n",
              "      --fill-color: #1967D2;\n",
              "      --hover-bg-color: #E2EBFA;\n",
              "      --hover-fill-color: #174EA6;\n",
              "      --disabled-fill-color: #AAA;\n",
              "      --disabled-bg-color: #DDD;\n",
              "  }\n",
              "\n",
              "  [theme=dark] .colab-df-quickchart {\n",
              "      --bg-color: #3B4455;\n",
              "      --fill-color: #D2E3FC;\n",
              "      --hover-bg-color: #434B5C;\n",
              "      --hover-fill-color: #FFFFFF;\n",
              "      --disabled-bg-color: #3B4455;\n",
              "      --disabled-fill-color: #666;\n",
              "  }\n",
              "\n",
              "  .colab-df-quickchart {\n",
              "    background-color: var(--bg-color);\n",
              "    border: none;\n",
              "    border-radius: 50%;\n",
              "    cursor: pointer;\n",
              "    display: none;\n",
              "    fill: var(--fill-color);\n",
              "    height: 32px;\n",
              "    padding: 0;\n",
              "    width: 32px;\n",
              "  }\n",
              "\n",
              "  .colab-df-quickchart:hover {\n",
              "    background-color: var(--hover-bg-color);\n",
              "    box-shadow: 0 1px 2px rgba(60, 64, 67, 0.3), 0 1px 3px 1px rgba(60, 64, 67, 0.15);\n",
              "    fill: var(--button-hover-fill-color);\n",
              "  }\n",
              "\n",
              "  .colab-df-quickchart-complete:disabled,\n",
              "  .colab-df-quickchart-complete:disabled:hover {\n",
              "    background-color: var(--disabled-bg-color);\n",
              "    fill: var(--disabled-fill-color);\n",
              "    box-shadow: none;\n",
              "  }\n",
              "\n",
              "  .colab-df-spinner {\n",
              "    border: 2px solid var(--fill-color);\n",
              "    border-color: transparent;\n",
              "    border-bottom-color: var(--fill-color);\n",
              "    animation:\n",
              "      spin 1s steps(1) infinite;\n",
              "  }\n",
              "\n",
              "  @keyframes spin {\n",
              "    0% {\n",
              "      border-color: transparent;\n",
              "      border-bottom-color: var(--fill-color);\n",
              "      border-left-color: var(--fill-color);\n",
              "    }\n",
              "    20% {\n",
              "      border-color: transparent;\n",
              "      border-left-color: var(--fill-color);\n",
              "      border-top-color: var(--fill-color);\n",
              "    }\n",
              "    30% {\n",
              "      border-color: transparent;\n",
              "      border-left-color: var(--fill-color);\n",
              "      border-top-color: var(--fill-color);\n",
              "      border-right-color: var(--fill-color);\n",
              "    }\n",
              "    40% {\n",
              "      border-color: transparent;\n",
              "      border-right-color: var(--fill-color);\n",
              "      border-top-color: var(--fill-color);\n",
              "    }\n",
              "    60% {\n",
              "      border-color: transparent;\n",
              "      border-right-color: var(--fill-color);\n",
              "    }\n",
              "    80% {\n",
              "      border-color: transparent;\n",
              "      border-right-color: var(--fill-color);\n",
              "      border-bottom-color: var(--fill-color);\n",
              "    }\n",
              "    90% {\n",
              "      border-color: transparent;\n",
              "      border-bottom-color: var(--fill-color);\n",
              "    }\n",
              "  }\n",
              "</style>\n",
              "\n",
              "      <script>\n",
              "        async function quickchart(key) {\n",
              "          const quickchartButtonEl =\n",
              "            document.querySelector('#' + key + ' button');\n",
              "          quickchartButtonEl.disabled = true;  // To prevent multiple clicks.\n",
              "          quickchartButtonEl.classList.add('colab-df-spinner');\n",
              "          try {\n",
              "            const charts = await google.colab.kernel.invokeFunction(\n",
              "                'suggestCharts', [key], {});\n",
              "          } catch (error) {\n",
              "            console.error('Error during call to suggestCharts:', error);\n",
              "          }\n",
              "          quickchartButtonEl.classList.remove('colab-df-spinner');\n",
              "          quickchartButtonEl.classList.add('colab-df-quickchart-complete');\n",
              "        }\n",
              "        (() => {\n",
              "          let quickchartButtonEl =\n",
              "            document.querySelector('#df-cd09b15b-4296-4750-8485-d9e296b6f998 button');\n",
              "          quickchartButtonEl.style.display =\n",
              "            google.colab.kernel.accessAllowed ? 'block' : 'none';\n",
              "        })();\n",
              "      </script>\n",
              "    </div>\n",
              "\n",
              "    </div>\n",
              "  </div>\n"
            ],
            "text/plain": [
              "                 Rank 1          Rank 2       Rank 3       Rank 4  \\\n",
              "0        Terrence Hayes   Loretta Smith   Noah Ernst                \n",
              "1         Loretta Smith     Steph Routh  Timur Ender   David Linn   \n",
              "2         Loretta Smith     Steph Routh  Timur Ender   David Linn   \n",
              "3  Michael (Mike) Sands      Doug Clove     Joe Furi  Timur Ender   \n",
              "4           Timur Ender  Candace Avalos   Cayle Tern  Steph Routh   \n",
              "\n",
              "                 Rank 5         Rank 6  \n",
              "0                                       \n",
              "1        Candace Avalos   Jamie Dunphy  \n",
              "2        Candace Avalos   Jamie Dunphy  \n",
              "3         Deian Salazar  Loretta Smith  \n",
              "4  Michael (Mike) Sands   Jamie Dunphy  "
            ]
          },
          "execution_count": 7,
          "metadata": {},
          "output_type": "execute_result"
        }
      ],
      "source": [
        "ranking_df = D1_voters_df[[f\"Rank {rank_position}\" for rank_position in range(1,7)]]\n",
        "ranking_df.head()"
      ]
    },
    {
      "cell_type": "markdown",
      "metadata": {
        "id": "pRVwcFniYA2Y"
      },
      "source": [
        "Now it is in the correct format for VoteKit to read, so we can save it to a csv. Choose a file name that makes sense to you."
      ]
    },
    {
      "cell_type": "code",
      "execution_count": 8,
      "metadata": {
        "id": "irRTB3IKYA2Y"
      },
      "outputs": [],
      "source": [
        "ranking_df.to_csv(\"your_file_name_here.csv\") #"
      ]
    },
    {
      "cell_type": "markdown",
      "metadata": {
        "id": "1eNGL-ptYA2Y"
      },
      "source": [
        "## Load a profile, clean a profile\n",
        "Now that the csv is in the correct format for VoteKit, we can complete our cleaning using VoteKit's built in cleaning tools. Along the way, we will touch on how to load a profile from a file."
      ]
    },
    {
      "cell_type": "markdown",
      "metadata": {
        "id": "AOnCgnWWYA2Y"
      },
      "source": [
        "CVR stands for cast vote record, so what we are doing below is accessing the part of VoteKit that allows you to load CVRs, and asking for the function that loads csvs. Replace the file name with whatever you used above.\n",
        "\n",
        "Note that we need to tell VoteKit which columns of the csv contain the ranking data. Open the csv file you saved above to see what columns you need. Don't forget that Python starts counting from 0."
      ]
    },
    {
      "cell_type": "code",
      "execution_count": null,
      "metadata": {
        "id": "EXxhpPnWYA2Z"
      },
      "outputs": [],
      "source": [
        "from votekit.cvr_loaders import load_csv\n",
        "\n",
        "rank_cols = [] # type the numbers of the columns you need here, like [5,7,12,14]\n",
        "raw_profile = load_csv(\"/content/your_file_name_here.csv\", rank_cols=rank_cols)"
      ]
    },
    {
      "cell_type": "code",
      "execution_count": 14,
      "metadata": {
        "colab": {
          "base_uri": "https://localhost:8080/"
        },
        "id": "iOvhfnyvYA2Z",
        "outputId": "1e9b63bc-123b-4bc1-e8df-5792b569e3fd"
      },
      "outputs": [
        {
          "data": {
            "text/plain": [
              "Profile contains rankings: True\n",
              "Maximum ranking length: 6\n",
              "Profile contains scores: False\n",
              "Candidates: ('Candace Avalos', 'Cayle Tern', 'Jamie Dunphy', 'Loretta Smith', 'Steph Routh', 'Doug Clove', 'Michael (Mike) Sands', 'David Linn', 'Timur Ender', 'Deian Salazar', 'Peggy Sue Owens', 'Joe Allen', 'Joe Furi', 'Terrence Hayes', 'Noah Ernst', 'Thomas Shervey', 'Uncertified Write In', 'Write-in-121', 'Write-in-122', 'Write-in-120', 'overvote')\n",
              "Candidates who received votes: ('Candace Avalos', 'Cayle Tern', 'Jamie Dunphy', 'Loretta Smith', 'Steph Routh', 'Doug Clove', 'Michael (Mike) Sands', 'David Linn', 'Timur Ender', 'Deian Salazar', 'Peggy Sue Owens', 'Joe Allen', 'Joe Furi', 'Terrence Hayes', 'Noah Ernst', 'Thomas Shervey', 'Uncertified Write In', 'Write-in-121', 'Write-in-122', 'Write-in-120', 'overvote')\n",
              "Total number of Ballot objects: 19933\n",
              "Total weight of Ballot objects: 43669"
            ]
          },
          "execution_count": 14,
          "metadata": {},
          "output_type": "execute_result"
        }
      ],
      "source": [
        "raw_profile"
      ]
    },
    {
      "cell_type": "markdown",
      "metadata": {
        "id": "mzgZFf4fYA2Z"
      },
      "source": [
        "Notice above that there is a difference between the number of total ballots and the total weight. This indicates that the profile has been grouped; that is, ballots with the same ranking have been aggregated so that there is one ballot, but with increased weight. We need to be careful and sum the ballot weights, not the number of ballots, if we want to know the total number of voters."
      ]
    },
    {
      "cell_type": "code",
      "execution_count": 17,
      "metadata": {
        "colab": {
          "base_uri": "https://localhost:8080/"
        },
        "id": "V7J6sM_DYA2Z",
        "outputId": "493648ce-803d-453e-88cd-460fff681953"
      },
      "outputs": [
        {
          "name": "stdout",
          "output_type": "stream",
          "text": [
            "There were 43669 ballots cast.\n"
          ]
        }
      ],
      "source": [
        "num_ballots_cast = raw_profile.total_ballot_wt\n",
        "\n",
        "print(\"There were\",num_ballots_cast,\"ballots cast.\")"
      ]
    },
    {
      "cell_type": "markdown",
      "metadata": {
        "id": "-FOBQwhkYA2Z"
      },
      "source": [
        "In the rules of Portland's election, which you can find [here](), any skipped positions and overvotes are ignored by the STV algorithm, and any candidates that were ranked below the position are moved up. The same thing occurs to three of the write in categories, but oddly enough, not to the \"Uncertified Write-in\" category.\n",
        "\n",
        "While Portland did not alter the ballots themselves, but rather told the STV algorithm how to ignore ballot errors, this is mathematically equvalent to pre-processing the ballots. VoteKit's ``remove_and_condense`` function removes candidates and then condenses any ballot positions left empty after scrubbing the given candidates."
      ]
    },
    {
      "cell_type": "code",
      "execution_count": 18,
      "metadata": {
        "id": "a6T9EGZiYA2Z"
      },
      "outputs": [],
      "source": [
        "from votekit.cleaning import remove_and_condense\n",
        "\n",
        "cleaned_profile = remove_and_condense(['overvote', 'Write-in-120', 'Write-in-121', 'Write-in-122'], raw_profile)"
      ]
    },
    {
      "cell_type": "markdown",
      "metadata": {
        "id": "gwFarI5JYA2Z"
      },
      "source": [
        "We also have to handle one more item of cleaning. It is entirely possible that a voter listed the same candidate more than once on their ballot, which is not allowed. Portland chose to keep the first occurrence, and ignore any later occurrences, condensing any positions left empty as a result."
      ]
    },
    {
      "cell_type": "code",
      "execution_count": 19,
      "metadata": {
        "id": "S3b2kHRzYA2Z"
      },
      "outputs": [],
      "source": [
        "from votekit.cleaning import remove_repeated_candidates, condense_profile\n",
        "\n",
        "cleaned_profile = condense_profile(remove_repeated_candidates(cleaned_profile))"
      ]
    },
    {
      "cell_type": "markdown",
      "metadata": {
        "id": "Xd6IXWFYYA2Z"
      },
      "source": [
        "Finally, the profile is cleaned and we can save it for analysis. We save it as a thing called a \"pickle file,\" which is a way of storing Python variables. Choose a file name that makes sense to you!"
      ]
    },
    {
      "cell_type": "code",
      "execution_count": 34,
      "metadata": {
        "colab": {
          "base_uri": "https://localhost:8080/"
        },
        "id": "fWsTMGUWYA2Z",
        "outputId": "d2af344b-9661-41f8-dfb7-3e78f37b177d"
      },
      "outputs": [
        {
          "name": "stdout",
          "output_type": "stream",
          "text": [
            "Before cleaning there were 43669 many ballots cast.\n",
            "After cleaning, there are now 42871 ballots.\n",
            "This means that 798 ballots, or 1.8274 percent, were scrubbed due to cleaning.\n"
          ]
        }
      ],
      "source": [
        "cleaned_profile.to_pickle(\"thingie.pkl\")\n",
        "\n",
        "print(f\"Before cleaning there were {num_ballots_cast} many ballots cast.\")\n",
        "print(f\"After cleaning, there are now {cleaned_profile.total_ballot_wt} ballots.\")\n",
        "print(\"This means that\",num_ballots_cast - cleaned_profile.total_ballot_wt,\"ballots, or\", round(100*float((num_ballots_cast - cleaned_profile.total_ballot_wt)/num_ballots_cast),4),\"percent, were scrubbed due to cleaning.\")"
      ]
    },
    {
      "cell_type": "markdown",
      "metadata": {
        "id": "Jb6KLCZmYA2Z"
      },
      "source": [
        "## Running the election"
      ]
    },
    {
      "cell_type": "markdown",
      "metadata": {
        "id": "6FN-HijTYA2Z"
      },
      "source": [
        "Finally, we have a CVR that is cleaned and ready to be run through the STV election. Change the file name below to whatever name you saved your pickle file to."
      ]
    },
    {
      "cell_type": "code",
      "execution_count": 36,
      "metadata": {
        "id": "bbwXMlMkYA2Z"
      },
      "outputs": [],
      "source": [
        "from votekit.pref_profile import PreferenceProfile\n",
        "\n",
        "profile = PreferenceProfile.from_pickle(\"thingie.pkl\")"
      ]
    },
    {
      "cell_type": "markdown",
      "metadata": {
        "id": "cJRmRt3UYA2Z"
      },
      "source": [
        "VoteKit makes it very easy to run an election. Just import the desired election type, and choose the number of seats up for election."
      ]
    },
    {
      "cell_type": "code",
      "execution_count": 37,
      "metadata": {
        "id": "lyJP7rpsYA2Z"
      },
      "outputs": [],
      "source": [
        "from votekit.elections import STV\n",
        "\n",
        "# 3 seat election\n",
        "election = STV(profile, m=3)"
      ]
    },
    {
      "cell_type": "markdown",
      "metadata": {
        "id": "Q1SBuIp4YA2Z"
      },
      "source": [
        "Do we have the correct candidates? Do we have the same vote totals? Do we get the same STV winner set? The Election object, called `election` here, has lots of built in methods that allow us to check these stats.\n",
        "\n",
        "In district 1, Avalos, Dunphy, and Smith were elected. The winners, first place vote distribution, and lots of other stats we can double check, are given [here](https://www.portland.gov/sites/default/files/2024/Portland-District-1-Certified-Abstract-Nov-2024.pdf)."
      ]
    },
    {
      "cell_type": "code",
      "execution_count": 38,
      "metadata": {
        "colab": {
          "base_uri": "https://localhost:8080/"
        },
        "id": "239S6NXQYA2Z",
        "outputId": "323bbaa0-276c-49ea-90e1-302d96c34c06"
      },
      "outputs": [
        {
          "name": "stdout",
          "output_type": "stream",
          "text": [
            "Winners in order of election\n",
            "1 Candace Avalos\n",
            "2 Loretta Smith\n",
            "3 Jamie Dunphy\n"
          ]
        }
      ],
      "source": [
        "print(\"Winners in order of election\")\n",
        "i=0\n",
        "for cand_set in election.get_elected():\n",
        "    for cand in cand_set:\n",
        "        i+=1\n",
        "        print(i, cand)"
      ]
    },
    {
      "cell_type": "code",
      "execution_count": 39,
      "metadata": {
        "colab": {
          "base_uri": "https://localhost:8080/"
        },
        "id": "cQQtnoq0YA2Z",
        "outputId": "f8420773-5d6f-4159-fbea-6f21a7cb40e0"
      },
      "outputs": [
        {
          "name": "stdout",
          "output_type": "stream",
          "text": [
            "Election Threshold: 10,718\n"
          ]
        }
      ],
      "source": [
        "# threshold\n",
        "print(f\"Election Threshold: {election.threshold:,}\")"
      ]
    },
    {
      "cell_type": "code",
      "execution_count": 40,
      "metadata": {
        "colab": {
          "base_uri": "https://localhost:8080/"
        },
        "id": "vW1G87OMYA2Z",
        "outputId": "310cf47f-0039-4a87-cff1-2de0c31cbd60"
      },
      "outputs": [
        {
          "name": "stdout",
          "output_type": "stream",
          "text": [
            "Candidates in decreasing order of first-place votes.\n",
            "\n",
            "Candace Avalos 8297\n",
            "Loretta Smith 5586\n",
            "Jamie Dunphy 5064\n",
            "Noah Ernst 4052\n",
            "Terrence Hayes 3975\n",
            "Steph Routh 3894\n",
            "Timur Ender 3550\n",
            "Doug Clove 1698\n",
            "Peggy Sue Owens 1266\n",
            "David Linn 1111\n",
            "Joe Allen 978\n",
            "Michael (Mike) Sands 952\n",
            "Deian Salazar 720\n",
            "Cayle Tern 711\n",
            "Thomas Shervey 385\n",
            "Joe Furi 355\n",
            "Uncertified Write In 277\n"
          ]
        }
      ],
      "source": [
        "from votekit.utils import first_place_votes\n",
        "\n",
        "fpv_dict = first_place_votes(profile)\n",
        "cands_sorted_by_fpv = sorted(zip(fpv_dict.keys(), fpv_dict.values()), # creates a list of tuples, (name, fpv)\n",
        "                                reverse=True,  #decreasing order\n",
        "                                key = lambda x: x[1], # sort by second element of tuple, which is fpv)\n",
        "                                    )\n",
        "\n",
        "print(\"Candidates in decreasing order of first-place votes.\\n\")\n",
        "for cand, fpv in cands_sorted_by_fpv:\n",
        "    print(cand, fpv)"
      ]
    },
    {
      "cell_type": "markdown",
      "metadata": {
        "id": "H3qClWD6YA2a"
      },
      "source": [
        "Take a moment to verify these against the [official record](https://www.portland.gov/sites/default/files/2024/Portland-District-1-Certified-Abstract-Nov-2024.pdf)."
      ]
    },
    {
      "cell_type": "markdown",
      "metadata": {
        "id": "grgtkIciYA2a"
      },
      "source": [
        "## Comparing to other systems\n",
        "\n",
        "VoteKit makes it very easy to try running the same profile through different election methods. This allows us to answer questions like \"If Portland had used a Plurality election, who would have won?\""
      ]
    },
    {
      "cell_type": "code",
      "execution_count": 41,
      "metadata": {
        "colab": {
          "base_uri": "https://localhost:8080/"
        },
        "id": "uIgFol7SYA2a",
        "outputId": "7728cd6c-1578-4b3d-8118-9900bd134bf3"
      },
      "outputs": [
        {
          "name": "stdout",
          "output_type": "stream",
          "text": [
            "Condorcet\n",
            "In order of election, the winners are\n",
            "0) Candace Avalos\n",
            "1) Steph Routh\n",
            "2) Jamie Dunphy\n",
            "\n",
            "Borda\n",
            "In order of election, the winners are\n",
            "0) Candace Avalos\n",
            "1) Steph Routh\n",
            "2) Loretta Smith\n",
            "\n",
            "Plurality\n",
            "In order of election, the winners are\n",
            "0) Candace Avalos\n",
            "1) Loretta Smith\n",
            "2) Jamie Dunphy\n",
            "\n"
          ]
        }
      ],
      "source": [
        "from votekit.elections.election_types.ranking import CondoBorda, Plurality, Borda\n",
        "\n",
        "\n",
        "alt_elections = {\"Condorcet\": CondoBorda(profile, m=3),\n",
        "                 \"Borda\": Borda(profile, m=3),\n",
        "                 \"Plurality\": Plurality(profile, m=3),\n",
        "                 }\n",
        "\n",
        "for e_name, e in alt_elections.items():\n",
        "    print(e_name)\n",
        "    e_winners = [c for s in e.get_elected() for c in s]\n",
        "    print(\"In order of election, the winners are\")\n",
        "\n",
        "    for i, winner in enumerate(e_winners):\n",
        "        print(f\"{i}) {winner}\")\n",
        "    print()"
      ]
    },
    {
      "cell_type": "markdown",
      "metadata": {
        "id": "-uf1YXgVYA2a"
      },
      "source": [
        "Go to the list of ranking elections that VoteKit supports https://votekit.readthedocs.io/en/latest/social_choice_docs/scr/#ranking-based, and try importing one and applying it to the Portland profile."
      ]
    },
    {
      "cell_type": "code",
      "execution_count": null,
      "metadata": {
        "id": "iEGhQrm9YA2a"
      },
      "outputs": [],
      "source": [
        "from votekit.elections.election_types.ranking import ??????\n",
        "\n",
        "election = ??????(profile, m=)"
      ]
    },
    {
      "cell_type": "markdown",
      "metadata": {
        "id": "KUsgQqQpYA2a"
      },
      "source": [
        "Try changing the number of seats `m`, either on the election type you just imported, or on some of the elections we previously used. Who wins then?"
      ]
    },
    {
      "cell_type": "code",
      "execution_count": null,
      "metadata": {
        "id": "nQeo-_ObYA2a"
      },
      "outputs": [],
      "source": [
        "# your code here"
      ]
    }
  ],
  "metadata": {
    "colab": {
      "include_colab_link": true,
      "provenance": []
    },
    "kernelspec": {
      "display_name": ".venv",
      "language": "python",
      "name": "python3"
    },
    "language_info": {
      "codemirror_mode": {
        "name": "ipython",
        "version": 3
      },
      "file_extension": ".py",
      "mimetype": "text/x-python",
      "name": "python",
      "nbconvert_exporter": "python",
      "pygments_lexer": "ipython3",
      "version": "3.13.2"
    }
  },
  "nbformat": 4,
  "nbformat_minor": 0
}
