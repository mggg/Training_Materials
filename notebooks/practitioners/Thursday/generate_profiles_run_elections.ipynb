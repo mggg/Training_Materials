{
 "cells": [
  {
   "cell_type": "markdown",
   "id": "f473c302",
   "metadata": {},
   "source": [
    "# Knobs to turn\n",
    "\n",
    "In this session we will learn about different models of ballot generator, and what \"knobs\" each model has that we can turn to change voter behavior. \n"
   ]
  },
  {
   "cell_type": "markdown",
   "id": "20e92a77",
   "metadata": {},
   "source": [
    "## Generating Profiles\n",
    "\n",
    "There are many models for generating ballots available to us, and some of these models have different knobs we can turn to model different voter behaviors. Here is how we can implement some of these models in VoteKit."
   ]
  },
  {
   "cell_type": "markdown",
   "id": "ac5e3cca",
   "metadata": {},
   "source": [
    "### A model with one knob\n",
    "\n",
    "Just for a point of comparison, we will introduce the \"Impartial Culture\" model. This model says that when a voter goes to cast a ranked-ballot, they do so by randomly choosing one out of all of the possible rankings (uniform over the set of permutations for you probabilty folk). That's it. There is only one knob to turn---the number of candidates---, and no way to change the behavior of the voters. They all vote randomly.\n",
    "\n",
    "This model might not be very realistic, but it is very easy to use and prove theorems about, so it abounds in the academic literature. We don't think it's wise to use in case studies of real-world jurisdiction. We just wanted to show you that some models have fewer knobs!"
   ]
  },
  {
   "cell_type": "code",
   "execution_count": 6,
   "id": "bf9158b5",
   "metadata": {},
   "outputs": [],
   "source": [
    "from votekit.ballot_generator import ImpartialCulture\n",
    "from votekit.pref_profile import profile_df_head\n",
    "\n",
    "# the only thing you have to do is choose the candidates\n",
    "\n",
    "# Type a list of 3 candidate names\n",
    "candidates = [\"Chris\", \"Moon\", \"Peter\"]\n",
    "ic_bg = ImpartialCulture(candidates = candidates)\n",
    "\n",
    "# choose the number of ballots you want to generate\n",
    "profile = ic_bg.generate_profile(1000)"
   ]
  },
  {
   "cell_type": "markdown",
   "id": "8604e959",
   "metadata": {},
   "source": [
    "If there are 3 candidates, there are 6 possible rankings. Since the Impartial Culture model has voters vote randomly, we should expect to see about equal numbers of each ballot type in the generated profile."
   ]
  },
  {
   "cell_type": "code",
   "execution_count": null,
   "id": "686c8c6b",
   "metadata": {},
   "outputs": [
    {
     "data": {
      "text/html": [
       "<div>\n",
       "<style scoped>\n",
       "    .dataframe tbody tr th:only-of-type {\n",
       "        vertical-align: middle;\n",
       "    }\n",
       "\n",
       "    .dataframe tbody tr th {\n",
       "        vertical-align: top;\n",
       "    }\n",
       "\n",
       "    .dataframe thead th {\n",
       "        text-align: right;\n",
       "    }\n",
       "</style>\n",
       "<table border=\"1\" class=\"dataframe\">\n",
       "  <thead>\n",
       "    <tr style=\"text-align: right;\">\n",
       "      <th></th>\n",
       "      <th>Ranking_1</th>\n",
       "      <th>Ranking_2</th>\n",
       "      <th>Ranking_3</th>\n",
       "      <th>Voter Set</th>\n",
       "      <th>Weight</th>\n",
       "    </tr>\n",
       "    <tr>\n",
       "      <th>Ballot Index</th>\n",
       "      <th></th>\n",
       "      <th></th>\n",
       "      <th></th>\n",
       "      <th></th>\n",
       "      <th></th>\n",
       "    </tr>\n",
       "  </thead>\n",
       "  <tbody>\n",
       "    <tr>\n",
       "      <th>4</th>\n",
       "      <td>(Chris)</td>\n",
       "      <td>(Peter)</td>\n",
       "      <td>(Moon)</td>\n",
       "      <td>{}</td>\n",
       "      <td>189</td>\n",
       "    </tr>\n",
       "    <tr>\n",
       "      <th>0</th>\n",
       "      <td>(Chris)</td>\n",
       "      <td>(Moon)</td>\n",
       "      <td>(Peter)</td>\n",
       "      <td>{}</td>\n",
       "      <td>180</td>\n",
       "    </tr>\n",
       "    <tr>\n",
       "      <th>1</th>\n",
       "      <td>(Peter)</td>\n",
       "      <td>(Chris)</td>\n",
       "      <td>(Moon)</td>\n",
       "      <td>{}</td>\n",
       "      <td>171</td>\n",
       "    </tr>\n",
       "    <tr>\n",
       "      <th>3</th>\n",
       "      <td>(Moon)</td>\n",
       "      <td>(Peter)</td>\n",
       "      <td>(Chris)</td>\n",
       "      <td>{}</td>\n",
       "      <td>165</td>\n",
       "    </tr>\n",
       "    <tr>\n",
       "      <th>5</th>\n",
       "      <td>(Peter)</td>\n",
       "      <td>(Moon)</td>\n",
       "      <td>(Chris)</td>\n",
       "      <td>{}</td>\n",
       "      <td>151</td>\n",
       "    </tr>\n",
       "    <tr>\n",
       "      <th>2</th>\n",
       "      <td>(Moon)</td>\n",
       "      <td>(Chris)</td>\n",
       "      <td>(Peter)</td>\n",
       "      <td>{}</td>\n",
       "      <td>144</td>\n",
       "    </tr>\n",
       "  </tbody>\n",
       "</table>\n",
       "</div>"
      ],
      "text/plain": [
       "             Ranking_1 Ranking_2 Ranking_3 Voter Set Weight\n",
       "Ballot Index                                               \n",
       "4              (Chris)   (Peter)    (Moon)        {}    189\n",
       "0              (Chris)    (Moon)   (Peter)        {}    180\n",
       "1              (Peter)   (Chris)    (Moon)        {}    171\n",
       "3               (Moon)   (Peter)   (Chris)        {}    165\n",
       "5              (Peter)    (Moon)   (Chris)        {}    151\n",
       "2               (Moon)   (Chris)   (Peter)        {}    144"
      ]
     },
     "execution_count": 7,
     "metadata": {},
     "output_type": "execute_result"
    }
   ],
   "source": [
    "profile_df_head(profile, n=6) # prints the profile in decreasing order of weight"
   ]
  },
  {
   "cell_type": "markdown",
   "id": "913fcd3c",
   "metadata": {},
   "source": [
    "Try it yourself: change the number of ballots generated above. The more ballots you generate the closer to the same number of each ballot you should get. Try changing the candidate names or even the number of candidates."
   ]
  },
  {
   "cell_type": "markdown",
   "id": "6394457d",
   "metadata": {},
   "source": [
    "### A model with knobs"
   ]
  },
  {
   "cell_type": "markdown",
   "id": "fe63c7ec",
   "metadata": {},
   "source": [
    "The slate-Plackett-Luce (sPL) model models \"impulsive\" voters. These are voters who rank their candidates only by considering how much they like each individual candidate. Later we will see a model for \"deliberative\" voters. Both use the same set up, so we will focus on sPL first."
   ]
  },
  {
   "cell_type": "markdown",
   "id": "3faa7c62",
   "metadata": {},
   "source": [
    "Knob 1: Number of blocs \n",
    "\n",
    "The first parameter we need to decide is the number of voting blocs. This could be Democract/Republican, White/POC, or some other breakdown of the voters. You aren't limited to just two blocs, although the number of parameters ends up growing a LOT when you start adding more blocs, so we will stick with two for now.\n",
    "\n",
    "Knob 2: Size of blocs\n",
    "\n",
    "The second parameter we need to decide is the relative size of each bloc. \n",
    "\n",
    "What can turning these knobs model? \n",
    "\n",
    "These knobs are useful for keeping track of a voting bloc of interest, and measuring the impact of low/high turnout of groups."
   ]
  },
  {
   "cell_type": "code",
   "execution_count": null,
   "id": "bbd493cf",
   "metadata": {},
   "outputs": [],
   "source": [
    "from votekit.ballot_generator import slate_PlackettLuce\n",
    "\n",
    "\n",
    "bloc_voter_prop = {\"X\": .8, \"Y\": .2}"
   ]
  },
  {
   "cell_type": "markdown",
   "id": "ee2ec880",
   "metadata": {},
   "source": [
    "Knob 3: Number of candidates\n",
    "\n",
    "For each bloc of voters, we need to decide how many candidates are in their slate. This knob is useful for understanding the impacts of a crowded or sparse field of candidates. Think \"vote splitting\"."
   ]
  },
  {
   "cell_type": "code",
   "execution_count": null,
   "id": "df44572d",
   "metadata": {},
   "outputs": [],
   "source": [
    "slate_to_candidates = {\"X\": [\"Chris\", \"Peter\"],\n",
    "                        \"Y\": [\"Moon\", \"Mala\"]}"
   ]
  },
  {
   "cell_type": "markdown",
   "id": "2e3b0cde",
   "metadata": {},
   "source": [
    "Knob 4:"
   ]
  },
  {
   "cell_type": "code",
   "execution_count": null,
   "id": "7af849b3",
   "metadata": {},
   "outputs": [],
   "source": [
    "# the values of .9 indicate that these blocs are highly polarized;\n",
    "# they prefer their own candidates much more than the opposing slate\n",
    "cohesion_parameters = {\"X\": {\"X\":.9, \"Y\":.1},\n",
    "                        \"Y\": {\"Y\":.9, \"X\":.1}}\n",
    "\n"
   ]
  },
  {
   "cell_type": "code",
   "execution_count": null,
   "id": "cc62c951",
   "metadata": {},
   "outputs": [],
   "source": [
    "alphas = {\"X\": {\"X\":2, \"Y\":1},\n",
    "                    \"Y\": {\"X\":1, \"Y\":.5}}\n",
    "\n",
    "\n",
    "\n",
    "# the from_params method allows us to sample from\n",
    "# the Dirichlet distribution for our intervals\n",
    "pl = slate_PlackettLuce.from_params(slate_to_candidates=slate_to_candidates,\n",
    "          bloc_voter_prop=bloc_voter_prop,\n",
    "          cohesion_parameters=cohesion_parameters,\n",
    "          alphas=alphas)"
   ]
  },
  {
   "cell_type": "markdown",
   "id": "f63e862d",
   "metadata": {},
   "source": [
    "## Loading Profiles \n",
    "\n",
    "VoteKit allows you to load profiles of ballots in from other sources. You have the ability to:\n",
    "- load Scottish election csv files from https://github.com/mggg/scot-elex\n",
    "- load csv files where each row represents a ballot and each column of the csv represents a ranking position\n",
    "- load PreferenceProfiles made with VoteKit\n",
    "\n",
    "In all cases, the file you want to load needs to be in the working directory of your Python file/notebook.\n",
    "Here are a few examples!"
   ]
  },
  {
   "cell_type": "markdown",
   "id": "8f654bb8",
   "metadata": {},
   "source": [
    "### Scottish\n",
    "\n",
    "Go to https://github.com/mggg/scot-elex and download a Scottish election of your choice! Put the csv file in your working directory, and change the name of the file below to match the name of your file."
   ]
  },
  {
   "cell_type": "code",
   "execution_count": 1,
   "id": "9755f304",
   "metadata": {},
   "outputs": [
    {
     "name": "stdout",
     "output_type": "stream",
     "text": [
      "Election in ward Leven\n",
      "Number of seats for election: 4\n",
      "\n",
      "With the following candidates:\n",
      "Jim Bollan\n",
      "Ian Dickson\n",
      "George Drummond\n",
      "Caroline Mcallister\n",
      "Michelle Marie Mcginty\n",
      "John Kelly Millar\n",
      "Peter Parlane\n",
      "Sean Quinn\n",
      "\n",
      "The candidates have the following party IDs:\n",
      "Jim Bollan is identified with West Dunbartonshire Community (WDuns).\n",
      "Ian Dickson is identified with Scottish National Party (SNP).\n",
      "George Drummond is identified with Liberal Democrat (LD).\n",
      "Caroline Mcallister is identified with Scottish National Party (SNP).\n",
      "Michelle Marie Mcginty is identified with Labour (Lab).\n",
      "John Kelly Millar is identified with Labour (Lab).\n",
      "Peter Parlane is identified with Conservative and Unionist Party (Con).\n",
      "Sean Quinn is identified with Green (Gr).\n",
      "\n",
      "The first 10 ballots of the profile are:\n",
      "                 Ranking_1      Ranking_2              Ranking_3                 Ranking_4                 Ranking_5            Ranking_6          Ranking_7          Ranking_8 Voter Set Weight\n",
      "Ballot Index                                                                                                                                                                                    \n",
      "0             (Jim Bollan)  (Ian Dickson)      (George Drummond)     (Caroline Mcallister)  (Michelle Marie Mcginty)  (John Kelly Millar)    (Peter Parlane)       (Sean Quinn)        {}      3\n",
      "1             (Jim Bollan)  (Ian Dickson)      (George Drummond)     (Caroline Mcallister)                       NaN                  NaN                NaN                NaN        {}      1\n",
      "2             (Jim Bollan)  (Ian Dickson)      (George Drummond)  (Michelle Marie Mcginty)              (Sean Quinn)                  NaN                NaN                NaN        {}      1\n",
      "3             (Jim Bollan)  (Ian Dickson)      (George Drummond)  (Michelle Marie Mcginty)                       NaN                  NaN                NaN                NaN        {}      1\n",
      "4             (Jim Bollan)  (Ian Dickson)      (George Drummond)       (John Kelly Millar)                       NaN                  NaN                NaN                NaN        {}      1\n",
      "5             (Jim Bollan)  (Ian Dickson)      (George Drummond)                       NaN                       NaN                  NaN                NaN                NaN        {}      6\n",
      "6             (Jim Bollan)  (Ian Dickson)  (Caroline Mcallister)  (Michelle Marie Mcginty)              (Sean Quinn)  (John Kelly Millar)  (George Drummond)    (Peter Parlane)        {}      1\n",
      "7             (Jim Bollan)  (Ian Dickson)  (Caroline Mcallister)  (Michelle Marie Mcginty)       (John Kelly Millar)      (Peter Parlane)       (Sean Quinn)  (George Drummond)        {}      1\n",
      "8             (Jim Bollan)  (Ian Dickson)  (Caroline Mcallister)  (Michelle Marie Mcginty)       (John Kelly Millar)    (George Drummond)    (Peter Parlane)       (Sean Quinn)        {}      1\n",
      "9             (Jim Bollan)  (Ian Dickson)  (Caroline Mcallister)  (Michelle Marie Mcginty)       (John Kelly Millar)         (Sean Quinn)  (George Drummond)    (Peter Parlane)        {}      3\n"
     ]
    }
   ],
   "source": [
    "from votekit.cvr_loaders import load_scottish\n",
    "\n",
    "scottish_profile, num_seats, cand_list, cand_to_party, ward = load_scottish(\"west_dunbartonshire_2017_ward2.csv\")\n",
    "\n",
    "print(f\"Election in ward {ward}\")\n",
    "print(f\"Number of seats for election: {num_seats}\")\n",
    "print()\n",
    "print(\"With the following candidates:\")\n",
    "for cand in cand_list:\n",
    "    print(cand)\n",
    "\n",
    "\n",
    "print(\"\\nThe candidates have the following party IDs:\")\n",
    "for cand, party in cand_to_party.items():\n",
    "    print(f\"{cand} is identified with {party}.\")\n",
    "\n",
    "print(f\"\\nThe first 10 ballots of the profile are:\")\n",
    "print(scottish_profile.df.head(10).to_string())\n"
   ]
  },
  {
   "cell_type": "markdown",
   "id": "0a66763c",
   "metadata": {},
   "source": [
    "### Load csv with ballot rows and ranking columns \n",
    " \n",
    "Go to https://github.com/mggg/VoteKit/tree/main/examples/data and download the Minnesota 2013 mayoral election cast vote record. Put it in your working directory. Open the file and notice that each row is a ballot, and each column represents one position of the ranking. Voters were allowed to rank 3 candidates."
   ]
  },
  {
   "cell_type": "code",
   "execution_count": 2,
   "id": "5adfb9dc",
   "metadata": {},
   "outputs": [
    {
     "name": "stdout",
     "output_type": "stream",
     "text": [
      "The maximum number of candidates you could rank was 3.\n",
      "\n",
      "The candidates for the Minnesota 2013 mayoral race were:\n",
      "\n",
      "ABDUL M RAHAMAN \"THE ROCK\"\n",
      "DAN COHEN\n",
      "JAMES EVERETT\n",
      "MARK V ANDERSON\n",
      "TROY BENJEGERDES\n",
      "undervote\n",
      "ALICIA K. BENNETT\n",
      "BETSY HODGES\n",
      "MARK ANDREW\n",
      "MIKE GOULD\n",
      "BILL KAHN\n",
      "BOB FINE\n",
      "CAM WINTON\n",
      "DON SAMUELS\n",
      "JACKIE CHERRYHOMES\n",
      "JEFFREY ALAN WAGNER\n",
      "JOHN LESLIE HARTWIG\n",
      "KURTIS W. HANNA\n",
      "JOSHUA REA\n",
      "MERRILL ANDERSON\n",
      "NEAL BAXTER\n",
      "STEPHANIE WOODRUFF\n",
      "UWI\n",
      "BOB \"AGAIN\" CARNEY JR\n",
      "TONY LANE\n",
      "CAPTAIN JACK SPARROW\n",
      "GREGG A. IVERSON\n",
      "JAMES \"JIMMY\" L. STROUD, JR.\n",
      "JAYMIE KELLY\n",
      "CYD GORMAN\n",
      "EDMUND BERNARD BRUYERE\n",
      "DOUG MANN\n",
      "CHRISTOPHER ROBIN ZIMMERMAN\n",
      "RAHN V. WORKCUFF\n",
      "JOHN CHARLES WILSON\n",
      "OLE SAVIOR\n",
      "overvote\n",
      "CHRISTOPHER CLARK\n"
     ]
    }
   ],
   "source": [
    "from votekit.cvr_loaders import load_csv\n",
    "\n",
    "mn_profile = load_csv(\"mn_2013_cast_vote_record.csv\")\n",
    "\n",
    "print(f\"The maximum number of candidates you could rank was {mn_profile.max_ranking_length}.\\n\")\n",
    "\n",
    "print(f\"The candidates for the Minnesota 2013 mayoral race were:\\n\")\n",
    "\n",
    "for cand in mn_profile.candidates:\n",
    "    print(cand)"
   ]
  },
  {
   "cell_type": "markdown",
   "id": "2e1f2b9a",
   "metadata": {},
   "source": [
    "Let's take a moment to make a quick edit to this profile, and then save the result to a \"pickle\" file, which is a way of storing Python data. This is super useful, because raw cast vote records often need processing to be run through election methods, and the \"pickle\" format allows us to do our processing once, and then use the saved profile from then on.\n",
    "\n",
    "Notice that in the candidate list above, there are three strange names: \"overvote\", \"undervote\", and \"UWI\". In MN, when a voter put more than one candidate in a ranking position it was recorded as \"overvote\". If they skipped a slot, it was an \"undervote\". If they listed an unregistered write-in candidate, it was recorded as \"UWI\". The IRV election that was run on this profile needs those three \"candidates\" scrubbed from the ballots before it can be run. VoteKit includes some cleaning functions that make this easy.\n"
   ]
  },
  {
   "cell_type": "code",
   "execution_count": 3,
   "id": "4a038a1f",
   "metadata": {},
   "outputs": [
    {
     "name": "stdout",
     "output_type": "stream",
     "text": [
      "The difference between the raw profile's candidate list and the cleaned profile's list is {'undervote', 'UWI', 'overvote'}.\n"
     ]
    }
   ],
   "source": [
    "from votekit.cleaning import remove_and_condense\n",
    "\n",
    "# remove deletes the listed \"candidates\" from each ballot\n",
    "# condense moves up any lower ranked candidates\n",
    "cleaned_mn_profile = remove_and_condense([\"overvote\", \"undervote\", \"UWI\"], mn_profile)\n",
    "\n",
    "print(f\"The difference between the raw profile's candidate list and the cleaned profile's list is {set(mn_profile.candidates)-set(cleaned_mn_profile.candidates)}.\")"
   ]
  },
  {
   "cell_type": "markdown",
   "id": "50f2f9b3",
   "metadata": {},
   "source": [
    "And now we can save the processed profile. This allows us to load it back in later."
   ]
  },
  {
   "cell_type": "code",
   "execution_count": 5,
   "id": "b8309bbd",
   "metadata": {},
   "outputs": [
    {
     "name": "stdout",
     "output_type": "stream",
     "text": [
      "\n",
      "Does the loaded profile match the cleaned profile: True\n",
      "\n",
      "Does the loaded profile match the uncleaned profile: False\n"
     ]
    }
   ],
   "source": [
    "from votekit.pref_profile import PreferenceProfile\n",
    "\n",
    "cleaned_mn_profile.to_pickle(\"cleaned_mn_profile.pkl\")\n",
    "\n",
    "loaded_mn_profile = PreferenceProfile.from_pickle(\"cleaned_mn_profile.pkl\")\n",
    "\n",
    "print(f\"\\nDoes the loaded profile match the cleaned profile: {loaded_mn_profile == cleaned_mn_profile}\")\n",
    "print(f\"\\nDoes the loaded profile match the uncleaned profile: {loaded_mn_profile == mn_profile}\")\n"
   ]
  },
  {
   "cell_type": "markdown",
   "id": "a9cf1fe8",
   "metadata": {},
   "source": [
    "## Running Elections\n"
   ]
  },
  {
   "cell_type": "markdown",
   "id": "511014cd",
   "metadata": {},
   "source": []
  }
 ],
 "metadata": {
  "kernelspec": {
   "display_name": ".venv",
   "language": "python",
   "name": "python3"
  },
  "language_info": {
   "codemirror_mode": {
    "name": "ipython",
    "version": 3
   },
   "file_extension": ".py",
   "mimetype": "text/x-python",
   "name": "python",
   "nbconvert_exporter": "python",
   "pygments_lexer": "ipython3",
   "version": "3.13.2"
  }
 },
 "nbformat": 4,
 "nbformat_minor": 5
}
