{
 "cells": [
  {
   "cell_type": "markdown",
   "id": "f473c302",
   "metadata": {},
   "source": [
    "# Knobs to turn\n",
    "\n",
    "In this session we will learn about different models of ballot generator, and what \"knobs\" each model has that we can turn to change voter behavior. \n"
   ]
  },
  {
   "cell_type": "markdown",
   "id": "20e92a77",
   "metadata": {},
   "source": [
    "## Generating Profiles\n",
    "\n",
    "There are many models for generating ballots available to us, and some of these models have different knobs we can turn to model different voter behaviors. Here is how we can implement some of these models in VoteKit."
   ]
  },
  {
   "cell_type": "markdown",
   "id": "ac5e3cca",
   "metadata": {},
   "source": [
    "### A model with one knob\n",
    "\n",
    "Just for a point of comparison, we will introduce the \"Impartial Culture\" model. This model says that when a voter goes to cast a ranked-ballot, they do so by randomly choosing one out of all of the possible rankings (uniform over the set of permutations for you probabilty folk). That's it. There is only one knob to turn---the number of candidates---, and no way to change the behavior of the voters. They all vote randomly.\n",
    "\n",
    "This model might not be very realistic, but it is very easy to use and prove theorems about, so it abounds in the academic literature. We don't think it's wise to use in case studies of real-world jurisdiction. We just wanted to show you that some models have fewer knobs!"
   ]
  },
  {
   "cell_type": "code",
   "execution_count": 1,
   "id": "bf9158b5",
   "metadata": {},
   "outputs": [],
   "source": [
    "from votekit.ballot_generator import ImpartialCulture\n",
    "from votekit.pref_profile import profile_df_head\n",
    "\n",
    "# the only thing you have to do is choose the candidates\n",
    "\n",
    "# Type a list of 3 candidate names\n",
    "candidates = [\"Chris\", \"Moon\", \"Peter\"]\n",
    "ic_bg = ImpartialCulture(candidates = candidates)\n",
    "\n",
    "# choose the number of ballots you want to generate\n",
    "profile = ic_bg.generate_profile(1000)"
   ]
  },
  {
   "cell_type": "markdown",
   "id": "8604e959",
   "metadata": {},
   "source": [
    "If there are 3 candidates, there are 6 possible rankings. Since the Impartial Culture model has voters vote randomly, we should expect to see about equal numbers of each ballot type in the generated profile."
   ]
  },
  {
   "cell_type": "code",
   "execution_count": 2,
   "id": "686c8c6b",
   "metadata": {},
   "outputs": [
    {
     "data": {
      "text/html": [
       "<div>\n",
       "<style scoped>\n",
       "    .dataframe tbody tr th:only-of-type {\n",
       "        vertical-align: middle;\n",
       "    }\n",
       "\n",
       "    .dataframe tbody tr th {\n",
       "        vertical-align: top;\n",
       "    }\n",
       "\n",
       "    .dataframe thead th {\n",
       "        text-align: right;\n",
       "    }\n",
       "</style>\n",
       "<table border=\"1\" class=\"dataframe\">\n",
       "  <thead>\n",
       "    <tr style=\"text-align: right;\">\n",
       "      <th></th>\n",
       "      <th>Ranking_1</th>\n",
       "      <th>Ranking_2</th>\n",
       "      <th>Ranking_3</th>\n",
       "      <th>Voter Set</th>\n",
       "      <th>Weight</th>\n",
       "    </tr>\n",
       "    <tr>\n",
       "      <th>Ballot Index</th>\n",
       "      <th></th>\n",
       "      <th></th>\n",
       "      <th></th>\n",
       "      <th></th>\n",
       "      <th></th>\n",
       "    </tr>\n",
       "  </thead>\n",
       "  <tbody>\n",
       "    <tr>\n",
       "      <th>1</th>\n",
       "      <td>(Moon)</td>\n",
       "      <td>(Chris)</td>\n",
       "      <td>(Peter)</td>\n",
       "      <td>{}</td>\n",
       "      <td>177</td>\n",
       "    </tr>\n",
       "    <tr>\n",
       "      <th>5</th>\n",
       "      <td>(Chris)</td>\n",
       "      <td>(Moon)</td>\n",
       "      <td>(Peter)</td>\n",
       "      <td>{}</td>\n",
       "      <td>175</td>\n",
       "    </tr>\n",
       "    <tr>\n",
       "      <th>0</th>\n",
       "      <td>(Chris)</td>\n",
       "      <td>(Peter)</td>\n",
       "      <td>(Moon)</td>\n",
       "      <td>{}</td>\n",
       "      <td>172</td>\n",
       "    </tr>\n",
       "    <tr>\n",
       "      <th>2</th>\n",
       "      <td>(Peter)</td>\n",
       "      <td>(Chris)</td>\n",
       "      <td>(Moon)</td>\n",
       "      <td>{}</td>\n",
       "      <td>168</td>\n",
       "    </tr>\n",
       "    <tr>\n",
       "      <th>4</th>\n",
       "      <td>(Peter)</td>\n",
       "      <td>(Moon)</td>\n",
       "      <td>(Chris)</td>\n",
       "      <td>{}</td>\n",
       "      <td>157</td>\n",
       "    </tr>\n",
       "    <tr>\n",
       "      <th>3</th>\n",
       "      <td>(Moon)</td>\n",
       "      <td>(Peter)</td>\n",
       "      <td>(Chris)</td>\n",
       "      <td>{}</td>\n",
       "      <td>151</td>\n",
       "    </tr>\n",
       "  </tbody>\n",
       "</table>\n",
       "</div>"
      ],
      "text/plain": [
       "             Ranking_1 Ranking_2 Ranking_3 Voter Set Weight\n",
       "Ballot Index                                               \n",
       "1               (Moon)   (Chris)   (Peter)        {}    177\n",
       "5              (Chris)    (Moon)   (Peter)        {}    175\n",
       "0              (Chris)   (Peter)    (Moon)        {}    172\n",
       "2              (Peter)   (Chris)    (Moon)        {}    168\n",
       "4              (Peter)    (Moon)   (Chris)        {}    157\n",
       "3               (Moon)   (Peter)   (Chris)        {}    151"
      ]
     },
     "execution_count": 2,
     "metadata": {},
     "output_type": "execute_result"
    }
   ],
   "source": [
    "profile_df_head(profile, n=6) # prints the profile in decreasing order of weight"
   ]
  },
  {
   "cell_type": "markdown",
   "id": "913fcd3c",
   "metadata": {},
   "source": [
    "Try it yourself: change the number of ballots generated above. The more ballots you generate the closer to the same number of each ballot you should get. Try changing the candidate names or even the number of candidates."
   ]
  },
  {
   "cell_type": "markdown",
   "id": "6394457d",
   "metadata": {},
   "source": [
    "### A model with knobs"
   ]
  },
  {
   "cell_type": "markdown",
   "id": "fe63c7ec",
   "metadata": {},
   "source": [
    "The slate-Plackett-Luce (sPL) model models \"impulsive\" voters. These are voters who rank their candidates only by considering how much they like each individual candidate. Later we will see a model for \"deliberative\" voters. Both use the same set up, so we will focus on sPL first."
   ]
  },
  {
   "cell_type": "markdown",
   "id": "3faa7c62",
   "metadata": {},
   "source": [
    "Knob 1: Number of blocs \n",
    "\n",
    "The first parameter we need to decide is the voting blocs. This could be Democract/Republican, White/POC, or some other breakdown of the voters. You aren't limited to just two blocs, although the number of parameters ends up growing a LOT when you start adding more blocs, so we will stick with two for now.\n",
    "\n",
    "Knob 2: Size of blocs\n",
    "\n",
    "The second parameter we need to decide is the relative size of each bloc. \n",
    "\n",
    "What can turning these knobs model? \n",
    "\n",
    "These knobs are useful for keeping track of a voting bloc of interest, and measuring the impact of low/high turnout of groups."
   ]
  },
  {
   "cell_type": "code",
   "execution_count": 3,
   "id": "bbd493cf",
   "metadata": {},
   "outputs": [],
   "source": [
    "from votekit.ballot_generator import slate_PlackettLuce\n",
    "\n",
    "bloc_voter_prop = {\"X\": .8, \"Y\": .2}"
   ]
  },
  {
   "cell_type": "markdown",
   "id": "ee2ec880",
   "metadata": {},
   "source": [
    "Knob 3: Number of candidates\n",
    "\n",
    "For each bloc of voters, we need to decide how many candidates are in their slate. This knob is useful for understanding the impacts of a crowded or sparse field of candidates. Think \"vote splitting.\""
   ]
  },
  {
   "cell_type": "code",
   "execution_count": 4,
   "id": "df44572d",
   "metadata": {},
   "outputs": [],
   "source": [
    "slate_to_candidates = {\"X\": [\"Chris\", \"Peter\", \"Jeanne\"],\n",
    "                        \"Y\": [\"Moon\", \"Mala\"]}"
   ]
  },
  {
   "cell_type": "markdown",
   "id": "2e3b0cde",
   "metadata": {},
   "source": [
    "Knob 4: Bloc cohesion\n",
    "\n",
    "For each bloc of voters, we need to decide how cohesive they are. Think of cohesion as polarization. If cohesion is 1, it means that every voter ranks all of their own candidates above all of the others. If cohesion is 1/2, this means that a voter tends to rank one candidate from their own slate, then a candidate from the other slate, and back and forth."
   ]
  },
  {
   "cell_type": "code",
   "execution_count": 5,
   "id": "7af849b3",
   "metadata": {},
   "outputs": [],
   "source": [
    "# the values of .9 indicate that these blocs are highly polarized;\n",
    "# they prefer their own candidates much more than the opposing slate\n",
    "cohesion_parameters = {\n",
    "    \"X\": {\"X\":.9, \"Y\":.1},\n",
    "    \"Y\": {\"X\":.1, \"Y\":.9},\n",
    "    }\n",
    "\n"
   ]
  },
  {
   "cell_type": "markdown",
   "id": "9e2d4a90",
   "metadata": {},
   "source": [
    "Knob 5: Candidate strength\n",
    "\n",
    "The final knob to turn is the candidate strength knob. This is a number between 0 and infinity. The smaller the number, the more a strong candidate emerges. That is, the bloc of voters prefers a single candidate.\n",
    "The larger the number, the more uniform candidate strength becomes. That is, the bloc of voters tends to prefer all candidates similarly.\n",
    "If the number is 1, all bets are off!\n",
    "\n",
    "Technically, these parameters are known as \"Dirichlet alpha\" values. You don't need to know what that means (although you can read about it [here](https://votekit.readthedocs.io/en/latest/social_choice_docs/scr/#dirichlet-distribution)), but that explains why we name the variable `alphas`.\n",
    "\n",
    "This knob is good for modeling how the strength of candidates can impact an election. What if a candidate receives an endorsement? What if there is an incumbent candidate with strong support? What if the candidates are all equally matched?"
   ]
  },
  {
   "cell_type": "code",
   "execution_count": 6,
   "id": "cc62c951",
   "metadata": {},
   "outputs": [],
   "source": [
    "alphas = {\n",
    "    \"X\": {\"X\":100, \"Y\":1}, # the X block has uniform preference for their candidates, and unknown for the Y candidates\n",
    "    \"Y\": {\"X\":1, \"Y\":.1}, # the Y block has strong preference for one of their candidates, and unknown for the X candidates\n",
    "    }"
   ]
  },
  {
   "cell_type": "markdown",
   "id": "10d02ec1",
   "metadata": {},
   "source": [
    "Finally, we are ready to create the ballot generator."
   ]
  },
  {
   "cell_type": "code",
   "execution_count": 7,
   "id": "99115a3c",
   "metadata": {},
   "outputs": [],
   "source": [
    "pl = slate_PlackettLuce.from_params(slate_to_candidates=slate_to_candidates,\n",
    "          bloc_voter_prop=bloc_voter_prop,\n",
    "          cohesion_parameters=cohesion_parameters,\n",
    "          alphas=alphas)"
   ]
  },
  {
   "cell_type": "markdown",
   "id": "34d8377c",
   "metadata": {},
   "source": [
    "We can generate ballots in the same way as before."
   ]
  },
  {
   "cell_type": "code",
   "execution_count": 8,
   "id": "8994f43c",
   "metadata": {},
   "outputs": [
    {
     "data": {
      "text/html": [
       "<div>\n",
       "<style scoped>\n",
       "    .dataframe tbody tr th:only-of-type {\n",
       "        vertical-align: middle;\n",
       "    }\n",
       "\n",
       "    .dataframe tbody tr th {\n",
       "        vertical-align: top;\n",
       "    }\n",
       "\n",
       "    .dataframe thead th {\n",
       "        text-align: right;\n",
       "    }\n",
       "</style>\n",
       "<table border=\"1\" class=\"dataframe\">\n",
       "  <thead>\n",
       "    <tr style=\"text-align: right;\">\n",
       "      <th></th>\n",
       "      <th>Ranking_1</th>\n",
       "      <th>Ranking_2</th>\n",
       "      <th>Ranking_3</th>\n",
       "      <th>Ranking_4</th>\n",
       "      <th>Ranking_5</th>\n",
       "      <th>Voter Set</th>\n",
       "      <th>Weight</th>\n",
       "    </tr>\n",
       "    <tr>\n",
       "      <th>Ballot Index</th>\n",
       "      <th></th>\n",
       "      <th></th>\n",
       "      <th></th>\n",
       "      <th></th>\n",
       "      <th></th>\n",
       "      <th></th>\n",
       "      <th></th>\n",
       "    </tr>\n",
       "  </thead>\n",
       "  <tbody>\n",
       "    <tr>\n",
       "      <th>30</th>\n",
       "      <td>(Peter)</td>\n",
       "      <td>(Chris)</td>\n",
       "      <td>(Jeanne)</td>\n",
       "      <td>(Mala)</td>\n",
       "      <td>(Moon)</td>\n",
       "      <td>{}</td>\n",
       "      <td>103</td>\n",
       "    </tr>\n",
       "    <tr>\n",
       "      <th>26</th>\n",
       "      <td>(Peter)</td>\n",
       "      <td>(Jeanne)</td>\n",
       "      <td>(Chris)</td>\n",
       "      <td>(Mala)</td>\n",
       "      <td>(Moon)</td>\n",
       "      <td>{}</td>\n",
       "      <td>90</td>\n",
       "    </tr>\n",
       "    <tr>\n",
       "      <th>0</th>\n",
       "      <td>(Chris)</td>\n",
       "      <td>(Jeanne)</td>\n",
       "      <td>(Peter)</td>\n",
       "      <td>(Mala)</td>\n",
       "      <td>(Moon)</td>\n",
       "      <td>{}</td>\n",
       "      <td>87</td>\n",
       "    </tr>\n",
       "    <tr>\n",
       "      <th>70</th>\n",
       "      <td>(Mala)</td>\n",
       "      <td>(Moon)</td>\n",
       "      <td>(Chris)</td>\n",
       "      <td>(Jeanne)</td>\n",
       "      <td>(Peter)</td>\n",
       "      <td>{}</td>\n",
       "      <td>87</td>\n",
       "    </tr>\n",
       "    <tr>\n",
       "      <th>4</th>\n",
       "      <td>(Chris)</td>\n",
       "      <td>(Peter)</td>\n",
       "      <td>(Jeanne)</td>\n",
       "      <td>(Mala)</td>\n",
       "      <td>(Moon)</td>\n",
       "      <td>{}</td>\n",
       "      <td>85</td>\n",
       "    </tr>\n",
       "    <tr>\n",
       "      <th>17</th>\n",
       "      <td>(Jeanne)</td>\n",
       "      <td>(Chris)</td>\n",
       "      <td>(Peter)</td>\n",
       "      <td>(Mala)</td>\n",
       "      <td>(Moon)</td>\n",
       "      <td>{}</td>\n",
       "      <td>83</td>\n",
       "    </tr>\n",
       "    <tr>\n",
       "      <th>14</th>\n",
       "      <td>(Jeanne)</td>\n",
       "      <td>(Peter)</td>\n",
       "      <td>(Chris)</td>\n",
       "      <td>(Mala)</td>\n",
       "      <td>(Moon)</td>\n",
       "      <td>{}</td>\n",
       "      <td>73</td>\n",
       "    </tr>\n",
       "    <tr>\n",
       "      <th>68</th>\n",
       "      <td>(Mala)</td>\n",
       "      <td>(Moon)</td>\n",
       "      <td>(Jeanne)</td>\n",
       "      <td>(Chris)</td>\n",
       "      <td>(Peter)</td>\n",
       "      <td>{}</td>\n",
       "      <td>39</td>\n",
       "    </tr>\n",
       "    <tr>\n",
       "      <th>71</th>\n",
       "      <td>(Mala)</td>\n",
       "      <td>(Moon)</td>\n",
       "      <td>(Chris)</td>\n",
       "      <td>(Peter)</td>\n",
       "      <td>(Jeanne)</td>\n",
       "      <td>{}</td>\n",
       "      <td>32</td>\n",
       "    </tr>\n",
       "    <tr>\n",
       "      <th>5</th>\n",
       "      <td>(Chris)</td>\n",
       "      <td>(Peter)</td>\n",
       "      <td>(Jeanne)</td>\n",
       "      <td>(Moon)</td>\n",
       "      <td>(Mala)</td>\n",
       "      <td>{}</td>\n",
       "      <td>14</td>\n",
       "    </tr>\n",
       "  </tbody>\n",
       "</table>\n",
       "</div>"
      ],
      "text/plain": [
       "             Ranking_1 Ranking_2 Ranking_3 Ranking_4 Ranking_5 Voter Set  \\\n",
       "Ballot Index                                                               \n",
       "30             (Peter)   (Chris)  (Jeanne)    (Mala)    (Moon)        {}   \n",
       "26             (Peter)  (Jeanne)   (Chris)    (Mala)    (Moon)        {}   \n",
       "0              (Chris)  (Jeanne)   (Peter)    (Mala)    (Moon)        {}   \n",
       "70              (Mala)    (Moon)   (Chris)  (Jeanne)   (Peter)        {}   \n",
       "4              (Chris)   (Peter)  (Jeanne)    (Mala)    (Moon)        {}   \n",
       "17            (Jeanne)   (Chris)   (Peter)    (Mala)    (Moon)        {}   \n",
       "14            (Jeanne)   (Peter)   (Chris)    (Mala)    (Moon)        {}   \n",
       "68              (Mala)    (Moon)  (Jeanne)   (Chris)   (Peter)        {}   \n",
       "71              (Mala)    (Moon)   (Chris)   (Peter)  (Jeanne)        {}   \n",
       "5              (Chris)   (Peter)  (Jeanne)    (Moon)    (Mala)        {}   \n",
       "\n",
       "             Weight  \n",
       "Ballot Index         \n",
       "30              103  \n",
       "26               90  \n",
       "0                87  \n",
       "70               87  \n",
       "4                85  \n",
       "17               83  \n",
       "14               73  \n",
       "68               39  \n",
       "71               32  \n",
       "5                14  "
      ]
     },
     "execution_count": 8,
     "metadata": {},
     "output_type": "execute_result"
    }
   ],
   "source": [
    "profile = pl.generate_profile(1000)\n",
    "profile_df_head(profile, n=10) # prints the profile in decreasing order of weight"
   ]
  },
  {
   "cell_type": "markdown",
   "id": "e72c65aa",
   "metadata": {},
   "source": [
    "Do the top 10 ballots make sense given our parameters? The top few ballots should be X bloc voters whose top candidates are Peter, Chris, and Jeanne. The X bloc has uniform preference over their candidates. The Y bloc has strong preference for one candidate, so their ballots should mostly rank Moon over Mala or Mala over Moon (the randomization does not let us know which of the candidates will be strong)."
   ]
  },
  {
   "cell_type": "markdown",
   "id": "07df4ef5",
   "metadata": {},
   "source": [
    "Actually, it can be hard to tell which ballots come from which bloc of voters. Let's regenerate a profile but split the ballots by bloc."
   ]
  },
  {
   "cell_type": "code",
   "execution_count": 9,
   "id": "e75d5c2c",
   "metadata": {},
   "outputs": [
    {
     "name": "stdout",
     "output_type": "stream",
     "text": [
      "This is the top ten ballots of the profile for bloc X.\n",
      "             Ranking_1 Ranking_2 Ranking_3 Ranking_4 Ranking_5 Voter Set Weight\n",
      "Ballot Index                                                                   \n",
      "8              (Peter)   (Chris)  (Jeanne)    (Mala)    (Moon)        {}    101\n",
      "27            (Jeanne)   (Peter)   (Chris)    (Mala)    (Moon)        {}     89\n",
      "32             (Chris)  (Jeanne)   (Peter)    (Mala)    (Moon)        {}     85\n",
      "19            (Jeanne)   (Chris)   (Peter)    (Mala)    (Moon)        {}     82\n",
      "3              (Peter)  (Jeanne)   (Chris)    (Mala)    (Moon)        {}     82\n",
      "41             (Chris)   (Peter)  (Jeanne)    (Mala)    (Moon)        {}     79\n",
      "40             (Chris)   (Peter)  (Jeanne)    (Moon)    (Mala)        {}     17\n",
      "7              (Peter)   (Chris)  (Jeanne)    (Moon)    (Mala)        {}     17\n",
      "2              (Peter)  (Jeanne)   (Chris)    (Moon)    (Mala)        {}     15\n",
      "26            (Jeanne)   (Peter)   (Chris)    (Moon)    (Mala)        {}     14\n",
      "\n",
      "This is the top ten ballots of the profile for bloc Y.\n",
      "             Ranking_1 Ranking_2 Ranking_3 Ranking_4 Ranking_5 Voter Set Weight\n",
      "Ballot Index                                                                   \n",
      "3               (Mala)    (Moon)   (Chris)  (Jeanne)   (Peter)        {}     75\n",
      "2               (Mala)    (Moon)   (Chris)   (Peter)  (Jeanne)        {}     39\n",
      "0               (Mala)    (Moon)  (Jeanne)   (Chris)   (Peter)        {}     31\n",
      "4               (Mala)    (Moon)   (Peter)   (Chris)  (Jeanne)        {}     12\n",
      "11              (Mala)   (Chris)    (Moon)  (Jeanne)   (Peter)        {}      8\n",
      "14             (Chris)    (Mala)    (Moon)  (Jeanne)   (Peter)        {}      6\n",
      "6               (Mala)  (Jeanne)    (Moon)   (Chris)   (Peter)        {}      5\n",
      "5               (Mala)    (Moon)   (Peter)  (Jeanne)   (Chris)        {}      4\n",
      "13             (Chris)    (Mala)    (Moon)   (Peter)  (Jeanne)        {}      4\n",
      "17             (Peter)    (Mala)    (Moon)   (Chris)  (Jeanne)        {}      3\n",
      "\n",
      "This is the complete profile.\n",
      "             Ranking_1 Ranking_2 Ranking_3 Ranking_4 Ranking_5 Voter Set Weight\n",
      "Ballot Index                                                                   \n",
      "8              (Peter)   (Chris)  (Jeanne)    (Mala)    (Moon)        {}    101\n",
      "27            (Jeanne)   (Peter)   (Chris)    (Mala)    (Moon)        {}     89\n",
      "32             (Chris)  (Jeanne)   (Peter)    (Mala)    (Moon)        {}     85\n",
      "3              (Peter)  (Jeanne)   (Chris)    (Mala)    (Moon)        {}     82\n",
      "19            (Jeanne)   (Chris)   (Peter)    (Mala)    (Moon)        {}     82\n",
      "41             (Chris)   (Peter)  (Jeanne)    (Mala)    (Moon)        {}     79\n",
      "70              (Mala)    (Moon)   (Chris)  (Jeanne)   (Peter)        {}     75\n",
      "69              (Mala)    (Moon)   (Chris)   (Peter)  (Jeanne)        {}     39\n",
      "67              (Mala)    (Moon)  (Jeanne)   (Chris)   (Peter)        {}     31\n",
      "40             (Chris)   (Peter)  (Jeanne)    (Moon)    (Mala)        {}     17\n"
     ]
    }
   ],
   "source": [
    "profiles_by_bloc, complete_profile = pl.generate_profile(1000, by_bloc = True)\n",
    "\n",
    "for bloc, profile in profiles_by_bloc.items():\n",
    "    print(f\"This is the top ten ballots of the profile for bloc {bloc}.\")\n",
    "    print(profile_df_head(profile, n=10).to_string())\n",
    "    print()\n",
    "\n",
    "print(\"This is the complete profile.\")\n",
    "print(profile_df_head(complete_profile, n=10).to_string())"
   ]
  },
  {
   "cell_type": "markdown",
   "id": "a909c4c4",
   "metadata": {},
   "source": [
    "Now do the top 10 ballots make sense given our parameters? The top ballots from the X bloc should be voters whose top candidates are Peter, Chris, and Jeanne. The X bloc has uniform preference over their candidates. The Y bloc has strong preference for one candidate, so their ballots should mostly rank Moon over Mala or Mala over Moon."
   ]
  },
  {
   "cell_type": "markdown",
   "id": "8bbae70c",
   "metadata": {},
   "source": [
    "Try it yourself:\n",
    "\n",
    "Edit the code below to explore how changing the different knobs allows you to model different voter behavior. One at a time, try the following prompts.\n",
    "\n",
    "1) Try changing the bloc sizes to model low turnout of one bloc.\n",
    "2) Try changing the number of candidates of one bloc.\n",
    "3) Try changing the polarization of the blocs.\n",
    "4) Try changing the candidate strength of the blocs.\n"
   ]
  },
  {
   "cell_type": "code",
   "execution_count": 10,
   "id": "741187c5",
   "metadata": {},
   "outputs": [
    {
     "name": "stdout",
     "output_type": "stream",
     "text": [
      "This is the top ten ballots of the profile for bloc X.\n",
      "             Ranking_1 Ranking_2 Ranking_3 Ranking_4 Voter Set Weight\n",
      "Ballot Index                                                         \n",
      "0                 (X2)      (X1)      (Y2)      (Y1)        {}    322\n",
      "12                (X1)      (X2)      (Y2)      (Y1)        {}    191\n",
      "1                 (X2)      (X1)      (Y1)      (Y2)        {}     84\n",
      "2                 (X2)      (Y2)      (X1)      (Y1)        {}     44\n",
      "13                (X1)      (X2)      (Y1)      (Y2)        {}     38\n",
      "8                 (Y2)      (X2)      (X1)      (Y1)        {}     34\n",
      "7                 (Y2)      (X1)      (X2)      (Y1)        {}     16\n",
      "15                (X1)      (Y2)      (X2)      (Y1)        {}     16\n",
      "21                (Y1)      (X2)      (X1)      (Y2)        {}     15\n",
      "19                (Y1)      (X1)      (X2)      (Y2)        {}      7\n",
      "\n",
      "This is the top ten ballots of the profile for bloc Y.\n",
      "             Ranking_1 Ranking_2 Ranking_3 Ranking_4 Voter Set Weight\n",
      "Ballot Index                                                         \n",
      "0                 (Y1)      (Y2)      (X2)      (X1)        {}    128\n",
      "1                 (Y1)      (Y2)      (X1)      (X2)        {}     28\n",
      "6                 (X2)      (Y1)      (Y2)      (X1)        {}     16\n",
      "3                 (Y1)      (X2)      (Y2)      (X1)        {}      7\n",
      "8                 (Y2)      (Y1)      (X2)      (X1)        {}      7\n",
      "10                (X1)      (Y1)      (Y2)      (X2)        {}      5\n",
      "4                 (Y1)      (X1)      (Y2)      (X2)        {}      3\n",
      "5                 (X2)      (Y1)      (X1)      (Y2)        {}      2\n",
      "9                 (Y2)      (Y1)      (X1)      (X2)        {}      2\n",
      "2                 (Y1)      (X2)      (X1)      (Y2)        {}      1\n",
      "\n",
      "This is the top ten ballots of the complete profile.\n",
      "             Ranking_1 Ranking_2 Ranking_3 Ranking_4 Voter Set Weight\n",
      "Ballot Index                                                         \n",
      "0                 (X2)      (X1)      (Y2)      (Y1)        {}    322\n",
      "12                (X1)      (X2)      (Y2)      (Y1)        {}    191\n",
      "23                (Y1)      (Y2)      (X2)      (X1)        {}    128\n",
      "1                 (X2)      (X1)      (Y1)      (Y2)        {}     84\n",
      "2                 (X2)      (Y2)      (X1)      (Y1)        {}     44\n",
      "13                (X1)      (X2)      (Y1)      (Y2)        {}     38\n",
      "8                 (Y2)      (X2)      (X1)      (Y1)        {}     34\n",
      "24                (Y1)      (Y2)      (X1)      (X2)        {}     28\n",
      "15                (X1)      (Y2)      (X2)      (Y1)        {}     16\n",
      "29                (X2)      (Y1)      (Y2)      (X1)        {}     16\n"
     ]
    }
   ],
   "source": [
    "bloc_voter_prop = {\"X\": .8, \"Y\": .2}\n",
    "\n",
    "slate_to_candidates = {\"X\": [\"X1\", \"X2\"],\n",
    "                        \"Y\": [\"Y1\", \"Y2\"]}\n",
    "\n",
    "# how polarized are the blocs\n",
    "cohesion_parameters = {\n",
    "    \"X\": {\"X\":.9, \"Y\":.1},\n",
    "    \"Y\": {\"X\":.1, \"Y\":.9},\n",
    "    }\n",
    "\n",
    "\n",
    "alphas = { # the candidate strength\n",
    "    \"X\": {\"X\":2, \"Y\":1},\n",
    "    \"Y\": {\"X\":1, \"Y\":.5},\n",
    "    }\n",
    "\n",
    "\n",
    "pl = slate_PlackettLuce.from_params(slate_to_candidates=slate_to_candidates,\n",
    "          bloc_voter_prop=bloc_voter_prop,\n",
    "          cohesion_parameters=cohesion_parameters,\n",
    "          alphas=alphas)\n",
    "\n",
    "profiles_by_bloc, complete_profile = pl.generate_profile(1000, by_bloc = True)\n",
    "\n",
    "for bloc, profile in profiles_by_bloc.items():\n",
    "    print(f\"This is the top ten ballots of the profile for bloc {bloc}.\")\n",
    "    print(profile_df_head(profile, n=10).to_string())\n",
    "    print()\n",
    "\n",
    "print(\"This is the top ten ballots of the complete profile.\")\n",
    "print(profile_df_head(complete_profile, n=10).to_string())"
   ]
  },
  {
   "cell_type": "markdown",
   "id": "7f470c7c",
   "metadata": {},
   "source": [
    "Try it yourself.\n",
    "\n",
    "We mentioned earlier that it is possible to use more than two blocs of voters. This can be useful if you want to model things like a convervative, moderate, progressive split. However, the number of parameters grows a lot.\n",
    "\n",
    "Edit the code below to include a third bloc, 'Z'. We've already done a bit of it for you."
   ]
  },
  {
   "cell_type": "code",
   "execution_count": 11,
   "id": "11fdc6fd",
   "metadata": {},
   "outputs": [
    {
     "ename": "ZeroDivisionError",
     "evalue": "There are no candidates with non-zero support.",
     "output_type": "error",
     "traceback": [
      "\u001b[31m---------------------------------------------------------------------------\u001b[39m",
      "\u001b[31mZeroDivisionError\u001b[39m                         Traceback (most recent call last)",
      "\u001b[36mCell\u001b[39m\u001b[36m \u001b[39m\u001b[32mIn[11]\u001b[39m\u001b[32m, line 24\u001b[39m\n\u001b[32m      9\u001b[39m cohesion_parameters = {\n\u001b[32m     10\u001b[39m     \u001b[33m\"\u001b[39m\u001b[33mX\u001b[39m\u001b[33m\"\u001b[39m: {\u001b[33m\"\u001b[39m\u001b[33mX\u001b[39m\u001b[33m\"\u001b[39m:\u001b[32m.9\u001b[39m, \u001b[33m\"\u001b[39m\u001b[33mY\u001b[39m\u001b[33m\"\u001b[39m:\u001b[32m.05\u001b[39m, \u001b[33m\"\u001b[39m\u001b[33mZ\u001b[39m\u001b[33m\"\u001b[39m: \u001b[32m.05\u001b[39m}, \u001b[38;5;66;03m# these always need to sum to 1\u001b[39;00m\n\u001b[32m     11\u001b[39m     \u001b[33m\"\u001b[39m\u001b[33mY\u001b[39m\u001b[33m\"\u001b[39m: {\u001b[33m\"\u001b[39m\u001b[33mX\u001b[39m\u001b[33m\"\u001b[39m:\u001b[32m.1\u001b[39m, \u001b[33m\"\u001b[39m\u001b[33mY\u001b[39m\u001b[33m\"\u001b[39m:\u001b[32m.9\u001b[39m}, \u001b[38;5;66;03m# add Z\u001b[39;00m\n\u001b[32m     12\u001b[39m     \u001b[33m\"\u001b[39m\u001b[33mZ\u001b[39m\u001b[33m\"\u001b[39m: {} \u001b[38;5;66;03m# add X, Y, and Z\u001b[39;00m\n\u001b[32m     13\u001b[39m     }\n\u001b[32m     16\u001b[39m alphas = { \u001b[38;5;66;03m# the candidate strength\u001b[39;00m\n\u001b[32m     17\u001b[39m     \u001b[33m\"\u001b[39m\u001b[33mX\u001b[39m\u001b[33m\"\u001b[39m: {\u001b[33m\"\u001b[39m\u001b[33mX\u001b[39m\u001b[33m\"\u001b[39m:\u001b[32m2\u001b[39m, \u001b[33m\"\u001b[39m\u001b[33mY\u001b[39m\u001b[33m\"\u001b[39m:\u001b[32m1\u001b[39m, \u001b[33m\"\u001b[39m\u001b[33mZ\u001b[39m\u001b[33m\"\u001b[39m: \u001b[32m1\u001b[39m},\n\u001b[32m     18\u001b[39m     \u001b[33m\"\u001b[39m\u001b[33mY\u001b[39m\u001b[33m\"\u001b[39m: {\u001b[33m\"\u001b[39m\u001b[33mX\u001b[39m\u001b[33m\"\u001b[39m:\u001b[32m1\u001b[39m, \u001b[33m\"\u001b[39m\u001b[33mY\u001b[39m\u001b[33m\"\u001b[39m:\u001b[32m.5\u001b[39m},\u001b[38;5;66;03m# add Z\u001b[39;00m\n\u001b[32m     19\u001b[39m     \u001b[33m\"\u001b[39m\u001b[33mZ\u001b[39m\u001b[33m\"\u001b[39m: {} \u001b[38;5;66;03m# add X, Y, and Z\u001b[39;00m\n\u001b[32m     20\u001b[39m \n\u001b[32m     21\u001b[39m     }\n\u001b[32m---> \u001b[39m\u001b[32m24\u001b[39m pl = \u001b[43mslate_PlackettLuce\u001b[49m\u001b[43m.\u001b[49m\u001b[43mfrom_params\u001b[49m\u001b[43m(\u001b[49m\u001b[43mslate_to_candidates\u001b[49m\u001b[43m=\u001b[49m\u001b[43mslate_to_candidates\u001b[49m\u001b[43m,\u001b[49m\n\u001b[32m     25\u001b[39m \u001b[43m          \u001b[49m\u001b[43mbloc_voter_prop\u001b[49m\u001b[43m=\u001b[49m\u001b[43mbloc_voter_prop\u001b[49m\u001b[43m,\u001b[49m\n\u001b[32m     26\u001b[39m \u001b[43m          \u001b[49m\u001b[43mcohesion_parameters\u001b[49m\u001b[43m=\u001b[49m\u001b[43mcohesion_parameters\u001b[49m\u001b[43m,\u001b[49m\n\u001b[32m     27\u001b[39m \u001b[43m          \u001b[49m\u001b[43malphas\u001b[49m\u001b[43m=\u001b[49m\u001b[43malphas\u001b[49m\u001b[43m)\u001b[49m\n\u001b[32m     29\u001b[39m profiles_by_bloc, complete_profile = pl.generate_profile(\u001b[32m1000\u001b[39m, by_bloc = \u001b[38;5;28;01mTrue\u001b[39;00m)\n\u001b[32m     31\u001b[39m \u001b[38;5;28;01mfor\u001b[39;00m bloc, profile \u001b[38;5;129;01min\u001b[39;00m profiles_by_bloc.items():\n",
      "\u001b[36mFile \u001b[39m\u001b[32m~/Documents/GitHub/MGGG/Training_Materials_25/.venv/lib/python3.13/site-packages/votekit/ballot_generator.py:209\u001b[39m, in \u001b[36mBallotGenerator.from_params\u001b[39m\u001b[34m(cls, slate_to_candidates, bloc_voter_prop, cohesion_parameters, alphas, **data)\u001b[39m\n\u001b[32m    207\u001b[39m intervals = {}\n\u001b[32m    208\u001b[39m \u001b[38;5;28;01mfor\u001b[39;00m b \u001b[38;5;129;01min\u001b[39;00m bloc_voter_prop:\n\u001b[32m--> \u001b[39m\u001b[32m209\u001b[39m     interval = \u001b[43mPreferenceInterval\u001b[49m\u001b[43m.\u001b[49m\u001b[43mfrom_dirichlet\u001b[49m\u001b[43m(\u001b[49m\n\u001b[32m    210\u001b[39m \u001b[43m        \u001b[49m\u001b[43mcandidates\u001b[49m\u001b[43m=\u001b[49m\u001b[43mslate_to_candidates\u001b[49m\u001b[43m[\u001b[49m\u001b[43mb\u001b[49m\u001b[43m]\u001b[49m\u001b[43m,\u001b[49m\u001b[43m \u001b[49m\u001b[43malpha\u001b[49m\u001b[43m=\u001b[49m\u001b[43malphas\u001b[49m\u001b[43m[\u001b[49m\u001b[43mcurrent_bloc\u001b[49m\u001b[43m]\u001b[49m\u001b[43m[\u001b[49m\u001b[43mb\u001b[49m\u001b[43m]\u001b[49m\n\u001b[32m    211\u001b[39m \u001b[43m    \u001b[49m\u001b[43m)\u001b[49m\n\u001b[32m    212\u001b[39m     intervals[b] = interval\n\u001b[32m    214\u001b[39m pref_intervals_by_bloc[current_bloc] = intervals\n",
      "\u001b[36mFile \u001b[39m\u001b[32m~/Documents/GitHub/MGGG/Training_Materials_25/.venv/lib/python3.13/site-packages/votekit/pref_interval.py:93\u001b[39m, in \u001b[36mPreferenceInterval.from_dirichlet\u001b[39m\u001b[34m(cls, candidates, alpha)\u001b[39m\n\u001b[32m     78\u001b[39m \u001b[38;5;250m\u001b[39m\u001b[33;03m\"\"\"\u001b[39;00m\n\u001b[32m     79\u001b[39m \u001b[33;03mSamples a PreferenceInterval from the Dirichlet distribution on the candidate simplex.\u001b[39;00m\n\u001b[32m     80\u001b[39m \u001b[33;03mAlpha tends to 0 is strong support, alpha tends to infinity is uniform support, alpha = 1\u001b[39;00m\n\u001b[32m   (...)\u001b[39m\u001b[32m     89\u001b[39m \u001b[33;03m    PreferenceInterval\u001b[39;00m\n\u001b[32m     90\u001b[39m \u001b[33;03m\"\"\"\u001b[39;00m\n\u001b[32m     91\u001b[39m probs = \u001b[38;5;28mlist\u001b[39m(np.random.default_rng().dirichlet(alpha=[alpha] * \u001b[38;5;28mlen\u001b[39m(candidates)))\n\u001b[32m---> \u001b[39m\u001b[32m93\u001b[39m \u001b[38;5;28;01mreturn\u001b[39;00m \u001b[38;5;28;43mcls\u001b[39;49m\u001b[43m(\u001b[49m\u001b[43m{\u001b[49m\u001b[43mc\u001b[49m\u001b[43m:\u001b[49m\u001b[43m \u001b[49m\u001b[43ms\u001b[49m\u001b[43m \u001b[49m\u001b[38;5;28;43;01mfor\u001b[39;49;00m\u001b[43m \u001b[49m\u001b[43mc\u001b[49m\u001b[43m,\u001b[49m\u001b[43m \u001b[49m\u001b[43ms\u001b[49m\u001b[43m \u001b[49m\u001b[38;5;129;43;01min\u001b[39;49;00m\u001b[43m \u001b[49m\u001b[38;5;28;43mzip\u001b[39;49m\u001b[43m(\u001b[49m\u001b[43mcandidates\u001b[49m\u001b[43m,\u001b[49m\u001b[43m \u001b[49m\u001b[43mprobs\u001b[49m\u001b[43m)\u001b[49m\u001b[43m}\u001b[49m\u001b[43m)\u001b[49m\n",
      "\u001b[36mFile \u001b[39m\u001b[32m~/Documents/GitHub/MGGG/Training_Materials_25/.venv/lib/python3.13/site-packages/votekit/pref_interval.py:74\u001b[39m, in \u001b[36mPreferenceInterval.__init__\u001b[39m\u001b[34m(self, interval)\u001b[39m\n\u001b[32m     72\u001b[39m \u001b[38;5;28mself\u001b[39m.non_zero_cands: \u001b[38;5;28mfrozenset\u001b[39m = \u001b[38;5;28mfrozenset\u001b[39m()\n\u001b[32m     73\u001b[39m \u001b[38;5;28mself\u001b[39m._remove_zero_support_cands()\n\u001b[32m---> \u001b[39m\u001b[32m74\u001b[39m \u001b[38;5;28;43mself\u001b[39;49m\u001b[43m.\u001b[49m\u001b[43m_normalize\u001b[49m\u001b[43m(\u001b[49m\u001b[43m)\u001b[49m\n",
      "\u001b[36mFile \u001b[39m\u001b[32m~/Documents/GitHub/MGGG/Training_Materials_25/.venv/lib/python3.13/site-packages/votekit/pref_interval.py:102\u001b[39m, in \u001b[36mPreferenceInterval._normalize\u001b[39m\u001b[34m(self)\u001b[39m\n\u001b[32m     99\u001b[39m summ = \u001b[38;5;28msum\u001b[39m(\u001b[38;5;28mself\u001b[39m.interval.values())\n\u001b[32m    101\u001b[39m \u001b[38;5;28;01mif\u001b[39;00m summ == \u001b[32m0\u001b[39m:\n\u001b[32m--> \u001b[39m\u001b[32m102\u001b[39m     \u001b[38;5;28;01mraise\u001b[39;00m \u001b[38;5;167;01mZeroDivisionError\u001b[39;00m(\u001b[33m\"\u001b[39m\u001b[33mThere are no candidates with non-zero support.\u001b[39m\u001b[33m\"\u001b[39m)\n\u001b[32m    104\u001b[39m \u001b[38;5;28mself\u001b[39m.interval = types.MappingProxyType(\n\u001b[32m    105\u001b[39m     {c: s / summ \u001b[38;5;28;01mfor\u001b[39;00m c, s \u001b[38;5;129;01min\u001b[39;00m \u001b[38;5;28mself\u001b[39m.interval.items()}\n\u001b[32m    106\u001b[39m )\n",
      "\u001b[31mZeroDivisionError\u001b[39m: There are no candidates with non-zero support."
     ]
    }
   ],
   "source": [
    "bloc_voter_prop = {\"X\": .7, \"Y\": .2, \"Z\": .1}\n",
    "\n",
    "slate_to_candidates = {\"X\": [\"X1\", \"X2\"],\n",
    "                        \"Y\": [\"Y1\", \"Y2\"],\n",
    "                        \"Z\":[ ],# add candidates\n",
    "                        }\n",
    "\n",
    "# how polarized are the blocs\n",
    "cohesion_parameters = {\n",
    "    \"X\": {\"X\":.9, \"Y\":.05, \"Z\": .05}, # these always need to sum to 1\n",
    "    \"Y\": {\"X\":.1, \"Y\":.9}, # add Z\n",
    "    \"Z\": {} # add X, Y, and Z\n",
    "    }\n",
    "\n",
    "\n",
    "alphas = { # the candidate strength\n",
    "    \"X\": {\"X\":2, \"Y\":1, \"Z\": 1},\n",
    "    \"Y\": {\"X\":1, \"Y\":.5},# add Z\n",
    "    \"Z\": {} # add X, Y, and Z\n",
    "\n",
    "    }\n",
    "\n",
    "\n",
    "pl = slate_PlackettLuce.from_params(slate_to_candidates=slate_to_candidates,\n",
    "          bloc_voter_prop=bloc_voter_prop,\n",
    "          cohesion_parameters=cohesion_parameters,\n",
    "          alphas=alphas)\n",
    "\n",
    "profiles_by_bloc, complete_profile = pl.generate_profile(1000, by_bloc = True)\n",
    "\n",
    "for bloc, profile in profiles_by_bloc.items():\n",
    "    print(f\"This is the top ten ballots of the profile for bloc {bloc}.\")\n",
    "    print(profile_df_head(profile, n=10).to_string())\n",
    "    print()\n",
    "\n",
    "print(\"This is the top ten ballots of the complete profile.\")\n",
    "print(profile_df_head(complete_profile, n=10).to_string())"
   ]
  },
  {
   "cell_type": "markdown",
   "id": "c340fcf6",
   "metadata": {},
   "source": [
    "Try it yourself\n",
    "\n",
    "The sPL model is for \"impulsive\" voters, who only consider how they feel about each candidate individually when they rank. We have implemented another model, the slate-Bradley-Terry (sBT) model that is for \"deliberative\" voters who consider how they feel about each candidate in relation to every other candidate when they rank.\n",
    "\n",
    "The syntax and knobs are exactly the same, we just change the name of the generator. Below, implement the sBT model and compare how its generated ballots differ from sPL."
   ]
  },
  {
   "cell_type": "code",
   "execution_count": null,
   "id": "b22bc737",
   "metadata": {},
   "outputs": [],
   "source": [
    "from votekit.ballot_generator import slate_BradleyTerry\n",
    "\n",
    "bloc_voter_prop = \n",
    "\n",
    "slate_to_candidates = \n",
    "\n",
    "cohesion_parameters = \n",
    "\n",
    "alphas = \n",
    "\n",
    "\n",
    "pl = slate_PlackettLuce.from_params(slate_to_candidates=slate_to_candidates,\n",
    "          bloc_voter_prop=bloc_voter_prop,\n",
    "          cohesion_parameters=cohesion_parameters,\n",
    "          alphas=alphas)\n",
    "\n",
    "bt = slate_BradleyTerry.from_params(slate_to_candidates=slate_to_candidates,\n",
    "          bloc_voter_prop=bloc_voter_prop,\n",
    "          cohesion_parameters=cohesion_parameters,\n",
    "          alphas=alphas)\n",
    "\n",
    "pl_profiles_by_bloc, pl_complete_profile = pl.generate_profile(1000, by_bloc = True)\n",
    "bt_profiles_by_bloc, bt_complete_profile = bt.generate_profile(1000, by_bloc = True)\n",
    " \n",
    "print(\"This is the top ten ballots of the PL profile.\")\n",
    "print(profile_df_head(pl_complete_profile, n=10).to_string())\n",
    "\n",
    "print(\"This is the top ten ballots of the BT profile.\")\n",
    "print(profile_df_head(bt_complete_profile, n=10).to_string())"
   ]
  },
  {
   "cell_type": "markdown",
   "id": "a9cf1fe8",
   "metadata": {},
   "source": [
    "## Running the same election under different voter behavior\n",
    "\n",
    "The utility of changing all of these knobs around is it lets us see how voter behavior impacts the outcome of an election. We will walk you through how to study the impact of low turnout on the number of progressive candidates elected. Then, we'll have you try studing the impact of high polarization. \n",
    "\n",
    "It is always important to isolate the one knob you are turning, so we will hold the rest of our knobs fixed for this experiment.\n"
   ]
  },
  {
   "cell_type": "code",
   "execution_count": null,
   "id": "d9701b4f",
   "metadata": {},
   "outputs": [
    {
     "name": "stdout",
     "output_type": "stream",
     "text": [
      "high_progressive_turnout\n"
     ]
    },
    {
     "data": {
      "application/vnd.jupyter.widget-view+json": {
       "model_id": "e804d686d4b845bc8c54f9fca26bc61f",
       "version_major": 2,
       "version_minor": 0
      },
      "text/plain": [
       "  0%|          | 0/50 [00:00<?, ?it/s]"
      ]
     },
     "metadata": {},
     "output_type": "display_data"
    },
    {
     "name": "stdout",
     "output_type": "stream",
     "text": [
      "low_progressive_turnout\n"
     ]
    },
    {
     "data": {
      "application/vnd.jupyter.widget-view+json": {
       "model_id": "284a98c5a8714db88bac9b0ba2ed833e",
       "version_major": 2,
       "version_minor": 0
      },
      "text/plain": [
       "  0%|          | 0/50 [00:00<?, ?it/s]"
      ]
     },
     "metadata": {},
     "output_type": "display_data"
    },
    {
     "name": "stderr",
     "output_type": "stream",
     "text": [
      "/Users/cdonnay/Documents/GitHub/MGGG/Training_Materials_25/.venv/lib/python3.13/site-packages/votekit/pref_profile/pref_profile.py:997: UserWarning: Profile does not contain rankings but max_ranking_length=6. Setting max_ranking_length to 0.\n",
      "  warnings.warn(\n"
     ]
    }
   ],
   "source": [
    "from votekit.elections import STV\n",
    "from tqdm.notebook import tqdm\n",
    "\n",
    "num_cands = {\"P\": 3, \"C\": 3}\n",
    "num_voters = 5000\n",
    "num_seats = 3\n",
    "num_trials = 50\n",
    "\n",
    "# Fixed parameters\n",
    "slate_to_candidates = {\"P\": [f\"P_{i}\" for i in range(num_cands[\"P\"])],\n",
    "                        \"C\": [f\"C_{i}\" for i in range(num_cands[\"C\"])],}\n",
    "\n",
    "cohesion_parameters = {\n",
    "    \"P\": {\"P\":.8, \"C\":.2},\n",
    "    \"C\": {\"P\":.2, \"C\":.8},\n",
    "    }\n",
    "\n",
    "alphas = { # the candidate strength\n",
    "    \"P\": {\"P\":1, \"C\":1}, # all bets are off\n",
    "    \"C\": {\"P\":1, \"C\":1},\n",
    "    }\n",
    "\n",
    "# Varying parameter\n",
    "turnouts = {\n",
    "    \"high_progressive_turnout\"  : {\"P\": .7, \"C\": .3},\n",
    "    \"low_progressive_turnout\"  : {\"P\": .5, \"C\": .5},\n",
    "    }\n",
    "\n",
    "\n",
    "\n",
    "num_prog_winners_by_turnout = {\n",
    "    \"high_progressive_turnout\": [],\n",
    "    \"low_progressive_turnout\": [],\n",
    "    }\n",
    "\n",
    "for turnout_label, bloc_voter_prop in turnouts.items():\n",
    "    print(turnout_label)\n",
    "    for _ in tqdm(range(num_trials)):\n",
    "        pl = slate_PlackettLuce.from_params(slate_to_candidates=slate_to_candidates,\n",
    "                bloc_voter_prop=bloc_voter_prop,\n",
    "                cohesion_parameters=cohesion_parameters,\n",
    "                alphas=alphas)\n",
    "        \n",
    "        profile = pl.generate_profile(num_voters)\n",
    "\n",
    "        e = STV(profile, m= num_seats)\n",
    "\n",
    "        winners = e.get_elected()\n",
    "        num_prog_winners = len([c for cand_set in winners for c in cand_set if \"P_\" in c])\n",
    "\n",
    "        num_prog_winners_by_turnout[turnout_label].append(num_prog_winners)\n"
   ]
  },
  {
   "cell_type": "code",
   "execution_count": 19,
   "id": "eabe7af4",
   "metadata": {},
   "outputs": [
    {
     "data": {
      "text/plain": [
       "Text(0.5, 0.98, 'Comparing progressive seats as turnout varies')"
      ]
     },
     "execution_count": 19,
     "metadata": {},
     "output_type": "execute_result"
    },
    {
     "data": {
      "image/png": "[encoded data removed]",
      "text/plain": [
       "<Figure size 900x400 with 1 Axes>"
      ]
     },
     "metadata": {},
     "output_type": "display_data"
    }
   ],
   "source": [
    "import matplotlib.pyplot as plt\n",
    "import numpy as np\n",
    "\n",
    "fig,ax = plt.subplots(figsize = (9,4))\n",
    "\n",
    "bins = np.arange(-1/2, num_seats +1.5)\n",
    "\n",
    "ax.hist(num_prog_winners_by_turnout.values(), label = num_prog_winners_by_turnout.keys(), bins = bins)\n",
    "ax.set_xlim(-1, num_seats+1)\n",
    "ax.set_xticks(range(0,num_seats+1))\n",
    "\n",
    "plt.legend()\n",
    "\n",
    "plt.suptitle(\"Comparing progressive seats as turnout varies\")"
   ]
  },
  {
   "cell_type": "markdown",
   "id": "eacf0fa2",
   "metadata": {},
   "source": [
    "Try it yourself\n",
    "\n",
    "Using the code above as a skeleton, try to study the impact of high polarization. "
   ]
  },
  {
   "cell_type": "code",
   "execution_count": null,
   "id": "1fe4db8e",
   "metadata": {},
   "outputs": [],
   "source": [
    "from votekit.elections import STV\n",
    "from tqdm.notebook import tqdm\n",
    "\n",
    "num_cands = {\"P\": 3, \"C\": 3}\n",
    "num_voters = 5000\n",
    "num_seats = 3\n",
    "num_trials = 50\n",
    "\n",
    "# Fixed parameters\n",
    "slate_to_candidates = {\"P\": [f\"P_{i}\" for i in range(num_cands[\"P\"])],\n",
    "                        \"C\": [f\"C_{i}\" for i in range(num_cands[\"C\"])],}\n",
    "\n",
    "cohesion_parameters = {\n",
    "    \"P\": {\"P\":.8, \"C\":.2},\n",
    "    \"C\": {\"P\":.2, \"C\":.8},\n",
    "    }\n",
    "\n",
    "alphas = { # the candidate strength\n",
    "    \"P\": {\"P\":1, \"C\":1}, # all bets are off\n",
    "    \"C\": {\"P\":1, \"C\":1},\n",
    "    }\n",
    "\n",
    "\n",
    "# Varying parameter\n",
    "turnouts = {\n",
    "    \"high_progressive_turnout\"  : {\"P\": .7, \"C\": .3},\n",
    "    \"low_progressive_turnout\"  : {\"P\": .5, \"C\": .5},\n",
    "    }\n",
    "\n",
    "\n",
    "\n",
    "num_prog_winners_by_turnout = {\n",
    "    \"high_progressive_turnout\": [],\n",
    "    \"low_progressive_turnout\": [],\n",
    "    }\n",
    "\n",
    "for turnout_label, bloc_voter_prop in turnouts.items():\n",
    "    print(turnout_label)\n",
    "    for _ in tqdm(range(num_trials)):\n",
    "        pl = slate_PlackettLuce.from_params(slate_to_candidates=slate_to_candidates,\n",
    "                bloc_voter_prop=bloc_voter_prop,\n",
    "                cohesion_parameters=cohesion_parameters,\n",
    "                alphas=alphas)\n",
    "        \n",
    "        profile = pl.generate_profile(num_voters)\n",
    "\n",
    "        e = STV(profile, m= num_seats)\n",
    "\n",
    "        winners = e.get_elected()\n",
    "        num_prog_winners = len([c for cand_set in winners for c in cand_set if \"P_\" in c])\n",
    "\n",
    "        num_prog_winners_by_turnout[turnout_label].append(num_prog_winners)\n"
   ]
  },
  {
   "cell_type": "code",
   "execution_count": null,
   "id": "1a61b356",
   "metadata": {},
   "outputs": [],
   "source": [
    "import matplotlib.pyplot as plt\n",
    "import numpy as np\n",
    "\n",
    "fig,ax = plt.subplots(figsize = (9,4))\n",
    "\n",
    "bins = np.arange(-1/2, num_seats +1.5)\n",
    "\n",
    "ax.hist(num_prog_winners_by_turnout.values(), label = num_prog_winners_by_turnout.keys(), bins = bins)\n",
    "ax.set_xlim(-1, num_seats+1)\n",
    "ax.set_xticks(range(0,num_seats+1))\n",
    "\n",
    "plt.legend()\n",
    "\n",
    "plt.suptitle(\"Comparing progressive seats as turnout varies\")"
   ]
  }
 ],
 "metadata": {
  "kernelspec": {
   "display_name": ".venv",
   "language": "python",
   "name": "python3"
  },
  "language_info": {
   "codemirror_mode": {
    "name": "ipython",
    "version": 3
   },
   "file_extension": ".py",
   "mimetype": "text/x-python",
   "name": "python",
   "nbconvert_exporter": "python",
   "pygments_lexer": "ipython3",
   "version": "3.13.2"
  }
 },
 "nbformat": 4,
 "nbformat_minor": 5
}
