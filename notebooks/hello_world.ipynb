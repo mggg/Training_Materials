{
  "cells": [
    {
      "cell_type": "markdown",
      "metadata": {
        "id": "view-in-github",
        "colab_type": "text"
      },
      "source": [
        "<a href=\"https://colab.research.google.com/github/mggg/Training_Materials_25/blob/main/notebooks/hello_world.ipynb\" target=\"_parent\"><img src=\"https://colab.research.google.com/assets/colab-badge.svg\" alt=\"Open In Colab\"/></a>"
      ]
    },
    {
      "cell_type": "markdown",
      "id": "db15614b",
      "metadata": {
        "id": "db15614b"
      },
      "source": [
        "# A Very Brief Introduction to Python\n",
        "\n",
        "In this notebook, we will be looking to introduce to you the very basics of using Python. This tutorial\n",
        "assumes that you have know nothing of Python or programming, so we will start off with the most\n",
        "basic concepts. As note, this tutorial is NOT meant teach you how to code well, but rather to provide\n",
        "you with the basic knowledge needed to understand the code written for the upcoming training sessions.\n",
        "This notebook will also be a little verbose so that it may serve as a reference as the training progresses.\n"
      ]
    },
    {
      "cell_type": "markdown",
      "id": "523c6a11",
      "metadata": {
        "id": "523c6a11"
      },
      "source": [
        "### Learning Objectives\n",
        "\n",
        "By the end of this notebook, you should be able to:\n",
        "\n",
        "* Manipulate basic Python data types\n",
        "* Understand the basic syntax of a function\n",
        "* Be able to use a for loop\n",
        "* Understand basic use of lists and dictionaries\n",
        "* Be able to open a file in colab"
      ]
    },
    {
      "cell_type": "markdown",
      "id": "233f521b",
      "metadata": {
        "id": "233f521b"
      },
      "source": [
        "## Python Types and Variables\n",
        "\n",
        "There are 4 basic data types in Python:\n",
        "\n",
        "* Integers\n",
        "* Floats (real numbers)\n",
        "* Booleans\n",
        "* Strings\n",
        "\n",
        "\n",
        "All of these basic types can be stored in a structure called a variable using the syntax:\n",
        "\n",
        "```python\n",
        "variable_name = value\n",
        "```\n",
        "\n",
        "For example, we can create a variable called `x` and assign it the value of `9` by using the following syntax:"
      ]
    },
    {
      "cell_type": "code",
      "execution_count": null,
      "id": "5122e4d5",
      "metadata": {
        "id": "5122e4d5"
      },
      "outputs": [],
      "source": [
        "x = 9"
      ]
    },
    {
      "cell_type": "markdown",
      "id": "bf5d6136",
      "metadata": {
        "id": "bf5d6136"
      },
      "source": [
        "Now I can see that the value of \"9\" has been stored into the variable \"x\" by printing it out"
      ]
    },
    {
      "cell_type": "code",
      "execution_count": null,
      "id": "843e82d3",
      "metadata": {
        "id": "843e82d3",
        "outputId": "7b84e201-c98b-4310-ea42-dc081f604351"
      },
      "outputs": [
        {
          "name": "stdout",
          "output_type": "stream",
          "text": [
            "9\n"
          ]
        }
      ],
      "source": [
        "print(x)"
      ]
    },
    {
      "cell_type": "markdown",
      "id": "6a2f33aa",
      "metadata": {
        "id": "6a2f33aa"
      },
      "source": [
        "If we are in a jupyter notebook (like this one), we can also just put the variable at the end of the\n",
        "cell and it will be printed out for us."
      ]
    },
    {
      "cell_type": "code",
      "execution_count": null,
      "id": "bffa4b58",
      "metadata": {
        "id": "bffa4b58",
        "outputId": "9a0ed8ee-3917-41e5-fe3f-aba85c0def12"
      },
      "outputs": [
        {
          "data": {
            "text/plain": [
              "9"
            ]
          },
          "execution_count": 3,
          "metadata": {},
          "output_type": "execute_result"
        }
      ],
      "source": [
        "x"
      ]
    },
    {
      "cell_type": "markdown",
      "id": "38ed50df",
      "metadata": {
        "id": "38ed50df"
      },
      "source": [
        "In the above example, we have assigned the variable `x` to the __*integer*__ value `9`. We can assign\n",
        "more variables in the same way and then do basic arithmetic operations with them."
      ]
    },
    {
      "cell_type": "code",
      "execution_count": null,
      "id": "7305c1d7",
      "metadata": {
        "id": "7305c1d7",
        "outputId": "43ac84c1-2e59-4c62-fd39-e1e255529281"
      },
      "outputs": [
        {
          "data": {
            "text/plain": [
              "11"
            ]
          },
          "execution_count": 4,
          "metadata": {},
          "output_type": "execute_result"
        }
      ],
      "source": [
        "y = 2\n",
        "\n",
        "x + y"
      ]
    },
    {
      "cell_type": "code",
      "execution_count": null,
      "id": "d55baa4f",
      "metadata": {
        "id": "d55baa4f",
        "outputId": "9a310608-12e9-47bf-b32b-c665b2a1d097"
      },
      "outputs": [
        {
          "data": {
            "text/plain": [
              "-7"
            ]
          },
          "execution_count": 5,
          "metadata": {},
          "output_type": "execute_result"
        }
      ],
      "source": [
        "y - x"
      ]
    },
    {
      "cell_type": "code",
      "execution_count": null,
      "id": "986a8e08",
      "metadata": {
        "id": "986a8e08",
        "outputId": "65b3648d-0c57-4d78-8d65-93f6373416ac"
      },
      "outputs": [
        {
          "data": {
            "text/plain": [
              "4.5"
            ]
          },
          "execution_count": 6,
          "metadata": {},
          "output_type": "execute_result"
        }
      ],
      "source": [
        "# Any text after the '#' character is called a comment. This is not a part of your code, but\n",
        "# it can be useful to remind yourself what you were doing previously. When in doubt, add a comment!\n",
        "\n",
        "\n",
        "# Since 2 does not divide 9 evenly, the result of this operation will be a real number\n",
        "# In Python, a number with a decimal place is also called a FLOAT\n",
        "x/y"
      ]
    },
    {
      "cell_type": "code",
      "execution_count": null,
      "id": "7495285a",
      "metadata": {
        "id": "7495285a",
        "outputId": "8a7badfb-7a76-4ce4-e461-c6ab12111e37"
      },
      "outputs": [
        {
          "data": {
            "text/plain": [
              "1"
            ]
          },
          "execution_count": 7,
          "metadata": {},
          "output_type": "execute_result"
        }
      ],
      "source": [
        "# This operation is called \"modulus\" and it just gives you the remainder of the division\n",
        "# 9/2 has a remainder of 1, so this will return 1\n",
        "x % y"
      ]
    },
    {
      "cell_type": "code",
      "execution_count": null,
      "id": "19354151",
      "metadata": {
        "id": "19354151",
        "outputId": "92cc6cae-9c30-44d8-cedf-6db0b9ad64bf"
      },
      "outputs": [
        {
          "data": {
            "text/plain": [
              "4"
            ]
          },
          "execution_count": 8,
          "metadata": {},
          "output_type": "execute_result"
        }
      ],
      "source": [
        "# This operation is something special in Python, it is called \"floor division\"\n",
        "# and it just gives you the whole number part of the division\n",
        "\n",
        "# 9/2 = 4.5, so this will return 4\n",
        "x // y"
      ]
    },
    {
      "cell_type": "markdown",
      "id": "f07be4c6",
      "metadata": {
        "id": "f07be4c6"
      },
      "source": [
        "Lastly, it is sometimes useful to save the results of a computation so that we can use it later.\n",
        "This can be done quite easily by making another variable"
      ]
    },
    {
      "cell_type": "code",
      "execution_count": null,
      "id": "1d749e65",
      "metadata": {
        "id": "1d749e65"
      },
      "outputs": [],
      "source": [
        "# Notice: variable names can be anything you want. The only restrictions are that they cannot start\n",
        "# with a number or contain special characters like ' ' (space), '@', '#', etc.\n",
        "\n",
        "# Generally, it is advised that your variable names are descriptive and lowercase, with words\n",
        "# separated by underscores.\n",
        "my_result = x + y"
      ]
    },
    {
      "cell_type": "markdown",
      "id": "855f932b",
      "metadata": {
        "id": "855f932b"
      },
      "source": [
        "Note: You cannot work with variables that have not been defined earlier in your code."
      ]
    },
    {
      "cell_type": "code",
      "execution_count": null,
      "id": "73be0549",
      "metadata": {
        "id": "73be0549",
        "outputId": "3157853b-c93d-4bbe-aacc-75317c82586f"
      },
      "outputs": [
        {
          "ename": "NameError",
          "evalue": "name 'a' is not defined",
          "output_type": "error",
          "traceback": [
            "\u001b[31m---------------------------------------------------------------------------\u001b[39m",
            "\u001b[31mNameError\u001b[39m                                 Traceback (most recent call last)",
            "\u001b[36mCell\u001b[39m\u001b[36m \u001b[39m\u001b[32mIn[10]\u001b[39m\u001b[32m, line 1\u001b[39m\n\u001b[32m----> \u001b[39m\u001b[32m1\u001b[39m \u001b[43ma\u001b[49m + b  \u001b[38;5;66;03m# Python does not know what a and b are yet, so this will give an error\u001b[39;00m\n\u001b[32m      2\u001b[39m a = \u001b[32m1\u001b[39m\n\u001b[32m      3\u001b[39m b = \u001b[32m2\u001b[39m\n",
            "\u001b[31mNameError\u001b[39m: name 'a' is not defined"
          ]
        }
      ],
      "source": [
        "a + b  # Python does not know what a and b are yet, so this will give an error\n",
        "a = 1\n",
        "b = 2"
      ]
    },
    {
      "cell_type": "markdown",
      "id": "6ec9c2dd",
      "metadata": {
        "id": "6ec9c2dd"
      },
      "source": [
        "### Strings\n",
        "\n",
        "Strings are generally just little bits of text. We generally like to use them so that we can\n",
        "make more descriptive print statements. They are also needed to make things like file names\n",
        "or dictionaries (we'll talk about dictionaries later).\n",
        "\n",
        "In Python, you can actually put a `+` sign between two strings to concatenate them."
      ]
    },
    {
      "cell_type": "code",
      "execution_count": null,
      "id": "78127662",
      "metadata": {
        "id": "78127662",
        "outputId": "d8781708-f898-44ee-9a9b-7fa617e85894"
      },
      "outputs": [
        {
          "data": {
            "text/plain": [
              "'Goodbye, Mars! Hello, World!'"
            ]
          },
          "execution_count": 11,
          "metadata": {},
          "output_type": "execute_result"
        }
      ],
      "source": [
        "# Strings can be surrounded by either single or double quotes.\n",
        "string_1 = \"Goodbye, Mars!\"\n",
        "string_2 = ' Hello, World!'\n",
        "string_1 + string_2"
      ]
    },
    {
      "cell_type": "code",
      "execution_count": null,
      "id": "0992ff4b",
      "metadata": {
        "id": "0992ff4b",
        "outputId": "922ad88c-9dea-421d-e57c-aa92a28e4f3e"
      },
      "outputs": [
        {
          "ename": "TypeError",
          "evalue": "unsupported operand type(s) for +: 'int' and 'str'",
          "output_type": "error",
          "traceback": [
            "\u001b[31m---------------------------------------------------------------------------\u001b[39m",
            "\u001b[31mTypeError\u001b[39m                                 Traceback (most recent call last)",
            "\u001b[36mCell\u001b[39m\u001b[36m \u001b[39m\u001b[32mIn[12]\u001b[39m\u001b[32m, line 3\u001b[39m\n\u001b[32m      1\u001b[39m \u001b[38;5;66;03m# Numbers and strings cannot be added together, so this will give an error\u001b[39;00m\n\u001b[32m----> \u001b[39m\u001b[32m3\u001b[39m \u001b[43mx\u001b[49m\u001b[43m \u001b[49m\u001b[43m+\u001b[49m\u001b[43m \u001b[49m\u001b[43mstring_1\u001b[49m\n",
            "\u001b[31mTypeError\u001b[39m: unsupported operand type(s) for +: 'int' and 'str'"
          ]
        }
      ],
      "source": [
        "# Numbers and strings cannot be added together, so this will give an error\n",
        "\n",
        "x + string_1"
      ]
    },
    {
      "cell_type": "code",
      "execution_count": null,
      "id": "6043e5e2",
      "metadata": {
        "id": "6043e5e2",
        "outputId": "91fc1c1b-ba65-47d1-d850-0785bd8f6301"
      },
      "outputs": [
        {
          "name": "stdout",
          "output_type": "stream",
          "text": [
            "The value of x is '9' and the value of y is '2'.\n"
          ]
        }
      ],
      "source": [
        "# Formatted strings are preceeded by the letter 'f' and allow you to insert variables into the string\n",
        "# We really like this feature for debugging.abs\n",
        "\n",
        "my_formatted_string = f\"The value of x is '{x}' and the value of y is '{y}'.\"\n",
        "print(my_formatted_string) # \"print\" is a printing function that lets us see strings in the console"
      ]
    },
    {
      "cell_type": "markdown",
      "id": "46becf70",
      "metadata": {
        "id": "46becf70"
      },
      "source": [
        "You may also see strings preceeded by a `b` or an `r`, or strings in triple quotes. We will not\n",
        "worry about these for now."
      ]
    },
    {
      "cell_type": "markdown",
      "id": "8fb5e8ea",
      "metadata": {
        "id": "8fb5e8ea"
      },
      "source": [
        "### Functions\n",
        "\n",
        "For now, it is useful to think about functions just as a nice way of putting together a bunch\n",
        "of code so that you don't have to doing the \"copy and paste\" thing all the time.\n",
        "\n",
        "Terminology:\n",
        "\n",
        "* The **parameters**/**arguments** of a function are the things that you put in the parentheses when\n",
        "  you define or call the function.\n",
        "* The **body** of a function is the code that is executed when you call the function.\n",
        "* The **return value** of a function is what the function hands back to you when you call it. Return\n",
        "  values can then be stored in variables and used later."
      ]
    },
    {
      "cell_type": "code",
      "execution_count": null,
      "id": "bcede4c5",
      "metadata": {
        "id": "bcede4c5",
        "outputId": "3f1cbff6-b81c-4976-fb48-28b1fcda6c66"
      },
      "outputs": [
        {
          "name": "stdout",
          "output_type": "stream",
          "text": [
            "Hello, Alice! Is there anything I can help you with?\n",
            "Hello, Bob! Is there anything I can help you with?\n"
          ]
        }
      ],
      "source": [
        "def make_greeting(name):\n",
        "    return f\"Hello, {name}! Is there anything I can help you with?\"\n",
        "\n",
        "\n",
        "print(make_greeting(\"Alice\"))\n",
        "print(make_greeting(\"Bob\"))"
      ]
    },
    {
      "cell_type": "code",
      "execution_count": null,
      "id": "540373a0",
      "metadata": {
        "id": "540373a0",
        "outputId": "7e951eb8-d91d-4bc5-d135-6ab4555ea326"
      },
      "outputs": [
        {
          "name": "stdout",
          "output_type": "stream",
          "text": [
            "Checking if 3, 4, and 5 form a Pythagorean triplet.\n",
            "\tComputed a^2 + b^2  = 25, and c^2 = 25\n",
            "True\n",
            "Checking if 1, 2, and 3 form a Pythagorean triplet.\n",
            "\tComputed a^2 + b^2  = 5, and c^2 = 9\n",
            "False\n"
          ]
        }
      ],
      "source": [
        "def is_pythagorean_triplet(a, b, c):\n",
        "    # Adding some print statements can help us tell what is going on inside the function\n",
        "    # In case we get unexpected results\n",
        "    print(f\"Checking if {a}, {b}, and {c} form a Pythagorean triplet.\")\n",
        "    print(f\"\\tComputed a^2 + b^2  = {a**2 + b**2}, and c^2 = {c**2}\")\n",
        "    return a**2 + b**2 == c**2  # Note that a**2 means \"a to the power of 2\" in Python\n",
        "\n",
        "\n",
        "# Here we use the print function to see the results of our function calls\n",
        "print(is_pythagorean_triplet(3, 4, 5))  # This should return True\n",
        "print(is_pythagorean_triplet(1, 2, 3))   # This should return False"
      ]
    },
    {
      "cell_type": "markdown",
      "id": "eff03a11",
      "metadata": {
        "id": "eff03a11"
      },
      "source": [
        "### Equality and Booleans\n",
        "\n",
        "We saw that the `=` operation is used for assignment, so how do we check if two things are equal?\n",
        "In Python, we represent \"equality\" with the `==` operator."
      ]
    },
    {
      "cell_type": "code",
      "execution_count": null,
      "id": "f120e31e",
      "metadata": {
        "id": "f120e31e",
        "outputId": "24cb044c-94f7-4a6e-c0bd-1a564d5406e1"
      },
      "outputs": [
        {
          "data": {
            "text/plain": [
              "False"
            ]
          },
          "execution_count": 16,
          "metadata": {},
          "output_type": "execute_result"
        }
      ],
      "source": [
        "# This will print out \"False\" since x has been set to 9 and y to 2\n",
        "x == y"
      ]
    },
    {
      "cell_type": "code",
      "execution_count": null,
      "id": "14a8048a",
      "metadata": {
        "id": "14a8048a",
        "outputId": "b95bdf87-bcb2-4141-ecc7-87d294d5b252"
      },
      "outputs": [
        {
          "data": {
            "text/plain": [
              "True"
            ]
          },
          "execution_count": 17,
          "metadata": {},
          "output_type": "execute_result"
        }
      ],
      "source": [
        "# This will print out \"True\"\n",
        "x == 9"
      ]
    },
    {
      "cell_type": "markdown",
      "id": "cf3712ee",
      "metadata": {
        "id": "cf3712ee"
      },
      "source": [
        "The values `False` and `True` are reserved words in Python meant to represent the __*boolean*__\n",
        "data type. The boolean data type can only take on two values: `True` or `False`\n",
        "and is generally used to check whether a condition is `True` or `False`."
      ]
    },
    {
      "cell_type": "code",
      "execution_count": null,
      "id": "8eb73595",
      "metadata": {
        "id": "8eb73595",
        "outputId": "e949968d-6a14-43e1-d6fe-484beb665999"
      },
      "outputs": [
        {
          "name": "stdout",
          "output_type": "stream",
          "text": [
            "x is not equal to 8\n"
          ]
        }
      ],
      "source": [
        "# Below is an example of an \"if\" statement, which is used to make decisions in your code.\n",
        "# If the condition is true, the code inside the nested block will be executed.\n",
        "\n",
        "if x == 8:\n",
        "    print(\"x is equal to 8\")        # This code will be executed if the condition evalutes to \"True\"\n",
        "else:\n",
        "    print(\"x is not equal to 8\")    # This code will be executed if the condition evalutes to \"False\""
      ]
    },
    {
      "cell_type": "code",
      "execution_count": null,
      "id": "b9b65826",
      "metadata": {
        "id": "b9b65826",
        "outputId": "5237e3c7-14cb-4a81-f0cc-dce88b89b089"
      },
      "outputs": [
        {
          "name": "stdout",
          "output_type": "stream",
          "text": [
            "x is 9\n"
          ]
        }
      ],
      "source": [
        "if x == 8:\n",
        "    print(\"x is 8\")     # This print statement will only execute if x is equal to 8\n",
        "elif x == 9:\n",
        "    print(\"x is 9\")    # This print statement will only execute if x is both not equal to 8 and equal to 9\n",
        "else:\n",
        "    print(\"x is neither 8 nor 9\")  # This will execute if neither of the previous conditions were true"
      ]
    },
    {
      "cell_type": "code",
      "execution_count": null,
      "id": "f84ad3b1",
      "metadata": {
        "id": "f84ad3b1",
        "outputId": "2b71e1f8-fff1-4c09-f0ea-3a524f655a9f"
      },
      "outputs": [
        {
          "name": "stdout",
          "output_type": "stream",
          "text": [
            "x is neither 8 nor 10\n"
          ]
        }
      ],
      "source": [
        "if x == 8:\n",
        "    print(\"x is 8\")     # This print statement will only execute if x is equal to 8\n",
        "elif x == 10:\n",
        "    print(\"x is 10\")    # This print statement will only execute if x is both not equal to 8 and equal to 10\n",
        "else:\n",
        "    print(\"x is neither 8 nor 10\")  # This will execute if neither of the previous conditions were true"
      ]
    },
    {
      "cell_type": "markdown",
      "id": "92cd202c",
      "metadata": {
        "id": "92cd202c"
      },
      "source": [
        "⚠️ WARNING ⚠️\n",
        "\n",
        "You might see some code that looks like this:\n",
        "\n",
        "```python\n",
        "if value is None:\n",
        "    # do something\n",
        "```\n",
        "\n",
        "The word `is` here is another keyword in Python that can, in VERY SPECIFIC SITUATIONS, be used to\n",
        "check if two things are the equal. We recommend you to never use this keyword unless you gain\n",
        "experience in a lower level language like C or C++ where you woul have to learn what pointers are.\n",
        "\n",
        "In every place that you are likely to be able to use the word `is` in Python, you can just as well\n",
        "use the `==` operator."
      ]
    },
    {
      "cell_type": "markdown",
      "id": "7ba9000b",
      "metadata": {
        "id": "7ba9000b"
      },
      "source": [
        "### Loops and Lists\n",
        "\n",
        "Generally, there are two different types of loops in Python: \"for\" loops and \"while\" loops. We will  \n",
        "only cover \"for\" loops here since they are all you will likely need for most purposes.\n",
        "\n",
        "The main idea behind a \"for\" loop is that you specify a range of numbers, and then for each number in\n",
        "that range, you perform some operation. For example, if you wanted to print the numbers from 1 to 10,\n",
        "you could do the following:"
      ]
    },
    {
      "cell_type": "code",
      "execution_count": null,
      "id": "208c0f5d",
      "metadata": {
        "id": "208c0f5d",
        "outputId": "2bff8106-3a16-46d3-c1f9-2e5cbb5bd556"
      },
      "outputs": [
        {
          "name": "stdout",
          "output_type": "stream",
          "text": [
            "Current value of i is 0\n",
            "Current value of i is 1\n",
            "Current value of i is 2\n",
            "Current value of i is 3\n",
            "Current value of i is 4\n",
            "Current value of i is 5\n",
            "Current value of i is 6\n",
            "Current value of i is 7\n",
            "Current value of i is 8\n",
            "Current value of i is 9\n"
          ]
        }
      ],
      "source": [
        "for i in range(10):\n",
        "    print(f\"Current value of i is {i}\")"
      ]
    },
    {
      "cell_type": "markdown",
      "id": "75281d20",
      "metadata": {
        "id": "75281d20"
      },
      "source": [
        "Wait a second... why did this start at 0 and go to 9 rather than running from 1 to 10? Well, this is\n",
        "because python, like most programing languages, is __zero-indexed__. This makes more sense when we\n",
        "in the context of __lists__.\n",
        "\n",
        "Lists are exactly what they sound like: they are just a collection of a bunch of things in some order.\n",
        "For example, we can make a list of the numbers from 0 to 9:"
      ]
    },
    {
      "cell_type": "code",
      "execution_count": null,
      "id": "bc7e032f",
      "metadata": {
        "id": "bc7e032f",
        "outputId": "36ca0080-70e3-4b62-a284-62a555a5abdc"
      },
      "outputs": [
        {
          "name": "stdout",
          "output_type": "stream",
          "text": [
            "[0, 1, 2, 3, 4, 5, 6, 7, 8, 9]\n"
          ]
        }
      ],
      "source": [
        "my_list = [0, 1, 2, 3, 4, 5, 6, 7, 8, 9]\n",
        "print(my_list)"
      ]
    },
    {
      "cell_type": "markdown",
      "id": "d3e26aa7",
      "metadata": {
        "id": "d3e26aa7"
      },
      "source": [
        "Note:\n",
        "\n",
        "Lists in pythons *can* contain items of multiple types, but it's generally not a good idea to do this."
      ]
    },
    {
      "cell_type": "code",
      "execution_count": null,
      "id": "ee3e97c4",
      "metadata": {
        "id": "ee3e97c4",
        "outputId": "5d1f4151-b727-475d-e6de-f48c312b09df"
      },
      "outputs": [
        {
          "name": "stdout",
          "output_type": "stream",
          "text": [
            "[0, 1, 'two', 3.0, True, 100]\n"
          ]
        }
      ],
      "source": [
        "# Don't do this if you can avoid it. It's much better to know the type of every item in your list.\n",
        "my_list_with_multiple_types = [0, 1, \"two\", 3.0, True, 100]\n",
        "print(my_list_with_multiple_types)"
      ]
    },
    {
      "cell_type": "markdown",
      "id": "5d0086d4",
      "metadata": {
        "id": "5d0086d4"
      },
      "source": [
        "And one of the nicest things about lists is that we can iterate over them"
      ]
    },
    {
      "cell_type": "code",
      "execution_count": null,
      "id": "94ced82b",
      "metadata": {
        "id": "94ced82b",
        "outputId": "3cf278c4-7521-4583-996c-f7feed20d92d"
      },
      "outputs": [
        {
          "name": "stdout",
          "output_type": "stream",
          "text": [
            "Hello, Alice!\n",
            "Hello, Bob!\n",
            "Hello, Charlie!\n"
          ]
        }
      ],
      "source": [
        "# Here we iterate over a list of strings\n",
        "name_list = [\"Alice\", \"Bob\", \"Charlie\"]\n",
        "for name in name_list:\n",
        "    print(f\"Hello, {name}!\")"
      ]
    },
    {
      "cell_type": "markdown",
      "id": "2b0c1b8a",
      "metadata": {
        "id": "2b0c1b8a"
      },
      "source": [
        "We can also access data that is stored in the in a list using square brackets"
      ]
    },
    {
      "cell_type": "code",
      "execution_count": null,
      "id": "4fe31b50",
      "metadata": {
        "id": "4fe31b50",
        "outputId": "a6bd2ec6-7bc2-4cd9-84a4-cc75d5779dca"
      },
      "outputs": [
        {
          "name": "stdout",
          "output_type": "stream",
          "text": [
            "The first name in the list is: Alice\n"
          ]
        }
      ],
      "source": [
        "print(f\"The first name in the list is: {name_list[0]}\")"
      ]
    },
    {
      "cell_type": "markdown",
      "id": "06aedf1a",
      "metadata": {
        "id": "06aedf1a"
      },
      "source": [
        "So, an equivalent expression to\n",
        "\n",
        "```python\n",
        "for name in name_list:\n",
        "    print(name)\n",
        "```\n",
        "\n",
        "in this case would be"
      ]
    },
    {
      "cell_type": "code",
      "execution_count": null,
      "id": "2b15ab81",
      "metadata": {
        "id": "2b15ab81",
        "outputId": "d7122182-c6d8-46c8-e8a5-65f3c6cb3025"
      },
      "outputs": [
        {
          "name": "stdout",
          "output_type": "stream",
          "text": [
            "Hello, Alice!\n",
            "Hello, Bob!\n",
            "Hello, Charlie!\n"
          ]
        }
      ],
      "source": [
        "for i in range(3):\n",
        "    print(f\"Hello, {name_list[i]}!\")  # This will print the first three names in the list"
      ]
    },
    {
      "cell_type": "code",
      "execution_count": null,
      "id": "b4e9c430",
      "metadata": {
        "id": "b4e9c430",
        "outputId": "7c00dcb7-da4d-462b-eab3-8d6bd980d5ab"
      },
      "outputs": [
        {
          "name": "stdout",
          "output_type": "stream",
          "text": [
            "['Alice', 'Maxine', 'Charlie']\n"
          ]
        }
      ],
      "source": [
        "# You can also edit items in a list by using their index\n",
        "\n",
        "name_list[1] = \"Maxine\"\n",
        "print(name_list)"
      ]
    },
    {
      "cell_type": "markdown",
      "id": "d82dd44a",
      "metadata": {
        "id": "d82dd44a"
      },
      "source": [
        "#### Other useful list functions\n",
        "\n",
        "In python, data structures like lists are pretty nice because they come with a bunch of built-in\n",
        "functions that make them very easy to work with.  For example, we can use the `append` function\n",
        "to add an element to the end of a list:"
      ]
    },
    {
      "cell_type": "code",
      "execution_count": null,
      "id": "8110f52b",
      "metadata": {
        "id": "8110f52b",
        "outputId": "5078ac46-80e7-4247-dc3e-62733f633569"
      },
      "outputs": [
        {
          "name": "stdout",
          "output_type": "stream",
          "text": [
            "[1, 2, 3, 4, 5, -1]\n"
          ]
        }
      ],
      "source": [
        "my_list = [1, 2, 3, 4, 5]\n",
        "my_list.append(-1)\n",
        "print(my_list)"
      ]
    },
    {
      "cell_type": "markdown",
      "id": "56341cd8",
      "metadata": {
        "id": "56341cd8"
      },
      "source": [
        "We can determine the number of items in the list using the `len()` function."
      ]
    },
    {
      "cell_type": "code",
      "execution_count": null,
      "id": "199624eb",
      "metadata": {
        "id": "199624eb",
        "outputId": "0f88509b-221e-4845-c8bb-36343c710a12"
      },
      "outputs": [
        {
          "name": "stdout",
          "output_type": "stream",
          "text": [
            "The list stored in the variable 'my_list' has 6 elements.\n"
          ]
        }
      ],
      "source": [
        "print(f\"The list stored in the variable 'my_list' has {len(my_list)} elements.\")"
      ]
    },
    {
      "cell_type": "markdown",
      "id": "46c23e65",
      "metadata": {
        "id": "46c23e65"
      },
      "source": [
        "We can make a new list of sorted items by using the `sorted()` function."
      ]
    },
    {
      "cell_type": "code",
      "execution_count": null,
      "id": "d112e199",
      "metadata": {
        "id": "d112e199",
        "outputId": "3f652a73-01e3-4aec-88db-edfb74c24127"
      },
      "outputs": [
        {
          "name": "stdout",
          "output_type": "stream",
          "text": [
            "[-1, 1, 2, 3, 4, 5]\n"
          ]
        }
      ],
      "source": [
        "print(sorted(my_list))"
      ]
    },
    {
      "cell_type": "markdown",
      "id": "8b5cb655",
      "metadata": {
        "id": "8b5cb655"
      },
      "source": [
        "⚠️ WARNING ⚠️\n",
        "\n",
        "Lists of different types can cause very strange behaviour in Python.\n"
      ]
    },
    {
      "cell_type": "code",
      "execution_count": null,
      "id": "afdef597",
      "metadata": {
        "id": "afdef597",
        "outputId": "33e00948-4aa9-4924-b1fd-9fa93a837d74"
      },
      "outputs": [
        {
          "ename": "TypeError",
          "evalue": "'<' not supported between instances of 'str' and 'int'",
          "output_type": "error",
          "traceback": [
            "\u001b[31m---------------------------------------------------------------------------\u001b[39m",
            "\u001b[31mTypeError\u001b[39m                                 Traceback (most recent call last)",
            "\u001b[36mCell\u001b[39m\u001b[36m \u001b[39m\u001b[32mIn[31]\u001b[39m\u001b[32m, line 1\u001b[39m\n\u001b[32m----> \u001b[39m\u001b[32m1\u001b[39m \u001b[38;5;28;43msorted\u001b[39;49m\u001b[43m(\u001b[49m\u001b[43mmy_list_with_multiple_types\u001b[49m\u001b[43m)\u001b[49m  \u001b[38;5;66;03m# This will give an error because you cannot compare strings and numbers\u001b[39;00m\n",
            "\u001b[31mTypeError\u001b[39m: '<' not supported between instances of 'str' and 'int'"
          ]
        }
      ],
      "source": [
        "sorted(my_list_with_multiple_types)  # This will give an error because you cannot compare strings and numbers"
      ]
    },
    {
      "cell_type": "code",
      "execution_count": null,
      "id": "b681555c",
      "metadata": {
        "id": "b681555c",
        "outputId": "db78db4e-1e25-43cb-a8f7-be8b028696c4"
      },
      "outputs": [
        {
          "data": {
            "text/plain": [
              "[0, False, 0.5, True, 2, 3]"
            ]
          },
          "execution_count": 32,
          "metadata": {},
          "output_type": "execute_result"
        }
      ],
      "source": [
        "# Having different types can work out, but in confusing ways...\n",
        "sorted([0,2,3,True,False,0.5])"
      ]
    },
    {
      "cell_type": "markdown",
      "id": "be73801b",
      "metadata": {
        "id": "be73801b"
      },
      "source": [
        "⚠️ WARNING ⚠️\n",
        "\n",
        "A common mistake is trying to edit a list as you iterate over it"
      ]
    },
    {
      "cell_type": "code",
      "execution_count": null,
      "id": "00aca96a",
      "metadata": {
        "id": "00aca96a"
      },
      "outputs": [],
      "source": [
        "# new_list = [1, 2, 3, 4, 5]\n",
        "# for i in new_list:\n",
        "#     new_list.append(i + 5)  # This will cause an infinite loop, so be careful with this!"
      ]
    },
    {
      "cell_type": "markdown",
      "id": "4addb956",
      "metadata": {
        "id": "4addb956"
      },
      "source": [
        "### Dictionaries\n",
        "\n",
        "Python dictionaries (also called hash tables or maps) are a data structure that function a lot like\n",
        "lists, but rather than being indexed by integers, you can make unique keys for each item. This can\n",
        "be really useful for categorizing data into different groups."
      ]
    },
    {
      "cell_type": "code",
      "execution_count": null,
      "id": "2507529e",
      "metadata": {
        "id": "2507529e"
      },
      "outputs": [],
      "source": [
        "my_dictionary = {\n",
        "    \"Trump\": \"Republican\",\n",
        "    \"Biden\": \"Democrat\",\n",
        "    \"Harris\": \"Democrat\",\n",
        "    \"Sinema\": \"Democrat\",\n",
        "    \"Cruz\": \"Republican\"\n",
        "}"
      ]
    },
    {
      "cell_type": "markdown",
      "id": "48b38fd2",
      "metadata": {
        "id": "48b38fd2"
      },
      "source": [
        "Like lists, dictionaries are mutable meaning that you can edit them by adding or changing elements:"
      ]
    },
    {
      "cell_type": "code",
      "execution_count": null,
      "id": "c8c3b1f3",
      "metadata": {
        "id": "c8c3b1f3",
        "outputId": "2770a387-84bd-433c-a7c9-40519b85c749"
      },
      "outputs": [
        {
          "data": {
            "text/plain": [
              "{'Trump': 'Republican',\n",
              " 'Biden': 'Democrat',\n",
              " 'Harris': 'Democrat',\n",
              " 'Sinema': 'Independent',\n",
              " 'Cruz': 'Republican',\n",
              " 'Sanders': 'Independent'}"
            ]
          },
          "execution_count": 35,
          "metadata": {},
          "output_type": "execute_result"
        }
      ],
      "source": [
        "my_dictionary[\"Sinema\"] = \"Independent\"\n",
        "my_dictionary[\"Sanders\"] = \"Independent\"\n",
        "\n",
        "my_dictionary # Remember that we can print by putting the variable name at the end of the cell"
      ]
    },
    {
      "cell_type": "markdown",
      "id": "68fda4bf",
      "metadata": {
        "id": "68fda4bf"
      },
      "source": [
        "We can also iterate over the items in a dictionary using one of the following methods:"
      ]
    },
    {
      "cell_type": "code",
      "execution_count": null,
      "id": "141c4b7e",
      "metadata": {
        "id": "141c4b7e",
        "outputId": "e74a50f7-4324-48a2-8419-cd419fc6355e"
      },
      "outputs": [
        {
          "name": "stdout",
          "output_type": "stream",
          "text": [
            "Trump\n",
            "Biden\n",
            "Harris\n",
            "Sinema\n",
            "Cruz\n",
            "Sanders\n",
            "-----------------------------\n",
            "Republican\n",
            "Democrat\n",
            "Democrat\n",
            "Independent\n",
            "Republican\n",
            "Independent\n",
            "-----------------------------\n",
            "('Trump', 'Republican')\n",
            "('Biden', 'Democrat')\n",
            "('Harris', 'Democrat')\n",
            "('Sinema', 'Independent')\n",
            "('Cruz', 'Republican')\n",
            "('Sanders', 'Independent')\n"
          ]
        }
      ],
      "source": [
        "for key in my_dictionary.keys():\n",
        "    print(key)\n",
        "\n",
        "print(\"-----------------------------\")\n",
        "for value in my_dictionary.values():\n",
        "    print(value)\n",
        "\n",
        "print(\"-----------------------------\")\n",
        "#\n",
        "for pair in my_dictionary.items():\n",
        "    print(pair)"
      ]
    },
    {
      "cell_type": "markdown",
      "id": "ced8bea4",
      "metadata": {
        "id": "ced8bea4"
      },
      "source": [
        "## Libraries\n",
        "\n",
        "So, one of the nicest things about Python is that there are a ton of libraries out there that you\n",
        "can use to make your life easier. The main libraries that we will want to be aware of in this\n",
        "training are:\n",
        "\n",
        "- NumPy\n",
        "- Pandas\n",
        "- GeoPandas\n",
        "- VoteKit\n",
        "\n",
        "\n",
        "However, in order to use these libraries, we need to install them. In CoLab, you can simply make a\n",
        "new cell and type in the following:\n",
        "\n",
        "```console\n",
        "!pip install <library_name>\n",
        "```\n",
        "\n",
        "and the python package manager PIP will install the library for you. (The '!' at the beginning of\n",
        "the cell lets jupyter know that we are not running python code)"
      ]
    },
    {
      "cell_type": "code",
      "execution_count": null,
      "id": "bba98204",
      "metadata": {
        "id": "bba98204",
        "outputId": "ef980a12-4bfe-40b5-f22c-68305d72acde"
      },
      "outputs": [
        {
          "name": "stdout",
          "output_type": "stream",
          "text": [
            "zsh:1: /home/peter/.local/bin/pip: bad interpreter: /usr/bin/pypy: no such file or directory\n",
            "\u001b[1;31merror\u001b[0m: \u001b[1mexternally-managed-environment\u001b[0m\n",
            "\n",
            "\u001b[31m×\u001b[0m This environment is externally managed\n",
            "\u001b[31m╰─>\u001b[0m To install Python packages system-wide, try 'pacman -S\n",
            "\u001b[31m   \u001b[0m python-xyz', where xyz is the package you are trying to\n",
            "\u001b[31m   \u001b[0m install.\n",
            "\u001b[31m   \u001b[0m \n",
            "\u001b[31m   \u001b[0m If you wish to install a non-Arch-packaged Python package,\n",
            "\u001b[31m   \u001b[0m create a virtual environment using 'python -m venv path/to/venv'.\n",
            "\u001b[31m   \u001b[0m Then use path/to/venv/bin/python and path/to/venv/bin/pip.\n",
            "\u001b[31m   \u001b[0m \n",
            "\u001b[31m   \u001b[0m If you wish to install a non-Arch packaged Python application,\n",
            "\u001b[31m   \u001b[0m it may be easiest to use 'pipx install xyz', which will manage a\n",
            "\u001b[31m   \u001b[0m virtual environment for you. Make sure you have python-pipx\n",
            "\u001b[31m   \u001b[0m installed via pacman.\n",
            "\n",
            "\u001b[1;35mnote\u001b[0m: If you believe this is a mistake, please contact your Python installation or OS distribution provider. You can override this, at the risk of breaking your Python installation or OS, by passing --break-system-packages.\n",
            "\u001b[1;36mhint\u001b[0m: See PEP 668 for the detailed specification.\n"
          ]
        }
      ],
      "source": [
        "!pip install numpy"
      ]
    },
    {
      "cell_type": "markdown",
      "id": "47d51f92",
      "metadata": {
        "id": "47d51f92"
      },
      "source": [
        "We can now use the library by importing it into our notebook with the syntax:\n",
        "\n",
        "```python\n",
        "import numpy\n",
        "```\n"
      ]
    },
    {
      "cell_type": "markdown",
      "id": "95634fb2",
      "metadata": {
        "id": "95634fb2"
      },
      "source": [
        "#### NumPy\n",
        "\n",
        "NumPy is a powerful mathematical computing library that is mainly used for manipulating arrays\n",
        "(think lists) of data. Most importantly, it attached a bunch of useful functions to arrays,\n",
        "and allows us to do vector computations easily."
      ]
    },
    {
      "cell_type": "code",
      "execution_count": null,
      "id": "cf69abcf",
      "metadata": {
        "id": "cf69abcf",
        "outputId": "2499dfba-5fe1-4a21-e132-055586af1e06"
      },
      "outputs": [
        {
          "name": "stdout",
          "output_type": "stream",
          "text": [
            "[2, 3, 4, 5, 6]\n"
          ]
        }
      ],
      "source": [
        "# Adding one to every element in a list using python alone\n",
        "my_python_list = [1, 2, 3, 4, 5]\n",
        "for i in range(len(my_python_list)):\n",
        "    new_value = my_python_list[i] + 1\n",
        "    my_python_list[i] = new_value\n",
        "\n",
        "\n",
        "print(my_python_list)"
      ]
    },
    {
      "cell_type": "code",
      "execution_count": null,
      "id": "f6900142",
      "metadata": {
        "id": "f6900142",
        "outputId": "dff833b2-e995-4be5-91a0-582dc92eba59"
      },
      "outputs": [
        {
          "data": {
            "text/plain": [
              "array([2, 3, 4, 5, 6])"
            ]
          },
          "execution_count": 39,
          "metadata": {},
          "output_type": "execute_result"
        }
      ],
      "source": [
        "# The \"import a as b\" syntax allows you to import a module called \"a\" and refer to it as \"b\" in your\n",
        "# code. This is really useful if you have a long module name or if you want to avoid name conflicts.\n",
        "import numpy as np\n",
        "\n",
        "\n",
        "my_numpy_array = np.array([1, 2, 3, 4, 5])\n",
        "new_numpy_array = my_numpy_array + 1\n",
        "my_numpy_array = new_numpy_array\n",
        "my_numpy_array"
      ]
    },
    {
      "cell_type": "code",
      "execution_count": null,
      "id": "2b3f19ca",
      "metadata": {
        "id": "2b3f19ca",
        "outputId": "3185ff18-cf63-4466-9ab1-34c63a5ce928"
      },
      "outputs": [
        {
          "data": {
            "text/plain": [
              "array([2, 3, 4, 5, 6])"
            ]
          },
          "execution_count": 40,
          "metadata": {},
          "output_type": "execute_result"
        }
      ],
      "source": [
        "# Quick note: if you want to avoid juggling the \"new_numpy_array\" variable, you can just do this:\n",
        "\n",
        "my_numpy_array = np.array([1, 2, 3, 4, 5])\n",
        "my_numpy_array = my_numpy_array + 1\n",
        "my_numpy_array"
      ]
    },
    {
      "cell_type": "code",
      "execution_count": null,
      "id": "9bb9ae25",
      "metadata": {
        "id": "9bb9ae25",
        "outputId": "1cf208e6-9d14-474e-9bdf-ac1dae0c0aee"
      },
      "outputs": [
        {
          "data": {
            "text/plain": [
              "array([2, 3, 4, 5, 6])"
            ]
          },
          "execution_count": 41,
          "metadata": {},
          "output_type": "execute_result"
        }
      ],
      "source": [
        "# You will also see the syntax\n",
        "# my_numpy_array = my_numpy_array + 1\n",
        "# shortened to\n",
        "# my_numpy_array += 1\n",
        "# which is just a shorthand for the same operation.\n",
        "\n",
        "\n",
        "my_numpy_array = np.array([1,2,3,4,5])\n",
        "my_numpy_array += 1\n",
        "my_numpy_array"
      ]
    },
    {
      "cell_type": "code",
      "execution_count": null,
      "id": "d3333263",
      "metadata": {
        "id": "d3333263"
      },
      "outputs": [],
      "source": [
        "# Note: you can still append to numpy arrays, but it is a little trickier than with lists.\n",
        "\n",
        "my_numpy_array = np.append(my_numpy_array, [8,8,8])"
      ]
    },
    {
      "cell_type": "markdown",
      "id": "93cb09c4",
      "metadata": {
        "id": "93cb09c4"
      },
      "source": [
        "So arithmetic operations with NumPy arrays are much easier to write, and, as a bonus, they are\n",
        "generally faster than the 'for' loop methods. Here are some other quality-of-life functions:"
      ]
    },
    {
      "cell_type": "code",
      "execution_count": null,
      "id": "1fa11131",
      "metadata": {
        "id": "1fa11131",
        "outputId": "3063edb9-7bbf-4320-ab90-5100a4fb0303"
      },
      "outputs": [
        {
          "name": "stdout",
          "output_type": "stream",
          "text": [
            "The sum of the array [2 3 4 5 6 8 8 8] is 44\n",
            "\n",
            "The mean of the array [2 3 4 5 6 8 8 8] is 5.5\n",
            "\n",
            "The standard deviation of the array [2 3 4 5 6 8 8 8] is 2.23606797749979\n",
            "\n",
            "The maximum value in the array [2 3 4 5 6 8 8 8] is 8\n",
            "\n",
            "The minimum value in the array [2 3 4 5 6 8 8 8] is 2\n",
            "\n",
            "The median value in the array [2 3 4 5 6 8 8 8] is 5.5\n",
            "\n",
            "The unique elements of the array [2 3 4 5 6 8 8 8] are [2 3 4 5 6 8]\n",
            "\tAnd you can also count how many times each unique element appears: (array([2, 3, 4, 5, 6, 8]), array([1, 1, 1, 1, 1, 3]))\n"
          ]
        }
      ],
      "source": [
        "print(f\"The sum of the array {my_numpy_array} is {my_numpy_array.sum()}\")\n",
        "print()\n",
        "print(f\"The mean of the array {my_numpy_array} is {my_numpy_array.mean()}\")\n",
        "print()\n",
        "print(f\"The standard deviation of the array {my_numpy_array} is {my_numpy_array.std()}\")\n",
        "print()\n",
        "print(f\"The maximum value in the array {my_numpy_array} is {my_numpy_array.max()}\")\n",
        "print()\n",
        "print(f\"The minimum value in the array {my_numpy_array} is {my_numpy_array.min()}\")\n",
        "print()\n",
        "print(f\"The median value in the array {my_numpy_array} is {np.median(my_numpy_array)}\")\n",
        "print()\n",
        "print(f\"The unique elements of the array {my_numpy_array} are {np.unique(my_numpy_array)}\")\n",
        "print(f\"\\tAnd you can also count how many times each unique element appears: {np.unique(my_numpy_array, return_counts=True)}\")"
      ]
    },
    {
      "cell_type": "markdown",
      "id": "37f13ec7",
      "metadata": {
        "id": "37f13ec7"
      },
      "source": [
        "#### Pandas and GeoPandas\n",
        "\n",
        "The Pandas and GeoPandas libraries in python are the main way that users interact with spreadsheet-like\n",
        "data in python. Let's take a look at how to work this this dara. Please navigate to the directory at\n",
        "\n",
        "[https://github.com/mggg/Training_Materials_25/tree/main/data](https://github.com/mggg/Training_Materials_25/tree/main/data)\n",
        "\n",
        "download the files onto your computer, and then move them to your colab notebook or to your\n",
        "working directory."
      ]
    },
    {
      "cell_type": "code",
      "source": [
        "!pip install pandas\n",
        "!pip install geopandas"
      ],
      "metadata": {
        "id": "mPfhPjviNhju",
        "outputId": "e6a7f957-737e-4c51-f654-36d24ee19ef1",
        "colab": {
          "base_uri": "https://localhost:8080/"
        }
      },
      "id": "mPfhPjviNhju",
      "execution_count": 1,
      "outputs": [
        {
          "output_type": "stream",
          "name": "stdout",
          "text": [
            "Requirement already satisfied: pandas in /usr/local/lib/python3.11/dist-packages (2.2.2)\n",
            "Requirement already satisfied: numpy>=1.23.2 in /usr/local/lib/python3.11/dist-packages (from pandas) (2.0.2)\n",
            "Requirement already satisfied: python-dateutil>=2.8.2 in /usr/local/lib/python3.11/dist-packages (from pandas) (2.9.0.post0)\n",
            "Requirement already satisfied: pytz>=2020.1 in /usr/local/lib/python3.11/dist-packages (from pandas) (2025.2)\n",
            "Requirement already satisfied: tzdata>=2022.7 in /usr/local/lib/python3.11/dist-packages (from pandas) (2025.2)\n",
            "Requirement already satisfied: six>=1.5 in /usr/local/lib/python3.11/dist-packages (from python-dateutil>=2.8.2->pandas) (1.17.0)\n",
            "Requirement already satisfied: geopandas in /usr/local/lib/python3.11/dist-packages (1.0.1)\n",
            "Requirement already satisfied: numpy>=1.22 in /usr/local/lib/python3.11/dist-packages (from geopandas) (2.0.2)\n",
            "Requirement already satisfied: pyogrio>=0.7.2 in /usr/local/lib/python3.11/dist-packages (from geopandas) (0.11.0)\n",
            "Requirement already satisfied: packaging in /usr/local/lib/python3.11/dist-packages (from geopandas) (24.2)\n",
            "Requirement already satisfied: pandas>=1.4.0 in /usr/local/lib/python3.11/dist-packages (from geopandas) (2.2.2)\n",
            "Requirement already satisfied: pyproj>=3.3.0 in /usr/local/lib/python3.11/dist-packages (from geopandas) (3.7.1)\n",
            "Requirement already satisfied: shapely>=2.0.0 in /usr/local/lib/python3.11/dist-packages (from geopandas) (2.1.1)\n",
            "Requirement already satisfied: python-dateutil>=2.8.2 in /usr/local/lib/python3.11/dist-packages (from pandas>=1.4.0->geopandas) (2.9.0.post0)\n",
            "Requirement already satisfied: pytz>=2020.1 in /usr/local/lib/python3.11/dist-packages (from pandas>=1.4.0->geopandas) (2025.2)\n",
            "Requirement already satisfied: tzdata>=2022.7 in /usr/local/lib/python3.11/dist-packages (from pandas>=1.4.0->geopandas) (2025.2)\n",
            "Requirement already satisfied: certifi in /usr/local/lib/python3.11/dist-packages (from pyogrio>=0.7.2->geopandas) (2025.4.26)\n",
            "Requirement already satisfied: six>=1.5 in /usr/local/lib/python3.11/dist-packages (from python-dateutil>=2.8.2->pandas>=1.4.0->geopandas) (1.17.0)\n"
          ]
        }
      ]
    },
    {
      "cell_type": "code",
      "execution_count": null,
      "id": "b179c3f5",
      "metadata": {
        "id": "b179c3f5",
        "outputId": "f7c831a5-0605-4a90-a73d-626ffc6491b7"
      },
      "outputs": [
        {
          "data": {
            "text/html": [
              "<div>\n",
              "<style scoped>\n",
              "    .dataframe tbody tr th:only-of-type {\n",
              "        vertical-align: middle;\n",
              "    }\n",
              "\n",
              "    .dataframe tbody tr th {\n",
              "        vertical-align: top;\n",
              "    }\n",
              "\n",
              "    .dataframe thead th {\n",
              "        text-align: right;\n",
              "    }\n",
              "</style>\n",
              "<table border=\"1\" class=\"dataframe\">\n",
              "  <thead>\n",
              "    <tr style=\"text-align: right;\">\n",
              "      <th></th>\n",
              "      <th>GEOID20</th>\n",
              "      <th>tot_pop_20</th>\n",
              "      <th>bpop_20</th>\n",
              "      <th>hpop_20</th>\n",
              "      <th>asian_nhpi_pop_20</th>\n",
              "      <th>amin_pop_20</th>\n",
              "      <th>other_pop_20</th>\n",
              "      <th>white_pop_20</th>\n",
              "      <th>STATEFP</th>\n",
              "      <th>STATE</th>\n",
              "    </tr>\n",
              "  </thead>\n",
              "  <tbody>\n",
              "    <tr>\n",
              "      <th>0</th>\n",
              "      <td>1001</td>\n",
              "      <td>58805</td>\n",
              "      <td>12266</td>\n",
              "      <td>1960</td>\n",
              "      <td>1298</td>\n",
              "      <td>1162</td>\n",
              "      <td>537</td>\n",
              "      <td>41582</td>\n",
              "      <td>1</td>\n",
              "      <td>AL</td>\n",
              "    </tr>\n",
              "    <tr>\n",
              "      <th>1</th>\n",
              "      <td>1003</td>\n",
              "      <td>231767</td>\n",
              "      <td>20913</td>\n",
              "      <td>12219</td>\n",
              "      <td>3476</td>\n",
              "      <td>5970</td>\n",
              "      <td>2694</td>\n",
              "      <td>186495</td>\n",
              "      <td>1</td>\n",
              "      <td>AL</td>\n",
              "    </tr>\n",
              "    <tr>\n",
              "      <th>2</th>\n",
              "      <td>1005</td>\n",
              "      <td>25223</td>\n",
              "      <td>12261</td>\n",
              "      <td>1394</td>\n",
              "      <td>134</td>\n",
              "      <td>237</td>\n",
              "      <td>111</td>\n",
              "      <td>11086</td>\n",
              "      <td>1</td>\n",
              "      <td>AL</td>\n",
              "    </tr>\n",
              "    <tr>\n",
              "      <th>3</th>\n",
              "      <td>1007</td>\n",
              "      <td>22293</td>\n",
              "      <td>4643</td>\n",
              "      <td>695</td>\n",
              "      <td>50</td>\n",
              "      <td>339</td>\n",
              "      <td>124</td>\n",
              "      <td>16442</td>\n",
              "      <td>1</td>\n",
              "      <td>AL</td>\n",
              "    </tr>\n",
              "    <tr>\n",
              "      <th>4</th>\n",
              "      <td>1009</td>\n",
              "      <td>59134</td>\n",
              "      <td>1250</td>\n",
              "      <td>5732</td>\n",
              "      <td>359</td>\n",
              "      <td>1514</td>\n",
              "      <td>515</td>\n",
              "      <td>49764</td>\n",
              "      <td>1</td>\n",
              "      <td>AL</td>\n",
              "    </tr>\n",
              "    <tr>\n",
              "      <th>...</th>\n",
              "      <td>...</td>\n",
              "      <td>...</td>\n",
              "      <td>...</td>\n",
              "      <td>...</td>\n",
              "      <td>...</td>\n",
              "      <td>...</td>\n",
              "      <td>...</td>\n",
              "      <td>...</td>\n",
              "      <td>...</td>\n",
              "      <td>...</td>\n",
              "    </tr>\n",
              "    <tr>\n",
              "      <th>3215</th>\n",
              "      <td>72145</td>\n",
              "      <td>54414</td>\n",
              "      <td>9043</td>\n",
              "      <td>45016</td>\n",
              "      <td>22</td>\n",
              "      <td>17</td>\n",
              "      <td>37</td>\n",
              "      <td>279</td>\n",
              "      <td>72</td>\n",
              "      <td>PR</td>\n",
              "    </tr>\n",
              "    <tr>\n",
              "      <th>3216</th>\n",
              "      <td>72147</td>\n",
              "      <td>8249</td>\n",
              "      <td>2147</td>\n",
              "      <td>5487</td>\n",
              "      <td>3</td>\n",
              "      <td>19</td>\n",
              "      <td>60</td>\n",
              "      <td>533</td>\n",
              "      <td>72</td>\n",
              "      <td>PR</td>\n",
              "    </tr>\n",
              "    <tr>\n",
              "      <th>3217</th>\n",
              "      <td>72149</td>\n",
              "      <td>22093</td>\n",
              "      <td>3538</td>\n",
              "      <td>18474</td>\n",
              "      <td>2</td>\n",
              "      <td>5</td>\n",
              "      <td>9</td>\n",
              "      <td>65</td>\n",
              "      <td>72</td>\n",
              "      <td>PR</td>\n",
              "    </tr>\n",
              "    <tr>\n",
              "      <th>3218</th>\n",
              "      <td>72151</td>\n",
              "      <td>30426</td>\n",
              "      <td>6124</td>\n",
              "      <td>24147</td>\n",
              "      <td>11</td>\n",
              "      <td>2</td>\n",
              "      <td>27</td>\n",
              "      <td>115</td>\n",
              "      <td>72</td>\n",
              "      <td>PR</td>\n",
              "    </tr>\n",
              "    <tr>\n",
              "      <th>3219</th>\n",
              "      <td>72153</td>\n",
              "      <td>34172</td>\n",
              "      <td>3983</td>\n",
              "      <td>30014</td>\n",
              "      <td>17</td>\n",
              "      <td>3</td>\n",
              "      <td>19</td>\n",
              "      <td>136</td>\n",
              "      <td>72</td>\n",
              "      <td>PR</td>\n",
              "    </tr>\n",
              "  </tbody>\n",
              "</table>\n",
              "<p>3220 rows × 10 columns</p>\n",
              "</div>"
            ],
            "text/plain": [
              "      GEOID20  tot_pop_20  bpop_20  hpop_20  asian_nhpi_pop_20  amin_pop_20  \\\n",
              "0        1001       58805    12266     1960               1298         1162   \n",
              "1        1003      231767    20913    12219               3476         5970   \n",
              "2        1005       25223    12261     1394                134          237   \n",
              "3        1007       22293     4643      695                 50          339   \n",
              "4        1009       59134     1250     5732                359         1514   \n",
              "...       ...         ...      ...      ...                ...          ...   \n",
              "3215    72145       54414     9043    45016                 22           17   \n",
              "3216    72147        8249     2147     5487                  3           19   \n",
              "3217    72149       22093     3538    18474                  2            5   \n",
              "3218    72151       30426     6124    24147                 11            2   \n",
              "3219    72153       34172     3983    30014                 17            3   \n",
              "\n",
              "      other_pop_20  white_pop_20  STATEFP STATE  \n",
              "0              537         41582        1    AL  \n",
              "1             2694        186495        1    AL  \n",
              "2              111         11086        1    AL  \n",
              "3              124         16442        1    AL  \n",
              "4              515         49764        1    AL  \n",
              "...            ...           ...      ...   ...  \n",
              "3215            37           279       72    PR  \n",
              "3216            60           533       72    PR  \n",
              "3217             9            65       72    PR  \n",
              "3218            27           115       72    PR  \n",
              "3219            19           136       72    PR  \n",
              "\n",
              "[3220 rows x 10 columns]"
            ]
          },
          "execution_count": 44,
          "metadata": {},
          "output_type": "execute_result"
        }
      ],
      "source": [
        "import pandas as pd\n",
        "\n",
        "my_dataframe = pd.read_csv(\"../data/county_population.csv\")\n",
        "my_dataframe"
      ]
    },
    {
      "cell_type": "code",
      "execution_count": null,
      "id": "3c423ee2",
      "metadata": {
        "id": "3c423ee2",
        "outputId": "96c62fde-9a30-4c34-83e1-3d998f59ec72"
      },
      "outputs": [
        {
          "data": {
            "text/html": [
              "<div>\n",
              "<style scoped>\n",
              "    .dataframe tbody tr th:only-of-type {\n",
              "        vertical-align: middle;\n",
              "    }\n",
              "\n",
              "    .dataframe tbody tr th {\n",
              "        vertical-align: top;\n",
              "    }\n",
              "\n",
              "    .dataframe thead th {\n",
              "        text-align: right;\n",
              "    }\n",
              "</style>\n",
              "<table border=\"1\" class=\"dataframe\">\n",
              "  <thead>\n",
              "    <tr style=\"text-align: right;\">\n",
              "      <th></th>\n",
              "      <th>GEOID20</th>\n",
              "      <th>tot_pop_20</th>\n",
              "      <th>bpop_20</th>\n",
              "      <th>hpop_20</th>\n",
              "      <th>asian_nhpi_pop_20</th>\n",
              "      <th>amin_pop_20</th>\n",
              "      <th>other_pop_20</th>\n",
              "      <th>white_pop_20</th>\n",
              "      <th>STATEFP</th>\n",
              "      <th>STATE</th>\n",
              "    </tr>\n",
              "  </thead>\n",
              "  <tbody>\n",
              "    <tr>\n",
              "      <th>0</th>\n",
              "      <td>1001</td>\n",
              "      <td>58805</td>\n",
              "      <td>12266</td>\n",
              "      <td>1960</td>\n",
              "      <td>1298</td>\n",
              "      <td>1162</td>\n",
              "      <td>537</td>\n",
              "      <td>41582</td>\n",
              "      <td>1</td>\n",
              "      <td>AL</td>\n",
              "    </tr>\n",
              "    <tr>\n",
              "      <th>1</th>\n",
              "      <td>1003</td>\n",
              "      <td>231767</td>\n",
              "      <td>20913</td>\n",
              "      <td>12219</td>\n",
              "      <td>3476</td>\n",
              "      <td>5970</td>\n",
              "      <td>2694</td>\n",
              "      <td>186495</td>\n",
              "      <td>1</td>\n",
              "      <td>AL</td>\n",
              "    </tr>\n",
              "    <tr>\n",
              "      <th>2</th>\n",
              "      <td>1005</td>\n",
              "      <td>25223</td>\n",
              "      <td>12261</td>\n",
              "      <td>1394</td>\n",
              "      <td>134</td>\n",
              "      <td>237</td>\n",
              "      <td>111</td>\n",
              "      <td>11086</td>\n",
              "      <td>1</td>\n",
              "      <td>AL</td>\n",
              "    </tr>\n",
              "    <tr>\n",
              "      <th>3</th>\n",
              "      <td>1007</td>\n",
              "      <td>22293</td>\n",
              "      <td>4643</td>\n",
              "      <td>695</td>\n",
              "      <td>50</td>\n",
              "      <td>339</td>\n",
              "      <td>124</td>\n",
              "      <td>16442</td>\n",
              "      <td>1</td>\n",
              "      <td>AL</td>\n",
              "    </tr>\n",
              "    <tr>\n",
              "      <th>4</th>\n",
              "      <td>1009</td>\n",
              "      <td>59134</td>\n",
              "      <td>1250</td>\n",
              "      <td>5732</td>\n",
              "      <td>359</td>\n",
              "      <td>1514</td>\n",
              "      <td>515</td>\n",
              "      <td>49764</td>\n",
              "      <td>1</td>\n",
              "      <td>AL</td>\n",
              "    </tr>\n",
              "    <tr>\n",
              "      <th>...</th>\n",
              "      <td>...</td>\n",
              "      <td>...</td>\n",
              "      <td>...</td>\n",
              "      <td>...</td>\n",
              "      <td>...</td>\n",
              "      <td>...</td>\n",
              "      <td>...</td>\n",
              "      <td>...</td>\n",
              "      <td>...</td>\n",
              "      <td>...</td>\n",
              "    </tr>\n",
              "    <tr>\n",
              "      <th>3215</th>\n",
              "      <td>72145</td>\n",
              "      <td>54414</td>\n",
              "      <td>9043</td>\n",
              "      <td>45016</td>\n",
              "      <td>22</td>\n",
              "      <td>17</td>\n",
              "      <td>37</td>\n",
              "      <td>279</td>\n",
              "      <td>72</td>\n",
              "      <td>PR</td>\n",
              "    </tr>\n",
              "    <tr>\n",
              "      <th>3216</th>\n",
              "      <td>72147</td>\n",
              "      <td>8249</td>\n",
              "      <td>2147</td>\n",
              "      <td>5487</td>\n",
              "      <td>3</td>\n",
              "      <td>19</td>\n",
              "      <td>60</td>\n",
              "      <td>533</td>\n",
              "      <td>72</td>\n",
              "      <td>PR</td>\n",
              "    </tr>\n",
              "    <tr>\n",
              "      <th>3217</th>\n",
              "      <td>72149</td>\n",
              "      <td>22093</td>\n",
              "      <td>3538</td>\n",
              "      <td>18474</td>\n",
              "      <td>2</td>\n",
              "      <td>5</td>\n",
              "      <td>9</td>\n",
              "      <td>65</td>\n",
              "      <td>72</td>\n",
              "      <td>PR</td>\n",
              "    </tr>\n",
              "    <tr>\n",
              "      <th>3218</th>\n",
              "      <td>72151</td>\n",
              "      <td>30426</td>\n",
              "      <td>6124</td>\n",
              "      <td>24147</td>\n",
              "      <td>11</td>\n",
              "      <td>2</td>\n",
              "      <td>27</td>\n",
              "      <td>115</td>\n",
              "      <td>72</td>\n",
              "      <td>PR</td>\n",
              "    </tr>\n",
              "    <tr>\n",
              "      <th>3219</th>\n",
              "      <td>72153</td>\n",
              "      <td>34172</td>\n",
              "      <td>3983</td>\n",
              "      <td>30014</td>\n",
              "      <td>17</td>\n",
              "      <td>3</td>\n",
              "      <td>19</td>\n",
              "      <td>136</td>\n",
              "      <td>72</td>\n",
              "      <td>PR</td>\n",
              "    </tr>\n",
              "  </tbody>\n",
              "</table>\n",
              "<p>3220 rows × 10 columns</p>\n",
              "</div>"
            ],
            "text/plain": [
              "      GEOID20  tot_pop_20  bpop_20  hpop_20  asian_nhpi_pop_20  amin_pop_20  \\\n",
              "0        1001       58805    12266     1960               1298         1162   \n",
              "1        1003      231767    20913    12219               3476         5970   \n",
              "2        1005       25223    12261     1394                134          237   \n",
              "3        1007       22293     4643      695                 50          339   \n",
              "4        1009       59134     1250     5732                359         1514   \n",
              "...       ...         ...      ...      ...                ...          ...   \n",
              "3215    72145       54414     9043    45016                 22           17   \n",
              "3216    72147        8249     2147     5487                  3           19   \n",
              "3217    72149       22093     3538    18474                  2            5   \n",
              "3218    72151       30426     6124    24147                 11            2   \n",
              "3219    72153       34172     3983    30014                 17            3   \n",
              "\n",
              "      other_pop_20  white_pop_20  STATEFP STATE  \n",
              "0              537         41582        1    AL  \n",
              "1             2694        186495        1    AL  \n",
              "2              111         11086        1    AL  \n",
              "3              124         16442        1    AL  \n",
              "4              515         49764        1    AL  \n",
              "...            ...           ...      ...   ...  \n",
              "3215            37           279       72    PR  \n",
              "3216            60           533       72    PR  \n",
              "3217             9            65       72    PR  \n",
              "3218            27           115       72    PR  \n",
              "3219            19           136       72    PR  \n",
              "\n",
              "[3220 rows x 10 columns]"
            ]
          },
          "execution_count": 45,
          "metadata": {},
          "output_type": "execute_result"
        }
      ],
      "source": [
        "my_dataframe = pd.read_excel(\"../data/county_population.xlsx\", sheet_name=\"US County Population\")\n",
        "my_dataframe"
      ]
    },
    {
      "cell_type": "code",
      "execution_count": null,
      "id": "034b97c7",
      "metadata": {
        "id": "034b97c7",
        "outputId": "82ee91fa-5a45-4439-84db-5e0b13c9a8ae"
      },
      "outputs": [
        {
          "data": {
            "text/html": [
              "<div>\n",
              "<style scoped>\n",
              "    .dataframe tbody tr th:only-of-type {\n",
              "        vertical-align: middle;\n",
              "    }\n",
              "\n",
              "    .dataframe tbody tr th {\n",
              "        vertical-align: top;\n",
              "    }\n",
              "\n",
              "    .dataframe thead th {\n",
              "        text-align: right;\n",
              "    }\n",
              "</style>\n",
              "<table border=\"1\" class=\"dataframe\">\n",
              "  <thead>\n",
              "    <tr style=\"text-align: right;\">\n",
              "      <th></th>\n",
              "      <th>GEOID20</th>\n",
              "      <th>tot_pop_20</th>\n",
              "      <th>bpop_20</th>\n",
              "      <th>hpop_20</th>\n",
              "      <th>asian_nhpi_pop_20</th>\n",
              "      <th>amin_pop_20</th>\n",
              "      <th>other_pop_20</th>\n",
              "      <th>white_pop_20</th>\n",
              "      <th>STATEFP</th>\n",
              "      <th>STATE</th>\n",
              "    </tr>\n",
              "  </thead>\n",
              "  <tbody>\n",
              "    <tr>\n",
              "      <th>0</th>\n",
              "      <td>01001</td>\n",
              "      <td>58805</td>\n",
              "      <td>12266</td>\n",
              "      <td>1960</td>\n",
              "      <td>1298</td>\n",
              "      <td>1162</td>\n",
              "      <td>537</td>\n",
              "      <td>41582</td>\n",
              "      <td>01</td>\n",
              "      <td>AL</td>\n",
              "    </tr>\n",
              "    <tr>\n",
              "      <th>1</th>\n",
              "      <td>01003</td>\n",
              "      <td>231767</td>\n",
              "      <td>20913</td>\n",
              "      <td>12219</td>\n",
              "      <td>3476</td>\n",
              "      <td>5970</td>\n",
              "      <td>2694</td>\n",
              "      <td>186495</td>\n",
              "      <td>01</td>\n",
              "      <td>AL</td>\n",
              "    </tr>\n",
              "    <tr>\n",
              "      <th>2</th>\n",
              "      <td>01005</td>\n",
              "      <td>25223</td>\n",
              "      <td>12261</td>\n",
              "      <td>1394</td>\n",
              "      <td>134</td>\n",
              "      <td>237</td>\n",
              "      <td>111</td>\n",
              "      <td>11086</td>\n",
              "      <td>01</td>\n",
              "      <td>AL</td>\n",
              "    </tr>\n",
              "    <tr>\n",
              "      <th>3</th>\n",
              "      <td>01007</td>\n",
              "      <td>22293</td>\n",
              "      <td>4643</td>\n",
              "      <td>695</td>\n",
              "      <td>50</td>\n",
              "      <td>339</td>\n",
              "      <td>124</td>\n",
              "      <td>16442</td>\n",
              "      <td>01</td>\n",
              "      <td>AL</td>\n",
              "    </tr>\n",
              "    <tr>\n",
              "      <th>4</th>\n",
              "      <td>01009</td>\n",
              "      <td>59134</td>\n",
              "      <td>1250</td>\n",
              "      <td>5732</td>\n",
              "      <td>359</td>\n",
              "      <td>1514</td>\n",
              "      <td>515</td>\n",
              "      <td>49764</td>\n",
              "      <td>01</td>\n",
              "      <td>AL</td>\n",
              "    </tr>\n",
              "    <tr>\n",
              "      <th>...</th>\n",
              "      <td>...</td>\n",
              "      <td>...</td>\n",
              "      <td>...</td>\n",
              "      <td>...</td>\n",
              "      <td>...</td>\n",
              "      <td>...</td>\n",
              "      <td>...</td>\n",
              "      <td>...</td>\n",
              "      <td>...</td>\n",
              "      <td>...</td>\n",
              "    </tr>\n",
              "    <tr>\n",
              "      <th>3215</th>\n",
              "      <td>72145</td>\n",
              "      <td>54414</td>\n",
              "      <td>9043</td>\n",
              "      <td>45016</td>\n",
              "      <td>22</td>\n",
              "      <td>17</td>\n",
              "      <td>37</td>\n",
              "      <td>279</td>\n",
              "      <td>72</td>\n",
              "      <td>PR</td>\n",
              "    </tr>\n",
              "    <tr>\n",
              "      <th>3216</th>\n",
              "      <td>72147</td>\n",
              "      <td>8249</td>\n",
              "      <td>2147</td>\n",
              "      <td>5487</td>\n",
              "      <td>3</td>\n",
              "      <td>19</td>\n",
              "      <td>60</td>\n",
              "      <td>533</td>\n",
              "      <td>72</td>\n",
              "      <td>PR</td>\n",
              "    </tr>\n",
              "    <tr>\n",
              "      <th>3217</th>\n",
              "      <td>72149</td>\n",
              "      <td>22093</td>\n",
              "      <td>3538</td>\n",
              "      <td>18474</td>\n",
              "      <td>2</td>\n",
              "      <td>5</td>\n",
              "      <td>9</td>\n",
              "      <td>65</td>\n",
              "      <td>72</td>\n",
              "      <td>PR</td>\n",
              "    </tr>\n",
              "    <tr>\n",
              "      <th>3218</th>\n",
              "      <td>72151</td>\n",
              "      <td>30426</td>\n",
              "      <td>6124</td>\n",
              "      <td>24147</td>\n",
              "      <td>11</td>\n",
              "      <td>2</td>\n",
              "      <td>27</td>\n",
              "      <td>115</td>\n",
              "      <td>72</td>\n",
              "      <td>PR</td>\n",
              "    </tr>\n",
              "    <tr>\n",
              "      <th>3219</th>\n",
              "      <td>72153</td>\n",
              "      <td>34172</td>\n",
              "      <td>3983</td>\n",
              "      <td>30014</td>\n",
              "      <td>17</td>\n",
              "      <td>3</td>\n",
              "      <td>19</td>\n",
              "      <td>136</td>\n",
              "      <td>72</td>\n",
              "      <td>PR</td>\n",
              "    </tr>\n",
              "  </tbody>\n",
              "</table>\n",
              "<p>3220 rows × 10 columns</p>\n",
              "</div>"
            ],
            "text/plain": [
              "     GEOID20  tot_pop_20  bpop_20  hpop_20  asian_nhpi_pop_20  amin_pop_20  \\\n",
              "0      01001       58805    12266     1960               1298         1162   \n",
              "1      01003      231767    20913    12219               3476         5970   \n",
              "2      01005       25223    12261     1394                134          237   \n",
              "3      01007       22293     4643      695                 50          339   \n",
              "4      01009       59134     1250     5732                359         1514   \n",
              "...      ...         ...      ...      ...                ...          ...   \n",
              "3215   72145       54414     9043    45016                 22           17   \n",
              "3216   72147        8249     2147     5487                  3           19   \n",
              "3217   72149       22093     3538    18474                  2            5   \n",
              "3218   72151       30426     6124    24147                 11            2   \n",
              "3219   72153       34172     3983    30014                 17            3   \n",
              "\n",
              "      other_pop_20  white_pop_20 STATEFP STATE  \n",
              "0              537         41582      01    AL  \n",
              "1             2694        186495      01    AL  \n",
              "2              111         11086      01    AL  \n",
              "3              124         16442      01    AL  \n",
              "4              515         49764      01    AL  \n",
              "...            ...           ...     ...   ...  \n",
              "3215            37           279      72    PR  \n",
              "3216            60           533      72    PR  \n",
              "3217             9            65      72    PR  \n",
              "3218            27           115      72    PR  \n",
              "3219            19           136      72    PR  \n",
              "\n",
              "[3220 rows x 10 columns]"
            ]
          },
          "execution_count": 46,
          "metadata": {},
          "output_type": "execute_result"
        }
      ],
      "source": [
        "my_dataframe = pd.read_parquet(\"../data/county_population.parquet\")\n",
        "my_dataframe"
      ]
    },
    {
      "cell_type": "code",
      "execution_count": null,
      "id": "f600b739",
      "metadata": {
        "id": "f600b739",
        "outputId": "35938d89-24d3-47c5-bbe3-e0020fbea33b"
      },
      "outputs": [
        {
          "data": {
            "text/plain": [
              "0       AL\n",
              "1       AL\n",
              "2       AL\n",
              "3       AL\n",
              "4       AL\n",
              "        ..\n",
              "3215    PR\n",
              "3216    PR\n",
              "3217    PR\n",
              "3218    PR\n",
              "3219    PR\n",
              "Name: STATE, Length: 3220, dtype: object"
            ]
          },
          "execution_count": 47,
          "metadata": {},
          "output_type": "execute_result"
        }
      ],
      "source": [
        "my_dataframe[\"STATE\"]"
      ]
    },
    {
      "cell_type": "code",
      "execution_count": null,
      "id": "78be10ec",
      "metadata": {
        "id": "78be10ec",
        "outputId": "aadaac12-d9ec-44af-c073-1824cf0842d6"
      },
      "outputs": [
        {
          "data": {
            "text/html": [
              "<div>\n",
              "<style scoped>\n",
              "    .dataframe tbody tr th:only-of-type {\n",
              "        vertical-align: middle;\n",
              "    }\n",
              "\n",
              "    .dataframe tbody tr th {\n",
              "        vertical-align: top;\n",
              "    }\n",
              "\n",
              "    .dataframe thead th {\n",
              "        text-align: right;\n",
              "    }\n",
              "</style>\n",
              "<table border=\"1\" class=\"dataframe\">\n",
              "  <thead>\n",
              "    <tr style=\"text-align: right;\">\n",
              "      <th></th>\n",
              "      <th>GEOID20</th>\n",
              "      <th>tot_pop_20</th>\n",
              "      <th>bpop_20</th>\n",
              "      <th>hpop_20</th>\n",
              "      <th>asian_nhpi_pop_20</th>\n",
              "      <th>amin_pop_20</th>\n",
              "      <th>other_pop_20</th>\n",
              "      <th>white_pop_20</th>\n",
              "      <th>STATEFP</th>\n",
              "      <th>STATE</th>\n",
              "    </tr>\n",
              "  </thead>\n",
              "  <tbody>\n",
              "    <tr>\n",
              "      <th>1828</th>\n",
              "      <td>36001</td>\n",
              "      <td>314848</td>\n",
              "      <td>51493</td>\n",
              "      <td>17035</td>\n",
              "      <td>27292</td>\n",
              "      <td>3304</td>\n",
              "      <td>4829</td>\n",
              "      <td>210895</td>\n",
              "      <td>36</td>\n",
              "      <td>NY</td>\n",
              "    </tr>\n",
              "    <tr>\n",
              "      <th>1829</th>\n",
              "      <td>36003</td>\n",
              "      <td>46456</td>\n",
              "      <td>1147</td>\n",
              "      <td>914</td>\n",
              "      <td>590</td>\n",
              "      <td>775</td>\n",
              "      <td>703</td>\n",
              "      <td>42327</td>\n",
              "      <td>36</td>\n",
              "      <td>NY</td>\n",
              "    </tr>\n",
              "    <tr>\n",
              "      <th>1830</th>\n",
              "      <td>36005</td>\n",
              "      <td>1472654</td>\n",
              "      <td>580689</td>\n",
              "      <td>664646</td>\n",
              "      <td>74587</td>\n",
              "      <td>3956</td>\n",
              "      <td>17980</td>\n",
              "      <td>130796</td>\n",
              "      <td>36</td>\n",
              "      <td>NY</td>\n",
              "    </tr>\n",
              "    <tr>\n",
              "      <th>1831</th>\n",
              "      <td>36007</td>\n",
              "      <td>198683</td>\n",
              "      <td>17393</td>\n",
              "      <td>8191</td>\n",
              "      <td>10746</td>\n",
              "      <td>2957</td>\n",
              "      <td>3223</td>\n",
              "      <td>156173</td>\n",
              "      <td>36</td>\n",
              "      <td>NY</td>\n",
              "    </tr>\n",
              "    <tr>\n",
              "      <th>1832</th>\n",
              "      <td>36009</td>\n",
              "      <td>77042</td>\n",
              "      <td>1955</td>\n",
              "      <td>1465</td>\n",
              "      <td>805</td>\n",
              "      <td>4181</td>\n",
              "      <td>1082</td>\n",
              "      <td>67554</td>\n",
              "      <td>36</td>\n",
              "      <td>NY</td>\n",
              "    </tr>\n",
              "    <tr>\n",
              "      <th>...</th>\n",
              "      <td>...</td>\n",
              "      <td>...</td>\n",
              "      <td>...</td>\n",
              "      <td>...</td>\n",
              "      <td>...</td>\n",
              "      <td>...</td>\n",
              "      <td>...</td>\n",
              "      <td>...</td>\n",
              "      <td>...</td>\n",
              "      <td>...</td>\n",
              "    </tr>\n",
              "    <tr>\n",
              "      <th>1885</th>\n",
              "      <td>36115</td>\n",
              "      <td>61302</td>\n",
              "      <td>2196</td>\n",
              "      <td>1551</td>\n",
              "      <td>505</td>\n",
              "      <td>1358</td>\n",
              "      <td>1087</td>\n",
              "      <td>54605</td>\n",
              "      <td>36</td>\n",
              "      <td>NY</td>\n",
              "    </tr>\n",
              "    <tr>\n",
              "      <th>1886</th>\n",
              "      <td>36117</td>\n",
              "      <td>91283</td>\n",
              "      <td>4194</td>\n",
              "      <td>4100</td>\n",
              "      <td>799</td>\n",
              "      <td>1562</td>\n",
              "      <td>1398</td>\n",
              "      <td>79230</td>\n",
              "      <td>36</td>\n",
              "      <td>NY</td>\n",
              "    </tr>\n",
              "    <tr>\n",
              "      <th>1887</th>\n",
              "      <td>36119</td>\n",
              "      <td>1004457</td>\n",
              "      <td>166162</td>\n",
              "      <td>245884</td>\n",
              "      <td>75085</td>\n",
              "      <td>2851</td>\n",
              "      <td>16791</td>\n",
              "      <td>497684</td>\n",
              "      <td>36</td>\n",
              "      <td>NY</td>\n",
              "    </tr>\n",
              "    <tr>\n",
              "      <th>1888</th>\n",
              "      <td>36121</td>\n",
              "      <td>40531</td>\n",
              "      <td>2219</td>\n",
              "      <td>1287</td>\n",
              "      <td>337</td>\n",
              "      <td>605</td>\n",
              "      <td>504</td>\n",
              "      <td>35579</td>\n",
              "      <td>36</td>\n",
              "      <td>NY</td>\n",
              "    </tr>\n",
              "    <tr>\n",
              "      <th>1889</th>\n",
              "      <td>36123</td>\n",
              "      <td>24774</td>\n",
              "      <td>333</td>\n",
              "      <td>625</td>\n",
              "      <td>155</td>\n",
              "      <td>362</td>\n",
              "      <td>250</td>\n",
              "      <td>23049</td>\n",
              "      <td>36</td>\n",
              "      <td>NY</td>\n",
              "    </tr>\n",
              "  </tbody>\n",
              "</table>\n",
              "<p>62 rows × 10 columns</p>\n",
              "</div>"
            ],
            "text/plain": [
              "     GEOID20  tot_pop_20  bpop_20  hpop_20  asian_nhpi_pop_20  amin_pop_20  \\\n",
              "1828   36001      314848    51493    17035              27292         3304   \n",
              "1829   36003       46456     1147      914                590          775   \n",
              "1830   36005     1472654   580689   664646              74587         3956   \n",
              "1831   36007      198683    17393     8191              10746         2957   \n",
              "1832   36009       77042     1955     1465                805         4181   \n",
              "...      ...         ...      ...      ...                ...          ...   \n",
              "1885   36115       61302     2196     1551                505         1358   \n",
              "1886   36117       91283     4194     4100                799         1562   \n",
              "1887   36119     1004457   166162   245884              75085         2851   \n",
              "1888   36121       40531     2219     1287                337          605   \n",
              "1889   36123       24774      333      625                155          362   \n",
              "\n",
              "      other_pop_20  white_pop_20 STATEFP STATE  \n",
              "1828          4829        210895      36    NY  \n",
              "1829           703         42327      36    NY  \n",
              "1830         17980        130796      36    NY  \n",
              "1831          3223        156173      36    NY  \n",
              "1832          1082         67554      36    NY  \n",
              "...            ...           ...     ...   ...  \n",
              "1885          1087         54605      36    NY  \n",
              "1886          1398         79230      36    NY  \n",
              "1887         16791        497684      36    NY  \n",
              "1888           504         35579      36    NY  \n",
              "1889           250         23049      36    NY  \n",
              "\n",
              "[62 rows x 10 columns]"
            ]
          },
          "execution_count": 48,
          "metadata": {},
          "output_type": "execute_result"
        }
      ],
      "source": [
        "# If you have ever worked with a database, this might look familiar.\n",
        "my_dataframe.query(\"STATE == 'NY'\")"
      ]
    },
    {
      "cell_type": "code",
      "execution_count": null,
      "id": "3bb23e6a",
      "metadata": {
        "id": "3bb23e6a",
        "outputId": "76cb3a9c-f0a5-41f0-d0c0-2c9757214d41"
      },
      "outputs": [
        {
          "data": {
            "text/html": [
              "<div>\n",
              "<style scoped>\n",
              "    .dataframe tbody tr th:only-of-type {\n",
              "        vertical-align: middle;\n",
              "    }\n",
              "\n",
              "    .dataframe tbody tr th {\n",
              "        vertical-align: top;\n",
              "    }\n",
              "\n",
              "    .dataframe thead th {\n",
              "        text-align: right;\n",
              "    }\n",
              "</style>\n",
              "<table border=\"1\" class=\"dataframe\">\n",
              "  <thead>\n",
              "    <tr style=\"text-align: right;\">\n",
              "      <th></th>\n",
              "      <th>GEOID20</th>\n",
              "      <th>tot_pop_20</th>\n",
              "      <th>bpop_20</th>\n",
              "      <th>hpop_20</th>\n",
              "      <th>asian_nhpi_pop_20</th>\n",
              "      <th>amin_pop_20</th>\n",
              "      <th>other_pop_20</th>\n",
              "      <th>white_pop_20</th>\n",
              "      <th>STATEFP</th>\n",
              "      <th>STATE</th>\n",
              "    </tr>\n",
              "  </thead>\n",
              "  <tbody>\n",
              "    <tr>\n",
              "      <th>1828</th>\n",
              "      <td>36001</td>\n",
              "      <td>314848</td>\n",
              "      <td>51493</td>\n",
              "      <td>17035</td>\n",
              "      <td>27292</td>\n",
              "      <td>3304</td>\n",
              "      <td>4829</td>\n",
              "      <td>210895</td>\n",
              "      <td>36</td>\n",
              "      <td>NY</td>\n",
              "    </tr>\n",
              "    <tr>\n",
              "      <th>1829</th>\n",
              "      <td>36003</td>\n",
              "      <td>46456</td>\n",
              "      <td>1147</td>\n",
              "      <td>914</td>\n",
              "      <td>590</td>\n",
              "      <td>775</td>\n",
              "      <td>703</td>\n",
              "      <td>42327</td>\n",
              "      <td>36</td>\n",
              "      <td>NY</td>\n",
              "    </tr>\n",
              "    <tr>\n",
              "      <th>1830</th>\n",
              "      <td>36005</td>\n",
              "      <td>1472654</td>\n",
              "      <td>580689</td>\n",
              "      <td>664646</td>\n",
              "      <td>74587</td>\n",
              "      <td>3956</td>\n",
              "      <td>17980</td>\n",
              "      <td>130796</td>\n",
              "      <td>36</td>\n",
              "      <td>NY</td>\n",
              "    </tr>\n",
              "    <tr>\n",
              "      <th>1831</th>\n",
              "      <td>36007</td>\n",
              "      <td>198683</td>\n",
              "      <td>17393</td>\n",
              "      <td>8191</td>\n",
              "      <td>10746</td>\n",
              "      <td>2957</td>\n",
              "      <td>3223</td>\n",
              "      <td>156173</td>\n",
              "      <td>36</td>\n",
              "      <td>NY</td>\n",
              "    </tr>\n",
              "    <tr>\n",
              "      <th>1832</th>\n",
              "      <td>36009</td>\n",
              "      <td>77042</td>\n",
              "      <td>1955</td>\n",
              "      <td>1465</td>\n",
              "      <td>805</td>\n",
              "      <td>4181</td>\n",
              "      <td>1082</td>\n",
              "      <td>67554</td>\n",
              "      <td>36</td>\n",
              "      <td>NY</td>\n",
              "    </tr>\n",
              "    <tr>\n",
              "      <th>...</th>\n",
              "      <td>...</td>\n",
              "      <td>...</td>\n",
              "      <td>...</td>\n",
              "      <td>...</td>\n",
              "      <td>...</td>\n",
              "      <td>...</td>\n",
              "      <td>...</td>\n",
              "      <td>...</td>\n",
              "      <td>...</td>\n",
              "      <td>...</td>\n",
              "    </tr>\n",
              "    <tr>\n",
              "      <th>1885</th>\n",
              "      <td>36115</td>\n",
              "      <td>61302</td>\n",
              "      <td>2196</td>\n",
              "      <td>1551</td>\n",
              "      <td>505</td>\n",
              "      <td>1358</td>\n",
              "      <td>1087</td>\n",
              "      <td>54605</td>\n",
              "      <td>36</td>\n",
              "      <td>NY</td>\n",
              "    </tr>\n",
              "    <tr>\n",
              "      <th>1886</th>\n",
              "      <td>36117</td>\n",
              "      <td>91283</td>\n",
              "      <td>4194</td>\n",
              "      <td>4100</td>\n",
              "      <td>799</td>\n",
              "      <td>1562</td>\n",
              "      <td>1398</td>\n",
              "      <td>79230</td>\n",
              "      <td>36</td>\n",
              "      <td>NY</td>\n",
              "    </tr>\n",
              "    <tr>\n",
              "      <th>1887</th>\n",
              "      <td>36119</td>\n",
              "      <td>1004457</td>\n",
              "      <td>166162</td>\n",
              "      <td>245884</td>\n",
              "      <td>75085</td>\n",
              "      <td>2851</td>\n",
              "      <td>16791</td>\n",
              "      <td>497684</td>\n",
              "      <td>36</td>\n",
              "      <td>NY</td>\n",
              "    </tr>\n",
              "    <tr>\n",
              "      <th>1888</th>\n",
              "      <td>36121</td>\n",
              "      <td>40531</td>\n",
              "      <td>2219</td>\n",
              "      <td>1287</td>\n",
              "      <td>337</td>\n",
              "      <td>605</td>\n",
              "      <td>504</td>\n",
              "      <td>35579</td>\n",
              "      <td>36</td>\n",
              "      <td>NY</td>\n",
              "    </tr>\n",
              "    <tr>\n",
              "      <th>1889</th>\n",
              "      <td>36123</td>\n",
              "      <td>24774</td>\n",
              "      <td>333</td>\n",
              "      <td>625</td>\n",
              "      <td>155</td>\n",
              "      <td>362</td>\n",
              "      <td>250</td>\n",
              "      <td>23049</td>\n",
              "      <td>36</td>\n",
              "      <td>NY</td>\n",
              "    </tr>\n",
              "  </tbody>\n",
              "</table>\n",
              "<p>62 rows × 10 columns</p>\n",
              "</div>"
            ],
            "text/plain": [
              "     GEOID20  tot_pop_20  bpop_20  hpop_20  asian_nhpi_pop_20  amin_pop_20  \\\n",
              "1828   36001      314848    51493    17035              27292         3304   \n",
              "1829   36003       46456     1147      914                590          775   \n",
              "1830   36005     1472654   580689   664646              74587         3956   \n",
              "1831   36007      198683    17393     8191              10746         2957   \n",
              "1832   36009       77042     1955     1465                805         4181   \n",
              "...      ...         ...      ...      ...                ...          ...   \n",
              "1885   36115       61302     2196     1551                505         1358   \n",
              "1886   36117       91283     4194     4100                799         1562   \n",
              "1887   36119     1004457   166162   245884              75085         2851   \n",
              "1888   36121       40531     2219     1287                337          605   \n",
              "1889   36123       24774      333      625                155          362   \n",
              "\n",
              "      other_pop_20  white_pop_20 STATEFP STATE  \n",
              "1828          4829        210895      36    NY  \n",
              "1829           703         42327      36    NY  \n",
              "1830         17980        130796      36    NY  \n",
              "1831          3223        156173      36    NY  \n",
              "1832          1082         67554      36    NY  \n",
              "...            ...           ...     ...   ...  \n",
              "1885          1087         54605      36    NY  \n",
              "1886          1398         79230      36    NY  \n",
              "1887         16791        497684      36    NY  \n",
              "1888           504         35579      36    NY  \n",
              "1889           250         23049      36    NY  \n",
              "\n",
              "[62 rows x 10 columns]"
            ]
          },
          "execution_count": 49,
          "metadata": {},
          "output_type": "execute_result"
        }
      ],
      "source": [
        "my_dataframe[my_dataframe[\"STATE\"] == \"NY\"]"
      ]
    },
    {
      "cell_type": "code",
      "execution_count": null,
      "id": "b07ac88b",
      "metadata": {
        "id": "b07ac88b",
        "outputId": "704628dd-f97c-4261-83dd-d72d8b606eca"
      },
      "outputs": [
        {
          "data": {
            "text/html": [
              "<div>\n",
              "<style scoped>\n",
              "    .dataframe tbody tr th:only-of-type {\n",
              "        vertical-align: middle;\n",
              "    }\n",
              "\n",
              "    .dataframe tbody tr th {\n",
              "        vertical-align: top;\n",
              "    }\n",
              "\n",
              "    .dataframe thead th {\n",
              "        text-align: right;\n",
              "    }\n",
              "</style>\n",
              "<table border=\"1\" class=\"dataframe\">\n",
              "  <thead>\n",
              "    <tr style=\"text-align: right;\">\n",
              "      <th></th>\n",
              "      <th>GEOID20</th>\n",
              "      <th>tot_pop_20</th>\n",
              "      <th>bpop_20</th>\n",
              "      <th>hpop_20</th>\n",
              "      <th>asian_nhpi_pop_20</th>\n",
              "      <th>amin_pop_20</th>\n",
              "      <th>other_pop_20</th>\n",
              "      <th>white_pop_20</th>\n",
              "      <th>STATEFP</th>\n",
              "      <th>STATE</th>\n",
              "    </tr>\n",
              "  </thead>\n",
              "  <tbody>\n",
              "    <tr>\n",
              "      <th>1830</th>\n",
              "      <td>36005</td>\n",
              "      <td>1472654</td>\n",
              "      <td>580689</td>\n",
              "      <td>664646</td>\n",
              "      <td>74587</td>\n",
              "      <td>3956</td>\n",
              "      <td>17980</td>\n",
              "      <td>130796</td>\n",
              "      <td>36</td>\n",
              "      <td>NY</td>\n",
              "    </tr>\n",
              "    <tr>\n",
              "      <th>1842</th>\n",
              "      <td>36029</td>\n",
              "      <td>954236</td>\n",
              "      <td>151856</td>\n",
              "      <td>50907</td>\n",
              "      <td>52472</td>\n",
              "      <td>11424</td>\n",
              "      <td>9341</td>\n",
              "      <td>678236</td>\n",
              "      <td>36</td>\n",
              "      <td>NY</td>\n",
              "    </tr>\n",
              "    <tr>\n",
              "      <th>1851</th>\n",
              "      <td>36047</td>\n",
              "      <td>2736074</td>\n",
              "      <td>874009</td>\n",
              "      <td>432653</td>\n",
              "      <td>408299</td>\n",
              "      <td>7299</td>\n",
              "      <td>45387</td>\n",
              "      <td>968427</td>\n",
              "      <td>36</td>\n",
              "      <td>NY</td>\n",
              "    </tr>\n",
              "    <tr>\n",
              "      <th>1855</th>\n",
              "      <td>36055</td>\n",
              "      <td>759443</td>\n",
              "      <td>137530</td>\n",
              "      <td>60936</td>\n",
              "      <td>38570</td>\n",
              "      <td>7040</td>\n",
              "      <td>9214</td>\n",
              "      <td>506153</td>\n",
              "      <td>36</td>\n",
              "      <td>NY</td>\n",
              "    </tr>\n",
              "    <tr>\n",
              "      <th>1857</th>\n",
              "      <td>36059</td>\n",
              "      <td>1395774</td>\n",
              "      <td>175649</td>\n",
              "      <td>241413</td>\n",
              "      <td>176009</td>\n",
              "      <td>4102</td>\n",
              "      <td>19147</td>\n",
              "      <td>779454</td>\n",
              "      <td>36</td>\n",
              "      <td>NY</td>\n",
              "    </tr>\n",
              "    <tr>\n",
              "      <th>1858</th>\n",
              "      <td>36061</td>\n",
              "      <td>1694251</td>\n",
              "      <td>285271</td>\n",
              "      <td>338271</td>\n",
              "      <td>246939</td>\n",
              "      <td>5049</td>\n",
              "      <td>25427</td>\n",
              "      <td>793294</td>\n",
              "      <td>36</td>\n",
              "      <td>NY</td>\n",
              "    </tr>\n",
              "    <tr>\n",
              "      <th>1868</th>\n",
              "      <td>36081</td>\n",
              "      <td>2405464</td>\n",
              "      <td>471487</td>\n",
              "      <td>617149</td>\n",
              "      <td>691071</td>\n",
              "      <td>12803</td>\n",
              "      <td>63596</td>\n",
              "      <td>549358</td>\n",
              "      <td>36</td>\n",
              "      <td>NY</td>\n",
              "    </tr>\n",
              "    <tr>\n",
              "      <th>1879</th>\n",
              "      <td>36103</td>\n",
              "      <td>1525920</td>\n",
              "      <td>140589</td>\n",
              "      <td>315750</td>\n",
              "      <td>75414</td>\n",
              "      <td>7968</td>\n",
              "      <td>18869</td>\n",
              "      <td>967330</td>\n",
              "      <td>36</td>\n",
              "      <td>NY</td>\n",
              "    </tr>\n",
              "    <tr>\n",
              "      <th>1887</th>\n",
              "      <td>36119</td>\n",
              "      <td>1004457</td>\n",
              "      <td>166162</td>\n",
              "      <td>245884</td>\n",
              "      <td>75085</td>\n",
              "      <td>2851</td>\n",
              "      <td>16791</td>\n",
              "      <td>497684</td>\n",
              "      <td>36</td>\n",
              "      <td>NY</td>\n",
              "    </tr>\n",
              "  </tbody>\n",
              "</table>\n",
              "</div>"
            ],
            "text/plain": [
              "     GEOID20  tot_pop_20  bpop_20  hpop_20  asian_nhpi_pop_20  amin_pop_20  \\\n",
              "1830   36005     1472654   580689   664646              74587         3956   \n",
              "1842   36029      954236   151856    50907              52472        11424   \n",
              "1851   36047     2736074   874009   432653             408299         7299   \n",
              "1855   36055      759443   137530    60936              38570         7040   \n",
              "1857   36059     1395774   175649   241413             176009         4102   \n",
              "1858   36061     1694251   285271   338271             246939         5049   \n",
              "1868   36081     2405464   471487   617149             691071        12803   \n",
              "1879   36103     1525920   140589   315750              75414         7968   \n",
              "1887   36119     1004457   166162   245884              75085         2851   \n",
              "\n",
              "      other_pop_20  white_pop_20 STATEFP STATE  \n",
              "1830         17980        130796      36    NY  \n",
              "1842          9341        678236      36    NY  \n",
              "1851         45387        968427      36    NY  \n",
              "1855          9214        506153      36    NY  \n",
              "1857         19147        779454      36    NY  \n",
              "1858         25427        793294      36    NY  \n",
              "1868         63596        549358      36    NY  \n",
              "1879         18869        967330      36    NY  \n",
              "1887         16791        497684      36    NY  "
            ]
          },
          "execution_count": 50,
          "metadata": {},
          "output_type": "execute_result"
        }
      ],
      "source": [
        "my_dataframe.query(\"STATE == 'NY' and bpop_20 > 100000\")"
      ]
    },
    {
      "cell_type": "code",
      "execution_count": null,
      "id": "b3aa76d3",
      "metadata": {
        "id": "b3aa76d3",
        "outputId": "a30ad3eb-5499-432c-935e-44fad9658a43"
      },
      "outputs": [
        {
          "data": {
            "text/html": [
              "<div>\n",
              "<style scoped>\n",
              "    .dataframe tbody tr th:only-of-type {\n",
              "        vertical-align: middle;\n",
              "    }\n",
              "\n",
              "    .dataframe tbody tr th {\n",
              "        vertical-align: top;\n",
              "    }\n",
              "\n",
              "    .dataframe thead th {\n",
              "        text-align: right;\n",
              "    }\n",
              "</style>\n",
              "<table border=\"1\" class=\"dataframe\">\n",
              "  <thead>\n",
              "    <tr style=\"text-align: right;\">\n",
              "      <th></th>\n",
              "      <th>GEOID20</th>\n",
              "      <th>tot_pop_20</th>\n",
              "      <th>bpop_20</th>\n",
              "      <th>hpop_20</th>\n",
              "      <th>asian_nhpi_pop_20</th>\n",
              "      <th>amin_pop_20</th>\n",
              "      <th>other_pop_20</th>\n",
              "      <th>white_pop_20</th>\n",
              "      <th>STATEFP</th>\n",
              "      <th>STATE</th>\n",
              "    </tr>\n",
              "  </thead>\n",
              "  <tbody>\n",
              "    <tr>\n",
              "      <th>1830</th>\n",
              "      <td>36005</td>\n",
              "      <td>1472654</td>\n",
              "      <td>580689</td>\n",
              "      <td>664646</td>\n",
              "      <td>74587</td>\n",
              "      <td>3956</td>\n",
              "      <td>17980</td>\n",
              "      <td>130796</td>\n",
              "      <td>36</td>\n",
              "      <td>NY</td>\n",
              "    </tr>\n",
              "    <tr>\n",
              "      <th>1842</th>\n",
              "      <td>36029</td>\n",
              "      <td>954236</td>\n",
              "      <td>151856</td>\n",
              "      <td>50907</td>\n",
              "      <td>52472</td>\n",
              "      <td>11424</td>\n",
              "      <td>9341</td>\n",
              "      <td>678236</td>\n",
              "      <td>36</td>\n",
              "      <td>NY</td>\n",
              "    </tr>\n",
              "    <tr>\n",
              "      <th>1851</th>\n",
              "      <td>36047</td>\n",
              "      <td>2736074</td>\n",
              "      <td>874009</td>\n",
              "      <td>432653</td>\n",
              "      <td>408299</td>\n",
              "      <td>7299</td>\n",
              "      <td>45387</td>\n",
              "      <td>968427</td>\n",
              "      <td>36</td>\n",
              "      <td>NY</td>\n",
              "    </tr>\n",
              "    <tr>\n",
              "      <th>1855</th>\n",
              "      <td>36055</td>\n",
              "      <td>759443</td>\n",
              "      <td>137530</td>\n",
              "      <td>60936</td>\n",
              "      <td>38570</td>\n",
              "      <td>7040</td>\n",
              "      <td>9214</td>\n",
              "      <td>506153</td>\n",
              "      <td>36</td>\n",
              "      <td>NY</td>\n",
              "    </tr>\n",
              "    <tr>\n",
              "      <th>1857</th>\n",
              "      <td>36059</td>\n",
              "      <td>1395774</td>\n",
              "      <td>175649</td>\n",
              "      <td>241413</td>\n",
              "      <td>176009</td>\n",
              "      <td>4102</td>\n",
              "      <td>19147</td>\n",
              "      <td>779454</td>\n",
              "      <td>36</td>\n",
              "      <td>NY</td>\n",
              "    </tr>\n",
              "    <tr>\n",
              "      <th>1858</th>\n",
              "      <td>36061</td>\n",
              "      <td>1694251</td>\n",
              "      <td>285271</td>\n",
              "      <td>338271</td>\n",
              "      <td>246939</td>\n",
              "      <td>5049</td>\n",
              "      <td>25427</td>\n",
              "      <td>793294</td>\n",
              "      <td>36</td>\n",
              "      <td>NY</td>\n",
              "    </tr>\n",
              "    <tr>\n",
              "      <th>1868</th>\n",
              "      <td>36081</td>\n",
              "      <td>2405464</td>\n",
              "      <td>471487</td>\n",
              "      <td>617149</td>\n",
              "      <td>691071</td>\n",
              "      <td>12803</td>\n",
              "      <td>63596</td>\n",
              "      <td>549358</td>\n",
              "      <td>36</td>\n",
              "      <td>NY</td>\n",
              "    </tr>\n",
              "    <tr>\n",
              "      <th>1879</th>\n",
              "      <td>36103</td>\n",
              "      <td>1525920</td>\n",
              "      <td>140589</td>\n",
              "      <td>315750</td>\n",
              "      <td>75414</td>\n",
              "      <td>7968</td>\n",
              "      <td>18869</td>\n",
              "      <td>967330</td>\n",
              "      <td>36</td>\n",
              "      <td>NY</td>\n",
              "    </tr>\n",
              "    <tr>\n",
              "      <th>1887</th>\n",
              "      <td>36119</td>\n",
              "      <td>1004457</td>\n",
              "      <td>166162</td>\n",
              "      <td>245884</td>\n",
              "      <td>75085</td>\n",
              "      <td>2851</td>\n",
              "      <td>16791</td>\n",
              "      <td>497684</td>\n",
              "      <td>36</td>\n",
              "      <td>NY</td>\n",
              "    </tr>\n",
              "  </tbody>\n",
              "</table>\n",
              "</div>"
            ],
            "text/plain": [
              "     GEOID20  tot_pop_20  bpop_20  hpop_20  asian_nhpi_pop_20  amin_pop_20  \\\n",
              "1830   36005     1472654   580689   664646              74587         3956   \n",
              "1842   36029      954236   151856    50907              52472        11424   \n",
              "1851   36047     2736074   874009   432653             408299         7299   \n",
              "1855   36055      759443   137530    60936              38570         7040   \n",
              "1857   36059     1395774   175649   241413             176009         4102   \n",
              "1858   36061     1694251   285271   338271             246939         5049   \n",
              "1868   36081     2405464   471487   617149             691071        12803   \n",
              "1879   36103     1525920   140589   315750              75414         7968   \n",
              "1887   36119     1004457   166162   245884              75085         2851   \n",
              "\n",
              "      other_pop_20  white_pop_20 STATEFP STATE  \n",
              "1830         17980        130796      36    NY  \n",
              "1842          9341        678236      36    NY  \n",
              "1851         45387        968427      36    NY  \n",
              "1855          9214        506153      36    NY  \n",
              "1857         19147        779454      36    NY  \n",
              "1858         25427        793294      36    NY  \n",
              "1868         63596        549358      36    NY  \n",
              "1879         18869        967330      36    NY  \n",
              "1887         16791        497684      36    NY  "
            ]
          },
          "execution_count": 51,
          "metadata": {},
          "output_type": "execute_result"
        }
      ],
      "source": [
        "# This uses the boolean operator '&' to combine two conditions\n",
        "my_dataframe[(my_dataframe[\"STATE\"] == \"NY\") & (my_dataframe[\"bpop_20\"] > 100000)]"
      ]
    },
    {
      "cell_type": "code",
      "execution_count": null,
      "id": "62f094f5",
      "metadata": {
        "id": "62f094f5"
      },
      "outputs": [],
      "source": []
    }
  ],
  "metadata": {
    "kernelspec": {
      "display_name": ".venv",
      "language": "python",
      "name": "python3"
    },
    "language_info": {
      "codemirror_mode": {
        "name": "ipython",
        "version": 3
      },
      "file_extension": ".py",
      "mimetype": "text/x-python",
      "name": "python",
      "nbconvert_exporter": "python",
      "pygments_lexer": "ipython3",
      "version": "3.13.3"
    },
    "colab": {
      "provenance": [],
      "include_colab_link": true
    }
  },
  "nbformat": 4,
  "nbformat_minor": 5
}