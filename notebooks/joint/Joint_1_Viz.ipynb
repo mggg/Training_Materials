{
  "cells": [
    {
      "cell_type": "markdown",
      "metadata": {
        "colab_type": "text",
        "id": "view-in-github"
      },
      "source": [
        "<a href=\"https://colab.research.google.com/github/mggg/Training_Materials/blob/main/notebooks/joint/Joint_1_Viz.ipynb\" target=\"_parent\"><img src=\"https://colab.research.google.com/assets/colab-badge.svg\" alt=\"Open In Colab\"/></a>"
      ]
    },
    {
      "cell_type": "code",
      "execution_count": null,
      "id": "crEbX7ZYoOVF",
      "metadata": {
        "id": "crEbX7ZYoOVF"
      },
      "outputs": [],
      "source": [
        "!pip install votekit"
      ]
    },
    {
      "cell_type": "code",
      "execution_count": null,
      "id": "8e44b7e7",
      "metadata": {
        "id": "8e44b7e7"
      },
      "outputs": [],
      "source": [
        "import pandas as pd\n",
        "import matplotlib.pyplot as plt\n",
        "from urllib.request import urlopen\n",
        "from votekit import PreferenceProfile\n",
        "import pickle\n",
        "from votekit.plots import profile_mentions_plot, multi_bar_plot, profile_ballot_lengths_plot\n",
        "from votekit.elections import STV\n",
        "from votekit.utils import first_place_votes, mentions\n",
        "from votekit.graphs import PairwiseComparisonGraph\n",
        "from votekit.matrices import matrix_heatmap, boost_matrix, candidate_distance_matrix, comentions_matrix\n",
        "from io import BytesIO\n",
        "import geopandas as gpd"
      ]
    },
    {
      "cell_type": "markdown",
      "id": "cY9rsbXqqghk",
      "metadata": {
        "id": "cY9rsbXqqghk"
      },
      "source": [
        "# Plotting in Votekit\n",
        "\n",
        "We have added a plethora of new plotting functions into votekit that should\n",
        "make it much easier for you all to generate useful figures for reports and\n",
        "internal analysis.\n",
        "\n",
        "You will notice that there is very little in the way of narrative throughout\n",
        "this notebook, and that is because this notebook is designed with\n",
        "experimentation in mind so we will be giving you some of the basic functions\n",
        "for making different plots, and then you will be asked to play around\n",
        "with the formatting and parameters so you can see what is possible."
      ]
    },
    {
      "cell_type": "markdown",
      "id": "3YGqDuT6oSkU",
      "metadata": {
        "id": "3YGqDuT6oSkU"
      },
      "source": [
        "### First, we are going to load our data really quick"
      ]
    },
    {
      "cell_type": "code",
      "execution_count": null,
      "id": "1d97454a",
      "metadata": {
        "id": "1d97454a"
      },
      "outputs": [],
      "source": [
        "with urlopen('https://github.com/mggg/Training_Materials_25/raw/refs/heads/main/data/Portland_D1_cleaned_votekit_pref_profile.pkl') as response:\n",
        "    profile = pickle.load(response)"
      ]
    },
    {
      "cell_type": "code",
      "execution_count": null,
      "id": "a771e7c8",
      "metadata": {
        "id": "a771e7c8"
      },
      "outputs": [],
      "source": [
        "profile"
      ]
    },
    {
      "cell_type": "code",
      "execution_count": null,
      "id": "ba084818",
      "metadata": {
        "id": "ba084818"
      },
      "outputs": [],
      "source": [
        "with urlopen('https://github.com/mggg/Training_Materials_25/raw/refs/heads/main/data/visualization/Portland_election_for_visualization.pkl') as response:\n",
        "    election = pickle.load(response)"
      ]
    },
    {
      "cell_type": "code",
      "execution_count": null,
      "id": "0a0a3229",
      "metadata": {
        "id": "0a0a3229"
      },
      "outputs": [],
      "source": [
        "election"
      ]
    },
    {
      "cell_type": "markdown",
      "id": "hhzcujJUoXCJ",
      "metadata": {
        "id": "hhzcujJUoXCJ"
      },
      "source": [
        "# Histograms"
      ]
    },
    {
      "cell_type": "code",
      "execution_count": null,
      "id": "2c85e8a5",
      "metadata": {
        "id": "2c85e8a5"
      },
      "outputs": [],
      "source": [
        "profile_mentions_plot(\n",
        "    profile,\n",
        "    threshold_values=election.threshold,\n",
        "    threshold_kwds={\n",
        "        \"label\": f\"Threshold: {election.threshold:,}\",\n",
        "        \"color\":\"black\",\n",
        "        \"linestyle\": \"--\"\n",
        "    },\n",
        "    show_profile_legend=True\n",
        ")"
      ]
    },
    {
      "cell_type": "markdown",
      "id": "af8f4cd7",
      "metadata": {
        "id": "af8f4cd7"
      },
      "source": [
        "### Try it yourself!\n",
        "\n",
        "Your task is to do each of the following (preferably in order and with only one modification):\n",
        "\n",
        "1. Edit the axis names\n",
        "2. Try normalizing the data\n",
        "3. Change the color of the bars\n",
        "4. Change the width of the bars\n",
        "5. Change the order of the bars\n",
        "6. Try relabeling the candidates with integers\n",
        "7. Change the legend font size\n",
        "8. Play around with the legend location\n",
        "\n",
        "Parameters for `profile_mentions_plot`:\n",
        "\n",
        "- `profile` (PreferenceProfile): Profile to plot statistics for.\n",
        "- `profile_label` (str, optional): Label for profile. Defaults to \"Profile\".\n",
        "- `mentions_kwds` (dict[str, Any], optional): Keyword arguments to pass to\n",
        "    ``mentions``. Defaults to None, in which case default values for ``mentions``\n",
        "    are used.\n",
        "- `normalize` (bool, optional): Whether or not to normalize data. Defaults to False.\n",
        "- `profile_color` (str, optional): Color to plot. Defaults to the first color from\n",
        "    ``COLOR_LIST`` from ``utils`` module.\n",
        "- `bar_width` (float, optional): Width of bars. Defaults to None which computes the bar width\n",
        "    as 0.7 divided by the number of data sets. Must be in the interval `(0,1]`.\n",
        "- `candidate_ordering` (list[str], optional): Ordering of x-labels. Defaults to decreasing\n",
        "    order of mentions.\n",
        "- `x_axis_name` (str, optional): Name of x-axis. Defaults to None, which does not plot a name.\n",
        "- `y_axis_name` (str, optional): Name of y-axis. Defaults to None, which does not plot a name.\n",
        "- `title` (str, optional): Title for the figure. Defaults to None, which does not plot a title.\n",
        "- `show_profile_legend` (bool, optional): Whether or not to plot the profile legend.\n",
        "    Defaults to False. Is automatically shown if any threshold lines have the keyword\n",
        "    \"label\" passed through ``threshold_kwds``.\n",
        "- `candidate_legend` (dict[str, str], optional): Dictionary mapping candidates\n",
        "    to alternate label. Defaults to None. If provided, generates a second legend.\n",
        "- `relabel_candidates_with_int` (bool, optional): Relabel the candidates with integer labels.\n",
        "    Defaults to False. If ``candidate_legend`` is passed, those labels supercede.\n",
        "- `threshold_values` (Union[list[float], float], optional): List of values to plot horizontal\n",
        "    lines at. Can be provided as a list or a single float.\n",
        "- `threshold_kwds` (Union[list[dict], dict], optional): List of plotting\n",
        "    keywords for the horizontal lines. Can be a list or single dictionary. These will be\n",
        "    passed to plt.axhline(). Common keywords include \"linestyle\", \"linewidth\", and \"label\".\n",
        "    If \"label\" is passed, automatically plots the data set legend with the labels.\n",
        "- `legend_font_size` (float, optional): The font size to use for the legend. Defaults to 10.0\n",
        "    + the number of categories.\n",
        "- `legend_loc` (str, optional): The location parameter to pass to ``Axes.legend(loc=)``.\n",
        "    Defaults to \"center left\".\n",
        "- `legend_bbox_to_anchor` (Tuple[float, float], otptional): The bounding box to anchor\n",
        "    the legend to. Defaults to (1, 0.5).\n",
        "- `ax` (Axes, optional): A matplotlib axes object to plot the figure on. Defaults to None, in\n",
        "    which case the function creates and returns a new axes. The figure height is 6 inches\n",
        "    and the figure width is 3 inches times the number of categories.\n",
        "\n",
        "\n"
      ]
    },
    {
      "cell_type": "code",
      "execution_count": null,
      "id": "f1b82b95",
      "metadata": {
        "id": "f1b82b95"
      },
      "outputs": [],
      "source": [
        "# Task 1: Edit the axis names\n",
        "profile_mentions_plot(\n",
        "    profile,\n",
        "    threshold_values=election.threshold,\n",
        "    threshold_kwds={\n",
        "        \"label\": f\"Threshold: {election.threshold:,}\",\n",
        "        \"color\":\"black\",\n",
        "        \"linestyle\": \"--\"\n",
        "    },\n",
        "    show_profile_legend=True\n",
        ")"
      ]
    },
    {
      "cell_type": "code",
      "execution_count": null,
      "id": "35785ded",
      "metadata": {
        "id": "35785ded"
      },
      "outputs": [],
      "source": [
        "#Task 2: Normalize the data\n",
        "profile_mentions_plot(\n",
        "    profile,\n",
        "    threshold_values=election.threshold,\n",
        "    threshold_kwds={\n",
        "        \"label\": f\"Threshold: {election.threshold:,}\",\n",
        "        \"color\":\"black\",\n",
        "        \"linestyle\": \"--\"\n",
        "    },\n",
        "    show_profile_legend=True\n",
        ")"
      ]
    },
    {
      "cell_type": "code",
      "execution_count": null,
      "id": "c4d1e557",
      "metadata": {
        "id": "c4d1e557"
      },
      "outputs": [],
      "source": [
        "# Task 3: Change the color of the bars\n",
        "profile_mentions_plot(\n",
        "    profile,\n",
        "    threshold_values=election.threshold,\n",
        "    threshold_kwds={\n",
        "        \"label\": f\"Threshold: {election.threshold:,}\",\n",
        "        \"color\":\"black\",\n",
        "        \"linestyle\": \"--\"\n",
        "    },\n",
        "    show_profile_legend=True\n",
        ")"
      ]
    },
    {
      "cell_type": "code",
      "execution_count": null,
      "id": "c7068bee",
      "metadata": {
        "id": "c7068bee"
      },
      "outputs": [],
      "source": [
        "# Task 4: Change the width of the bars\n",
        "profile_mentions_plot(\n",
        "    profile,\n",
        "    threshold_values=election.threshold,\n",
        "    threshold_kwds={\n",
        "        \"label\": f\"Threshold: {election.threshold:,}\",\n",
        "        \"color\":\"black\",\n",
        "        \"linestyle\": \"--\"\n",
        "    },\n",
        "    show_profile_legend=True\n",
        ")"
      ]
    },
    {
      "cell_type": "code",
      "execution_count": null,
      "id": "71477e5e",
      "metadata": {
        "id": "71477e5e"
      },
      "outputs": [],
      "source": [
        "# Task 5: Change the order of the bars\n",
        "profile_mentions_plot(\n",
        "    profile,\n",
        "    threshold_values=election.threshold,\n",
        "    threshold_kwds={\n",
        "        \"label\": f\"Threshold: {election.threshold:,}\",\n",
        "        \"color\":\"black\",\n",
        "        \"linestyle\": \"--\"\n",
        "    },\n",
        "    show_profile_legend=True\n",
        ")"
      ]
    },
    {
      "cell_type": "code",
      "execution_count": null,
      "id": "a2a848e4",
      "metadata": {
        "id": "a2a848e4"
      },
      "outputs": [],
      "source": [
        "# Task 6: Relabel the candidates with integer labels\n",
        "profile_mentions_plot(\n",
        "    profile,\n",
        "    threshold_values=election.threshold,\n",
        "    threshold_kwds={\n",
        "        \"label\": f\"Threshold: {election.threshold:,}\",\n",
        "        \"color\":\"black\",\n",
        "        \"linestyle\": \"--\"\n",
        "    },\n",
        "    show_profile_legend=True\n",
        ")"
      ]
    },
    {
      "cell_type": "code",
      "execution_count": null,
      "id": "3c05411e",
      "metadata": {
        "id": "3c05411e"
      },
      "outputs": [],
      "source": [
        "# Task 7: Change the legend font size\n",
        "profile_mentions_plot(\n",
        "    profile,\n",
        "    threshold_values=election.threshold,\n",
        "    threshold_kwds={\n",
        "        \"label\": f\"Threshold: {election.threshold:,}\",\n",
        "        \"color\":\"black\",\n",
        "        \"linestyle\": \"--\"\n",
        "    },\n",
        "    show_profile_legend=True\n",
        ")"
      ]
    },
    {
      "cell_type": "code",
      "execution_count": null,
      "id": "6734189a",
      "metadata": {
        "id": "6734189a"
      },
      "outputs": [],
      "source": [
        "# Task 8: Play around wit the legend location\n",
        "profile_mentions_plot(\n",
        "    profile,\n",
        "    threshold_values=election.threshold,\n",
        "    threshold_kwds={\n",
        "        \"label\": f\"Threshold: {election.threshold:,}\",\n",
        "        \"color\":\"black\",\n",
        "        \"linestyle\": \"--\"\n",
        "    },\n",
        "    show_profile_legend=True\n",
        ")"
      ]
    },
    {
      "cell_type": "markdown",
      "id": "9b5ed606",
      "metadata": {
        "id": "9b5ed606"
      },
      "source": [
        "## Some quick info on Matplotlib\n",
        "\n",
        "Below is a very small bit of code that shows the standard way that we plot a figure using\n",
        "matplotlib."
      ]
    },
    {
      "cell_type": "code",
      "execution_count": null,
      "id": "b71d132a",
      "metadata": {
        "id": "b71d132a"
      },
      "outputs": [],
      "source": [
        "fig, ax = plt.subplots(figsize = (8,8))             # Create a figure containing a single Axes.\n",
        "ax.plot([1, 2, 3, 4], [1, 4, 2, 3])  # Plot some data on the Axes.\n",
        "plt.show()                           # Show the figure."
      ]
    },
    {
      "cell_type": "markdown",
      "id": "f2cf0119",
      "metadata": {
        "id": "f2cf0119"
      },
      "source": [
        "We will be interested in editing the Axes object `ax` next to make our plots look nicer.\n",
        "Here is an image that tells you many of the things that you can change in the axes object:"
      ]
    },
    {
      "cell_type": "markdown",
      "id": "61e88ea4",
      "metadata": {
        "id": "61e88ea4"
      },
      "source": [
        "<img src=\"https://github.com/mggg/Training_Materials_25/raw/refs/heads/main/data/visualization/parts_of_a_figure.webp\"\n",
        "     alt=\"parts of a figure\"\n",
        "     width=\"40%\"/>\n"
      ]
    },
    {
      "cell_type": "markdown",
      "id": "7f815600",
      "metadata": {
        "id": "7f815600"
      },
      "source": [
        "### Try it yourself!"
      ]
    },
    {
      "cell_type": "code",
      "execution_count": null,
      "id": "99679a8d",
      "metadata": {
        "id": "99679a8d"
      },
      "outputs": [],
      "source": [
        "# Task 1: Use `fig, ax = plt.subplots(figsize=(<pick a size>))` to create a figure and axes object. make sure to play around with different figure sizes to see how they affect the plot.\n",
        "\n",
        "fig_size = (0,0) # Edit this line\n",
        "fig, ax = plt.subplots(figsize=fig_size)\n",
        "\n",
        "profile_mentions_plot(\n",
        "    profile,\n",
        "    threshold_values=election.threshold,\n",
        "    threshold_kwds={\n",
        "        \"label\": f\"Threshold: {election.threshold:,}\",\n",
        "        \"color\":\"black\",\n",
        "        \"linestyle\": \"--\"\n",
        "    },\n",
        "    show_profile_legend=True,\n",
        "    ax = ax # pass the axes object to the function\n",
        ")"
      ]
    },
    {
      "cell_type": "code",
      "execution_count": null,
      "id": "5c90d01a",
      "metadata": {
        "id": "5c90d01a"
      },
      "outputs": [],
      "source": [
        "# Task 2: Use `ax.spines[<side>].set_visible(False)` to hide some of the spines of the plot.\n",
        "\n",
        "ax = profile_mentions_plot(\n",
        "    profile,\n",
        "    threshold_values=election.threshold,\n",
        "    threshold_kwds={\n",
        "        \"label\": f\"Threshold: {election.threshold:,}\",\n",
        "        \"color\":\"black\",\n",
        "        \"linestyle\": \"--\"\n",
        "    },\n",
        "    show_profile_legend=True,\n",
        ")\n",
        "\n",
        "# Uncomment the line below and select a side to hide\n",
        "# ax.spines[\"SELECT A SIDE HERE\"].set_visible(False)"
      ]
    },
    {
      "cell_type": "code",
      "execution_count": null,
      "id": "cc8a85ca",
      "metadata": {
        "id": "cc8a85ca"
      },
      "outputs": [],
      "source": [
        "# Task 3: Use `ax.tick_params(ax='x', rotation=<pick a rotation>)` to rotate the x-axis ticks and make them easier to read.\n",
        "\n",
        "ax = profile_mentions_plot(\n",
        "    profile,\n",
        "    threshold_values=election.threshold,\n",
        "    threshold_kwds={\n",
        "        \"label\": f\"Threshold: {election.threshold:,}\",\n",
        "        \"color\":\"black\",\n",
        "        \"linestyle\": \"--\"\n",
        "    },\n",
        "    show_profile_legend=True,\n",
        ")\n",
        "\n",
        "\n",
        "ax.tick_params(axis=\"x\", rotation=0) "
      ]
    },
    {
      "cell_type": "code",
      "execution_count": null,
      "id": "d67de1f3",
      "metadata": {
        "id": "d67de1f3"
      },
      "outputs": [],
      "source": [
        "# Task 4: Use `ax.set_yscale(<scale>)` to change the scale of the y-axis. Docs -> https://matplotlib.org/stable/users/explain/quick_start.html#scales\n",
        "\n",
        "ax = profile_mentions_plot(\n",
        "    profile,\n",
        "    threshold_values=election.threshold,\n",
        "    threshold_kwds={\n",
        "        \"label\": f\"Threshold: {election.threshold:,}\",\n",
        "        \"color\":\"black\",\n",
        "        \"linestyle\": \"--\"\n",
        "    },\n",
        "    show_profile_legend=True,\n",
        ")"
      ]
    },
    {
      "cell_type": "code",
      "execution_count": null,
      "id": "d00f01c8",
      "metadata": {
        "id": "d00f01c8"
      },
      "outputs": [],
      "source": [
        "# Task 5: Use `fig, ax = plt.subplots(figsize=(<pick a size>), nrows=2)` and plot two different histograms on the same figure. Docs ->  https://matplotlib.org/stable/api/_as_gen/matplotlib.pyplot.subplots.html#matplotlib.pyplot.subplots\n",
        "\n",
        "ax = profile_mentions_plot(\n",
        "    profile,\n",
        "    threshold_values=election.threshold,\n",
        "    threshold_kwds={\n",
        "        \"label\": f\"Threshold: {election.threshold:,}\",\n",
        "        \"color\":\"black\",\n",
        "        \"linestyle\": \"--\"\n",
        "    },\n",
        "    show_profile_legend=True,\n",
        ")"
      ]
    },
    {
      "cell_type": "markdown",
      "id": "a8e11a6b",
      "metadata": {
        "id": "a8e11a6b"
      },
      "source": [
        "### Filtering to viable candidates"
      ]
    },
    {
      "cell_type": "code",
      "execution_count": null,
      "id": "2c79d9c4",
      "metadata": {
        "id": "2c79d9c4"
      },
      "outputs": [],
      "source": [
        "mentions_dict = mentions(profile)\n",
        "viable_cands = [c for c, mentions in mentions_dict.items() if mentions >= election.threshold]\n",
        "\n",
        "viable_cands = sorted(viable_cands, reverse=True, key = lambda x: mentions_dict[x])\n",
        "print(\"Viable candidates in decreasing order of mentions\")\n",
        "\n",
        "for i, cand in enumerate(viable_cands):\n",
        "    print(i+1, cand)"
      ]
    },
    {
      "cell_type": "code",
      "execution_count": null,
      "id": "ff952416",
      "metadata": {
        "id": "ff952416"
      },
      "outputs": [],
      "source": [
        "profile.df"
      ]
    },
    {
      "cell_type": "code",
      "execution_count": null,
      "id": "51d0c2d2",
      "metadata": {
        "id": "51d0c2d2"
      },
      "outputs": [],
      "source": [
        "first_place_votes(profile)"
      ]
    },
    {
      "cell_type": "code",
      "execution_count": null,
      "id": "64fc41f3",
      "metadata": {
        "id": "64fc41f3"
      },
      "outputs": [],
      "source": [
        "viable_cands_mentions = {cand:mentions for cand, mentions in mentions_dict.items() if cand in viable_cands}\n",
        "viable_cands_fpv = {cand: fpv for cand, fpv in first_place_votes(profile).items() if cand in viable_cands}\n",
        "\n",
        "ax = multi_bar_plot(\n",
        "    data={\"Mentions\": viable_cands_mentions, \"FPV\": viable_cands_fpv},\n",
        "    threshold_values=election.threshold,\n",
        "    threshold_kwds={\n",
        "        \"label\": f\"Threshold: {election.threshold:,}\",\n",
        "        \"color\":\"black\",\n",
        "        \"linestyle\": \"--\"\n",
        "    },\n",
        ")"
      ]
    },
    {
      "cell_type": "code",
      "execution_count": null,
      "id": "38e762f2",
      "metadata": {
        "id": "38e762f2"
      },
      "outputs": [],
      "source": [
        "ax = profile_ballot_lengths_plot(profile, title=\"Ballot Lengths in D1\", normalize=True, y_axis_name=\"Percentage\", x_axis_name=\"Length\")\n",
        "\n",
        "# change the tick labels to percentages\n",
        "ax.set_yticks(ax.get_yticks())\n",
        "ax.set_yticklabels([f\"{float(x.get_text()):.0%}\" for x in ax.get_yticklabels()])\n",
        "\n",
        "plt.show()"
      ]
    },
    {
      "cell_type": "markdown",
      "id": "12e6e5f9",
      "metadata": {
        "id": "12e6e5f9"
      },
      "source": [
        "# Bubble Plots\n",
        "\n",
        "These plots are relatively new, and have not quite made it into VoteKit at this point, but\n",
        "we are providing the code for you to use as a reference."
      ]
    },
    {
      "cell_type": "code",
      "execution_count": null,
      "id": "e99b168b",
      "metadata": {
        "id": "e99b168b"
      },
      "outputs": [],
      "source": [
        "# This was the original code used to generate the election results\n",
        "# we will be plotting using the bubble plot function. Feel free to\n",
        "# ignore this cell.\n",
        "\n",
        "\n",
        "# from votekit.elections import STV\n",
        "# from votekit.ballot_generator import slate_PlackettLuce\n",
        "# from tqdm.notebook import tqdm\n",
        "\n",
        "# num_cands = {\"P\": 5, \"C\": 6}\n",
        "# num_voters = 2500\n",
        "# num_seats = 5\n",
        "# num_trials = 100\n",
        "\n",
        "# # Fixed parameters\n",
        "# slate_to_candidates = {\"P\": [f\"P_{i}\" for i in range(num_cands[\"P\"])], # creates the list [\"P_0\", \"P_1\", \"P_2\"]\n",
        "#                         \"C\": [f\"C_{i}\" for i in range(num_cands[\"C\"])],} # creates the list [\"C_0\", \"C_1\", \"C_2\"]\n",
        "\n",
        "# cohesion_parameters = {\n",
        "#     \"P\": {\"P\":.7, \"C\":.3},\n",
        "#     \"C\": {\"P\":.4, \"C\":.6},\n",
        "#     }\n",
        "\n",
        "# alphas = {\n",
        "#     \"P\": {\"P\":0.1, \"C\":0.1},\n",
        "#     \"C\": {\"P\":0.1, \"C\":0.1},\n",
        "#     }\n",
        "\n",
        "# # Varying parameter\n",
        "# turnouts = {\n",
        "#     \"high_progressive_turnout\"  : {\"P\": .7, \"C\": .3},\n",
        "#     \"low_progressive_turnout\"  : {\"P\": .5, \"C\": .5},\n",
        "#     }\n",
        "\n",
        "\n",
        "# # used to store the results\n",
        "# num_prog_winners_by_turnout = {\n",
        "#     \"high_progressive_turnout\": [],\n",
        "#     \"low_progressive_turnout\": [],\n",
        "#     }\n",
        "\n",
        "# for turnout_label, bloc_voter_prop in turnouts.items():\n",
        "\n",
        "#     print(turnout_label)\n",
        "\n",
        "#     for _ in tqdm(range(num_trials)): # tqdm creates a progress bar\n",
        "#         pl = slate_PlackettLuce.from_params(slate_to_candidates=slate_to_candidates,\n",
        "#                 bloc_voter_prop=bloc_voter_prop,\n",
        "#                 cohesion_parameters=cohesion_parameters,\n",
        "#                 alphas=alphas)\n",
        "\n",
        "#         profile = pl.generate_profile(num_voters)\n",
        "\n",
        "#         e = STV(profile, m= num_seats)\n",
        "\n",
        "#         winners = e.get_elected()\n",
        "\n",
        "#         # compute the number of profressive winners\n",
        "#         num_prog_winners = len([c for cand_set in winners for c in cand_set if \"P_\" in c])\n",
        "\n",
        "#         # add the number of progressive winners to the end of a list\n",
        "#         num_prog_winners_by_turnout[turnout_label].append(num_prog_winners)"
      ]
    },
    {
      "cell_type": "code",
      "execution_count": null,
      "id": "b6e49826",
      "metadata": {
        "id": "b6e49826"
      },
      "outputs": [],
      "source": [
        "with urlopen('https://github.com/mggg/Training_Materials_25/raw/refs/heads/main/data/visualization/num_prog_winners_by_turnout.pkl') as response:\n",
        "    num_prog_winners_by_turnout = pickle.load(response)"
      ]
    },
    {
      "cell_type": "code",
      "execution_count": null,
      "id": "b4133ad3",
      "metadata": {
        "id": "b4133ad3"
      },
      "outputs": [],
      "source": [
        "from typing import Optional\n",
        "import numpy as np\n",
        "from matplotlib.axes import Axes\n",
        "import matplotlib.pyplot as plt\n",
        "\n",
        "def bubble_plot_integer(\n",
        "    data: list[list[int]],\n",
        "    colors: list[str],\n",
        "    ax: Optional[Axes] = None,\n",
        "    marker: str =\".\",\n",
        "    size: int = 1000\n",
        "):\n",
        "    # create figure\n",
        "\n",
        "    if ax is None:\n",
        "        fig, ax = plt.subplots()\n",
        "\n",
        "    x_max = int(max(max(vector) for vector in data))\n",
        "    bin_min = 0\n",
        "    bin_max = x_max\n",
        "    bins = np.arange(bin_min-.5, bin_max+1.5, 1)\n",
        "\n",
        "    for j, vector in enumerate(data):\n",
        "        x = [i for i in range(x_max+1)] # x=0,...,x_max\n",
        "        y = [j+1]*len(x) # put each vector at a different height\n",
        "\n",
        "        bin_heights, _ = np.histogram(vector, bins = bins,density=True)\n",
        "        circle_areas = [size*bin_heights[i] for i in range(x_max+1)]\n",
        "        ax.scatter(x, y, s=circle_areas, alpha=1, color = colors[j], label = None, edgecolors='black', marker=marker)\n",
        "\n",
        "    return ax"
      ]
    },
    {
      "cell_type": "code",
      "execution_count": null,
      "id": "44ec070d",
      "metadata": {
        "id": "44ec070d"
      },
      "outputs": [],
      "source": [
        "num_prog_winners_by_turnout.keys()"
      ]
    },
    {
      "cell_type": "code",
      "execution_count": null,
      "id": "d8932376",
      "metadata": {
        "id": "d8932376"
      },
      "outputs": [],
      "source": [
        "bubble_plot_integer(\n",
        "    data = [num_prog_winners_by_turnout[\"high_progressive_turnout\"], num_prog_winners_by_turnout[\"low_progressive_turnout\"]],\n",
        "    colors = [\"#1f77b4\", \"#ff7f0e\"],\n",
        "    size=3000\n",
        ")"
      ]
    },
    {
      "cell_type": "code",
      "execution_count": null,
      "id": "b0431b1c",
      "metadata": {
        "id": "b0431b1c"
      },
      "outputs": [],
      "source": [
        "x_max = 5\n",
        "ax = bubble_plot_integer(\n",
        "    data = [num_prog_winners_by_turnout[\"high_progressive_turnout\"], num_prog_winners_by_turnout[\"low_progressive_turnout\"]],\n",
        "    colors = [\"#1f77b4\", \"#ff7f0e\"],\n",
        "    size=3000\n",
        ")\n",
        "\n",
        "ax.set_xticks([i for i in range(x_max+1)])\n",
        "ax.set_yticks([i+1 for i in range(2)], num_prog_winners_by_turnout.keys())\n",
        "ax.axvline(x=3, color=\"pink\", zorder = -1, label=\"Expected winners\")\n",
        "ax.set_xlim((0, 5))\n",
        "ax.set_ylim((0.5,2.5))\n",
        "\n",
        "\n",
        "# A trick for adding a legend to the plot\n",
        "for color, label in zip(\n",
        "    [\"#1f77b4\", \"#ff7f0e\"],\n",
        "    num_prog_winners_by_turnout.keys()\n",
        "):\n",
        "    ax.scatter(\n",
        "        [], [],                 # no data\n",
        "        c=color,\n",
        "        s=10,\n",
        "        label=label\n",
        "    )\n",
        "\n",
        "# finally draw the legend\n",
        "ax.legend(\n",
        "    loc=\"center left\",\n",
        "    scatterpoints=1,\n",
        "    frameon=True,\n",
        "    bbox_to_anchor=(1, 0.5),\n",
        ")"
      ]
    },
    {
      "cell_type": "markdown",
      "id": "9a9198a5",
      "metadata": {
        "id": "9a9198a5"
      },
      "source": [
        "# Choropleths\n",
        "\n",
        "A _choropleth_ is basically a heatmap used commonly with geographic data. The only difference\n",
        "from a true heatmap is that the color of each piece of geometry in the map corresponds to a\n",
        "general aggregate statistic. This can be really useful for visualizing things like population\n",
        "density."
      ]
    },
    {
      "cell_type": "code",
      "execution_count": null,
      "id": "143a34fe",
      "metadata": {
        "id": "143a34fe"
      },
      "outputs": [],
      "source": [
        "with urlopen('https://github.com/mggg/Training_Materials_25/raw/refs/heads/main/data/visualization/nc_viz_data.parquet') as response:\n",
        "    data = response.read()\n",
        "    buf = BytesIO(data)\n",
        "\n",
        "# now GeoPandas/pyarrow can read it\n",
        "gdf = gpd.read_parquet(buf)\n",
        "gdf"
      ]
    },
    {
      "cell_type": "code",
      "execution_count": null,
      "id": "5c505359",
      "metadata": {
        "id": "5c505359"
      },
      "outputs": [],
      "source": [
        "fig, ax = plt.subplots(figsize=(20, 10))\n",
        "gdf.plot(ax=ax, column='total_pop_20', legend=True)"
      ]
    },
    {
      "cell_type": "code",
      "execution_count": null,
      "id": "8c608362",
      "metadata": {
        "id": "8c608362"
      },
      "outputs": [],
      "source": [
        "# DPI (dots per inch) controls the resolution of the figure\n",
        "fig, ax = plt.subplots(figsize=(20, 10), dpi=300)\n",
        "\n",
        "\n",
        "# Note: You build layers from the background to the foreground in matplotlib.\n",
        "# so the first layer added to an ax object will be the background layer and subsequent\n",
        "# layers will be drawn on top of it.\n",
        "\n",
        "\n",
        "# Add the lines to the background layer\n",
        "gdf.plot(\n",
        "    ax=ax,\n",
        "    edgecolor='black',\n",
        "    facecolor='none',\n",
        ")\n",
        "\n",
        "lower, upper = 0, 10_000\n",
        "gdf.plot(\n",
        "    column='total_pop_20',\n",
        "    cmap='Purples', # Change the colormap to 'Purples' for a purple gradient\n",
        "    legend=True, # Add the color bar legend\n",
        "    vmin=lower, # Adjust the lower limit of the color scale\n",
        "    vmax=upper,  # Adjust the upper limit of the color scale\n",
        "    ax=ax,\n",
        "    legend_kwds={\n",
        "        \"shrink\": 0.5 # Adjust the size of the legend\n",
        "    },\n",
        "    alpha=0.9 # Adjust the transparency of the top layer\n",
        ")\n",
        "\n",
        "ax.spines[:].set_visible(False)\n",
        "ax.set_xticks([])\n",
        "ax.set_yticks([])\n",
        "\n",
        "plt.show()"
      ]
    },
    {
      "cell_type": "markdown",
      "id": "7c847020",
      "metadata": {
        "id": "7c847020"
      },
      "source": [
        "### Try it yourself!\n",
        "\n",
        "Try plotting two choropleths on top of each other. One should be wvap_20 as a percent of the population\n",
        "of the vtd (you will need to make a column for this) and the other should be the republican turnout\n",
        "in the 2020 presidential election as a percent of the total turnout by precinct (this will\n",
        "require another new column)."
      ]
    },
    {
      "cell_type": "markdown",
      "id": "25e3d07a",
      "metadata": {
        "id": "25e3d07a"
      },
      "source": [
        "# Candidate Similarity"
      ]
    },
    {
      "cell_type": "markdown",
      "id": "923ab736",
      "metadata": {
        "id": "923ab736"
      },
      "source": [
        "VoteKit also has some plotting functions to help users understand the relationship between\n",
        "candidates and their support in ranked elections. Currently we provide plotting functions for\n",
        "three different types of matrix:\n",
        "- boost\n",
        "- candidate distance\n",
        "- comentions"
      ]
    },
    {
      "cell_type": "markdown",
      "id": "c9ad239a",
      "metadata": {
        "id": "c9ad239a"
      },
      "source": [
        "## Boost Matrix\n",
        "\n",
        "The (i,j) entry of the boost matrix shows P(mention i | mention j) - P(mention i). Thus,\n",
        "the i,j entry shows the boost given to candidate i by candidate j."
      ]
    },
    {
      "cell_type": "code",
      "execution_count": null,
      "id": "bffe5d39",
      "metadata": {
        "id": "bffe5d39"
      },
      "outputs": [],
      "source": [
        "all_cands_sorted_by_mentions = sorted(profile.candidates, reverse=True, key = lambda x: mentions_dict[x])\n",
        "\n",
        "# computes the matrix\n",
        "boost_matrix  = boost_matrix(profile, candidates = all_cands_sorted_by_mentions)"
      ]
    },
    {
      "cell_type": "code",
      "execution_count": null,
      "id": "c2524d72",
      "metadata": {
        "id": "c2524d72"
      },
      "outputs": [],
      "source": [
        "all_last_names = [name.split(\" \")[-1] if \"Write In\" not in name else \"UWI\" for name in all_cands_sorted_by_mentions]\n",
        "\n",
        "# plots the matrix\n",
        "ax  = matrix_heatmap(\n",
        "    boost_matrix,\n",
        "    row_labels=all_last_names,\n",
        "    column_labels=all_last_names,\n",
        "    row_label_rotation = 0,\n",
        "    column_label_rotation = 90\n",
        ")"
      ]
    },
    {
      "cell_type": "code",
      "execution_count": null,
      "id": "cb5899f6",
      "metadata": {
        "id": "cb5899f6"
      },
      "outputs": [],
      "source": [
        "# Adjus the figure and font size\n",
        "fig, ax = plt.subplots(figsize=(12,12))\n",
        "\n",
        "ax  = matrix_heatmap(\n",
        "    boost_matrix,\n",
        "    row_labels=all_last_names,\n",
        "    column_labels=all_last_names,\n",
        "    row_label_rotation = 0,\n",
        "    column_label_rotation = 90,\n",
        "    ax = ax,\n",
        "    cell_font_size = 12\n",
        ")"
      ]
    },
    {
      "cell_type": "markdown",
      "id": "fc2baeaf",
      "metadata": {
        "id": "fc2baeaf"
      },
      "source": [
        "## Candidate Distance Matrix\n",
        "\n",
        "The (i,j) entry of the candidate distance matrix shows the average distance between\n",
        "candidates i and j when i >= j on the same ballot."
      ]
    },
    {
      "cell_type": "code",
      "execution_count": null,
      "id": "19407555",
      "metadata": {
        "id": "19407555"
      },
      "outputs": [],
      "source": [
        "cand_dist_matrix  = candidate_distance_matrix(profile, candidates = viable_cands)\n",
        "\n",
        "last_names_viable = [name.split(\" \")[-1] for name in viable_cands]\n",
        "\n",
        "ax  = matrix_heatmap(\n",
        "    cand_dist_matrix,\n",
        "    row_labels=last_names_viable,\n",
        "    column_labels=last_names_viable,\n",
        "    row_label_rotation = 0,\n",
        "    column_label_rotation = 90,\n",
        ")"
      ]
    },
    {
      "cell_type": "markdown",
      "id": "4d18466b",
      "metadata": {
        "id": "4d18466b"
      },
      "source": [
        "## Comentions Matrix\n",
        "\n",
        "The (i,j) entry of the comentions matrix shows the number of times candidates i,j were mentioned on the same ballot with i >= j. There is an option to symmetrize the matrix, which makes the (i,j) entry the number of times that i and j were mentioned on the same ballot (irrespective of position)."
      ]
    },
    {
      "cell_type": "code",
      "execution_count": null,
      "id": "fcd0b2d9",
      "metadata": {
        "id": "fcd0b2d9"
      },
      "outputs": [],
      "source": [
        "comentions_mat_asym  = comentions_matrix(profile, candidates = viable_cands)\n",
        "ax  = matrix_heatmap(\n",
        "    comentions_mat_asym,\n",
        "    row_labels=last_names_viable,\n",
        "    column_labels=last_names_viable,\n",
        "    row_label_rotation = 0,\n",
        "    column_label_rotation = 90,\n",
        "    n_decimals_to_display=0\n",
        ")\n",
        "\n",
        "plt.title(\"Asymmetric Comentions\")\n",
        "plt.show()"
      ]
    },
    {
      "cell_type": "code",
      "execution_count": null,
      "id": "0380e04d",
      "metadata": {
        "id": "0380e04d"
      },
      "outputs": [],
      "source": [
        "comentions_mat_sym  = comentions_matrix(profile, candidates = viable_cands, symmetric=True)\n",
        "ax  = matrix_heatmap(\n",
        "    comentions_mat_sym,\n",
        "    row_labels=last_names_viable,\n",
        "    column_labels=last_names_viable,\n",
        "    row_label_rotation = 0,\n",
        "    column_label_rotation = 90,\n",
        "    n_decimals_to_display=0\n",
        ")\n",
        "\n",
        "plt.title(\"Symmetric Comentions\")\n",
        "plt.show()"
      ]
    },
    {
      "cell_type": "markdown",
      "id": "f1a8277e",
      "metadata": {
        "id": "f1a8277e"
      },
      "source": [
        "### Try it yourself!\n",
        "\n",
        "Play around with all of the parameters for the `matrix_heatmap` function to see what you can do!\n",
        "You might find the following list of colormaps interesting:\n",
        "\n",
        "[https://matplotlib.org/stable/users/explain/colors/colormaps.html](https://matplotlib.org/stable/users/explain/colors/colormaps.html)\n",
        "\n",
        "- `matrix` (np.ndarray): A 2D numpy array containing the data to be plotted.\n",
        "- `ax` (matplotlib.axes.Axes, optional): The matplotlib axis to plot on. Defaults to None,\n",
        "    in which case an axis is created.\n",
        "- `show_cell_values` (bool): Whether to show the values of the cells in the heatmap. These\n",
        "    values are shown in the center of each cell and are dynamically formatted to be\n",
        "    human-readable.  Defaults to True.\n",
        "- `n_decimals_to_display` (int): The number of decimal places to display for the values\n",
        "    in the heatmap.  Defaults to 2.\n",
        "- `row_labels` (Optional(List[str])): A list of strings containing the labels for the rows\n",
        "    of the heatmap. Defaults to None.\n",
        "- `row_label_rotation` (Optional(float)): The rotation to apply to the row labels.\n",
        "    Defaults to None.\n",
        "- `row_legend` (Optional(Dict[str, str])): A dictionary mapping row labels to legend\n",
        "    descriptions. Defaults to None.\n",
        "- `column_labels` (Optional(List[str])): A list of strings containing the labels for the\n",
        "    columns of the heatmap. Defaults to None.\n",
        "- `column_label_rotation` (Optional(float)): The rotation to apply to the column labels.\n",
        "    Defaults to None.\n",
        "- `column_legend` (Optional(Dict[str, str])): A dictionary mapping column labels to legend\n",
        "    descriptions. Defaults to None.\n",
        "- `cell_color_map` (Optional(Union[str, matplotlib.colors.Colormap])): The color map to use\n",
        "    for the heatmap. Defaults to `PRGn` if the matrix contains negative values and\n",
        "    `Greens` otherwise.\n",
        "- `cell_font_size` (Optional(int)): The font size to use for the cell values. Defaults to\n",
        "    None, which will then use dynamic font size based on the number of cells and the\n",
        "    figure size.\n",
        "- `cell_spacing` (float): The spacing between the cells in the heatmap. Defaults to 0.5.\n",
        "- `cell_divider_color` (str): The color to use for the cell dividers for spacing cells.\n",
        "    Defaults to \"white\".\n",
        "- `show_colorbar` (bool): Whether to show the colorbar for the heatmap. Defaults to False.\n",
        "- `legend_font_size` (float): The font size to use for the legend. Defaults to 10.0.\n",
        "- `legend_location` (str): The location to place the legend. Defaults to \"center left\".\n",
        "- `legend_bbox_to_anchor` (Tuple[float, float]): The bounding box to anchor the legend to.\n",
        "    Defaults to (1.03, 0.5)."
      ]
    },
    {
      "cell_type": "markdown",
      "id": "30a52934",
      "metadata": {
        "id": "30a52934"
      },
      "source": [
        "# Pairwise Comparison Graph\n",
        "\n",
        "For this, we just want to show you how to plot the pairwise comparison graph\n",
        "since it can sometimes be enlightening when studying ranked systems."
      ]
    },
    {
      "cell_type": "code",
      "execution_count": null,
      "id": "05034a20",
      "metadata": {
        "id": "05034a20"
      },
      "outputs": [],
      "source": [
        "pwcg = PairwiseComparisonGraph(profile)\n",
        "dominating_tiers = pwcg.get_dominating_tiers()\n",
        "\n",
        "print(\"The dominating tiers are: \")\n",
        "for tier in dominating_tiers:\n",
        "    print(tier)\n",
        "\n",
        "if pwcg.has_condorcet_winner():\n",
        "    print(f\"\\nThe Condorcet candidate is: {next(iter(dominating_tiers[0]))}\")\n",
        "else:\n",
        "    print(f\"\\n There is no unique Condorcet winner. The top tier is {dominating_tiers[0]}\")"
      ]
    },
    {
      "cell_type": "code",
      "execution_count": null,
      "id": "9135665d",
      "metadata": {
        "id": "9135665d"
      },
      "outputs": [],
      "source": [
        "pwcg.draw()"
      ]
    },
    {
      "cell_type": "markdown",
      "id": "3zKFb4ONqICY",
      "metadata": {
        "id": "3zKFb4ONqICY"
      },
      "source": [
        "Okay, so maybe the full graph is a lot. Instead, let's just look at the viable\n",
        "candidates. Here we can see that Candace Avalos is also the condorcet winner."
      ]
    },
    {
      "cell_type": "code",
      "execution_count": null,
      "id": "2a0989bc",
      "metadata": {
        "id": "2a0989bc"
      },
      "outputs": [],
      "source": [
        "pwcg.draw(candidate_list = viable_cands)"
      ]
    }
  ],
  "metadata": {
    "colab": {
      "include_colab_link": true,
      "provenance": []
    },
    "kernelspec": {
      "display_name": ".venv",
      "language": "python",
      "name": "python3"
    },
    "language_info": {
      "codemirror_mode": {
        "name": "ipython",
        "version": 3
      },
      "file_extension": ".py",
      "mimetype": "text/x-python",
      "name": "python",
      "nbconvert_exporter": "python",
      "pygments_lexer": "ipython3",
      "version": "3.13.3"
    }
  },
  "nbformat": 4,
  "nbformat_minor": 5
}
